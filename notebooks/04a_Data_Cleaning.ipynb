{
 "cells": [
  {
   "cell_type": "markdown",
   "id": "vocal-easter",
   "metadata": {},
   "source": [
    "<html>\n",
    "    <div style=\"color:#363945; background-color:#E1F6FF; display: block\">\n",
    "        <h1> Data Cleaning - Notebook Summary </h1>\n",
    "            <ol>\n",
    "                <li>Loading data and applying a <strong>Quick Sanity Check</strong> to ensure data quality.</li>\n",
    "                <li>The goal of this analysis is to only include technical roles; So I'm going to <strong>exclude some Non-Technical Roles</strong> in the survey.</li>\n",
    "                <li><strong>Filtering</strong> the data using masks based on frequencies of roles and skills per different responses.</li>\n",
    "                <li>The final step is to <strong>Merge</strong> and <strong>Export</strong> the results.</li>\n",
    "            </ol>\n",
    "    </div>\n",
    "</html>"
   ]
  },
  {
   "cell_type": "code",
   "execution_count": 1,
   "id": "independent-agent",
   "metadata": {},
   "outputs": [],
   "source": [
    "# CONSTANTS\n",
    "DF_PATH = \"../data/processed/01_preprocessed.pkl\"\n",
    "ENCODED_DF_PATH = \"../data/processed/02_preprocessed_1_Hot_Encoded.pkl\"\n",
    "FEATURES_PATH = \"../data/processed/features_skills_clusters_counts.pkl\"\n",
    "EXPORT_PATH = \"../data/processed/03_cleaned_data.pkl\"\n",
    "\n",
    "# Technologies worked` with\n",
    "TECH_COLS = ['DatabaseWorkedWith', 'LanguageWorkedWith', \n",
    "             'MiscTechWorkedWith', 'WebframeWorkedWith']\n",
    "\n",
    "# Job Titles\n",
    "ROLE_COLS = ['DevType']"
   ]
  },
  {
   "cell_type": "code",
   "execution_count": 2,
   "id": "realistic-struggle",
   "metadata": {},
   "outputs": [],
   "source": [
    "import numpy as np\n",
    "import pandas as pd\n",
    "import matplotlib.pyplot as plt\n",
    "import pickle"
   ]
  },
  {
   "cell_type": "code",
   "execution_count": 3,
   "id": "painted-surgeon",
   "metadata": {},
   "outputs": [],
   "source": [
    "# Reading data frames\n",
    "processed_df = pd.read_pickle(DF_PATH)\n",
    "encoded_df = pd.read_pickle(ENCODED_DF_PATH)\n",
    "features_df = pd.read_pickle(FEATURES_PATH)"
   ]
  },
  {
   "cell_type": "markdown",
   "id": "auburn-anger",
   "metadata": {},
   "source": [
    "## 1. Quick Sanity Check"
   ]
  },
  {
   "cell_type": "code",
   "execution_count": 4,
   "id": "improving-target",
   "metadata": {},
   "outputs": [
    {
     "name": "stdout",
     "output_type": "stream",
     "text": [
      "[['Developer, front-end']]\n",
      "[[], ['HTML/CSS', 'JavaScript', 'PHP', 'TypeScript'], [], []]\n",
      "----------------\n",
      "LanguageWorkedWith  HTML/CSS                1\n",
      "                    JavaScript              1\n",
      "                    PHP                     1\n",
      "                    TypeScript              1\n",
      "DevType             Developer, front-end    1\n",
      "Name: 37026, dtype: int32\n",
      "----------------\n",
      "Clusters: 4\n",
      "Skills: 4\n"
     ]
    }
   ],
   "source": [
    "# Select random int\n",
    "i = np.random.randint(processed_df.shape[0])\n",
    "\n",
    "# Print original values\n",
    "print(processed_df.iloc[i][ROLE_COLS].tolist())\n",
    "print(processed_df.iloc[i][TECH_COLS].tolist())\n",
    "print(\"----------------\")\n",
    "\n",
    "# Print processed\n",
    "print(encoded_df.iloc[i][encoded_df.iloc[i] == 1])\n",
    "print(\"----------------\")\n",
    "\n",
    "# Check clustering \n",
    "print(\"Clusters:\",features_df.iloc[i].sum())\n",
    "print(\"Skills:\",  encoded_df[TECH_COLS].iloc[i].sum())"
   ]
  },
  {
   "cell_type": "markdown",
   "id": "french-nightmare",
   "metadata": {},
   "source": [
    "## 2. Excluding Non-Technical Roles"
   ]
  },
  {
   "cell_type": "code",
   "execution_count": 5,
   "id": "broken-offer",
   "metadata": {},
   "outputs": [],
   "source": [
    "EXCLUDED_ROLES = ['Designer', 'Educator', 'Engineering manager',\n",
    "                  'Engineer, site reliability', 'Product manager', \n",
    "                  'Senior executive/VP','Marketing or sales professional']\n",
    "\n",
    "for role in EXCLUDED_ROLES:\n",
    "    encoded_df = encoded_df.drop((\"DevType\", role), axis=1)"
   ]
  },
  {
   "cell_type": "markdown",
   "id": "fatal-habitat",
   "metadata": {},
   "source": [
    "## 3. Filtering Data"
   ]
  },
  {
   "cell_type": "code",
   "execution_count": 6,
   "id": "electric-cocktail",
   "metadata": {},
   "outputs": [
    {
     "data": {
      "image/png": "[encoded data removed]",
      "text/plain": [
       "<Figure size 432x288 with 1 Axes>"
      ]
     },
     "metadata": {
      "needs_background": "light"
     },
     "output_type": "display_data"
    }
   ],
   "source": [
    "%matplotlib inline\n",
    "font = {'family': 'serif',\n",
    "        'color':  'darkred',\n",
    "        'weight': 'normal',\n",
    "        'size': 18,\n",
    "        }\n",
    "\n",
    "# Visualizing the Number of roles per respondent \n",
    "freq_roles = encoded_df[ROLE_COLS].sum(axis=1)\n",
    "plt.hist(freq_roles, freq_roles.max())\n",
    "plt.title(\"Number of Roles Per Response\",\n",
    "          fontdict=font)\n",
    "plt.show()"
   ]
  },
  {
   "cell_type": "code",
   "execution_count": 7,
   "id": "satisfactory-registration",
   "metadata": {},
   "outputs": [
    {
     "data": {
      "image/png": "[encoded data removed]",
      "text/plain": [
       "<Figure size 432x288 with 1 Axes>"
      ]
     },
     "metadata": {
      "needs_background": "light"
     },
     "output_type": "display_data"
    }
   ],
   "source": [
    "# Visualizing the Number of skills per respondent\n",
    "freq_tech = encoded_df[TECH_COLS].sum(axis=1)\n",
    "plt.hist(freq_tech, freq_tech.max())\n",
    "plt.title(\"Number of Skills Per Response\", fontdict=font)\n",
    "plt.show()"
   ]
  },
  {
   "cell_type": "markdown",
   "id": "fewer-english",
   "metadata": {},
   "source": [
    "### Comments\n",
    "- We noticed that there exist some noise in data like the ones having __16 Job profiles__ or the ones having over __70 skills__, these results seem to be not meaningful at all.\n",
    "- We are going to include a certain range for both skills and roles in order to have a representant model."
   ]
  },
  {
   "cell_type": "code",
   "execution_count": 8,
   "id": "animal-visitor",
   "metadata": {},
   "outputs": [],
   "source": [
    "# Filter Frequencies\n",
    "ROLES_RANGE = [1,2]\n",
    "TECH_RANGE = [3,12]"
   ]
  },
  {
   "cell_type": "code",
   "execution_count": 9,
   "id": "characteristic-trace",
   "metadata": {},
   "outputs": [],
   "source": [
    "# Creating Masks\n",
    "roles_mask = (freq_roles >= ROLES_RANGE[0]) & (freq_roles <= ROLES_RANGE[1])\n",
    "tech_mask = (freq_tech >= TECH_RANGE[0]) & (freq_tech <= TECH_RANGE[1])\n",
    "filter_mask = roles_mask & tech_mask"
   ]
  },
  {
   "cell_type": "code",
   "execution_count": 10,
   "id": "turkish-afternoon",
   "metadata": {},
   "outputs": [],
   "source": [
    "features_df = features_df.loc[filter_mask].copy()\n",
    "encoded_df = encoded_df.loc[filter_mask].copy()"
   ]
  },
  {
   "cell_type": "markdown",
   "id": "streaming-bride",
   "metadata": {},
   "source": [
    "## Merging and Exporting Results"
   ]
  },
  {
   "cell_type": "code",
   "execution_count": 11,
   "id": "acquired-competition",
   "metadata": {},
   "outputs": [],
   "source": [
    "# Add second level indexing \n",
    "features_df.columns = pd.MultiIndex.from_product([['skills_clusters'],\n",
    "                                                  features_df.columns])                                                  "
   ]
  },
  {
   "cell_type": "code",
   "execution_count": 12,
   "id": "beautiful-purse",
   "metadata": {},
   "outputs": [],
   "source": [
    "# Concatenate\n",
    "df = pd.concat([encoded_df, features_df], axis=1)\n",
    "# Export \n",
    "df.to_pickle(EXPORT_PATH)"
   ]
  }
 ],
 "metadata": {
  "kernelspec": {
   "display_name": "Python 3",
   "language": "python",
   "name": "python3"
  },
  "language_info": {
   "codemirror_mode": {
    "name": "ipython",
    "version": 3
   },
   "file_extension": ".py",
   "mimetype": "text/x-python",
   "name": "python",
   "nbconvert_exporter": "python",
   "pygments_lexer": "ipython3",
   "version": "3.8.5"
  }
 },
 "nbformat": 4,
 "nbformat_minor": 5
}
