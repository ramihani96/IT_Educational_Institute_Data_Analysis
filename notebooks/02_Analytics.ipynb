{
 "cells": [
  {
   "cell_type": "markdown",
   "id": "static-beverage",
   "metadata": {},
   "source": [
    "<html>\n",
    "    <div style=\"color:#363945; background-color:#E1F6FF; display: block\">\n",
    "        <h1> Data Analytics - Notebook Summary </h1>\n",
    "            <ol>\n",
    "                <li>Perform <strong>One-Hot Encoding</strong> to Categorical Values (Skills - Jobs) in order to perform analysis.</li>\n",
    "                <li>\n",
    "                    Perform <strong>Skills Analysis</strong> including: \n",
    "                    <ul>\n",
    "                        <li>What is the frequency of each skill ?</li>\n",
    "                        <li>How are different skills correlated to each other ?</li>\n",
    "                    </ul> \n",
    "                </li>\n",
    "                <li>\n",
    "                    Perform <strong>Jobs Analysis</strong> including: \n",
    "                    <ul>\n",
    "                        <li>What is the frequency of each role ?</li>\n",
    "                        <li>How are different roles correlated to each other ? </li>\n",
    "                    </ul>\n",
    "                </li>\n",
    "                <li>\n",
    "                    Explore the <strong>Correlation</strong> between different jobs and skills. \n",
    "                    <ul>\n",
    "                        <li>Is Python important to be a Front-End Developer ?</li>\n",
    "                        <li>Is C++ important to be a data scientist ?</li>\n",
    "                        <li>Is Javascript important to be a data analyst ?</li>\n",
    "                    </ul> \n",
    "                </li>\n",
    "                <li><strong>Normalize</strong> features and notice the effect of standardization.</li>\n",
    "                <li>Exploring various <strong>job profiles</strong> and figuring their related skillset in terms of <strong>percentage</strong> and <strong>specificity</strong>.</li>\n",
    "            </ol><br>\n",
    "    </div>\n",
    "</html>"
   ]
  },
  {
   "cell_type": "code",
   "execution_count": 1,
   "id": "international-state",
   "metadata": {},
   "outputs": [],
   "source": [
    "# CONSTANTS\n",
    "DF_PATH = \"C:/Users/Rami/Projects/IT_Educational_Institute_Data_Analysis/data/processed/01_preprocessed.pkl\"\n",
    "ROLES_PATH = \"C:/Users/Rami/Projects/IT_Educational_Institute_Data_Analysis/data/raw/roles_short_names.csv\"\n",
    "\n",
    "# Technologies worked with\n",
    "TECH_COLS = ['DatabaseWorkedWith', 'LanguageWorkedWith', 'MiscTechWorkedWith', \n",
    "             'NEWCollabToolsWorkedWith', 'PlatformWorkedWith', 'WebframeWorkedWith']\n",
    "\n",
    "# Desired technologies to work with\n",
    "NEXT_TECH_COLS = ['DatabaseDesireNextYear', 'LanguageDesireNextYear', 'MiscTechDesireNextYear', \n",
    "                  'NEWCollabToolsDesireNextYear', 'PlatformDesireNextYear', 'WebframeDesireNextYear']\n",
    "# Job Titles\n",
    "ROLE_COLS = ['DevType']"
   ]
  },
  {
   "cell_type": "code",
   "execution_count": 2,
   "id": "unlike-chicken",
   "metadata": {},
   "outputs": [],
   "source": [
    "import numpy as np\n",
    "import pandas as pd\n",
    "import pickle\n",
    "\n",
    "from sklearn.preprocessing import StandardScaler\n",
    "from sklearn.preprocessing import MultiLabelBinarizer\n",
    "\n",
    "import matplotlib.pyplot as plt\n",
    "import plotly \n",
    "import plotly.graph_objects as go\n",
    "from plotly.subplots import make_subplots\n",
    "import plotly.express as px\n",
    "import plotly.figure_factory as ff\n",
    "import plotly.io as pio\n",
    "\n",
    "# Set renderer default --> Where the plot should be displayed ?\n",
    "# Used i_frame_connected to display inside the notebook\n",
    "pio.renderers.default = 'iframe_connected'"
   ]
  },
  {
   "cell_type": "markdown",
   "id": "comfortable-delight",
   "metadata": {},
   "source": [
    "## Reading and processing data"
   ]
  },
  {
   "cell_type": "code",
   "execution_count": 3,
   "id": "flush-walker",
   "metadata": {},
   "outputs": [
    {
     "data": {
      "text/html": [
       "<div>\n",
       "<style scoped>\n",
       "    .dataframe tbody tr th:only-of-type {\n",
       "        vertical-align: middle;\n",
       "    }\n",
       "\n",
       "    .dataframe tbody tr th {\n",
       "        vertical-align: top;\n",
       "    }\n",
       "\n",
       "    .dataframe thead th {\n",
       "        text-align: right;\n",
       "    }\n",
       "</style>\n",
       "<table border=\"1\" class=\"dataframe\">\n",
       "  <thead>\n",
       "    <tr style=\"text-align: right;\">\n",
       "      <th></th>\n",
       "      <th>Respondent</th>\n",
       "      <th>MainBranch</th>\n",
       "      <th>Hobbyist</th>\n",
       "      <th>Age</th>\n",
       "      <th>Age1stCode</th>\n",
       "      <th>CompFreq</th>\n",
       "      <th>CompTotal</th>\n",
       "      <th>ConvertedComp</th>\n",
       "      <th>Country</th>\n",
       "      <th>CurrencyDesc</th>\n",
       "      <th>...</th>\n",
       "      <th>SurveyEase</th>\n",
       "      <th>SurveyLength</th>\n",
       "      <th>Trans</th>\n",
       "      <th>UndergradMajor</th>\n",
       "      <th>WebframeDesireNextYear</th>\n",
       "      <th>WebframeWorkedWith</th>\n",
       "      <th>WelcomeChange</th>\n",
       "      <th>WorkWeekHrs</th>\n",
       "      <th>YearsCode</th>\n",
       "      <th>YearsCodePro</th>\n",
       "    </tr>\n",
       "  </thead>\n",
       "  <tbody>\n",
       "    <tr>\n",
       "      <th>0</th>\n",
       "      <td>1</td>\n",
       "      <td>I am a developer by profession</td>\n",
       "      <td>Yes</td>\n",
       "      <td>NaN</td>\n",
       "      <td>13.0</td>\n",
       "      <td>Monthly</td>\n",
       "      <td>NaN</td>\n",
       "      <td>NaN</td>\n",
       "      <td>Germany</td>\n",
       "      <td>European Euro</td>\n",
       "      <td>...</td>\n",
       "      <td>Neither easy nor difficult</td>\n",
       "      <td>Appropriate in length</td>\n",
       "      <td>No</td>\n",
       "      <td>Computer science, computer engineering, or sof...</td>\n",
       "      <td>[ASP.NET Core]</td>\n",
       "      <td>[ASP.NET, ASP.NET Core]</td>\n",
       "      <td>Just as welcome now as I felt last year</td>\n",
       "      <td>50.0</td>\n",
       "      <td>36.0</td>\n",
       "      <td>27.0</td>\n",
       "    </tr>\n",
       "    <tr>\n",
       "      <th>1</th>\n",
       "      <td>2</td>\n",
       "      <td>I am a developer by profession</td>\n",
       "      <td>No</td>\n",
       "      <td>NaN</td>\n",
       "      <td>19.0</td>\n",
       "      <td>NaN</td>\n",
       "      <td>NaN</td>\n",
       "      <td>NaN</td>\n",
       "      <td>United Kingdom</td>\n",
       "      <td>Pound sterling</td>\n",
       "      <td>...</td>\n",
       "      <td>NaN</td>\n",
       "      <td>NaN</td>\n",
       "      <td>NaN</td>\n",
       "      <td>Computer science, computer engineering, or sof...</td>\n",
       "      <td>[]</td>\n",
       "      <td>[]</td>\n",
       "      <td>Somewhat more welcome now than last year</td>\n",
       "      <td>NaN</td>\n",
       "      <td>7.0</td>\n",
       "      <td>4.0</td>\n",
       "    </tr>\n",
       "    <tr>\n",
       "      <th>2</th>\n",
       "      <td>3</td>\n",
       "      <td>I code primarily as a hobby</td>\n",
       "      <td>Yes</td>\n",
       "      <td>NaN</td>\n",
       "      <td>15.0</td>\n",
       "      <td>NaN</td>\n",
       "      <td>NaN</td>\n",
       "      <td>NaN</td>\n",
       "      <td>Russian Federation</td>\n",
       "      <td>NaN</td>\n",
       "      <td>...</td>\n",
       "      <td>Neither easy nor difficult</td>\n",
       "      <td>Appropriate in length</td>\n",
       "      <td>NaN</td>\n",
       "      <td>NaN</td>\n",
       "      <td>[]</td>\n",
       "      <td>[]</td>\n",
       "      <td>Somewhat more welcome now than last year</td>\n",
       "      <td>NaN</td>\n",
       "      <td>4.0</td>\n",
       "      <td>NaN</td>\n",
       "    </tr>\n",
       "    <tr>\n",
       "      <th>3</th>\n",
       "      <td>4</td>\n",
       "      <td>I am a developer by profession</td>\n",
       "      <td>Yes</td>\n",
       "      <td>25.0</td>\n",
       "      <td>18.0</td>\n",
       "      <td>NaN</td>\n",
       "      <td>NaN</td>\n",
       "      <td>NaN</td>\n",
       "      <td>Albania</td>\n",
       "      <td>Albanian lek</td>\n",
       "      <td>...</td>\n",
       "      <td>NaN</td>\n",
       "      <td>NaN</td>\n",
       "      <td>No</td>\n",
       "      <td>Computer science, computer engineering, or sof...</td>\n",
       "      <td>[]</td>\n",
       "      <td>[]</td>\n",
       "      <td>Somewhat less welcome now than last year</td>\n",
       "      <td>40.0</td>\n",
       "      <td>7.0</td>\n",
       "      <td>4.0</td>\n",
       "    </tr>\n",
       "    <tr>\n",
       "      <th>4</th>\n",
       "      <td>5</td>\n",
       "      <td>I used to be a developer by profession, but no...</td>\n",
       "      <td>Yes</td>\n",
       "      <td>31.0</td>\n",
       "      <td>16.0</td>\n",
       "      <td>NaN</td>\n",
       "      <td>NaN</td>\n",
       "      <td>NaN</td>\n",
       "      <td>United States</td>\n",
       "      <td>NaN</td>\n",
       "      <td>...</td>\n",
       "      <td>Easy</td>\n",
       "      <td>Too short</td>\n",
       "      <td>No</td>\n",
       "      <td>Computer science, computer engineering, or sof...</td>\n",
       "      <td>[Django, Ruby on Rails]</td>\n",
       "      <td>[Ruby on Rails]</td>\n",
       "      <td>Just as welcome now as I felt last year</td>\n",
       "      <td>NaN</td>\n",
       "      <td>15.0</td>\n",
       "      <td>8.0</td>\n",
       "    </tr>\n",
       "  </tbody>\n",
       "</table>\n",
       "<p>5 rows × 61 columns</p>\n",
       "</div>"
      ],
      "text/plain": [
       "   Respondent                                         MainBranch Hobbyist  \\\n",
       "0           1                     I am a developer by profession      Yes   \n",
       "1           2                     I am a developer by profession       No   \n",
       "2           3                        I code primarily as a hobby      Yes   \n",
       "3           4                     I am a developer by profession      Yes   \n",
       "4           5  I used to be a developer by profession, but no...      Yes   \n",
       "\n",
       "    Age  Age1stCode CompFreq  CompTotal  ConvertedComp             Country  \\\n",
       "0   NaN        13.0  Monthly        NaN            NaN             Germany   \n",
       "1   NaN        19.0      NaN        NaN            NaN      United Kingdom   \n",
       "2   NaN        15.0      NaN        NaN            NaN  Russian Federation   \n",
       "3  25.0        18.0      NaN        NaN            NaN             Albania   \n",
       "4  31.0        16.0      NaN        NaN            NaN       United States   \n",
       "\n",
       "     CurrencyDesc  ...                  SurveyEase           SurveyLength  \\\n",
       "0   European Euro  ...  Neither easy nor difficult  Appropriate in length   \n",
       "1  Pound sterling  ...                         NaN                    NaN   \n",
       "2             NaN  ...  Neither easy nor difficult  Appropriate in length   \n",
       "3    Albanian lek  ...                         NaN                    NaN   \n",
       "4             NaN  ...                        Easy              Too short   \n",
       "\n",
       "  Trans                                     UndergradMajor  \\\n",
       "0    No  Computer science, computer engineering, or sof...   \n",
       "1   NaN  Computer science, computer engineering, or sof...   \n",
       "2   NaN                                                NaN   \n",
       "3    No  Computer science, computer engineering, or sof...   \n",
       "4    No  Computer science, computer engineering, or sof...   \n",
       "\n",
       "    WebframeDesireNextYear       WebframeWorkedWith  \\\n",
       "0           [ASP.NET Core]  [ASP.NET, ASP.NET Core]   \n",
       "1                       []                       []   \n",
       "2                       []                       []   \n",
       "3                       []                       []   \n",
       "4  [Django, Ruby on Rails]          [Ruby on Rails]   \n",
       "\n",
       "                              WelcomeChange WorkWeekHrs YearsCode YearsCodePro  \n",
       "0   Just as welcome now as I felt last year        50.0      36.0         27.0  \n",
       "1  Somewhat more welcome now than last year         NaN       7.0          4.0  \n",
       "2  Somewhat more welcome now than last year         NaN       4.0          NaN  \n",
       "3  Somewhat less welcome now than last year        40.0       7.0          4.0  \n",
       "4   Just as welcome now as I felt last year         NaN      15.0          8.0  \n",
       "\n",
       "[5 rows x 61 columns]"
      ]
     },
     "execution_count": 3,
     "metadata": {},
     "output_type": "execute_result"
    }
   ],
   "source": [
    "raw_data = pd.read_pickle(DF_PATH)\n",
    "raw_data.head()"
   ]
  },
  {
   "cell_type": "markdown",
   "id": "western-insulin",
   "metadata": {},
   "source": [
    "### 1. Perform One-Hot Encoding to technologies and jobs columns"
   ]
  },
  {
   "cell_type": "markdown",
   "id": "tropical-cooking",
   "metadata": {},
   "source": [
    "### Functions"
   ]
  },
  {
   "cell_type": "code",
   "execution_count": 4,
   "id": "perceived-bouquet",
   "metadata": {},
   "outputs": [],
   "source": [
    "def binarize_data(dataframe, col_names):\n",
    "    \"\"\"\n",
    "    Function to apply One-Hot Encoding (Binarization) to specified list\n",
    "    of columns in a dataframe and returns a dictionary.\n",
    "    \n",
    "    Input:\n",
    "    dataframe: A Pandas dataframe that contains target columns.\n",
    "    col_names: A list consisting of column names inside dataframe to apply One-Hot-Encoding.\n",
    "    \n",
    "    Returns:\n",
    "    A dictionary consisting of {Column_name: Encoded_DataFrame}\n",
    "    \"\"\"\n",
    "\n",
    "    # Check if any of the columns does not exist in the dataframe\n",
    "    # If found: Return an Error Message\n",
    "    for col in col_names:\n",
    "        if col not in dataframe:\n",
    "            return {'Error: {} column does not exist in the specified dataframe'.format(col)}\n",
    "    \n",
    "    encoded_dataframes = {}\n",
    "    \n",
    "    # Creating Binarizer Object\n",
    "    mlb = MultiLabelBinarizer()\n",
    "    \n",
    "    for col in col_names:\n",
    "        # Encode each column in the list\n",
    "        encoded_df = pd.DataFrame(data= mlb.fit_transform(dataframe[col]),\n",
    "                                  columns= mlb.classes_, \n",
    "                                  index= dataframe[col].index)\n",
    "        \n",
    "        # Add encoded dataframe to the dictionary\n",
    "        encoded_dataframes[col] = encoded_df\n",
    "    \n",
    "    return encoded_dataframes"
   ]
  },
  {
   "cell_type": "markdown",
   "id": "heavy-carroll",
   "metadata": {},
   "source": [
    "## Skills Analysis\n",
    "### 1. Frequency of different skills"
   ]
  },
  {
   "cell_type": "code",
   "execution_count": 5,
   "id": "peaceful-haven",
   "metadata": {},
   "outputs": [],
   "source": [
    "df = raw_data.copy()\n",
    "\n",
    "# Drop Job Column\n",
    "df.drop('DevType', axis= 1, inplace= True)\n",
    "\n",
    "# Get encoded skills\n",
    "skills = binarize_data(df, TECH_COLS) \n",
    "\n",
    "# Merge 1-hot encoded \n",
    "skills_df = pd.concat(skills, axis=1)\n",
    "\n",
    "# Calculate the sum for all the skills [all cols except DevType]\n",
    "skills_freq = skills_df.sum(axis=0).reset_index()\n",
    "skills_freq.columns = ['Group', 'Skill', 'Frequency']"
   ]
  },
  {
   "cell_type": "code",
   "execution_count": 6,
   "id": "peripheral-banking",
   "metadata": {},
   "outputs": [
    {
     "data": {
      "text/html": [
       "<div>\n",
       "<style scoped>\n",
       "    .dataframe tbody tr th:only-of-type {\n",
       "        vertical-align: middle;\n",
       "    }\n",
       "\n",
       "    .dataframe tbody tr th {\n",
       "        vertical-align: top;\n",
       "    }\n",
       "\n",
       "    .dataframe thead th {\n",
       "        text-align: right;\n",
       "    }\n",
       "</style>\n",
       "<table border=\"1\" class=\"dataframe\">\n",
       "  <thead>\n",
       "    <tr style=\"text-align: right;\">\n",
       "      <th></th>\n",
       "      <th>Group</th>\n",
       "      <th>Skill</th>\n",
       "      <th>Frequency</th>\n",
       "    </tr>\n",
       "  </thead>\n",
       "  <tbody>\n",
       "    <tr>\n",
       "      <th>0</th>\n",
       "      <td>DatabaseWorkedWith</td>\n",
       "      <td>Cassandra</td>\n",
       "      <td>1654</td>\n",
       "    </tr>\n",
       "    <tr>\n",
       "      <th>1</th>\n",
       "      <td>DatabaseWorkedWith</td>\n",
       "      <td>Couchbase</td>\n",
       "      <td>937</td>\n",
       "    </tr>\n",
       "    <tr>\n",
       "      <th>2</th>\n",
       "      <td>DatabaseWorkedWith</td>\n",
       "      <td>DynamoDB</td>\n",
       "      <td>3497</td>\n",
       "    </tr>\n",
       "    <tr>\n",
       "      <th>3</th>\n",
       "      <td>DatabaseWorkedWith</td>\n",
       "      <td>Elasticsearch</td>\n",
       "      <td>6817</td>\n",
       "    </tr>\n",
       "    <tr>\n",
       "      <th>4</th>\n",
       "      <td>DatabaseWorkedWith</td>\n",
       "      <td>Firebase</td>\n",
       "      <td>7128</td>\n",
       "    </tr>\n",
       "    <tr>\n",
       "      <th>...</th>\n",
       "      <td>...</td>\n",
       "      <td>...</td>\n",
       "      <td>...</td>\n",
       "    </tr>\n",
       "    <tr>\n",
       "      <th>96</th>\n",
       "      <td>WebframeWorkedWith</td>\n",
       "      <td>Ruby on Rails</td>\n",
       "      <td>2944</td>\n",
       "    </tr>\n",
       "    <tr>\n",
       "      <th>97</th>\n",
       "      <td>WebframeWorkedWith</td>\n",
       "      <td>Spring</td>\n",
       "      <td>6941</td>\n",
       "    </tr>\n",
       "    <tr>\n",
       "      <th>98</th>\n",
       "      <td>WebframeWorkedWith</td>\n",
       "      <td>Symfony</td>\n",
       "      <td>1851</td>\n",
       "    </tr>\n",
       "    <tr>\n",
       "      <th>99</th>\n",
       "      <td>WebframeWorkedWith</td>\n",
       "      <td>Vue.js</td>\n",
       "      <td>7322</td>\n",
       "    </tr>\n",
       "    <tr>\n",
       "      <th>100</th>\n",
       "      <td>WebframeWorkedWith</td>\n",
       "      <td>jQuery</td>\n",
       "      <td>18316</td>\n",
       "    </tr>\n",
       "  </tbody>\n",
       "</table>\n",
       "<p>101 rows × 3 columns</p>\n",
       "</div>"
      ],
      "text/plain": [
       "                  Group          Skill  Frequency\n",
       "0    DatabaseWorkedWith      Cassandra       1654\n",
       "1    DatabaseWorkedWith      Couchbase        937\n",
       "2    DatabaseWorkedWith       DynamoDB       3497\n",
       "3    DatabaseWorkedWith  Elasticsearch       6817\n",
       "4    DatabaseWorkedWith       Firebase       7128\n",
       "..                  ...            ...        ...\n",
       "96   WebframeWorkedWith  Ruby on Rails       2944\n",
       "97   WebframeWorkedWith         Spring       6941\n",
       "98   WebframeWorkedWith        Symfony       1851\n",
       "99   WebframeWorkedWith         Vue.js       7322\n",
       "100  WebframeWorkedWith         jQuery      18316\n",
       "\n",
       "[101 rows x 3 columns]"
      ]
     },
     "execution_count": 6,
     "metadata": {},
     "output_type": "execute_result"
    }
   ],
   "source": [
    "skills_freq"
   ]
  },
  {
   "cell_type": "code",
   "execution_count": 10,
   "id": "excellent-alcohol",
   "metadata": {},
   "outputs": [
    {
     "data": {
      "image/png": "[encoded data removed]",
      "text/html": [
       "<iframe\n",
       "    scrolling=\"no\"\n",
       "    width=\"1120px\"\n",
       "    height=\"670\"\n",
       "    src=\"iframe_figures/figure_10.html\"\n",
       "    frameborder=\"0\"\n",
       "    allowfullscreen\n",
       "></iframe>\n"
      ]
     },
     "metadata": {},
     "output_type": "display_data"
    }
   ],
   "source": [
    "# Visualize different skills frequencies\n",
    "data = px.treemap(skills_freq, \n",
    "                 path=['Group', 'Skill'], \n",
    "                 color_continuous_scale='deep',\n",
    "                 values='Frequency',\n",
    "                 color='Frequency')\n",
    "\n",
    "fig = go.Figure(data=data)\n",
    "fig.update_layout(width=1100, height=650)\n",
    "fig.show('iframe_connected+png')"
   ]
  },
  {
   "cell_type": "markdown",
   "id": "periodic-calculation",
   "metadata": {},
   "source": [
    "## Jobs Analysis\n",
    "### 1. Frequency of different roles"
   ]
  },
  {
   "cell_type": "code",
   "execution_count": 11,
   "id": "applicable-enzyme",
   "metadata": {},
   "outputs": [],
   "source": [
    "df = raw_data.copy()\n",
    "\n",
    "# Drop Skills Columns\n",
    "skills_cols = TECH_COLS + NEXT_TECH_COLS\n",
    "df.drop(columns= skills_cols, axis= 1, inplace= True)\n",
    "\n",
    "# Get encoded jobs\n",
    "jobs = binarize_data(df, ROLE_COLS) \n",
    "\n",
    "# Merge 1-hot encoded \n",
    "jobs_df = pd.concat(jobs, axis=1)\n",
    "\n",
    "# Calculate the sum for all the jobs [all cols except TECH columns]\n",
    "jobs_freq = jobs_df.sum(axis=0).reset_index()\n",
    "jobs_freq.columns = ['Group', 'Job', 'Frequency']"
   ]
  },
  {
   "cell_type": "code",
   "execution_count": 12,
   "id": "fancy-running",
   "metadata": {},
   "outputs": [
    {
     "data": {
      "text/html": [
       "<div>\n",
       "<style scoped>\n",
       "    .dataframe tbody tr th:only-of-type {\n",
       "        vertical-align: middle;\n",
       "    }\n",
       "\n",
       "    .dataframe tbody tr th {\n",
       "        vertical-align: top;\n",
       "    }\n",
       "\n",
       "    .dataframe thead th {\n",
       "        text-align: right;\n",
       "    }\n",
       "</style>\n",
       "<table border=\"1\" class=\"dataframe\">\n",
       "  <thead>\n",
       "    <tr style=\"text-align: right;\">\n",
       "      <th></th>\n",
       "      <th>Group</th>\n",
       "      <th>Job</th>\n",
       "      <th>Frequency</th>\n",
       "    </tr>\n",
       "  </thead>\n",
       "  <tbody>\n",
       "    <tr>\n",
       "      <th>0</th>\n",
       "      <td>DevType</td>\n",
       "      <td>Academic researcher</td>\n",
       "      <td>3552</td>\n",
       "    </tr>\n",
       "    <tr>\n",
       "      <th>1</th>\n",
       "      <td>DevType</td>\n",
       "      <td>Data or business analyst</td>\n",
       "      <td>4024</td>\n",
       "    </tr>\n",
       "    <tr>\n",
       "      <th>2</th>\n",
       "      <td>DevType</td>\n",
       "      <td>Data scientist or machine learning specialist</td>\n",
       "      <td>3988</td>\n",
       "    </tr>\n",
       "    <tr>\n",
       "      <th>3</th>\n",
       "      <td>DevType</td>\n",
       "      <td>Database administrator</td>\n",
       "      <td>5722</td>\n",
       "    </tr>\n",
       "    <tr>\n",
       "      <th>4</th>\n",
       "      <td>DevType</td>\n",
       "      <td>Designer</td>\n",
       "      <td>5321</td>\n",
       "    </tr>\n",
       "    <tr>\n",
       "      <th>5</th>\n",
       "      <td>DevType</td>\n",
       "      <td>DevOps specialist</td>\n",
       "      <td>5969</td>\n",
       "    </tr>\n",
       "    <tr>\n",
       "      <th>6</th>\n",
       "      <td>DevType</td>\n",
       "      <td>Developer, QA or test</td>\n",
       "      <td>3947</td>\n",
       "    </tr>\n",
       "    <tr>\n",
       "      <th>7</th>\n",
       "      <td>DevType</td>\n",
       "      <td>Developer, back-end</td>\n",
       "      <td>27228</td>\n",
       "    </tr>\n",
       "    <tr>\n",
       "      <th>8</th>\n",
       "      <td>DevType</td>\n",
       "      <td>Developer, desktop or enterprise applications</td>\n",
       "      <td>11784</td>\n",
       "    </tr>\n",
       "    <tr>\n",
       "      <th>9</th>\n",
       "      <td>DevType</td>\n",
       "      <td>Developer, embedded applications or devices</td>\n",
       "      <td>4750</td>\n",
       "    </tr>\n",
       "    <tr>\n",
       "      <th>10</th>\n",
       "      <td>DevType</td>\n",
       "      <td>Developer, front-end</td>\n",
       "      <td>18296</td>\n",
       "    </tr>\n",
       "    <tr>\n",
       "      <th>11</th>\n",
       "      <td>DevType</td>\n",
       "      <td>Developer, full-stack</td>\n",
       "      <td>27125</td>\n",
       "    </tr>\n",
       "    <tr>\n",
       "      <th>12</th>\n",
       "      <td>DevType</td>\n",
       "      <td>Developer, game or graphics</td>\n",
       "      <td>2789</td>\n",
       "    </tr>\n",
       "    <tr>\n",
       "      <th>13</th>\n",
       "      <td>DevType</td>\n",
       "      <td>Developer, mobile</td>\n",
       "      <td>9482</td>\n",
       "    </tr>\n",
       "    <tr>\n",
       "      <th>14</th>\n",
       "      <td>DevType</td>\n",
       "      <td>Educator</td>\n",
       "      <td>2928</td>\n",
       "    </tr>\n",
       "    <tr>\n",
       "      <th>15</th>\n",
       "      <td>DevType</td>\n",
       "      <td>Engineer, data</td>\n",
       "      <td>3738</td>\n",
       "    </tr>\n",
       "    <tr>\n",
       "      <th>16</th>\n",
       "      <td>DevType</td>\n",
       "      <td>Engineer, site reliability</td>\n",
       "      <td>1940</td>\n",
       "    </tr>\n",
       "    <tr>\n",
       "      <th>17</th>\n",
       "      <td>DevType</td>\n",
       "      <td>Engineering manager</td>\n",
       "      <td>2724</td>\n",
       "    </tr>\n",
       "    <tr>\n",
       "      <th>18</th>\n",
       "      <td>DevType</td>\n",
       "      <td>Marketing or sales professional</td>\n",
       "      <td>642</td>\n",
       "    </tr>\n",
       "    <tr>\n",
       "      <th>19</th>\n",
       "      <td>DevType</td>\n",
       "      <td>Product manager</td>\n",
       "      <td>2497</td>\n",
       "    </tr>\n",
       "    <tr>\n",
       "      <th>20</th>\n",
       "      <td>DevType</td>\n",
       "      <td>Scientist</td>\n",
       "      <td>2086</td>\n",
       "    </tr>\n",
       "    <tr>\n",
       "      <th>21</th>\n",
       "      <td>DevType</td>\n",
       "      <td>Senior executive/VP</td>\n",
       "      <td>1320</td>\n",
       "    </tr>\n",
       "    <tr>\n",
       "      <th>22</th>\n",
       "      <td>DevType</td>\n",
       "      <td>System administrator</td>\n",
       "      <td>5242</td>\n",
       "    </tr>\n",
       "  </tbody>\n",
       "</table>\n",
       "</div>"
      ],
      "text/plain": [
       "      Group                                            Job  Frequency\n",
       "0   DevType                            Academic researcher       3552\n",
       "1   DevType                       Data or business analyst       4024\n",
       "2   DevType  Data scientist or machine learning specialist       3988\n",
       "3   DevType                         Database administrator       5722\n",
       "4   DevType                                       Designer       5321\n",
       "5   DevType                              DevOps specialist       5969\n",
       "6   DevType                          Developer, QA or test       3947\n",
       "7   DevType                            Developer, back-end      27228\n",
       "8   DevType  Developer, desktop or enterprise applications      11784\n",
       "9   DevType    Developer, embedded applications or devices       4750\n",
       "10  DevType                           Developer, front-end      18296\n",
       "11  DevType                          Developer, full-stack      27125\n",
       "12  DevType                    Developer, game or graphics       2789\n",
       "13  DevType                              Developer, mobile       9482\n",
       "14  DevType                                       Educator       2928\n",
       "15  DevType                                 Engineer, data       3738\n",
       "16  DevType                     Engineer, site reliability       1940\n",
       "17  DevType                            Engineering manager       2724\n",
       "18  DevType                Marketing or sales professional        642\n",
       "19  DevType                                Product manager       2497\n",
       "20  DevType                                      Scientist       2086\n",
       "21  DevType                            Senior executive/VP       1320\n",
       "22  DevType                           System administrator       5242"
      ]
     },
     "execution_count": 12,
     "metadata": {},
     "output_type": "execute_result"
    }
   ],
   "source": [
    "jobs_freq"
   ]
  },
  {
   "cell_type": "code",
   "execution_count": 10,
   "id": "flush-network",
   "metadata": {},
   "outputs": [
    {
     "data": {
      "application/vnd.plotly.v1+json": {
       "config": {
        "linkText": "Export to plot.ly",
        "plotlyServerURL": "https://plot.ly",
        "showLink": false
       },
       "data": [
        {
         "branchvalues": "total",
         "customdata": [
          [
           3552
          ],
          [
           4024
          ],
          [
           3988
          ],
          [
           5722
          ],
          [
           5321
          ],
          [
           5969
          ],
          [
           3947
          ],
          [
           27228
          ],
          [
           11784
          ],
          [
           4750
          ],
          [
           18296
          ],
          [
           27125
          ],
          [
           2789
          ],
          [
           9482
          ],
          [
           2928
          ],
          [
           3738
          ],
          [
           1940
          ],
          [
           2724
          ],
          [
           642
          ],
          [
           2497
          ],
          [
           2086
          ],
          [
           1320
          ],
          [
           5242
          ],
          [
           14653.073204578151
          ]
         ],
         "domain": {
          "x": [
           0,
           1
          ],
          "y": [
           0,
           1
          ]
         },
         "hovertemplate": "labels=%{label}<br>Frequency_sum=%{value}<br>parent=%{parent}<br>id=%{id}<br>Frequency=%{color}<extra></extra>",
         "ids": [
          "DevType/Academic researcher",
          "DevType/Data or business analyst",
          "DevType/Data scientist or machine learning specialist",
          "DevType/Database administrator",
          "DevType/Designer",
          "DevType/DevOps specialist",
          "DevType/Developer, QA or test",
          "DevType/Developer, back-end",
          "DevType/Developer, desktop or enterprise applications",
          "DevType/Developer, embedded applications or devices",
          "DevType/Developer, front-end",
          "DevType/Developer, full-stack",
          "DevType/Developer, game or graphics",
          "DevType/Developer, mobile",
          "DevType/Educator",
          "DevType/Engineer, data",
          "DevType/Engineer, site reliability",
          "DevType/Engineering manager",
          "DevType/Marketing or sales professional",
          "DevType/Product manager",
          "DevType/Scientist",
          "DevType/Senior executive/VP",
          "DevType/System administrator",
          "DevType"
         ],
         "labels": [
          "Academic researcher",
          "Data or business analyst",
          "Data scientist or machine learning specialist",
          "Database administrator",
          "Designer",
          "DevOps specialist",
          "Developer, QA or test",
          "Developer, back-end",
          "Developer, desktop or enterprise applications",
          "Developer, embedded applications or devices",
          "Developer, front-end",
          "Developer, full-stack",
          "Developer, game or graphics",
          "Developer, mobile",
          "Educator",
          "Engineer, data",
          "Engineer, site reliability",
          "Engineering manager",
          "Marketing or sales professional",
          "Product manager",
          "Scientist",
          "Senior executive/VP",
          "System administrator",
          "DevType"
         ],
         "marker": {
          "coloraxis": "coloraxis",
          "colors": [
           3552,
           4024,
           3988,
           5722,
           5321,
           5969,
           3947,
           27228,
           11784,
           4750,
           18296,
           27125,
           2789,
           9482,
           2928,
           3738,
           1940,
           2724,
           642,
           2497,
           2086,
           1320,
           5242,
           14653.073204578151
          ]
         },
         "name": "",
         "parents": [
          "DevType",
          "DevType",
          "DevType",
          "DevType",
          "DevType",
          "DevType",
          "DevType",
          "DevType",
          "DevType",
          "DevType",
          "DevType",
          "DevType",
          "DevType",
          "DevType",
          "DevType",
          "DevType",
          "DevType",
          "DevType",
          "DevType",
          "DevType",
          "DevType",
          "DevType",
          "DevType",
          ""
         ],
         "type": "treemap",
         "values": [
          3552,
          4024,
          3988,
          5722,
          5321,
          5969,
          3947,
          27228,
          11784,
          4750,
          18296,
          27125,
          2789,
          9482,
          2928,
          3738,
          1940,
          2724,
          642,
          2497,
          2086,
          1320,
          5242,
          157094
         ]
        }
       ],
       "layout": {
        "coloraxis": {
         "colorbar": {
          "title": {
           "text": "Frequency"
          }
         },
         "colorscale": [
          [
           0,
           "rgb(253, 253, 204)"
          ],
          [
           0.09090909090909091,
           "rgb(206, 236, 179)"
          ],
          [
           0.18181818181818182,
           "rgb(156, 219, 165)"
          ],
          [
           0.2727272727272727,
           "rgb(111, 201, 163)"
          ],
          [
           0.36363636363636365,
           "rgb(86, 177, 163)"
          ],
          [
           0.45454545454545453,
           "rgb(76, 153, 160)"
          ],
          [
           0.5454545454545454,
           "rgb(68, 130, 155)"
          ],
          [
           0.6363636363636364,
           "rgb(62, 108, 150)"
          ],
          [
           0.7272727272727273,
           "rgb(62, 82, 143)"
          ],
          [
           0.8181818181818182,
           "rgb(64, 60, 115)"
          ],
          [
           0.9090909090909091,
           "rgb(54, 43, 77)"
          ],
          [
           1,
           "rgb(39, 26, 44)"
          ]
         ]
        },
        "height": 700,
        "legend": {
         "tracegroupgap": 0
        },
        "margin": {
         "t": 60
        },
        "template": {
         "data": {
          "bar": [
           {
            "error_x": {
             "color": "#2a3f5f"
            },
            "error_y": {
             "color": "#2a3f5f"
            },
            "marker": {
             "line": {
              "color": "#E5ECF6",
              "width": 0.5
             },
             "pattern": {
              "fillmode": "overlay",
              "size": 10,
              "solidity": 0.2
             }
            },
            "type": "bar"
           }
          ],
          "barpolar": [
           {
            "marker": {
             "line": {
              "color": "#E5ECF6",
              "width": 0.5
             },
             "pattern": {
              "fillmode": "overlay",
              "size": 10,
              "solidity": 0.2
             }
            },
            "type": "barpolar"
           }
          ],
          "carpet": [
           {
            "aaxis": {
             "endlinecolor": "#2a3f5f",
             "gridcolor": "white",
             "linecolor": "white",
             "minorgridcolor": "white",
             "startlinecolor": "#2a3f5f"
            },
            "baxis": {
             "endlinecolor": "#2a3f5f",
             "gridcolor": "white",
             "linecolor": "white",
             "minorgridcolor": "white",
             "startlinecolor": "#2a3f5f"
            },
            "type": "carpet"
           }
          ],
          "choropleth": [
           {
            "colorbar": {
             "outlinewidth": 0,
             "ticks": ""
            },
            "type": "choropleth"
           }
          ],
          "contour": [
           {
            "colorbar": {
             "outlinewidth": 0,
             "ticks": ""
            },
            "colorscale": [
             [
              0,
              "#0d0887"
             ],
             [
              0.1111111111111111,
              "#46039f"
             ],
             [
              0.2222222222222222,
              "#7201a8"
             ],
             [
              0.3333333333333333,
              "#9c179e"
             ],
             [
              0.4444444444444444,
              "#bd3786"
             ],
             [
              0.5555555555555556,
              "#d8576b"
             ],
             [
              0.6666666666666666,
              "#ed7953"
             ],
             [
              0.7777777777777778,
              "#fb9f3a"
             ],
             [
              0.8888888888888888,
              "#fdca26"
             ],
             [
              1,
              "#f0f921"
             ]
            ],
            "type": "contour"
           }
          ],
          "contourcarpet": [
           {
            "colorbar": {
             "outlinewidth": 0,
             "ticks": ""
            },
            "type": "contourcarpet"
           }
          ],
          "heatmap": [
           {
            "colorbar": {
             "outlinewidth": 0,
             "ticks": ""
            },
            "colorscale": [
             [
              0,
              "#0d0887"
             ],
             [
              0.1111111111111111,
              "#46039f"
             ],
             [
              0.2222222222222222,
              "#7201a8"
             ],
             [
              0.3333333333333333,
              "#9c179e"
             ],
             [
              0.4444444444444444,
              "#bd3786"
             ],
             [
              0.5555555555555556,
              "#d8576b"
             ],
             [
              0.6666666666666666,
              "#ed7953"
             ],
             [
              0.7777777777777778,
              "#fb9f3a"
             ],
             [
              0.8888888888888888,
              "#fdca26"
             ],
             [
              1,
              "#f0f921"
             ]
            ],
            "type": "heatmap"
           }
          ],
          "heatmapgl": [
           {
            "colorbar": {
             "outlinewidth": 0,
             "ticks": ""
            },
            "colorscale": [
             [
              0,
              "#0d0887"
             ],
             [
              0.1111111111111111,
              "#46039f"
             ],
             [
              0.2222222222222222,
              "#7201a8"
             ],
             [
              0.3333333333333333,
              "#9c179e"
             ],
             [
              0.4444444444444444,
              "#bd3786"
             ],
             [
              0.5555555555555556,
              "#d8576b"
             ],
             [
              0.6666666666666666,
              "#ed7953"
             ],
             [
              0.7777777777777778,
              "#fb9f3a"
             ],
             [
              0.8888888888888888,
              "#fdca26"
             ],
             [
              1,
              "#f0f921"
             ]
            ],
            "type": "heatmapgl"
           }
          ],
          "histogram": [
           {
            "marker": {
             "pattern": {
              "fillmode": "overlay",
              "size": 10,
              "solidity": 0.2
             }
            },
            "type": "histogram"
           }
          ],
          "histogram2d": [
           {
            "colorbar": {
             "outlinewidth": 0,
             "ticks": ""
            },
            "colorscale": [
             [
              0,
              "#0d0887"
             ],
             [
              0.1111111111111111,
              "#46039f"
             ],
             [
              0.2222222222222222,
              "#7201a8"
             ],
             [
              0.3333333333333333,
              "#9c179e"
             ],
             [
              0.4444444444444444,
              "#bd3786"
             ],
             [
              0.5555555555555556,
              "#d8576b"
             ],
             [
              0.6666666666666666,
              "#ed7953"
             ],
             [
              0.7777777777777778,
              "#fb9f3a"
             ],
             [
              0.8888888888888888,
              "#fdca26"
             ],
             [
              1,
              "#f0f921"
             ]
            ],
            "type": "histogram2d"
           }
          ],
          "histogram2dcontour": [
           {
            "colorbar": {
             "outlinewidth": 0,
             "ticks": ""
            },
            "colorscale": [
             [
              0,
              "#0d0887"
             ],
             [
              0.1111111111111111,
              "#46039f"
             ],
             [
              0.2222222222222222,
              "#7201a8"
             ],
             [
              0.3333333333333333,
              "#9c179e"
             ],
             [
              0.4444444444444444,
              "#bd3786"
             ],
             [
              0.5555555555555556,
              "#d8576b"
             ],
             [
              0.6666666666666666,
              "#ed7953"
             ],
             [
              0.7777777777777778,
              "#fb9f3a"
             ],
             [
              0.8888888888888888,
              "#fdca26"
             ],
             [
              1,
              "#f0f921"
             ]
            ],
            "type": "histogram2dcontour"
           }
          ],
          "mesh3d": [
           {
            "colorbar": {
             "outlinewidth": 0,
             "ticks": ""
            },
            "type": "mesh3d"
           }
          ],
          "parcoords": [
           {
            "line": {
             "colorbar": {
              "outlinewidth": 0,
              "ticks": ""
             }
            },
            "type": "parcoords"
           }
          ],
          "pie": [
           {
            "automargin": true,
            "type": "pie"
           }
          ],
          "scatter": [
           {
            "marker": {
             "colorbar": {
              "outlinewidth": 0,
              "ticks": ""
             }
            },
            "type": "scatter"
           }
          ],
          "scatter3d": [
           {
            "line": {
             "colorbar": {
              "outlinewidth": 0,
              "ticks": ""
             }
            },
            "marker": {
             "colorbar": {
              "outlinewidth": 0,
              "ticks": ""
             }
            },
            "type": "scatter3d"
           }
          ],
          "scattercarpet": [
           {
            "marker": {
             "colorbar": {
              "outlinewidth": 0,
              "ticks": ""
             }
            },
            "type": "scattercarpet"
           }
          ],
          "scattergeo": [
           {
            "marker": {
             "colorbar": {
              "outlinewidth": 0,
              "ticks": ""
             }
            },
            "type": "scattergeo"
           }
          ],
          "scattergl": [
           {
            "marker": {
             "colorbar": {
              "outlinewidth": 0,
              "ticks": ""
             }
            },
            "type": "scattergl"
           }
          ],
          "scattermapbox": [
           {
            "marker": {
             "colorbar": {
              "outlinewidth": 0,
              "ticks": ""
             }
            },
            "type": "scattermapbox"
           }
          ],
          "scatterpolar": [
           {
            "marker": {
             "colorbar": {
              "outlinewidth": 0,
              "ticks": ""
             }
            },
            "type": "scatterpolar"
           }
          ],
          "scatterpolargl": [
           {
            "marker": {
             "colorbar": {
              "outlinewidth": 0,
              "ticks": ""
             }
            },
            "type": "scatterpolargl"
           }
          ],
          "scatterternary": [
           {
            "marker": {
             "colorbar": {
              "outlinewidth": 0,
              "ticks": ""
             }
            },
            "type": "scatterternary"
           }
          ],
          "surface": [
           {
            "colorbar": {
             "outlinewidth": 0,
             "ticks": ""
            },
            "colorscale": [
             [
              0,
              "#0d0887"
             ],
             [
              0.1111111111111111,
              "#46039f"
             ],
             [
              0.2222222222222222,
              "#7201a8"
             ],
             [
              0.3333333333333333,
              "#9c179e"
             ],
             [
              0.4444444444444444,
              "#bd3786"
             ],
             [
              0.5555555555555556,
              "#d8576b"
             ],
             [
              0.6666666666666666,
              "#ed7953"
             ],
             [
              0.7777777777777778,
              "#fb9f3a"
             ],
             [
              0.8888888888888888,
              "#fdca26"
             ],
             [
              1,
              "#f0f921"
             ]
            ],
            "type": "surface"
           }
          ],
          "table": [
           {
            "cells": {
             "fill": {
              "color": "#EBF0F8"
             },
             "line": {
              "color": "white"
             }
            },
            "header": {
             "fill": {
              "color": "#C8D4E3"
             },
             "line": {
              "color": "white"
             }
            },
            "type": "table"
           }
          ]
         },
         "layout": {
          "annotationdefaults": {
           "arrowcolor": "#2a3f5f",
           "arrowhead": 0,
           "arrowwidth": 1
          },
          "autotypenumbers": "strict",
          "coloraxis": {
           "colorbar": {
            "outlinewidth": 0,
            "ticks": ""
           }
          },
          "colorscale": {
           "diverging": [
            [
             0,
             "#8e0152"
            ],
            [
             0.1,
             "#c51b7d"
            ],
            [
             0.2,
             "#de77ae"
            ],
            [
             0.3,
             "#f1b6da"
            ],
            [
             0.4,
             "#fde0ef"
            ],
            [
             0.5,
             "#f7f7f7"
            ],
            [
             0.6,
             "#e6f5d0"
            ],
            [
             0.7,
             "#b8e186"
            ],
            [
             0.8,
             "#7fbc41"
            ],
            [
             0.9,
             "#4d9221"
            ],
            [
             1,
             "#276419"
            ]
           ],
           "sequential": [
            [
             0,
             "#0d0887"
            ],
            [
             0.1111111111111111,
             "#46039f"
            ],
            [
             0.2222222222222222,
             "#7201a8"
            ],
            [
             0.3333333333333333,
             "#9c179e"
            ],
            [
             0.4444444444444444,
             "#bd3786"
            ],
            [
             0.5555555555555556,
             "#d8576b"
            ],
            [
             0.6666666666666666,
             "#ed7953"
            ],
            [
             0.7777777777777778,
             "#fb9f3a"
            ],
            [
             0.8888888888888888,
             "#fdca26"
            ],
            [
             1,
             "#f0f921"
            ]
           ],
           "sequentialminus": [
            [
             0,
             "#0d0887"
            ],
            [
             0.1111111111111111,
             "#46039f"
            ],
            [
             0.2222222222222222,
             "#7201a8"
            ],
            [
             0.3333333333333333,
             "#9c179e"
            ],
            [
             0.4444444444444444,
             "#bd3786"
            ],
            [
             0.5555555555555556,
             "#d8576b"
            ],
            [
             0.6666666666666666,
             "#ed7953"
            ],
            [
             0.7777777777777778,
             "#fb9f3a"
            ],
            [
             0.8888888888888888,
             "#fdca26"
            ],
            [
             1,
             "#f0f921"
            ]
           ]
          },
          "colorway": [
           "#636efa",
           "#EF553B",
           "#00cc96",
           "#ab63fa",
           "#FFA15A",
           "#19d3f3",
           "#FF6692",
           "#B6E880",
           "#FF97FF",
           "#FECB52"
          ],
          "font": {
           "color": "#2a3f5f"
          },
          "geo": {
           "bgcolor": "white",
           "lakecolor": "white",
           "landcolor": "#E5ECF6",
           "showlakes": true,
           "showland": true,
           "subunitcolor": "white"
          },
          "hoverlabel": {
           "align": "left"
          },
          "hovermode": "closest",
          "mapbox": {
           "style": "light"
          },
          "paper_bgcolor": "white",
          "plot_bgcolor": "#E5ECF6",
          "polar": {
           "angularaxis": {
            "gridcolor": "white",
            "linecolor": "white",
            "ticks": ""
           },
           "bgcolor": "#E5ECF6",
           "radialaxis": {
            "gridcolor": "white",
            "linecolor": "white",
            "ticks": ""
           }
          },
          "scene": {
           "xaxis": {
            "backgroundcolor": "#E5ECF6",
            "gridcolor": "white",
            "gridwidth": 2,
            "linecolor": "white",
            "showbackground": true,
            "ticks": "",
            "zerolinecolor": "white"
           },
           "yaxis": {
            "backgroundcolor": "#E5ECF6",
            "gridcolor": "white",
            "gridwidth": 2,
            "linecolor": "white",
            "showbackground": true,
            "ticks": "",
            "zerolinecolor": "white"
           },
           "zaxis": {
            "backgroundcolor": "#E5ECF6",
            "gridcolor": "white",
            "gridwidth": 2,
            "linecolor": "white",
            "showbackground": true,
            "ticks": "",
            "zerolinecolor": "white"
           }
          },
          "shapedefaults": {
           "line": {
            "color": "#2a3f5f"
           }
          },
          "ternary": {
           "aaxis": {
            "gridcolor": "white",
            "linecolor": "white",
            "ticks": ""
           },
           "baxis": {
            "gridcolor": "white",
            "linecolor": "white",
            "ticks": ""
           },
           "bgcolor": "#E5ECF6",
           "caxis": {
            "gridcolor": "white",
            "linecolor": "white",
            "ticks": ""
           }
          },
          "title": {
           "x": 0.05
          },
          "xaxis": {
           "automargin": true,
           "gridcolor": "white",
           "linecolor": "white",
           "ticks": "",
           "title": {
            "standoff": 15
           },
           "zerolinecolor": "white",
           "zerolinewidth": 2
          },
          "yaxis": {
           "automargin": true,
           "gridcolor": "white",
           "linecolor": "white",
           "ticks": "",
           "title": {
            "standoff": 15
           },
           "zerolinecolor": "white",
           "zerolinewidth": 2
          }
         }
        },
        "width": 1100
       }
      },
      "text/html": [
       "<div>                            <div id=\"7ac1910d-4e7b-417d-85af-1b44f2a66e86\" class=\"plotly-graph-div\" style=\"height:700px; width:1100px;\"></div>            <script type=\"text/javascript\">                require([\"plotly\"], function(Plotly) {                    window.PLOTLYENV=window.PLOTLYENV || {};                                    if (document.getElementById(\"7ac1910d-4e7b-417d-85af-1b44f2a66e86\")) {                    Plotly.newPlot(                        \"7ac1910d-4e7b-417d-85af-1b44f2a66e86\",                        [{\"branchvalues\":\"total\",\"customdata\":[[3552.0],[4024.0],[3988.0],[5722.0],[5321.0],[5969.0],[3947.0],[27228.0],[11784.0],[4750.0],[18296.0],[27125.0],[2789.0],[9482.0],[2928.0],[3738.0],[1940.0],[2724.0],[642.0],[2497.0],[2086.0],[1320.0],[5242.0],[14653.073204578151]],\"domain\":{\"x\":[0.0,1.0],\"y\":[0.0,1.0]},\"hovertemplate\":\"labels=%{label}<br>Frequency_sum=%{value}<br>parent=%{parent}<br>id=%{id}<br>Frequency=%{color}<extra></extra>\",\"ids\":[\"DevType/Academic researcher\",\"DevType/Data or business analyst\",\"DevType/Data scientist or machine learning specialist\",\"DevType/Database administrator\",\"DevType/Designer\",\"DevType/DevOps specialist\",\"DevType/Developer, QA or test\",\"DevType/Developer, back-end\",\"DevType/Developer, desktop or enterprise applications\",\"DevType/Developer, embedded applications or devices\",\"DevType/Developer, front-end\",\"DevType/Developer, full-stack\",\"DevType/Developer, game or graphics\",\"DevType/Developer, mobile\",\"DevType/Educator\",\"DevType/Engineer, data\",\"DevType/Engineer, site reliability\",\"DevType/Engineering manager\",\"DevType/Marketing or sales professional\",\"DevType/Product manager\",\"DevType/Scientist\",\"DevType/Senior executive/VP\",\"DevType/System administrator\",\"DevType\"],\"labels\":[\"Academic researcher\",\"Data or business analyst\",\"Data scientist or machine learning specialist\",\"Database administrator\",\"Designer\",\"DevOps specialist\",\"Developer, QA or test\",\"Developer, back-end\",\"Developer, desktop or enterprise applications\",\"Developer, embedded applications or devices\",\"Developer, front-end\",\"Developer, full-stack\",\"Developer, game or graphics\",\"Developer, mobile\",\"Educator\",\"Engineer, data\",\"Engineer, site reliability\",\"Engineering manager\",\"Marketing or sales professional\",\"Product manager\",\"Scientist\",\"Senior executive/VP\",\"System administrator\",\"DevType\"],\"marker\":{\"coloraxis\":\"coloraxis\",\"colors\":[3552.0,4024.0,3988.0,5722.0,5321.0,5969.0,3947.0,27228.0,11784.0,4750.0,18296.0,27125.0,2789.0,9482.0,2928.0,3738.0,1940.0,2724.0,642.0,2497.0,2086.0,1320.0,5242.0,14653.073204578151]},\"name\":\"\",\"parents\":[\"DevType\",\"DevType\",\"DevType\",\"DevType\",\"DevType\",\"DevType\",\"DevType\",\"DevType\",\"DevType\",\"DevType\",\"DevType\",\"DevType\",\"DevType\",\"DevType\",\"DevType\",\"DevType\",\"DevType\",\"DevType\",\"DevType\",\"DevType\",\"DevType\",\"DevType\",\"DevType\",\"\"],\"values\":[3552,4024,3988,5722,5321,5969,3947,27228,11784,4750,18296,27125,2789,9482,2928,3738,1940,2724,642,2497,2086,1320,5242,157094],\"type\":\"treemap\"}],                        {\"coloraxis\":{\"colorbar\":{\"title\":{\"text\":\"Frequency\"}},\"colorscale\":[[0.0,\"rgb(253, 253, 204)\"],[0.09090909090909091,\"rgb(206, 236, 179)\"],[0.18181818181818182,\"rgb(156, 219, 165)\"],[0.2727272727272727,\"rgb(111, 201, 163)\"],[0.36363636363636365,\"rgb(86, 177, 163)\"],[0.45454545454545453,\"rgb(76, 153, 160)\"],[0.5454545454545454,\"rgb(68, 130, 155)\"],[0.6363636363636364,\"rgb(62, 108, 150)\"],[0.7272727272727273,\"rgb(62, 82, 143)\"],[0.8181818181818182,\"rgb(64, 60, 115)\"],[0.9090909090909091,\"rgb(54, 43, 77)\"],[1.0,\"rgb(39, 26, 44)\"]]},\"height\":700,\"legend\":{\"tracegroupgap\":0},\"margin\":{\"t\":60},\"template\":{\"data\":{\"barpolar\":[{\"marker\":{\"line\":{\"color\":\"#E5ECF6\",\"width\":0.5},\"pattern\":{\"fillmode\":\"overlay\",\"size\":10,\"solidity\":0.2}},\"type\":\"barpolar\"}],\"bar\":[{\"error_x\":{\"color\":\"#2a3f5f\"},\"error_y\":{\"color\":\"#2a3f5f\"},\"marker\":{\"line\":{\"color\":\"#E5ECF6\",\"width\":0.5},\"pattern\":{\"fillmode\":\"overlay\",\"size\":10,\"solidity\":0.2}},\"type\":\"bar\"}],\"carpet\":[{\"aaxis\":{\"endlinecolor\":\"#2a3f5f\",\"gridcolor\":\"white\",\"linecolor\":\"white\",\"minorgridcolor\":\"white\",\"startlinecolor\":\"#2a3f5f\"},\"baxis\":{\"endlinecolor\":\"#2a3f5f\",\"gridcolor\":\"white\",\"linecolor\":\"white\",\"minorgridcolor\":\"white\",\"startlinecolor\":\"#2a3f5f\"},\"type\":\"carpet\"}],\"choropleth\":[{\"colorbar\":{\"outlinewidth\":0,\"ticks\":\"\"},\"type\":\"choropleth\"}],\"contourcarpet\":[{\"colorbar\":{\"outlinewidth\":0,\"ticks\":\"\"},\"type\":\"contourcarpet\"}],\"contour\":[{\"colorbar\":{\"outlinewidth\":0,\"ticks\":\"\"},\"colorscale\":[[0.0,\"#0d0887\"],[0.1111111111111111,\"#46039f\"],[0.2222222222222222,\"#7201a8\"],[0.3333333333333333,\"#9c179e\"],[0.4444444444444444,\"#bd3786\"],[0.5555555555555556,\"#d8576b\"],[0.6666666666666666,\"#ed7953\"],[0.7777777777777778,\"#fb9f3a\"],[0.8888888888888888,\"#fdca26\"],[1.0,\"#f0f921\"]],\"type\":\"contour\"}],\"heatmapgl\":[{\"colorbar\":{\"outlinewidth\":0,\"ticks\":\"\"},\"colorscale\":[[0.0,\"#0d0887\"],[0.1111111111111111,\"#46039f\"],[0.2222222222222222,\"#7201a8\"],[0.3333333333333333,\"#9c179e\"],[0.4444444444444444,\"#bd3786\"],[0.5555555555555556,\"#d8576b\"],[0.6666666666666666,\"#ed7953\"],[0.7777777777777778,\"#fb9f3a\"],[0.8888888888888888,\"#fdca26\"],[1.0,\"#f0f921\"]],\"type\":\"heatmapgl\"}],\"heatmap\":[{\"colorbar\":{\"outlinewidth\":0,\"ticks\":\"\"},\"colorscale\":[[0.0,\"#0d0887\"],[0.1111111111111111,\"#46039f\"],[0.2222222222222222,\"#7201a8\"],[0.3333333333333333,\"#9c179e\"],[0.4444444444444444,\"#bd3786\"],[0.5555555555555556,\"#d8576b\"],[0.6666666666666666,\"#ed7953\"],[0.7777777777777778,\"#fb9f3a\"],[0.8888888888888888,\"#fdca26\"],[1.0,\"#f0f921\"]],\"type\":\"heatmap\"}],\"histogram2dcontour\":[{\"colorbar\":{\"outlinewidth\":0,\"ticks\":\"\"},\"colorscale\":[[0.0,\"#0d0887\"],[0.1111111111111111,\"#46039f\"],[0.2222222222222222,\"#7201a8\"],[0.3333333333333333,\"#9c179e\"],[0.4444444444444444,\"#bd3786\"],[0.5555555555555556,\"#d8576b\"],[0.6666666666666666,\"#ed7953\"],[0.7777777777777778,\"#fb9f3a\"],[0.8888888888888888,\"#fdca26\"],[1.0,\"#f0f921\"]],\"type\":\"histogram2dcontour\"}],\"histogram2d\":[{\"colorbar\":{\"outlinewidth\":0,\"ticks\":\"\"},\"colorscale\":[[0.0,\"#0d0887\"],[0.1111111111111111,\"#46039f\"],[0.2222222222222222,\"#7201a8\"],[0.3333333333333333,\"#9c179e\"],[0.4444444444444444,\"#bd3786\"],[0.5555555555555556,\"#d8576b\"],[0.6666666666666666,\"#ed7953\"],[0.7777777777777778,\"#fb9f3a\"],[0.8888888888888888,\"#fdca26\"],[1.0,\"#f0f921\"]],\"type\":\"histogram2d\"}],\"histogram\":[{\"marker\":{\"pattern\":{\"fillmode\":\"overlay\",\"size\":10,\"solidity\":0.2}},\"type\":\"histogram\"}],\"mesh3d\":[{\"colorbar\":{\"outlinewidth\":0,\"ticks\":\"\"},\"type\":\"mesh3d\"}],\"parcoords\":[{\"line\":{\"colorbar\":{\"outlinewidth\":0,\"ticks\":\"\"}},\"type\":\"parcoords\"}],\"pie\":[{\"automargin\":true,\"type\":\"pie\"}],\"scatter3d\":[{\"line\":{\"colorbar\":{\"outlinewidth\":0,\"ticks\":\"\"}},\"marker\":{\"colorbar\":{\"outlinewidth\":0,\"ticks\":\"\"}},\"type\":\"scatter3d\"}],\"scattercarpet\":[{\"marker\":{\"colorbar\":{\"outlinewidth\":0,\"ticks\":\"\"}},\"type\":\"scattercarpet\"}],\"scattergeo\":[{\"marker\":{\"colorbar\":{\"outlinewidth\":0,\"ticks\":\"\"}},\"type\":\"scattergeo\"}],\"scattergl\":[{\"marker\":{\"colorbar\":{\"outlinewidth\":0,\"ticks\":\"\"}},\"type\":\"scattergl\"}],\"scattermapbox\":[{\"marker\":{\"colorbar\":{\"outlinewidth\":0,\"ticks\":\"\"}},\"type\":\"scattermapbox\"}],\"scatterpolargl\":[{\"marker\":{\"colorbar\":{\"outlinewidth\":0,\"ticks\":\"\"}},\"type\":\"scatterpolargl\"}],\"scatterpolar\":[{\"marker\":{\"colorbar\":{\"outlinewidth\":0,\"ticks\":\"\"}},\"type\":\"scatterpolar\"}],\"scatter\":[{\"marker\":{\"colorbar\":{\"outlinewidth\":0,\"ticks\":\"\"}},\"type\":\"scatter\"}],\"scatterternary\":[{\"marker\":{\"colorbar\":{\"outlinewidth\":0,\"ticks\":\"\"}},\"type\":\"scatterternary\"}],\"surface\":[{\"colorbar\":{\"outlinewidth\":0,\"ticks\":\"\"},\"colorscale\":[[0.0,\"#0d0887\"],[0.1111111111111111,\"#46039f\"],[0.2222222222222222,\"#7201a8\"],[0.3333333333333333,\"#9c179e\"],[0.4444444444444444,\"#bd3786\"],[0.5555555555555556,\"#d8576b\"],[0.6666666666666666,\"#ed7953\"],[0.7777777777777778,\"#fb9f3a\"],[0.8888888888888888,\"#fdca26\"],[1.0,\"#f0f921\"]],\"type\":\"surface\"}],\"table\":[{\"cells\":{\"fill\":{\"color\":\"#EBF0F8\"},\"line\":{\"color\":\"white\"}},\"header\":{\"fill\":{\"color\":\"#C8D4E3\"},\"line\":{\"color\":\"white\"}},\"type\":\"table\"}]},\"layout\":{\"annotationdefaults\":{\"arrowcolor\":\"#2a3f5f\",\"arrowhead\":0,\"arrowwidth\":1},\"autotypenumbers\":\"strict\",\"coloraxis\":{\"colorbar\":{\"outlinewidth\":0,\"ticks\":\"\"}},\"colorscale\":{\"diverging\":[[0,\"#8e0152\"],[0.1,\"#c51b7d\"],[0.2,\"#de77ae\"],[0.3,\"#f1b6da\"],[0.4,\"#fde0ef\"],[0.5,\"#f7f7f7\"],[0.6,\"#e6f5d0\"],[0.7,\"#b8e186\"],[0.8,\"#7fbc41\"],[0.9,\"#4d9221\"],[1,\"#276419\"]],\"sequential\":[[0.0,\"#0d0887\"],[0.1111111111111111,\"#46039f\"],[0.2222222222222222,\"#7201a8\"],[0.3333333333333333,\"#9c179e\"],[0.4444444444444444,\"#bd3786\"],[0.5555555555555556,\"#d8576b\"],[0.6666666666666666,\"#ed7953\"],[0.7777777777777778,\"#fb9f3a\"],[0.8888888888888888,\"#fdca26\"],[1.0,\"#f0f921\"]],\"sequentialminus\":[[0.0,\"#0d0887\"],[0.1111111111111111,\"#46039f\"],[0.2222222222222222,\"#7201a8\"],[0.3333333333333333,\"#9c179e\"],[0.4444444444444444,\"#bd3786\"],[0.5555555555555556,\"#d8576b\"],[0.6666666666666666,\"#ed7953\"],[0.7777777777777778,\"#fb9f3a\"],[0.8888888888888888,\"#fdca26\"],[1.0,\"#f0f921\"]]},\"colorway\":[\"#636efa\",\"#EF553B\",\"#00cc96\",\"#ab63fa\",\"#FFA15A\",\"#19d3f3\",\"#FF6692\",\"#B6E880\",\"#FF97FF\",\"#FECB52\"],\"font\":{\"color\":\"#2a3f5f\"},\"geo\":{\"bgcolor\":\"white\",\"lakecolor\":\"white\",\"landcolor\":\"#E5ECF6\",\"showlakes\":true,\"showland\":true,\"subunitcolor\":\"white\"},\"hoverlabel\":{\"align\":\"left\"},\"hovermode\":\"closest\",\"mapbox\":{\"style\":\"light\"},\"paper_bgcolor\":\"white\",\"plot_bgcolor\":\"#E5ECF6\",\"polar\":{\"angularaxis\":{\"gridcolor\":\"white\",\"linecolor\":\"white\",\"ticks\":\"\"},\"bgcolor\":\"#E5ECF6\",\"radialaxis\":{\"gridcolor\":\"white\",\"linecolor\":\"white\",\"ticks\":\"\"}},\"scene\":{\"xaxis\":{\"backgroundcolor\":\"#E5ECF6\",\"gridcolor\":\"white\",\"gridwidth\":2,\"linecolor\":\"white\",\"showbackground\":true,\"ticks\":\"\",\"zerolinecolor\":\"white\"},\"yaxis\":{\"backgroundcolor\":\"#E5ECF6\",\"gridcolor\":\"white\",\"gridwidth\":2,\"linecolor\":\"white\",\"showbackground\":true,\"ticks\":\"\",\"zerolinecolor\":\"white\"},\"zaxis\":{\"backgroundcolor\":\"#E5ECF6\",\"gridcolor\":\"white\",\"gridwidth\":2,\"linecolor\":\"white\",\"showbackground\":true,\"ticks\":\"\",\"zerolinecolor\":\"white\"}},\"shapedefaults\":{\"line\":{\"color\":\"#2a3f5f\"}},\"ternary\":{\"aaxis\":{\"gridcolor\":\"white\",\"linecolor\":\"white\",\"ticks\":\"\"},\"baxis\":{\"gridcolor\":\"white\",\"linecolor\":\"white\",\"ticks\":\"\"},\"bgcolor\":\"#E5ECF6\",\"caxis\":{\"gridcolor\":\"white\",\"linecolor\":\"white\",\"ticks\":\"\"}},\"title\":{\"x\":0.05},\"xaxis\":{\"automargin\":true,\"gridcolor\":\"white\",\"linecolor\":\"white\",\"ticks\":\"\",\"title\":{\"standoff\":15},\"zerolinecolor\":\"white\",\"zerolinewidth\":2},\"yaxis\":{\"automargin\":true,\"gridcolor\":\"white\",\"linecolor\":\"white\",\"ticks\":\"\",\"title\":{\"standoff\":15},\"zerolinecolor\":\"white\",\"zerolinewidth\":2}}},\"width\":1100},                        {\"responsive\": true}                    ).then(function(){\n",
       "                            \n",
       "var gd = document.getElementById('7ac1910d-4e7b-417d-85af-1b44f2a66e86');\n",
       "var x = new MutationObserver(function (mutations, observer) {{\n",
       "        var display = window.getComputedStyle(gd).display;\n",
       "        if (!display || display === 'none') {{\n",
       "            console.log([gd, 'removed!']);\n",
       "            Plotly.purge(gd);\n",
       "            observer.disconnect();\n",
       "        }}\n",
       "}});\n",
       "\n",
       "// Listen for the removal of the full notebook cells\n",
       "var notebookContainer = gd.closest('#notebook-container');\n",
       "if (notebookContainer) {{\n",
       "    x.observe(notebookContainer, {childList: true});\n",
       "}}\n",
       "\n",
       "// Listen for the clearing of the current output cell\n",
       "var outputEl = gd.closest('.output');\n",
       "if (outputEl) {{\n",
       "    x.observe(outputEl, {childList: true});\n",
       "}}\n",
       "\n",
       "                        })                };                });            </script>        </div>"
      ]
     },
     "metadata": {},
     "output_type": "display_data"
    }
   ],
   "source": [
    "# Visualize different jobs frequencies \n",
    "data = px.treemap(jobs_freq, \n",
    "                 path=['Group', 'Job'], \n",
    "                 color_continuous_scale='deep',\n",
    "                 values='Frequency',\n",
    "                 color='Frequency')\n",
    "\n",
    "fig = go.Figure(data=data)\n",
    "fig.update_layout(width=1100, height=700)\n",
    "iplot(fig)"
   ]
  },
  {
   "cell_type": "markdown",
   "id": "domestic-olympus",
   "metadata": {},
   "source": [
    "## Correlation between different jobs and skills"
   ]
  },
  {
   "cell_type": "code",
   "execution_count": 11,
   "id": "flush-palestine",
   "metadata": {},
   "outputs": [
    {
     "data": {
      "text/html": [
       "<div>\n",
       "<style scoped>\n",
       "    .dataframe tbody tr th:only-of-type {\n",
       "        vertical-align: middle;\n",
       "    }\n",
       "\n",
       "    .dataframe tbody tr th {\n",
       "        vertical-align: top;\n",
       "    }\n",
       "\n",
       "    .dataframe thead th {\n",
       "        text-align: right;\n",
       "    }\n",
       "</style>\n",
       "<table border=\"1\" class=\"dataframe\">\n",
       "  <thead>\n",
       "    <tr style=\"text-align: right;\">\n",
       "      <th></th>\n",
       "      <th>Marketing or sales professional</th>\n",
       "      <th>Senior executive/VP</th>\n",
       "      <th>Engineer, site reliability</th>\n",
       "      <th>Scientist</th>\n",
       "      <th>Product manager</th>\n",
       "      <th>Engineering manager</th>\n",
       "      <th>Developer, game or graphics</th>\n",
       "      <th>Educator</th>\n",
       "      <th>Academic researcher</th>\n",
       "      <th>Engineer, data</th>\n",
       "      <th>...</th>\n",
       "      <th>Developer, embedded applications or devices</th>\n",
       "      <th>System administrator</th>\n",
       "      <th>Designer</th>\n",
       "      <th>Database administrator</th>\n",
       "      <th>DevOps specialist</th>\n",
       "      <th>Developer, mobile</th>\n",
       "      <th>Developer, desktop or enterprise applications</th>\n",
       "      <th>Developer, front-end</th>\n",
       "      <th>Developer, full-stack</th>\n",
       "      <th>Developer, back-end</th>\n",
       "    </tr>\n",
       "  </thead>\n",
       "  <tbody>\n",
       "    <tr>\n",
       "      <th>Github</th>\n",
       "      <td>70.872274</td>\n",
       "      <td>75.075758</td>\n",
       "      <td>79.845361</td>\n",
       "      <td>77.756472</td>\n",
       "      <td>75.090108</td>\n",
       "      <td>75.991189</td>\n",
       "      <td>79.455002</td>\n",
       "      <td>78.278689</td>\n",
       "      <td>77.730856</td>\n",
       "      <td>75.307651</td>\n",
       "      <td>...</td>\n",
       "      <td>72.968421</td>\n",
       "      <td>73.636017</td>\n",
       "      <td>72.486375</td>\n",
       "      <td>71.268787</td>\n",
       "      <td>77.734964</td>\n",
       "      <td>77.747311</td>\n",
       "      <td>69.730143</td>\n",
       "      <td>75.726935</td>\n",
       "      <td>75.395392</td>\n",
       "      <td>74.294844</td>\n",
       "    </tr>\n",
       "    <tr>\n",
       "      <th>JavaScript</th>\n",
       "      <td>71.028037</td>\n",
       "      <td>72.878788</td>\n",
       "      <td>65.876289</td>\n",
       "      <td>48.465964</td>\n",
       "      <td>73.007609</td>\n",
       "      <td>69.346549</td>\n",
       "      <td>67.228397</td>\n",
       "      <td>68.408470</td>\n",
       "      <td>54.194820</td>\n",
       "      <td>56.902087</td>\n",
       "      <td>...</td>\n",
       "      <td>58.378947</td>\n",
       "      <td>71.041587</td>\n",
       "      <td>75.981958</td>\n",
       "      <td>74.274729</td>\n",
       "      <td>70.296532</td>\n",
       "      <td>66.642059</td>\n",
       "      <td>65.699253</td>\n",
       "      <td>84.012899</td>\n",
       "      <td>81.990783</td>\n",
       "      <td>69.391803</td>\n",
       "    </tr>\n",
       "    <tr>\n",
       "      <th>HTML/CSS</th>\n",
       "      <td>76.635514</td>\n",
       "      <td>69.166667</td>\n",
       "      <td>58.505155</td>\n",
       "      <td>47.027804</td>\n",
       "      <td>69.603524</td>\n",
       "      <td>60.682819</td>\n",
       "      <td>62.459663</td>\n",
       "      <td>66.803279</td>\n",
       "      <td>53.462838</td>\n",
       "      <td>52.594971</td>\n",
       "      <td>...</td>\n",
       "      <td>54.105263</td>\n",
       "      <td>69.496375</td>\n",
       "      <td>74.873144</td>\n",
       "      <td>73.068857</td>\n",
       "      <td>62.707321</td>\n",
       "      <td>60.693946</td>\n",
       "      <td>61.311948</td>\n",
       "      <td>78.312199</td>\n",
       "      <td>73.784332</td>\n",
       "      <td>61.389011</td>\n",
       "    </tr>\n",
       "    <tr>\n",
       "      <th>SQL</th>\n",
       "      <td>57.788162</td>\n",
       "      <td>65.075758</td>\n",
       "      <td>61.701031</td>\n",
       "      <td>43.672100</td>\n",
       "      <td>63.115739</td>\n",
       "      <td>60.425844</td>\n",
       "      <td>49.264970</td>\n",
       "      <td>56.625683</td>\n",
       "      <td>46.706081</td>\n",
       "      <td>67.174960</td>\n",
       "      <td>...</td>\n",
       "      <td>49.557895</td>\n",
       "      <td>68.141931</td>\n",
       "      <td>58.804736</td>\n",
       "      <td>80.076896</td>\n",
       "      <td>63.059139</td>\n",
       "      <td>50.284750</td>\n",
       "      <td>62.024779</td>\n",
       "      <td>56.394840</td>\n",
       "      <td>62.046083</td>\n",
       "      <td>61.374321</td>\n",
       "    </tr>\n",
       "    <tr>\n",
       "      <th>Linux</th>\n",
       "      <td>42.367601</td>\n",
       "      <td>58.863636</td>\n",
       "      <td>74.639175</td>\n",
       "      <td>67.162033</td>\n",
       "      <td>53.664397</td>\n",
       "      <td>61.600587</td>\n",
       "      <td>52.922194</td>\n",
       "      <td>56.933060</td>\n",
       "      <td>62.190315</td>\n",
       "      <td>62.841091</td>\n",
       "      <td>...</td>\n",
       "      <td>63.494737</td>\n",
       "      <td>70.679130</td>\n",
       "      <td>44.747228</td>\n",
       "      <td>56.833275</td>\n",
       "      <td>70.748869</td>\n",
       "      <td>40.392322</td>\n",
       "      <td>49.456891</td>\n",
       "      <td>45.419764</td>\n",
       "      <td>51.181567</td>\n",
       "      <td>55.769796</td>\n",
       "    </tr>\n",
       "    <tr>\n",
       "      <th>...</th>\n",
       "      <td>...</td>\n",
       "      <td>...</td>\n",
       "      <td>...</td>\n",
       "      <td>...</td>\n",
       "      <td>...</td>\n",
       "      <td>...</td>\n",
       "      <td>...</td>\n",
       "      <td>...</td>\n",
       "      <td>...</td>\n",
       "      <td>...</td>\n",
       "      <td>...</td>\n",
       "      <td>...</td>\n",
       "      <td>...</td>\n",
       "      <td>...</td>\n",
       "      <td>...</td>\n",
       "      <td>...</td>\n",
       "      <td>...</td>\n",
       "      <td>...</td>\n",
       "      <td>...</td>\n",
       "      <td>...</td>\n",
       "      <td>...</td>\n",
       "    </tr>\n",
       "    <tr>\n",
       "      <th>Puppet</th>\n",
       "      <td>4.517134</td>\n",
       "      <td>4.848485</td>\n",
       "      <td>9.278351</td>\n",
       "      <td>2.301055</td>\n",
       "      <td>3.003604</td>\n",
       "      <td>4.515419</td>\n",
       "      <td>2.402295</td>\n",
       "      <td>2.834699</td>\n",
       "      <td>2.111486</td>\n",
       "      <td>2.808989</td>\n",
       "      <td>...</td>\n",
       "      <td>2.168421</td>\n",
       "      <td>5.036246</td>\n",
       "      <td>2.161248</td>\n",
       "      <td>2.901084</td>\n",
       "      <td>5.712850</td>\n",
       "      <td>1.497574</td>\n",
       "      <td>1.756619</td>\n",
       "      <td>1.579580</td>\n",
       "      <td>1.725346</td>\n",
       "      <td>1.986925</td>\n",
       "    </tr>\n",
       "    <tr>\n",
       "      <th>Couchbase</th>\n",
       "      <td>6.230530</td>\n",
       "      <td>5.227273</td>\n",
       "      <td>3.659794</td>\n",
       "      <td>3.259827</td>\n",
       "      <td>3.123748</td>\n",
       "      <td>4.001468</td>\n",
       "      <td>3.011832</td>\n",
       "      <td>2.766393</td>\n",
       "      <td>2.505631</td>\n",
       "      <td>3.504548</td>\n",
       "      <td>...</td>\n",
       "      <td>2.800000</td>\n",
       "      <td>2.689813</td>\n",
       "      <td>2.236422</td>\n",
       "      <td>2.638937</td>\n",
       "      <td>3.534930</td>\n",
       "      <td>2.309639</td>\n",
       "      <td>2.197895</td>\n",
       "      <td>1.841933</td>\n",
       "      <td>1.994470</td>\n",
       "      <td>2.060379</td>\n",
       "    </tr>\n",
       "    <tr>\n",
       "      <th>IBM Cloud or Watson</th>\n",
       "      <td>7.476636</td>\n",
       "      <td>5.000000</td>\n",
       "      <td>3.298969</td>\n",
       "      <td>3.978907</td>\n",
       "      <td>2.803364</td>\n",
       "      <td>2.790015</td>\n",
       "      <td>2.294729</td>\n",
       "      <td>2.698087</td>\n",
       "      <td>3.350225</td>\n",
       "      <td>3.263777</td>\n",
       "      <td>...</td>\n",
       "      <td>2.378947</td>\n",
       "      <td>2.251049</td>\n",
       "      <td>2.123661</td>\n",
       "      <td>2.114645</td>\n",
       "      <td>2.445971</td>\n",
       "      <td>1.813963</td>\n",
       "      <td>1.451120</td>\n",
       "      <td>1.426541</td>\n",
       "      <td>1.448848</td>\n",
       "      <td>1.432349</td>\n",
       "    </tr>\n",
       "    <tr>\n",
       "      <th>Chef</th>\n",
       "      <td>4.672897</td>\n",
       "      <td>3.939394</td>\n",
       "      <td>8.041237</td>\n",
       "      <td>2.157239</td>\n",
       "      <td>2.643172</td>\n",
       "      <td>4.331865</td>\n",
       "      <td>2.007888</td>\n",
       "      <td>2.288251</td>\n",
       "      <td>1.520270</td>\n",
       "      <td>2.354200</td>\n",
       "      <td>...</td>\n",
       "      <td>1.831579</td>\n",
       "      <td>3.586417</td>\n",
       "      <td>1.541064</td>\n",
       "      <td>2.271933</td>\n",
       "      <td>5.277266</td>\n",
       "      <td>1.065176</td>\n",
       "      <td>1.298371</td>\n",
       "      <td>1.043944</td>\n",
       "      <td>1.441475</td>\n",
       "      <td>1.604965</td>\n",
       "    </tr>\n",
       "    <tr>\n",
       "      <th>Julia</th>\n",
       "      <td>4.049844</td>\n",
       "      <td>2.727273</td>\n",
       "      <td>2.010309</td>\n",
       "      <td>5.465005</td>\n",
       "      <td>1.561874</td>\n",
       "      <td>1.578561</td>\n",
       "      <td>1.398351</td>\n",
       "      <td>2.185792</td>\n",
       "      <td>4.335586</td>\n",
       "      <td>2.247191</td>\n",
       "      <td>...</td>\n",
       "      <td>1.263158</td>\n",
       "      <td>1.259061</td>\n",
       "      <td>0.920880</td>\n",
       "      <td>0.926250</td>\n",
       "      <td>0.988440</td>\n",
       "      <td>0.548408</td>\n",
       "      <td>0.721317</td>\n",
       "      <td>0.448185</td>\n",
       "      <td>0.512442</td>\n",
       "      <td>0.561922</td>\n",
       "    </tr>\n",
       "  </tbody>\n",
       "</table>\n",
       "<p>103 rows × 23 columns</p>\n",
       "</div>"
      ],
      "text/plain": [
       "                     Marketing or sales professional  Senior executive/VP  \\\n",
       "Github                                     70.872274            75.075758   \n",
       "JavaScript                                 71.028037            72.878788   \n",
       "HTML/CSS                                   76.635514            69.166667   \n",
       "SQL                                        57.788162            65.075758   \n",
       "Linux                                      42.367601            58.863636   \n",
       "...                                              ...                  ...   \n",
       "Puppet                                      4.517134             4.848485   \n",
       "Couchbase                                   6.230530             5.227273   \n",
       "IBM Cloud or Watson                         7.476636             5.000000   \n",
       "Chef                                        4.672897             3.939394   \n",
       "Julia                                       4.049844             2.727273   \n",
       "\n",
       "                     Engineer, site reliability  Scientist  Product manager  \\\n",
       "Github                                79.845361  77.756472        75.090108   \n",
       "JavaScript                            65.876289  48.465964        73.007609   \n",
       "HTML/CSS                              58.505155  47.027804        69.603524   \n",
       "SQL                                   61.701031  43.672100        63.115739   \n",
       "Linux                                 74.639175  67.162033        53.664397   \n",
       "...                                         ...        ...              ...   \n",
       "Puppet                                 9.278351   2.301055         3.003604   \n",
       "Couchbase                              3.659794   3.259827         3.123748   \n",
       "IBM Cloud or Watson                    3.298969   3.978907         2.803364   \n",
       "Chef                                   8.041237   2.157239         2.643172   \n",
       "Julia                                  2.010309   5.465005         1.561874   \n",
       "\n",
       "                     Engineering manager  Developer, game or graphics  \\\n",
       "Github                         75.991189                    79.455002   \n",
       "JavaScript                     69.346549                    67.228397   \n",
       "HTML/CSS                       60.682819                    62.459663   \n",
       "SQL                            60.425844                    49.264970   \n",
       "Linux                          61.600587                    52.922194   \n",
       "...                                  ...                          ...   \n",
       "Puppet                          4.515419                     2.402295   \n",
       "Couchbase                       4.001468                     3.011832   \n",
       "IBM Cloud or Watson             2.790015                     2.294729   \n",
       "Chef                            4.331865                     2.007888   \n",
       "Julia                           1.578561                     1.398351   \n",
       "\n",
       "                      Educator  Academic researcher  Engineer, data  ...  \\\n",
       "Github               78.278689            77.730856       75.307651  ...   \n",
       "JavaScript           68.408470            54.194820       56.902087  ...   \n",
       "HTML/CSS             66.803279            53.462838       52.594971  ...   \n",
       "SQL                  56.625683            46.706081       67.174960  ...   \n",
       "Linux                56.933060            62.190315       62.841091  ...   \n",
       "...                        ...                  ...             ...  ...   \n",
       "Puppet                2.834699             2.111486        2.808989  ...   \n",
       "Couchbase             2.766393             2.505631        3.504548  ...   \n",
       "IBM Cloud or Watson   2.698087             3.350225        3.263777  ...   \n",
       "Chef                  2.288251             1.520270        2.354200  ...   \n",
       "Julia                 2.185792             4.335586        2.247191  ...   \n",
       "\n",
       "                     Developer, embedded applications or devices  \\\n",
       "Github                                                 72.968421   \n",
       "JavaScript                                             58.378947   \n",
       "HTML/CSS                                               54.105263   \n",
       "SQL                                                    49.557895   \n",
       "Linux                                                  63.494737   \n",
       "...                                                          ...   \n",
       "Puppet                                                  2.168421   \n",
       "Couchbase                                               2.800000   \n",
       "IBM Cloud or Watson                                     2.378947   \n",
       "Chef                                                    1.831579   \n",
       "Julia                                                   1.263158   \n",
       "\n",
       "                     System administrator   Designer  Database administrator  \\\n",
       "Github                          73.636017  72.486375               71.268787   \n",
       "JavaScript                      71.041587  75.981958               74.274729   \n",
       "HTML/CSS                        69.496375  74.873144               73.068857   \n",
       "SQL                             68.141931  58.804736               80.076896   \n",
       "Linux                           70.679130  44.747228               56.833275   \n",
       "...                                   ...        ...                     ...   \n",
       "Puppet                           5.036246   2.161248                2.901084   \n",
       "Couchbase                        2.689813   2.236422                2.638937   \n",
       "IBM Cloud or Watson              2.251049   2.123661                2.114645   \n",
       "Chef                             3.586417   1.541064                2.271933   \n",
       "Julia                            1.259061   0.920880                0.926250   \n",
       "\n",
       "                     DevOps specialist  Developer, mobile  \\\n",
       "Github                       77.734964          77.747311   \n",
       "JavaScript                   70.296532          66.642059   \n",
       "HTML/CSS                     62.707321          60.693946   \n",
       "SQL                          63.059139          50.284750   \n",
       "Linux                        70.748869          40.392322   \n",
       "...                                ...                ...   \n",
       "Puppet                        5.712850           1.497574   \n",
       "Couchbase                     3.534930           2.309639   \n",
       "IBM Cloud or Watson           2.445971           1.813963   \n",
       "Chef                          5.277266           1.065176   \n",
       "Julia                         0.988440           0.548408   \n",
       "\n",
       "                     Developer, desktop or enterprise applications  \\\n",
       "Github                                                   69.730143   \n",
       "JavaScript                                               65.699253   \n",
       "HTML/CSS                                                 61.311948   \n",
       "SQL                                                      62.024779   \n",
       "Linux                                                    49.456891   \n",
       "...                                                            ...   \n",
       "Puppet                                                    1.756619   \n",
       "Couchbase                                                 2.197895   \n",
       "IBM Cloud or Watson                                       1.451120   \n",
       "Chef                                                      1.298371   \n",
       "Julia                                                     0.721317   \n",
       "\n",
       "                     Developer, front-end  Developer, full-stack  \\\n",
       "Github                          75.726935              75.395392   \n",
       "JavaScript                      84.012899              81.990783   \n",
       "HTML/CSS                        78.312199              73.784332   \n",
       "SQL                             56.394840              62.046083   \n",
       "Linux                           45.419764              51.181567   \n",
       "...                                   ...                    ...   \n",
       "Puppet                           1.579580               1.725346   \n",
       "Couchbase                        1.841933               1.994470   \n",
       "IBM Cloud or Watson              1.426541               1.448848   \n",
       "Chef                             1.043944               1.441475   \n",
       "Julia                            0.448185               0.512442   \n",
       "\n",
       "                     Developer, back-end  \n",
       "Github                         74.294844  \n",
       "JavaScript                     69.391803  \n",
       "HTML/CSS                       61.389011  \n",
       "SQL                            61.374321  \n",
       "Linux                          55.769796  \n",
       "...                                  ...  \n",
       "Puppet                          1.986925  \n",
       "Couchbase                       2.060379  \n",
       "IBM Cloud or Watson             1.432349  \n",
       "Chef                            1.604965  \n",
       "Julia                           0.561922  \n",
       "\n",
       "[103 rows x 23 columns]"
      ]
     },
     "execution_count": 11,
     "metadata": {},
     "output_type": "execute_result"
    }
   ],
   "source": [
    "# Sort Roles and skills by frequency in descending order\n",
    "sorted_roles = jobs_df['DevType'].sum().sort_values().index.tolist()\n",
    "sorted_skills = skills_df.sum().sort_values(ascending=False).droplevel(level=0).index.tolist()\n",
    "\n",
    "# Combine different skills and jobs in a single dataframe\n",
    "skills = []\n",
    "for role in sorted_roles:\n",
    "    role_mask = (jobs_df[('DevType', role)] == 1)    # Get role mask for each job profile across different responses (rows)\n",
    "    \n",
    "    # Search the skills dataframe for a matching job mask \n",
    "    # Get the mean value (Percentage) of different skill (Indication of how much that skill occurs in the corresponding job profile) \n",
    "    # Build a dictionary {KEY [skills (tech_col)]: VALUES [Pandas Series that contains mean tech_col (skill) for that specific role)}.\n",
    "    # Append Series to list of skills\n",
    "    skills_roles = pd.concat({tech_col: skills_df.loc[role_mask, tech_col].mean() * 100 \n",
    "                              for tech_col in TECH_COLS})  \n",
    "    \n",
    "    skills.append(skills_roles)\n",
    "\n",
    "# Convert list to a dataframe [Rows: Technologies, Columns: Role Name]\n",
    "skills_jobs = pd.concat(skills, axis=1)\n",
    "\n",
    "# Set column names to job roles \n",
    "skills_jobs.columns = sorted_roles\n",
    "\n",
    "# Drop different grouping indeces to get only skills (EX: DataBaseWorkedWith - LanguageWorkedWith...)\n",
    "skills_jobs = skills_jobs.reset_index(level=0, drop=True)\n",
    "\n",
    "# Sort skills_jobs by most occuring technologies (Descending)\n",
    "skills_jobs = skills_jobs.loc[sorted_skills]\n",
    "skills_jobs"
   ]
  },
  {
   "cell_type": "markdown",
   "id": "facial-encyclopedia",
   "metadata": {},
   "source": [
    "### Visualizing Heatmap"
   ]
  },
  {
   "cell_type": "code",
   "execution_count": 12,
   "id": "connected-bernard",
   "metadata": {},
   "outputs": [
    {
     "data": {
      "application/vnd.plotly.v1+json": {
       "config": {
        "linkText": "Export to plot.ly",
        "plotlyServerURL": "https://plot.ly",
        "showLink": false
       },
       "data": [
        {
         "colorscale": [
          [
           0,
           "#000004"
          ],
          [
           0.1111111111111111,
           "#180f3d"
          ],
          [
           0.2222222222222222,
           "#440f76"
          ],
          [
           0.3333333333333333,
           "#721f81"
          ],
          [
           0.4444444444444444,
           "#9e2f7f"
          ],
          [
           0.5555555555555556,
           "#cd4071"
          ],
          [
           0.6666666666666666,
           "#f1605d"
          ],
          [
           0.7777777777777778,
           "#fd9668"
          ],
          [
           0.8888888888888888,
           "#feca8d"
          ],
          [
           1,
           "#fcfdbf"
          ]
         ],
         "type": "heatmap",
         "x": [
          "Github",
          "JavaScript",
          "HTML/CSS",
          "SQL",
          "Linux",
          "Windows",
          "Slack",
          "MySQL",
          "Python",
          "Jira",
          "Java",
          "Google Suite (Docs, Meet, etc)",
          "Node.js",
          "Gitlab",
          "Bash/Shell/PowerShell",
          "Docker",
          "jQuery",
          "C#",
          "PostgreSQL",
          "Confluence",
          "Microsoft SQL Server",
          "Trello",
          "SQLite",
          "React.js",
          "PHP",
          "TypeScript",
          "AWS",
          ".NET",
          "Android",
          "C++",
          "Microsoft Teams",
          "MongoDB",
          "MacOS",
          "C",
          ".NET Core",
          "Angular",
          "ASP.NET",
          "Redis",
          "Express",
          "MariaDB",
          "Oracle",
          "ASP.NET Core",
          "Raspberry Pi",
          "Microsoft Azure",
          "Microsoft Azure",
          "Microsoft Azure",
          "Microsoft Azure",
          "WordPress",
          "Google Cloud Platform",
          "Vue.js",
          "Firebase",
          "Spring",
          "Angular.js",
          "Elasticsearch",
          "iOS",
          "Pandas",
          "Kubernetes",
          "Django",
          "Flask",
          "Heroku",
          "Arduino",
          "Go",
          "Laravel",
          "TensorFlow",
          "React Native",
          "Kotlin",
          "Unity 3D",
          "Ruby",
          "Slack Apps and Integrations",
          "Assembly",
          "VBA",
          "DynamoDB",
          "Swift",
          "R",
          "Stack Overflow for Teams",
          "Ansible",
          "Ruby on Rails",
          "Rust",
          "Flutter",
          "Teraform",
          "Keras",
          "Cordova",
          "Xamarin",
          "Objective-C",
          "Dart",
          "Apache Spark",
          "Scala",
          "Torch/PyTorch",
          "Symfony",
          "Hadoop",
          "Perl",
          "Gatsby",
          "Cassandra",
          "Facebook Workplace",
          "IBM DB2",
          "Drupal",
          "Unreal Engine",
          "Haskell",
          "Puppet",
          "Couchbase",
          "IBM Cloud or Watson",
          "Chef",
          "Julia"
         ],
         "y": [
          "Marketing or sales professional",
          "Senior executive/VP",
          "Engineer, site reliability",
          "Scientist",
          "Product manager",
          "Engineering manager",
          "Developer, game or graphics",
          "Educator",
          "Academic researcher",
          "Engineer, data",
          "Developer, QA or test",
          "Data scientist or machine learning specialist",
          "Data or business analyst",
          "Developer, embedded applications or devices",
          "System administrator",
          "Designer",
          "Database administrator",
          "DevOps specialist",
          "Developer, mobile",
          "Developer, desktop or enterprise applications",
          "Developer, front-end",
          "Developer, full-stack",
          "Developer, back-end"
         ],
         "ygap": 1,
         "z": [
          [
           70.87227414330218,
           71.02803738317756,
           76.63551401869158,
           57.78816199376947,
           42.36760124610592,
           47.19626168224299,
           45.638629283489095,
           61.37071651090342,
           38.62928348909657,
           28.971962616822427,
           32.242990654205606,
           54.04984423676012,
           41.74454828660436,
           28.971962616822427,
           31.15264797507788,
           23.05295950155763,
           45.482866043613704,
           25.70093457943925,
           30.062305295950154,
           19.314641744548286,
           31.15264797507788,
           35.3582554517134,
           32.398753894081,
           26.635514018691588,
           49.06542056074766,
           22.897196261682243,
           27.102803738317753,
           26.168224299065418,
           30.218068535825545,
           21.339563862928348,
           23.364485981308412,
           24.922118380062305,
           27.41433021806853,
           21.651090342679126,
           19.003115264797508,
           19.626168224299064,
           19.003115264797508,
           13.239875389408098,
           19.470404984423677,
           23.98753894080997,
           15.732087227414329,
           15.42056074766355,
           18.53582554517134,
           18.53582554517134,
           18.22429906542056,
           18.53582554517134,
           18.22429906542056,
           42.36760124610592,
           25.54517133956386,
           18.22429906542056,
           19.470404984423677,
           9.968847352024921,
           16.355140186915886,
           9.968847352024921,
           21.02803738317757,
           11.682242990654206,
           10.43613707165109,
           15.109034267912772,
           11.993769470404985,
           14.641744548286603,
           14.018691588785046,
           10.903426791277258,
           18.06853582554517,
           11.838006230529595,
           14.953271028037381,
           9.034267912772584,
           11.059190031152648,
           11.214953271028037,
           12.461059190031152,
           9.813084112149532,
           13.862928348909657,
           7.78816199376947,
           10.12461059190031,
           10.43613707165109,
           11.838006230529595,
           7.009345794392523,
           9.345794392523365,
           6.230529595015576,
           10.59190031152648,
           5.451713395638629,
           6.074766355140187,
           9.813084112149532,
           8.566978193146417,
           9.345794392523365,
           9.034267912772584,
           6.853582554517133,
           5.451713395638629,
           5.919003115264798,
           9.190031152647975,
           4.8286604361370715,
           7.78816199376947,
           9.034267912772584,
           5.919003115264798,
           11.370716510903426,
           5.763239875389408,
           9.968847352024921,
           6.853582554517133,
           4.205607476635514,
           4.517133956386292,
           6.230529595015576,
           7.476635514018691,
           4.672897196261682,
           4.049844236760125
          ],
          [
           75.07575757575758,
           72.87878787878788,
           69.16666666666667,
           65.07575757575758,
           58.86363636363636,
           44.31818181818182,
           59.3939393939394,
           49.54545454545455,
           45.984848484848484,
           43.93939393939394,
           33.33333333333333,
           55.6060606060606,
           43.78787878787879,
           33.25757575757576,
           44.3939393939394,
           42.95454545454545,
           36.43939393939394,
           34.84848484848485,
           45.75757575757576,
           29.09090909090909,
           34.54545454545455,
           35,
           33.63636363636363,
           31.439393939393938,
           31.515151515151512,
           29.772727272727273,
           45.07575757575758,
           28.939393939393938,
           31.363636363636367,
           23.636363636363637,
           23.939393939393938,
           25.833333333333336,
           33.18181818181819,
           23.40909090909091,
           26.136363636363637,
           20.606060606060606,
           20.530303030303028,
           29.393939393939394,
           18.409090909090907,
           22.954545454545457,
           13.712121212121211,
           20.303030303030305,
           23.03030303030303,
           21.06060606060606,
           24.62121212121212,
           21.06060606060606,
           24.62121212121212,
           23.863636363636363,
           24.848484848484848,
           19.015151515151516,
           15.757575757575756,
           10.303030303030303,
           15.075757575757576,
           21.59090909090909,
           23.40909090909091,
           12.878787878787879,
           19.090909090909093,
           13.560606060606062,
           12.727272727272727,
           14.696969696969697,
           13.560606060606062,
           13.863636363636363,
           12.424242424242424,
           11.363636363636363,
           15.151515151515152,
           9.393939393939393,
           8.787878787878787,
           12.5,
           14.84848484848485,
           10.606060606060606,
           10.303030303030303,
           12.727272727272727,
           10.681818181818182,
           6.8181818181818175,
           7.196969696969697,
           10.53030303030303,
           10.378787878787879,
           7.954545454545454,
           7.878787878787878,
           9.242424242424242,
           6.4393939393939394,
           8.409090909090908,
           8.93939393939394,
           9.318181818181818,
           7.348484848484849,
           5.681818181818182,
           6.212121212121212,
           5.151515151515151,
           6.666666666666667,
           4.772727272727273,
           8.333333333333332,
           5.227272727272727,
           6.59090909090909,
           5.681818181818182,
           5.227272727272727,
           6.0606060606060606,
           4.318181818181818,
           3.4090909090909087,
           4.848484848484849,
           5.227272727272727,
           5,
           3.939393939393939,
           2.727272727272727
          ],
          [
           79.84536082474227,
           65.87628865979381,
           58.50515463917526,
           61.701030927835056,
           74.63917525773196,
           39.43298969072165,
           60.567010309278345,
           53.76288659793814,
           59.896907216494846,
           56.34020618556701,
           39.948453608247426,
           50.618556701030926,
           42.628865979381445,
           41.95876288659794,
           61.49484536082475,
           63.4020618556701,
           30.97938144329897,
           26.134020618556704,
           49.432989690721655,
           43.29896907216495,
           28.04123711340206,
           30.463917525773194,
           30.77319587628866,
           28.298969072164947,
           28.09278350515464,
           27.010309278350515,
           50.4639175257732,
           20.36082474226804,
           19.948453608247423,
           21.494845360824744,
           25.56701030927835,
           28.60824742268041,
           33.298969072164944,
           20.670103092783503,
           19.02061855670103,
           18.04123711340206,
           14.484536082474229,
           40,
           19.329896907216497,
           24.690721649484537,
           12.886597938144329,
           14.896907216494846,
           20.721649484536083,
           17.7319587628866,
           20.927835051546392,
           17.7319587628866,
           20.927835051546392,
           15.463917525773196,
           25.670103092783503,
           14.793814432989691,
           10.77319587628866,
           15.206185567010309,
           15.257731958762887,
           33.76288659793815,
           10.463917525773196,
           12.216494845360824,
           36.08247422680412,
           16.34020618556701,
           20.412371134020617,
           11.752577319587628,
           10.824742268041238,
           30.20618556701031,
           9.587628865979383,
           8.350515463917525,
           9.742268041237114,
           9.175257731958762,
           6.701030927835052,
           16.391752577319586,
           17.422680412371133,
           7.628865979381444,
           6.855670103092784,
           18.402061855670105,
           5.206185567010309,
           5.309278350515464,
           6.907216494845361,
           26.134020618556704,
           10.257731958762886,
           11.237113402061857,
           5.927835051546391,
           25.51546391752577,
           4.22680412371134,
           5.103092783505154,
           4.587628865979381,
           4.587628865979381,
           4.278350515463917,
           7.422680412371134,
           7.783505154639175,
           3.865979381443299,
           6.288659793814433,
           6.494845360824743,
           9.845360824742269,
           4.896907216494846,
           8.8659793814433,
           5.721649484536083,
           3.711340206185567,
           5.206185567010309,
           3.1443298969072164,
           3.9690721649484533,
           9.278350515463918,
           3.65979381443299,
           3.2989690721649487,
           8.041237113402062,
           2.0103092783505154
          ],
          [
           77.75647171620325,
           48.465963566634706,
           47.02780441035475,
           43.672099712368166,
           67.16203259827421,
           50,
           45.49376797698945,
           39.213806327900286,
           67.68935762224353,
           32.118887823585816,
           32.98178331735379,
           41.37104506232023,
           25.98274209012464,
           40.46021093000959,
           42.42569511025887,
           32.98178331735379,
           25.071907957814,
           22.33940556088207,
           31.1601150527325,
           22.96260786193672,
           20.949185043144773,
           24.448705656759348,
           33.17353787152445,
           17.449664429530202,
           20.086289549376797,
           14.04602109300096,
           23.441994247363375,
           19.12751677852349,
           22.53116011505273,
           39.83700862895494,
           19.463087248322147,
           19.606903163950143,
           24.73633748801534,
           34.851390220517736,
           13.422818791946309,
           11.553211888782359,
           11.073825503355705,
           11.84084372003835,
           10.738255033557047,
           14.669223394055608,
           11.984659635666347,
           9.683604985618409,
           19.942473633748804,
           10.977948226270374,
           12.559923298178333,
           10.977948226270374,
           12.559923298178333,
           11.984659635666347,
           16.347075743048897,
           9.683604985618409,
           10.354745925215724,
           8.964525407478426,
           9.827420901246404,
           9.491850431447748,
           10.162991371045061,
           30.393096836049853,
           9.87535953978907,
           14.285714285714285,
           15.771812080536913,
           8.389261744966444,
           15.244487056567593,
           9.491850431447748,
           6.7114093959731544,
           24.30488974113135,
           7.28667305848514,
           5.944391179290508,
           8.724832214765101,
           7.766059443911794,
           6.903163950143816,
           11.601150527325025,
           9.731543624161073,
           5.512943432406519,
           6.2320230105465,
           22.24352828379674,
           6.615532118887824,
           6.136145733461169,
           5.704697986577181,
           8.820709491850431,
           5.417066155321189,
           3.883029721955897,
           16.155321188878236,
           4.650047938638543,
           4.410354745925216,
           5.321188878235858,
           3.978906999041227,
           6.85522531160115,
           5.129434324065196,
           12.224352828379674,
           3.883029721955897,
           6.85522531160115,
           6.615532118887824,
           2.924256951102589,
           4.1227229146692235,
           3.7392138063279003,
           3.4995206136145733,
           3.691275167785235,
           4.026845637583892,
           4.554170661553212,
           2.3010546500479387,
           3.2598274209012463,
           3.978906999041227,
           2.1572387344199426,
           5.465004793863854
          ],
          [
           75.0901081297557,
           73.00760913095715,
           69.60352422907489,
           63.115738886664,
           53.66439727673208,
           50.62074489387265,
           53.34401281537845,
           52.42290748898678,
           42.01041249499399,
           44.533440128153785,
           36.28354024829796,
           49.539447336804166,
           42.57108530236284,
           34.84181017220665,
           37.48498197837405,
           36.04325190228274,
           41.529835802963554,
           34.52142571085302,
           36.72406888265919,
           28.233880656788145,
           35.32238686423708,
           36.8442130556668,
           34.96195434521426,
           28.55426511814177,
           34.88185822987585,
           28.39407288746496,
           33.11974369243092,
           28.994793752503,
           30.356427713255908,
           22.947537044453345,
           26.231477773327995,
           26.111333600320386,
           27.75330396475771,
           20.94513416099319,
           22.3468161794153,
           21.105326391670005,
           20.464557468962756,
           20.50460552663196,
           18.622346816179416,
           20.704845814977972,
           15.618742490989188,
           16.900280336403682,
           18.622346816179416,
           18.30196235482579,
           19.463356027232678,
           18.30196235482579,
           19.463356027232678,
           22.90748898678414,
           21.18542250700841,
           16.940328394072885,
           17.22066479775731,
           10.732879455346415,
           15.818982779335203,
           15.93912695234281,
           19.823788546255507,
           10.332398878654384,
           12.655186223468162,
           12.975570684821786,
           11.17340808970765,
           13.215859030837004,
           11.894273127753303,
           11.533840608730477,
           12.655186223468162,
           8.970764917901482,
           12.214657589106928,
           9.130957148578293,
           9.010812975570685,
           10.13215859030837,
           11.213456147376851,
           7.649179014817781,
           10.492591109331197,
           8.53023628354025,
           10.01201441730076,
           6.888265919102923,
           5.726872246696035,
           6.888265919102923,
           7.929515418502203,
           5.206247496996395,
           7.889467360833,
           5.206247496996395,
           3.884661593912695,
           7.8494193031637955,
           7.529034841810173,
           8.049659591509812,
           6.207448938726472,
           4.685622747296756,
           3.2839407288746494,
           3.644373247897477,
           5.967160592711253,
           4.004805766920304,
           5.246295554665599,
           4.805766920304365,
           4.325190228273929,
           4.565478574289147,
           3.9247096515818978,
           5.246295554665599,
           3.2038446135362433,
           2.2827392871445733,
           3.0036043251902282,
           3.123748498197837,
           2.8033640368442128,
           2.643171806167401,
           1.5618742490989186
          ],
          [
           75.99118942731278,
           69.34654919236417,
           60.68281938325991,
           60.4258443465492,
           61.60058737151248,
           42.621145374449334,
           61.45374449339207,
           47.09985315712188,
           46.51248164464023,
           59.03083700440529,
           37.99559471365639,
           54.25844346549192,
           43.4654919236417,
           36.71071953010279,
           45.88839941262849,
           50.14684287812041,
           30.837004405286343,
           33.33333333333333,
           44.860499265785606,
           44.49339207048458,
           32.8928046989721,
           33.480176211453745,
           30.726872246696036,
           33.627019089574155,
           26.431718061674008,
           30.066079295154186,
           44.82378854625551,
           27.019089574155654,
           24.963289280469898,
           23.017621145374452,
           28.634361233480178,
           28.524229074889867,
           33.44346549192364,
           21.73274596182085,
           23.53157121879589,
           21.292217327459618,
           18.869309838472834,
           32.305433186490454,
           18.68575624082232,
           18.318649045521294,
           14.574155653450807,
           18.355359765051396,
           18.3920704845815,
           19.933920704845814,
           21.32892804698972,
           19.933920704845814,
           21.32892804698972,
           15.38179148311307,
           21.32892804698972,
           15.52863436123348,
           13.215859030837004,
           14.4640234948605,
           16.079295154185022,
           25.40381791483113,
           16.409691629955947,
           11.380323054331864,
           22.24669603524229,
           11.930983847283407,
           13.362701908957417,
           11.674008810572687,
           10.682819383259911,
           16.409691629955947,
           8.994126284875184,
           9.140969162995596,
           10.38913362701909,
           9.544787077826726,
           7.048458149779736,
           12.812041116005874,
           13.766519823788546,
           7.856093979441997,
           6.571218795888399,
           13.876651982378855,
           8.737151248164464,
           5.39647577092511,
           5.983847283406755,
           11.490455212922173,
           10.205580029368576,
           7.63582966226138,
           5.469897209985316,
           11.637298091042585,
           3.9647577092511015,
           5.947136563876652,
           5.726872246696035,
           7.599118942731277,
           4.441997063142438,
           6.424375917767988,
           7.085168869309838,
           3.81791483113069,
           5.359765051395008,
           5.8370044052863435,
           6.130690161527165,
           4.809104258443465,
           6.4610866372980915,
           4.038179148311307,
           3.81791483113069,
           4.662261380323055,
           2.679882525697504,
           2.679882525697504,
           4.5154185022026425,
           4.001468428781204,
           2.7900146842878124,
           4.331864904552129,
           1.57856093979442
          ],
          [
           79.45500179275726,
           67.22839727500897,
           62.459662961635,
           49.26496952312657,
           52.92219433488705,
           64.2524202223019,
           49.40839010397992,
           48.04589458587307,
           43.85084259591252,
           42.34492649695231,
           41.37683757619218,
           44.424524919325926,
           41.23341699533883,
           39.6916457511653,
           35.353173180351384,
           31.122266045177483,
           34.31337396916457,
           53.53173180351381,
           27.321620652563645,
           29.006812477590532,
           26.78379347436357,
           34.63607027608462,
           33.95482251703119,
           27.142344926496953,
           30.36930799569738,
           28.074578702043745,
           23.01900322696307,
           36.966654714951595,
           43.20544998207242,
           42.595912513445676,
           23.664395840803152,
           24.632484761563283,
           26.532807457870206,
           31.33739691645751,
           27.895302975977053,
           18.64467551093582,
           18.60882036572248,
           15.059160989602008,
           17.999282897095732,
           18.142703477949084,
           13.409824309788455,
           16.2782359268555,
           18.752240946575835,
           14.879885263535316,
           13.696665471495159,
           14.879885263535316,
           13.696665471495159,
           16.56507708856221,
           15.453567586948727,
           16.134815346002153,
           16.780207959842237,
           9.358192900681248,
           13.553244890641809,
           9.824309788454643,
           24.52491932592327,
           7.565435640014343,
           9.752599498027967,
           10.254571531014701,
           9.680889207601291,
           11.258515596988168,
           16.098960200788813,
           10.326281821441377,
           9.5016134815346,
           9.465758336321262,
           12.19074937253496,
           10.039440659734671,
           43.09788454643241,
           8.031552527787737,
           7.852276801721048,
           11.939763356041592,
           7.60129078522768,
           6.704912154894227,
           9.788454643241305,
           4.195051989960559,
           6.09537468626748,
           4.553603442093941,
           5.808533524560774,
           10.362136966654715,
           8.103262818214414,
           4.051631409107207,
           4.230907135173897,
           7.60129078522768,
           8.246683399067766,
           10.147006095374685,
           6.09537468626748,
           3.1911079239870923,
           3.2628182144137687,
           3.513804230907135,
           4.697024022947293,
           3.04768734313374,
           3.872355683040516,
           3.7289351021871644,
           2.6532807457870207,
           3.9082108282538544,
           2.6174256005736822,
           3.657224811760488,
           16.098960200788813,
           3.155252778773754,
           2.4022947292936534,
           3.0118321979204015,
           2.2947292936536394,
           2.007888131946934,
           1.3983506633201863
          ],
          [
           78.27868852459017,
           68.4084699453552,
           66.80327868852459,
           56.62568306010929,
           56.93306010928961,
           51.263661202185794,
           51.434426229508205,
           53.85928961748634,
           45.25273224043716,
           40.47131147540984,
           39.9931693989071,
           46.89207650273224,
           39.58333333333333,
           40.33469945355191,
           38.18306010928962,
           35.040983606557376,
           37.36338797814208,
           29.57650273224044,
           34.18715846994536,
           27.66393442622951,
           28.927595628415297,
           33.060109289617486,
           34.80191256830601,
           27.86885245901639,
           32.99180327868852,
           26.331967213114755,
           25.512295081967213,
           25.136612021857925,
           28.688524590163933,
           27.732240437158467,
           21.9603825136612,
           26.400273224043712,
           26.707650273224044,
           25.37568306010929,
           18.237704918032787,
           20.32103825136612,
           16.35928961748634,
           16.87158469945355,
           18.954918032786885,
           21.311475409836063,
           15.881147540983607,
           13.866120218579233,
           18.066939890710383,
           14.924863387978144,
           14.993169398907105,
           14.924863387978144,
           14.993169398907105,
           20.21857923497268,
           16.76912568306011,
           15.23224043715847,
           16.188524590163937,
           13.524590163934427,
           14.685792349726775,
           12.295081967213115,
           13.456284153005466,
           12.978142076502733,
           11.202185792349727,
           13.114754098360656,
           12.09016393442623,
           14.515027322404372,
           14.412568306010929,
           9.084699453551913,
           11.441256830601093,
           10.758196721311474,
           11.441256830601093,
           9.870218579234972,
           9.426229508196721,
           8.777322404371585,
           9.528688524590164,
           9.562841530054644,
           8.435792349726775,
           6.796448087431695,
           6.864754098360656,
           9.221311475409836,
           7.547814207650274,
           6.762295081967213,
           6.4890710382513666,
           5.669398907103825,
           7.41120218579235,
           4.67896174863388,
           5.532786885245901,
           7.035519125683059,
           5.942622950819672,
           5.976775956284152,
           5.601092896174864,
           4.5423497267759565,
           4.132513661202186,
           4.337431693989071,
           5.498633879781421,
           3.927595628415301,
           5.669398907103825,
           4.474043715846995,
           3.5177595628415297,
           4.337431693989071,
           3.790983606557377,
           4.67896174863388,
           3.3811475409836067,
           4.200819672131147,
           2.8346994535519126,
           2.7663934426229506,
           2.698087431693989,
           2.288251366120219,
           2.185792349726776
          ],
          [
           77.73085585585585,
           54.19481981981982,
           53.46283783783784,
           46.70608108108108,
           62.19031531531532,
           49.0990990990991,
           45.21396396396396,
           47.015765765765764,
           59.03716216216216,
           30.152027027027028,
           39.86486486486486,
           40.93468468468468,
           28.29391891891892,
           40.765765765765764,
           36.76801801801802,
           30.96846846846847,
           29.898648648648653,
           24.239864864864867,
           30.236486486486484,
           19.53828828828829,
           22.804054054054053,
           26.745495495495497,
           32.74211711711711,
           18.86261261261261,
           25.788288288288285,
           15.79391891891892,
           21.79054054054054,
           19.98873873873874,
           26.97072072072072,
           36.76801801801802,
           18.524774774774773,
           23.170045045045047,
           22.60698198198198,
           33.164414414414416,
           13.65427927927928,
           15.118243243243242,
           13.034909909909908,
           12.443693693693694,
           11.79617117117117,
           16.019144144144143,
           13.56981981981982,
           9.628378378378379,
           16.666666666666664,
           10.951576576576578,
           11.993243243243242,
           10.951576576576578,
           11.993243243243242,
           15.850225225225225,
           16.07545045045045,
           11.233108108108109,
           12.528153153153154,
           11.120495495495495,
           11.683558558558559,
           9.90990990990991,
           10.416666666666668,
           25.11261261261261,
           8.220720720720722,
           13.992117117117116,
           14.076576576576578,
           10.416666666666668,
           14.329954954954955,
           7.85472972972973,
           9.121621621621621,
           19.90427927927928,
           7.573198198198199,
           6.587837837837837,
           7.882882882882883,
           6.925675675675675,
           5.996621621621621,
           10.838963963963964,
           7.967342342342343,
           4.5608108108108105,
           5.63063063063063,
           17.989864864864867,
           6.981981981981981,
           4.842342342342342,
           5.405405405405405,
           6.78490990990991,
           5.574324324324325,
           3.0968468468468466,
           13.147522522522523,
           5.123873873873873,
           4.391891891891892,
           4.870495495495495,
           4.110360360360361,
           6.221846846846847,
           4.983108108108108,
           10.022522522522523,
           3.350225225225225,
           5.79954954954955,
           5.405405405405405,
           2.5337837837837838,
           3.800675675675676,
           3.9977477477477477,
           3.040540540540541,
           3.2939189189189184,
           2.956081081081081,
           4.504504504504505,
           2.1114864864864864,
           2.505630630630631,
           3.350225225225225,
           1.5202702702702704,
           4.335585585585585
          ],
          [
           75.30765115034778,
           56.90208667736758,
           52.59497057249867,
           67.1749598715891,
           62.84109149277689,
           49.518459069020864,
           52.220438737292675,
           49.67897271268058,
           65.08828250401284,
           49.2776886035313,
           40.44943820224719,
           43.28517924023542,
           31.942215088282506,
           36.43659711075441,
           43.90048154093098,
           44.569288389513105,
           29.507758159443554,
           26.64526484751204,
           44.0342429106474,
           34.85821294810059,
           34.4836811128946,
           27.768860353130016,
           32.102728731942214,
           21.187800963081862,
           22.953451043338685,
           18.432316746923487,
           37.31942215088282,
           21.74959871589085,
           20.518994114499733,
           23.809523809523807,
           27.554842161583736,
           27.314071696094167,
           25.842696629213485,
           22.98020331728197,
           16.934189406099517,
           15.302300695559124,
           14.526484751203853,
           21.910112359550563,
           13.456393793472445,
           16.613162118780096,
           18.726591760299627,
           12.413055109684324,
           18.619582664526487,
           16.479400749063668,
           18.45906902086677,
           16.479400749063668,
           18.45906902086677,
           12.787586944890316,
           21.69609416800428,
           11.985018726591761,
           11.20920278223649,
           14.018191546281432,
           12.867843766720172,
           20.278223649010165,
           9.149277688603531,
           32.530765115034775,
           18.325307651150347,
           16.559657570893528,
           22.364901016586412,
           9.65757089352595,
           12.54681647940075,
           11.797752808988763,
           7.784911717495987,
           17.415730337078653,
           7.410379882289994,
           6.71482075976458,
           6.821829855537722,
           7.811663991439273,
           10.914927768860354,
           7.2766185125735685,
           11.15569823434992,
           10.112359550561797,
           4.628143392188336,
           13.857677902621724,
           6.982343499197431,
           8.507223113964688,
           5.591225254146603,
           5.858747993579454,
           4.574638844301766,
           8.801498127340825,
           10.914927768860354,
           4.5211342964151955,
           4.735152487961477,
           4.360620652755484,
           3.2370251471375067,
           17.46923488496522,
           12.680577849117174,
           8.079186730872125,
           4.226859283039058,
           14.686998394863563,
           5.778491171749598,
           2.7822364901016585,
           7.490636704119851,
           4.119850187265917,
           4.333868378812198,
           3.210272873194221,
           2.701979668271803,
           2.8357410379882286,
           2.8089887640449436,
           3.504547886570358,
           3.263777421080792,
           2.354200107009096,
           2.247191011235955
          ],
          [
           74.79098049151254,
           71.54801114770713,
           67.24094248796554,
           63.38991639219661,
           56.29592095262225,
           56.346592348619204,
           51.3301241449202,
           52.52090195084874,
           44.210793007347355,
           53.25563719280466,
           43.374714973397516,
           42.71598682543704,
           40.689130985558656,
           37.92753990372435,
           42.386622751456805,
           38.94096782366354,
           38.484925259690904,
           38.3582467696985,
           33.18976437800861,
           37.674182923739544,
           35.39397010387636,
           29.820116544210794,
           31.59361540410438,
           25.918419052444897,
           30.833544464149988,
           27.793260704332408,
           28.78135292627312,
           31.5682797061059,
           27.793260704332408,
           23.43552064859387,
           29.592095262224476,
           24.423612870534583,
           26.349125918419052,
           21.560678996706358,
           24.220927286546747,
           22.194071446668357,
           21.28198631872308,
           17.329617430960223,
           16.18951102102863,
           19.50848745882949,
           18.267038256903977,
           18.191031162908537,
           15.860146947048392,
           18.520395236888774,
           18.29237395490246,
           18.520395236888774,
           18.29237395490246,
           16.696224980998224,
           15.049404611097037,
           15.150747403090955,
           13.757284013174562,
           14.694704839118316,
           17.101596148973904,
           15.252090195084875,
           15.049404611097037,
           8.538130225487713,
           13.225234355206487,
           11.147707119331137,
           10.61565746136306,
           9.830250823410184,
           10.362300481378261,
           10.134279199391944,
           11.147707119331137,
           6.764631365594122,
           9.095515581454269,
           8.79148720547251,
           8.71548011147707,
           9.602229541423867,
           10.86901444134786,
           6.865974157588041,
           8.99417278946035,
           7.575373701545478,
           6.6632885736002025,
           4.079047377755257,
           7.246009627565239,
           7.347352419559158,
           6.435267291613885,
           5.117810995692931,
           5.4218393716746895,
           5.573853559665569,
           2.837598175829744,
           6.485938687610844,
           6.257917405624525,
           5.649860653661008,
           4.155054471750697,
           3.749683303775019,
           3.775019001773499,
           2.5842411958449456,
           5.092475297694452,
           3.2936407398023815,
           5.903217633645807,
           3.014948061819103,
           3.4709906257917407,
           3.7243476057765394,
           3.7243476057765394,
           4.4590828477324544,
           3.166962249809982,
           2.2802128198631872,
           3.2176336458069423,
           2.5842411958449456,
           2.4322270078540664,
           2.482898403851026,
           1.3681276919179122
          ],
          [
           78.05917753259779,
           48.26980942828485,
           48.24473420260782,
           58.45035105315948,
           63.54062186559679,
           48.72116349047141,
           51.07823470411233,
           46.26379137412236,
           78.33500501504514,
           40.84754262788365,
           35.05516549648947,
           43.75626880641926,
           25.651955867602812,
           36.18355065195587,
           39.56870611835506,
           39.96990972918756,
           24.172517552657975,
           21.339017051153462,
           39.1173520561685,
           28.58575727181545,
           27.256770310932797,
           26.705115346038117,
           33.45035105315948,
           18.756268806419257,
           18.004012036108325,
           13.99197592778335,
           32.59779338014042,
           17.201604814443332,
           19.408224674022065,
           29.789368104312942,
           24.37311935807422,
           25.827482447342025,
           24.82447342026078,
           25.050150451354064,
           13.440320962888666,
           12.637913741223672,
           11.158475426278837,
           15.220661985957873,
           10.782347041123371,
           13.665997993981946,
           16.098294884653964,
           9.378134403209629,
           17.953861584754264,
           14.543630892678033,
           16.72517552657974,
           14.543630892678033,
           16.72517552657974,
           12.211634904714144,
           22.216649949849547,
           9.829488465396189,
           9.954864593781345,
           9.553660982948847,
           10.75727181544634,
           15.57171514543631,
           8.224674022066198,
           50.075225677031085,
           13.716148445336007,
           19.132397191574725,
           26.4543630892678,
           9.754262788365095,
           11.885656970912738,
           9.553660982948847,
           6.218655967903711,
           37.938816449348046,
           7.246740220661986,
           5.917753259779338,
           6.64493480441324,
           6.41925777331996,
           8.049147442326982,
           7.5225677031093285,
           9.327983951855568,
           7.096288866599799,
           4.689067201604814,
           27.632898696088265,
           7.246740220661986,
           6.093279839518555,
           4.663991975927784,
           6.218655967903711,
           4.789368104312939,
           5.1654964894684054,
           27.256770310932797,
           3.7612838515546643,
           3.5857572718154462,
           3.8114343029087263,
           3.3600802407221666,
           15.697091273821465,
           8.375125376128386,
           19.834503510531594,
           2.8084252758274824,
           12.963891675025074,
           4.413239719157472,
           2.683049147442327,
           5.441323971915748,
           4.037111334002006,
           3.786359077231695,
           2.8335005015045134,
           2.7582748244734203,
           3.6609829488465397,
           2.432296890672016,
           2.3570712136409226,
           4.112337011033099,
           2.0812437311935805,
           4.237713139418255
          ],
          [
           67.9920477137177,
           57.55467196819085,
           58.97117296222664,
           73.45924453280318,
           46.34691848906561,
           59.04572564612326,
           40.87972166998012,
           49.6520874751491,
           53.23061630218688,
           36.97813121272366,
           31.088469184890656,
           38.07157057654075,
           27.907554671968192,
           27.186878727634195,
           34.69184890656064,
           26.565606361829026,
           33.64811133200795,
           31.6351888667992,
           34.09542743538768,
           24.055666003976143,
           45.80019880715705,
           25.074552683896624,
           30.66600397614314,
           17.2713717693837,
           25.894632206759443,
           16.84890656063618,
           25.497017892644138,
           28.45427435387674,
           20.328031809145127,
           18.961232604373755,
           29.27435387673956,
           19.905566600397613,
           18.389662027833,
           17.544731610337973,
           19.25944333996024,
           14.48807157057654,
           20.601391650099405,
           11.928429423459244,
           10.636182902584492,
           16.575546719681906,
           22.39065606361829,
           15.283300198807156,
           14.115308151093439,
           17.395626242544733,
           19.01093439363817,
           17.395626242544733,
           19.01093439363817,
           17.072564612326044,
           16.451292246520875,
           10.43737574552684,
           9.542743538767395,
           8.722664015904574,
           12.226640159045726,
           11.456262425447317,
           9.269383697813122,
           26.988071570576537,
           8.399602385685885,
           13.543737574552683,
           14.41351888667992,
           9.269383697813122,
           9.791252485089464,
           6.312127236580517,
           8.623260437375746,
           13.643141153081512,
           6.535785288270378,
           4.920477137176938,
           5.193836978131213,
           6.163021868787276,
           7.231610337972167,
           5.8399602385685885,
           18.961232604373755,
           5.666003976143141,
           4.150099403578529,
           18.93638170974155,
           6.36182902584493,
           4.52286282306163,
           4.920477137176938,
           3.354870775347912,
           4.398608349900597,
           3.354870775347912,
           7.75347912524851,
           4.796222664015905,
           5.318091451292246,
           3.6779324055666,
           3.1560636182902586,
           8.499005964214712,
           4.473161033797217,
           5.790258449304175,
           3.6530815109343937,
           7.952286282306163,
           4.970178926441352,
           2.261431411530815,
           3.5288270377733597,
           4.3737574552683895,
           5.5168986083499005,
           3.8270377733598413,
           2.0129224652087476,
           2.360834990059642,
           2.3111332007952288,
           2.3856858846918487,
           3.2803180914512926,
           1.9880715705765408,
           1.8638170974155068
          ],
          [
           72.96842105263158,
           58.37894736842105,
           54.10526315789473,
           49.55789473684211,
           63.49473684210526,
           56.48421052631579,
           42.589473684210525,
           45.03157894736842,
           50.27368421052631,
           46.14736842105263,
           39.83157894736842,
           37.05263157894737,
           34,
           38.315789473684205,
           43.97894736842105,
           33.97894736842105,
           30.484210526315792,
           38.33684210526316,
           29.957894736842107,
           31.305263157894736,
           30.589473684210528,
           24.31578947368421,
           38.821052631578944,
           19.747368421052634,
           25.157894736842106,
           22.526315789473685,
           23.157894736842106,
           32.61052631578947,
           36.46315789473684,
           47.473684210526315,
           27.66315789473684,
           20.968421052631577,
           22.526315789473685,
           47.89473684210526,
           24.08421052631579,
           18.821052631578947,
           19.11578947368421,
           14.526315789473685,
           13.094736842105261,
           17.49473684210526,
           15.073684210526316,
           16.568421052631578,
           30.23157894736842,
           16.673684210526314,
           15.389473684210525,
           16.673684210526314,
           15.389473684210525,
           13.473684210526315,
           14.063157894736841,
           12.021052631578948,
           13.368421052631579,
           10.505263157894737,
           14.547368421052632,
           10.042105263157895,
           18.294736842105262,
           9.284210526315789,
           9.873684210526317,
           10.547368421052632,
           10.821052631578947,
           7.831578947368421,
           23.978947368421053,
           10.778947368421052,
           8.063157894736841,
           10.442105263157893,
           9.178947368421053,
           9.284210526315789,
           10.063157894736841,
           7.178947368421053,
           7.473684210526316,
           15.389473684210525,
           9.494736842105263,
           6.421052631578947,
           9.263157894736842,
           4.378947368421052,
           6.273684210526316,
           5.747368421052632,
           4.905263157894737,
           9.031578947368422,
           7.178947368421053,
           3.4526315789473685,
           4.757894736842106,
           7.284210526315789,
           9.010526315789473,
           8.715789473684211,
           5.663157894736842,
           3.494736842105263,
           3.136842105263158,
           3.8947368421052633,
           3.7263157894736847,
           3.0947368421052635,
           5.6421052631578945,
           2.4842105263157896,
           3.663157894736842,
           3.3473684210526313,
           3.494736842105263,
           2.926315789473684,
           3.7894736842105265,
           2.863157894736842,
           2.168421052631579,
           2.8000000000000003,
           2.378947368421053,
           1.831578947368421,
           1.263157894736842
          ],
          [
           73.63601678748569,
           71.04158718046547,
           69.49637542922548,
           68.14193056085463,
           70.67913010301412,
           52.89965661961084,
           46.37542922548646,
           57.535291873330785,
           50.91568103777184,
           39.813048454788245,
           35.80694391453644,
           43.13239221671118,
           38.744753910721094,
           40.061045402518126,
           54.94086226631056,
           42.69362838611217,
           41.26287676459366,
           31.896222815719188,
           40.499809233117126,
           27.413201068294548,
           35.23464326592903,
           28.46241892407478,
           35.12018313620756,
           22.128958412819536,
           39.75581838992751,
           23.52155665776421,
           31.972529568866843,
           26.955360549408624,
           24.28462418924075,
           23.61694009919878,
           24.780618084700496,
           23.712323540633346,
           23.97939717665013,
           23.998473864937047,
           19.896985883250668,
           17.798550171690195,
           18.06562380770698,
           23.73140022892026,
           15.566577642121327,
           31.55284242655475,
           15.261350629530712,
           14.6699732926364,
           23.73140022892026,
           16.08164822586799,
           17.32163296451736,
           16.08164822586799,
           17.32163296451736,
           21.13697062190004,
           16.88286913391835,
           16.19610835558947,
           10.282334986646319,
           9.786341091186571,
           13.620755436856161,
           17.3788630293781,
           11.52231972529569,
           9.462037390309042,
           15.375810759252193,
           14.498283098054177,
           13.639832125143075,
           9.805417779473483,
           13.296451735978634,
           13.964135826020602,
           12.361694009919878,
           7.058374666157954,
           7.458985120183136,
           6.447920640976726,
           7.954979015642884,
           10.511255246089279,
           9.50019076688287,
           8.393742846241894,
           10.702022128958413,
           7.039297977871041,
           5.322396032048837,
           5.207935902327356,
           5.188859214040443,
           15.070583746661578,
           6.75314765356734,
           7.306371613887828,
           5.265165967188096,
           9.080503624570776,
           3.0331934376192295,
           5.990080122090805,
           5.589469668065624,
           4.425791682563907,
           4.101487981686379,
           4.120564669973293,
           3.452880579931324,
           2.918733307897749,
           6.447920640976726,
           3.6818008393742843,
           8.260206028233497,
           2.861503243037009,
           4.311331552842427,
           2.918733307897749,
           3.719954215948111,
           5.11255246089279,
           3.4147272033574967,
           2.708889736741702,
           5.0362457077451355,
           2.689813048454788,
           2.2510492178557806,
           3.5864173979397176,
           1.2590614269362839
          ],
          [
           72.48637474158993,
           75.98195827851907,
           74.87314414583724,
           58.804735951888745,
           44.7472279646683,
           55.44070663409134,
           42.02217628265363,
           55.19639165570381,
           35.951888742717536,
           34.63634655140011,
           35.89550836308965,
           39.29712460063898,
           41.890622063521896,
           31.685773350873898,
           30.182296560796846,
           24.03683518135689,
           45.74328133809434,
           35.08738958842323,
           25.803420409697424,
           20.879533922195076,
           32.77579402367976,
           28.79158052997557,
           29.900394662657398,
           29.017102048487125,
           37.981582409321554,
           27.870700996053372,
           21.14264236045856,
           29.24262356699868,
           29.63728622439391,
           24.130802480736705,
           24.018041721480923,
           23.003194888178914,
           21.424544258598008,
           22.533358391279833,
           19.921067468520956,
           22.834053749295244,
           20.710392783311406,
           11.445217064461568,
           18.248449539560234,
           18.53035143769968,
           15.260289419282088,
           14.809246382258973,
           14.65889870325127,
           15.354256718661905,
           13.47491073106559,
           15.354256718661905,
           13.47491073106559,
           25.671866190565684,
           14.62131178349934,
           17.308776545762075,
           16.500657771095657,
           9.302762638601767,
           16.93290734824281,
           8.851719601578651,
           15.86168013531291,
           6.483743657207292,
           7.42341665100545,
           10.129674873144145,
           7.83687276827664,
           11.783499342228906,
           11.294869385453863,
           6.558917496711144,
           12.666791956399173,
           6.107874459688029,
           11.069347866942305,
           7.103927833114076,
           10.467957150911483,
           6.840819394850592,
           6.822025934974629,
           7.0287539936102235,
           9.528284157113324,
           4.999060327006202,
           7.479797030633339,
           4.491636910355196,
           8.02480736703627,
           3.7398985153166695,
           5.299755685021613,
           3.6083442961849275,
           6.897199774478481,
           2.3491824844953957,
           2.180041345611727,
           6.9723736139823345,
           6.29580905844766,
           5.713211802292802,
           4.961473407254275,
           2.837812441270438,
           1.8793459875963165,
           2.405562864123285,
           4.134561172711896,
           2.499530163503101,
           4.134561172711896,
           4.698364968990791,
           2.5559105431309903,
           3.476790077053186,
           3.4579966171772227,
           4.773538808494644,
           4.021800413456117,
           1.935726367224206,
           2.161247885735764,
           2.2364217252396164,
           2.1236609659838375,
           1.5410637098289794,
           0.9208795339221951
          ],
          [
           71.26878713736455,
           74.27472911569382,
           73.06885704299197,
           80.07689619014332,
           56.83327507864383,
           59.07025515554002,
           43.77839916113247,
           59.402306885704306,
           42.24047535826634,
           37.17231737154841,
           35.04019573575673,
           40.055924501922405,
           38.67528836071304,
           33.97413491786089,
           43.411394617266694,
           33.92170569730864,
           47.6581614819993,
           40.38797623208668,
           37.189793778399164,
           23.226144704648725,
           46.01537923802866,
           27.96225096120238,
           32.52359314924851,
           22.859140160782943,
           41.50646627053477,
           24.23977630199231,
           30.059419783292558,
           35.389723872771754,
           26.074799021321216,
           20.447396015379237,
           26.4767563788885,
           23.593149248514507,
           21.04159384830479,
           19.18909472212513,
           25.09612023767913,
           19.64348130024467,
           26.82628451590353,
           19.975533030408947,
           15.798671793079343,
           27.455435162530584,
           18.175463124781547,
           20.027962250961203,
           17.493883257602235,
           18.47256204124432,
           19.50367004543866,
           18.47256204124432,
           19.50367004543866,
           21.688220901782593,
           16.218105557497378,
           16.58511010136316,
           12.320866829779797,
           9.664452988465571,
           16.07829430269137,
           14.872422229989516,
           13.386927647675636,
           10.013981125480601,
           11.272282418734708,
           12.111149947570778,
           11.464522894092974,
           9.140160782943028,
           11.272282418734708,
           10.013981125480601,
           15.379238028661307,
           6.850751485494583,
           9.140160782943028,
           6.291506466270534,
           7.462425725270884,
           7.444949318420132,
           8.930443900734009,
           6.850751485494583,
           13.491786088780147,
           6.815798671793079,
           5.924501922404754,
           6.274030059419783,
           6.308982873121287,
           8.091576371897938,
           5.522544564837469,
           4.526389374344634,
           5.522544564837469,
           5.312827682628452,
           2.883607130373995,
           6.780845858091576,
           7.3051380636141205,
           5.173016427822439,
           4.229290457881859,
           4.2642432715833625,
           3.0408947920307585,
           2.7962250961202377,
           6.256553652569032,
           3.862285914016078,
           6.23907724571828,
           2.778748689269486,
           3.670045438657812,
           3.005941978329256,
           4.037049982523593,
           4.596295001747641,
           2.6738902481649776,
           2.009786787836421,
           2.9010835372247463,
           2.6389374344634744,
           2.1146452289409297,
           2.2719328905976934,
           0.9262495630898288
          ],
          [
           77.73496398056626,
           70.29653208242587,
           62.70732115932317,
           63.05913888423521,
           70.74886915731278,
           45.652538113586864,
           59.189143910202716,
           48.4335734628916,
           51.76746523705813,
           59.03836488524041,
           38.43189814039202,
           44.429552688892606,
           43.457865639135534,
           43.910202714022454,
           58.68654716032836,
           63.343943709164016,
           33.690735466577316,
           35.13151281621712,
           45.04942201373765,
           44.44630591388842,
           35.91891439102027,
           30.85944044228514,
           29.88775339252806,
           28.76528731780868,
           26.553861618361534,
           32.166191991958456,
           44.93214943876696,
           28.7987937678003,
           20.237895794940524,
           18.26101524543475,
           32.81956776679511,
           29.38515664265371,
           29.050092142737476,
           17.574133020606467,
           26.687887418328028,
           23.370748869157314,
           20.924778019768805,
           32.83632099179092,
           18.445300720388673,
           23.203216619199196,
           15.831797621042051,
           22.04724409448819,
           19.85257162003686,
           24.593734293851565,
           26.16853744345787,
           24.593734293851565,
           26.16853744345787,
           14.324007371418999,
           20.807505444798124,
           16.736471770815882,
           10.956609147260847,
           16.334394370916403,
           15.412966996146757,
           27.00619869324845,
           11.157647847210587,
           10.722063997319484,
           29.938013067515495,
           13.63712514659072,
           15.915563746021109,
           10.202714022449321,
           9.39855922265036,
           19.919584520020102,
           9.130507622717374,
           7.823756073044061,
           8.828949572792762,
           8.175573797956107,
           6.13168034846708,
           12.079075221980231,
           14.156475121460883,
           5.327525548668119,
           5.8803819735299045,
           13.838163846540457,
           4.891941698777014,
           4.288825598927794,
           4.657396548835651,
           20.857765119785558,
           7.287652873178087,
           7.321159323169709,
           4.875188473781203,
           17.440107220639973,
           3.7862288490534426,
           5.763109398559223,
           5.394538448651366,
           4.087786898978053,
           3.7694756240576313,
           5.243759423689061,
           5.411291673647177,
           2.680515999329871,
           5.428044898642989,
           4.741162673814709,
           6.349472273412632,
           3.886748199028313,
           5.846875523538281,
           3.4511643491372093,
           3.668956274082761,
           3.886748199028313,
           2.0606466744848384,
           2.4794772993801306,
           5.712849723571788,
           3.5349304741162673,
           2.445970849388507,
           5.277265873680684,
           0.9884402747528899
          ],
          [
           77.74731069394643,
           66.64205863741827,
           60.69394642480489,
           50.28475005273149,
           40.392322294874496,
           41.700063277789496,
           52.71039865007382,
           50.34802784222738,
           31.195950221472263,
           45.07487871757013,
           49.44104619278633,
           41.05673908458131,
           40.82472052309639,
           36.753849398861,
           26.323560430288968,
           27.336005062223162,
           33.769246994305,
           34.09618224003375,
           27.54693102720945,
           27.93714406243409,
           28.11643113267243,
           34.454756380510446,
           43.35583210293187,
           30.24678337903396,
           29.339801729592914,
           29.962033326302468,
           24.214300780426072,
           26.102088167053367,
           62.58173381143218,
           22.51634676228644,
           22.463615271039867,
           25.079097236869856,
           28.337903395908036,
           19.521198059481122,
           20.702383463404345,
           22.54798565703438,
           18.519299725796245,
           14.047669268086901,
           19.721577726218097,
           15.85108626871968,
           12.507909723686986,
           15.977641847711455,
           14.237502636574561,
           15.819447373971737,
           14.522252689306054,
           15.819447373971737,
           14.522252689306054,
           16.20966040919637,
           16.968993883147014,
           13.636363636363635,
           28.685931238135414,
           11.970048512971946,
           14.764817549040288,
           9.586585108626872,
           38.58890529424172,
           5.526260282640793,
           7.793714406243408,
           9.20691837165155,
           7.456232862265345,
           11.600928074245939,
           11.706391056739085,
           7.4035013710187725,
           11.0630668635309,
           7.034380932292765,
           19.700485129719468,
           20.934402024889266,
           11.126344653026788,
           7.087112423539338,
           7.930816283484497,
           5.357519510651762,
           5.389158405399705,
           6.116852984602405,
           21.145327989875554,
           2.963509808057372,
           6.580890107572242,
           3.0478801940518876,
           5.199325036912044,
           3.4591858257751533,
           14.226956338325248,
           2.858046825564227,
           2.815861632566969,
           11.020881670533642,
           11.569289179497996,
           14.923012022780005,
           11.27399282851719,
           2.1619911411094703,
           2.214722632356043,
           2.0987133516135836,
           3.627926597764185,
           1.9510651761231808,
           2.4151022990930184,
           3.3748154397806367,
           2.27800042185193,
           3.6806580890107568,
           2.2041763341067284,
           2.7736764395697113,
           3.290445053786121,
           1.4975743514026576,
           1.4975743514026576,
           2.3096393165998736,
           1.8139632988820924,
           1.0651761231807635,
           0.5484075089643535
          ],
          [
           69.73014256619145,
           65.69925322471147,
           61.31194840461644,
           62.02477936184657,
           49.45689069925322,
           68.77970128988458,
           41.35268160217244,
           43.73727087576375,
           36.10828241683639,
           45.23930753564155,
           40.73319755600815,
           32.56958587915818,
           33.71520706042091,
           32.56958587915818,
           36.21011541072641,
           30.99966055668703,
           35.429395790902916,
           51.332315003394434,
           29.14969450101833,
           31.54276985743381,
           45.13747454175153,
           24.151391717583166,
           31.551255940257978,
           21.452817379497624,
           22.174134419551937,
           28.301086218601494,
           21.486761710794298,
           45.58723693143245,
           26.196537678207736,
           28.131364562118126,
           32.73930753564155,
           20.38357094365241,
           19.20400543109301,
           22.87847929395791,
           33.29938900203666,
           22.284453496266124,
           28.615071283095723,
           13.441955193482688,
           12.81398506449423,
           14.850644942294636,
           20.08655804480652,
           25.19517990495587,
           15.08825526137135,
           21.98744059742023,
           20.621181262729124,
           21.98744059742023,
           20.621181262729124,
           12.08418194161575,
           11.023421588594704,
           11.617447386286491,
           10.140868974881196,
           15.08825526137135,
           14.867617107942973,
           11.074338085539715,
           12.415139171758316,
           6.916157501697216,
           9.971147318397827,
           7.781737949762389,
           7.73082145281738,
           7.484725050916497,
           10.36999321113374,
           7.909029192124915,
           6.839782756279702,
           5.872369314324508,
           7.4168363883231505,
           6.907671418873049,
           8.630346232179226,
           5.337746096401901,
           5.974202308214529,
           6.737949762389681,
           10.123896809232859,
           5.18499660556687,
           5.762050237610318,
           3.63204344874406,
           4.9813306177868295,
           4.2175831636116765,
           3.513238289205703,
           5.371690427698574,
           4.760692464358452,
           3.250169721656483,
           2.6391717583163614,
           5.609300746775289,
           8.621860149355058,
           5.066191446028514,
           3.699932111337407,
           2.842837746096402,
           3.054989816700611,
           2.096062457569586,
           2.842837746096402,
           2.6476578411405294,
           3.699932111337407,
           1.8584521384928716,
           2.7155465037338766,
           2.5288526816021726,
           3.920570264765784,
           2.3167006109979633,
           2.774949083503055,
           1.8499660556687034,
           1.7566191446028514,
           2.197895451459606,
           1.4511201629327901,
           1.2983706720977597,
           0.721317040054311
          ],
          [
           75.72693484914736,
           84.0128989943157,
           78.31219938784434,
           56.394840402273715,
           45.419763882815914,
           48.88500218627022,
           51.4702667249672,
           50.841714035854835,
           31.29645824223874,
           45.917140358548316,
           33.728683865325756,
           39.71359860078706,
           49.36051595977263,
           35.417577612592915,
           29.334280717096632,
           32.71206821163096,
           43.56689986882379,
           33.542850896370794,
           30.908395277656318,
           29.268692610406642,
           31.383909051158724,
           31.351114997813728,
           25.912767818102317,
           40.10712724092698,
           32.624617402710975,
           39.0194578049847,
           25.24048972452995,
           27.169873196327067,
           25.972890249234805,
           16.04722343681679,
           25.087450808919982,
           26.929383471797113,
           24.579142982072586,
           14.675338871884566,
           21.523830345430696,
           28.377787494534324,
           20.529077393965895,
           16.40249234805422,
           23.048753825972888,
           16.708570179274158,
           13.609532138172279,
           17.539352864013992,
           12.357892435505029,
           15.954306952339309,
           15.074333187581985,
           15.954306952339309,
           15.074333187581985,
           18.84564932225623,
           13.751639702667251,
           19.266506340183646,
           15.828596414516834,
           11.636423261915173,
           18.03126366418889,
           11.368605159597726,
           14.013992129427196,
           5.596851770878881,
           9.44468736335811,
           9.368167905553126,
           7.804984696108439,
           12.877131613467425,
           8.275032794053345,
           7.542632269348491,
           11.472452995190205,
           5.0120244862264975,
           12.762352426759948,
           6.711849584608657,
           7.362264975951027,
           7.25295146480105,
           7.859641451683428,
           3.9735461303017057,
           6.3456493222562305,
           6.006777437691299,
           5.875601224311325,
           2.9514648010494096,
           5.667905553126366,
           3.9516834280717097,
           5.711630957586357,
           3.8860953213817226,
           5.728027984258855,
           3.219282903366856,
           2.1425448185395717,
           7.1217752514210755,
           5.378224748578924,
           4.328815041539134,
           4.394403148229121,
           2.04962833406209,
           2.295583734149541,
           1.5686488850021865,
           4.257761259291649,
           1.7654132050721467,
           2.6125929164844774,
           5.329033668561435,
           2.109750765194578,
           3.0279842588543944,
           2.3611718408395275,
           3.4707039790118057,
           2.104285089637079,
           1.6178399650196764,
           1.579580236117184,
           1.8419326628771315,
           1.4265413205072146,
           1.0439440314822912,
           0.4481853957149104
          ],
          [
           75.39539170506913,
           81.99078341013825,
           73.78433179723503,
           62.046082949308754,
           51.1815668202765,
           48.86267281105991,
           52.73364055299539,
           50.22672811059908,
           36.20276497695853,
           48.24700460829493,
           36.781566820276495,
           39.34746543778802,
           47.34009216589862,
           35.52073732718894,
           33.500460829493086,
           39.09677419354839,
           42.08663594470046,
           36.37603686635945,
           36.022119815668205,
           32.07741935483871,
           34.82764976958526,
           30.348387096774193,
           26.392626728110596,
           36.22857142857143,
           30.311520737327193,
           37.235023041474655,
           30.189861751152076,
           29.423041474654376,
           22.923502304147465,
           16.250691244239633,
           26.65437788018433,
           27.188940092165897,
           24.302304147465435,
           14.422119815668202,
           24.287557603686636,
           26.70230414746544,
           22.55115207373272,
           20.903225806451616,
           21.92442396313364,
           17.142857142857142,
           14.816589861751153,
           20.468202764976958,
           13.183410138248847,
           17.51889400921659,
           17.74746543778802,
           17.51889400921659,
           17.74746543778802,
           15.402764976958524,
           14.282027649769585,
           18.001843317972348,
           13.12442396313364,
           14.975115207373271,
           16.94377880184332,
           14.381566820276499,
           11.546543778801844,
           7.498617511520737,
           12.342857142857143,
           10.665437788018433,
           10.031336405529954,
           12.866359447004609,
           7.915207373271889,
           9.209216589861752,
           11.163133640552996,
           5.7695852534562215,
           10.694930875576036,
           6.705990783410138,
           6.473732718894009,
           8.468202764976958,
           8.188018433179725,
           3.845161290322581,
           5.776958525345622,
           7.472811059907834,
           4.836866359447005,
           3.288479262672811,
           4.925345622119816,
           5.393548387096774,
           6.731797235023042,
           4.497695852534562,
           5.172350230414747,
           4.748387096774193,
           2.6764976958525346,
           6.016589861751152,
           5.131797235023042,
           3.44331797235023,
           3.911520737327189,
           2.790783410138249,
           3.1889400921658986,
           1.9649769585253458,
           4.313364055299539,
           2.3483870967741938,
           2.8829493087557605,
           4.1732718894009215,
           2.79815668202765,
           2.5732718894009214,
           2.647004608294931,
           3.0414746543778803,
           1.824884792626728,
           1.6921658986175117,
           1.7253456221198158,
           1.9944700460829492,
           1.448847926267281,
           1.4414746543778802,
           0.5124423963133641
          ],
          [
           74.29484354341119,
           69.39180255619215,
           61.38901131188482,
           61.37432055237255,
           55.76979579844278,
           48.16732775084472,
           51.722491552813274,
           49.397678859997065,
           39.86704862641399,
           49.9118554429264,
           39.848685177023654,
           38.73953283384751,
           37.55692669311003,
           36.78566181871602,
           35.71323637432055,
           41.1671808432496,
           35.54796532980755,
           34.023799030409876,
           36.95093286322903,
           34.211106214191275,
           32.90362861759953,
           28.35683854855296,
           27.03099750257088,
           26.23402379903041,
           28.14382253562509,
           27.838989275745558,
           30.08667548112237,
           27.725135889525486,
           21.17672983693257,
           19.244894961069487,
           25.672102247686208,
           24.63273101219333,
           23.54561480828559,
           17.17349786983987,
           22.62009695901278,
           20.761715880711034,
           19.861906860584693,
           21.77537828705744,
           16.203907742030264,
           17.412222711914204,
           15.715439988247393,
           18.168796826795948,
           13.379609225796973,
           16.068018216541795,
           16.247980020567063,
           16.068018216541795,
           16.247980020567063,
           13.30615542823564,
           14.13985603055678,
           14.297781695313647,
           10.78301748200382,
           16.369178786543266,
           13.478771852504776,
           16.101072425444396,
           9.706919347730278,
           8.939327163214337,
           14.070074922873513,
           11.223740267371824,
           11.10621419127369,
           10.456148082855883,
           8.039518143087998,
           11.146613779932423,
           10.327603937123548,
           6.335390039665051,
           7.973409725282797,
           7.271925958572058,
           6.217863963566916,
           7.988100484795065,
           8.11297194064933,
           4.745115322462171,
           5.718378140149846,
           7.841192889672397,
           4.539444689290437,
           3.5735272513588954,
           4.976494784780374,
           6.691640957837521,
           5.935066842955781,
           5.417217570148377,
           4.392537094167769,
           5.79183193771118,
           3.114441016600558,
           4.712061113559571,
           4.7157338034376375,
           3.400910827089761,
           3.4045835169678274,
           3.926105479653298,
           4.631261936242104,
           2.2770677244013515,
           4.381519024533569,
           3.3127662700161595,
           3.514764213309828,
           2.6516820919641546,
           3.782870574408697,
           2.754517408550022,
           2.743499338915822,
           2.7030997502570884,
           1.7775819009842808,
           2.0016159835463494,
           1.9869252240340824,
           2.0603790215954163,
           1.4323490524460116,
           1.604965476715146,
           0.5619215513442045
          ]
         ]
        }
       ],
       "layout": {
        "height": 800,
        "template": {
         "data": {
          "bar": [
           {
            "error_x": {
             "color": "#2a3f5f"
            },
            "error_y": {
             "color": "#2a3f5f"
            },
            "marker": {
             "line": {
              "color": "#E5ECF6",
              "width": 0.5
             },
             "pattern": {
              "fillmode": "overlay",
              "size": 10,
              "solidity": 0.2
             }
            },
            "type": "bar"
           }
          ],
          "barpolar": [
           {
            "marker": {
             "line": {
              "color": "#E5ECF6",
              "width": 0.5
             },
             "pattern": {
              "fillmode": "overlay",
              "size": 10,
              "solidity": 0.2
             }
            },
            "type": "barpolar"
           }
          ],
          "carpet": [
           {
            "aaxis": {
             "endlinecolor": "#2a3f5f",
             "gridcolor": "white",
             "linecolor": "white",
             "minorgridcolor": "white",
             "startlinecolor": "#2a3f5f"
            },
            "baxis": {
             "endlinecolor": "#2a3f5f",
             "gridcolor": "white",
             "linecolor": "white",
             "minorgridcolor": "white",
             "startlinecolor": "#2a3f5f"
            },
            "type": "carpet"
           }
          ],
          "choropleth": [
           {
            "colorbar": {
             "outlinewidth": 0,
             "ticks": ""
            },
            "type": "choropleth"
           }
          ],
          "contour": [
           {
            "colorbar": {
             "outlinewidth": 0,
             "ticks": ""
            },
            "colorscale": [
             [
              0,
              "#0d0887"
             ],
             [
              0.1111111111111111,
              "#46039f"
             ],
             [
              0.2222222222222222,
              "#7201a8"
             ],
             [
              0.3333333333333333,
              "#9c179e"
             ],
             [
              0.4444444444444444,
              "#bd3786"
             ],
             [
              0.5555555555555556,
              "#d8576b"
             ],
             [
              0.6666666666666666,
              "#ed7953"
             ],
             [
              0.7777777777777778,
              "#fb9f3a"
             ],
             [
              0.8888888888888888,
              "#fdca26"
             ],
             [
              1,
              "#f0f921"
             ]
            ],
            "type": "contour"
           }
          ],
          "contourcarpet": [
           {
            "colorbar": {
             "outlinewidth": 0,
             "ticks": ""
            },
            "type": "contourcarpet"
           }
          ],
          "heatmap": [
           {
            "colorbar": {
             "outlinewidth": 0,
             "ticks": ""
            },
            "colorscale": [
             [
              0,
              "#0d0887"
             ],
             [
              0.1111111111111111,
              "#46039f"
             ],
             [
              0.2222222222222222,
              "#7201a8"
             ],
             [
              0.3333333333333333,
              "#9c179e"
             ],
             [
              0.4444444444444444,
              "#bd3786"
             ],
             [
              0.5555555555555556,
              "#d8576b"
             ],
             [
              0.6666666666666666,
              "#ed7953"
             ],
             [
              0.7777777777777778,
              "#fb9f3a"
             ],
             [
              0.8888888888888888,
              "#fdca26"
             ],
             [
              1,
              "#f0f921"
             ]
            ],
            "type": "heatmap"
           }
          ],
          "heatmapgl": [
           {
            "colorbar": {
             "outlinewidth": 0,
             "ticks": ""
            },
            "colorscale": [
             [
              0,
              "#0d0887"
             ],
             [
              0.1111111111111111,
              "#46039f"
             ],
             [
              0.2222222222222222,
              "#7201a8"
             ],
             [
              0.3333333333333333,
              "#9c179e"
             ],
             [
              0.4444444444444444,
              "#bd3786"
             ],
             [
              0.5555555555555556,
              "#d8576b"
             ],
             [
              0.6666666666666666,
              "#ed7953"
             ],
             [
              0.7777777777777778,
              "#fb9f3a"
             ],
             [
              0.8888888888888888,
              "#fdca26"
             ],
             [
              1,
              "#f0f921"
             ]
            ],
            "type": "heatmapgl"
           }
          ],
          "histogram": [
           {
            "marker": {
             "pattern": {
              "fillmode": "overlay",
              "size": 10,
              "solidity": 0.2
             }
            },
            "type": "histogram"
           }
          ],
          "histogram2d": [
           {
            "colorbar": {
             "outlinewidth": 0,
             "ticks": ""
            },
            "colorscale": [
             [
              0,
              "#0d0887"
             ],
             [
              0.1111111111111111,
              "#46039f"
             ],
             [
              0.2222222222222222,
              "#7201a8"
             ],
             [
              0.3333333333333333,
              "#9c179e"
             ],
             [
              0.4444444444444444,
              "#bd3786"
             ],
             [
              0.5555555555555556,
              "#d8576b"
             ],
             [
              0.6666666666666666,
              "#ed7953"
             ],
             [
              0.7777777777777778,
              "#fb9f3a"
             ],
             [
              0.8888888888888888,
              "#fdca26"
             ],
             [
              1,
              "#f0f921"
             ]
            ],
            "type": "histogram2d"
           }
          ],
          "histogram2dcontour": [
           {
            "colorbar": {
             "outlinewidth": 0,
             "ticks": ""
            },
            "colorscale": [
             [
              0,
              "#0d0887"
             ],
             [
              0.1111111111111111,
              "#46039f"
             ],
             [
              0.2222222222222222,
              "#7201a8"
             ],
             [
              0.3333333333333333,
              "#9c179e"
             ],
             [
              0.4444444444444444,
              "#bd3786"
             ],
             [
              0.5555555555555556,
              "#d8576b"
             ],
             [
              0.6666666666666666,
              "#ed7953"
             ],
             [
              0.7777777777777778,
              "#fb9f3a"
             ],
             [
              0.8888888888888888,
              "#fdca26"
             ],
             [
              1,
              "#f0f921"
             ]
            ],
            "type": "histogram2dcontour"
           }
          ],
          "mesh3d": [
           {
            "colorbar": {
             "outlinewidth": 0,
             "ticks": ""
            },
            "type": "mesh3d"
           }
          ],
          "parcoords": [
           {
            "line": {
             "colorbar": {
              "outlinewidth": 0,
              "ticks": ""
             }
            },
            "type": "parcoords"
           }
          ],
          "pie": [
           {
            "automargin": true,
            "type": "pie"
           }
          ],
          "scatter": [
           {
            "marker": {
             "colorbar": {
              "outlinewidth": 0,
              "ticks": ""
             }
            },
            "type": "scatter"
           }
          ],
          "scatter3d": [
           {
            "line": {
             "colorbar": {
              "outlinewidth": 0,
              "ticks": ""
             }
            },
            "marker": {
             "colorbar": {
              "outlinewidth": 0,
              "ticks": ""
             }
            },
            "type": "scatter3d"
           }
          ],
          "scattercarpet": [
           {
            "marker": {
             "colorbar": {
              "outlinewidth": 0,
              "ticks": ""
             }
            },
            "type": "scattercarpet"
           }
          ],
          "scattergeo": [
           {
            "marker": {
             "colorbar": {
              "outlinewidth": 0,
              "ticks": ""
             }
            },
            "type": "scattergeo"
           }
          ],
          "scattergl": [
           {
            "marker": {
             "colorbar": {
              "outlinewidth": 0,
              "ticks": ""
             }
            },
            "type": "scattergl"
           }
          ],
          "scattermapbox": [
           {
            "marker": {
             "colorbar": {
              "outlinewidth": 0,
              "ticks": ""
             }
            },
            "type": "scattermapbox"
           }
          ],
          "scatterpolar": [
           {
            "marker": {
             "colorbar": {
              "outlinewidth": 0,
              "ticks": ""
             }
            },
            "type": "scatterpolar"
           }
          ],
          "scatterpolargl": [
           {
            "marker": {
             "colorbar": {
              "outlinewidth": 0,
              "ticks": ""
             }
            },
            "type": "scatterpolargl"
           }
          ],
          "scatterternary": [
           {
            "marker": {
             "colorbar": {
              "outlinewidth": 0,
              "ticks": ""
             }
            },
            "type": "scatterternary"
           }
          ],
          "surface": [
           {
            "colorbar": {
             "outlinewidth": 0,
             "ticks": ""
            },
            "colorscale": [
             [
              0,
              "#0d0887"
             ],
             [
              0.1111111111111111,
              "#46039f"
             ],
             [
              0.2222222222222222,
              "#7201a8"
             ],
             [
              0.3333333333333333,
              "#9c179e"
             ],
             [
              0.4444444444444444,
              "#bd3786"
             ],
             [
              0.5555555555555556,
              "#d8576b"
             ],
             [
              0.6666666666666666,
              "#ed7953"
             ],
             [
              0.7777777777777778,
              "#fb9f3a"
             ],
             [
              0.8888888888888888,
              "#fdca26"
             ],
             [
              1,
              "#f0f921"
             ]
            ],
            "type": "surface"
           }
          ],
          "table": [
           {
            "cells": {
             "fill": {
              "color": "#EBF0F8"
             },
             "line": {
              "color": "white"
             }
            },
            "header": {
             "fill": {
              "color": "#C8D4E3"
             },
             "line": {
              "color": "white"
             }
            },
            "type": "table"
           }
          ]
         },
         "layout": {
          "annotationdefaults": {
           "arrowcolor": "#2a3f5f",
           "arrowhead": 0,
           "arrowwidth": 1
          },
          "autotypenumbers": "strict",
          "coloraxis": {
           "colorbar": {
            "outlinewidth": 0,
            "ticks": ""
           }
          },
          "colorscale": {
           "diverging": [
            [
             0,
             "#8e0152"
            ],
            [
             0.1,
             "#c51b7d"
            ],
            [
             0.2,
             "#de77ae"
            ],
            [
             0.3,
             "#f1b6da"
            ],
            [
             0.4,
             "#fde0ef"
            ],
            [
             0.5,
             "#f7f7f7"
            ],
            [
             0.6,
             "#e6f5d0"
            ],
            [
             0.7,
             "#b8e186"
            ],
            [
             0.8,
             "#7fbc41"
            ],
            [
             0.9,
             "#4d9221"
            ],
            [
             1,
             "#276419"
            ]
           ],
           "sequential": [
            [
             0,
             "#0d0887"
            ],
            [
             0.1111111111111111,
             "#46039f"
            ],
            [
             0.2222222222222222,
             "#7201a8"
            ],
            [
             0.3333333333333333,
             "#9c179e"
            ],
            [
             0.4444444444444444,
             "#bd3786"
            ],
            [
             0.5555555555555556,
             "#d8576b"
            ],
            [
             0.6666666666666666,
             "#ed7953"
            ],
            [
             0.7777777777777778,
             "#fb9f3a"
            ],
            [
             0.8888888888888888,
             "#fdca26"
            ],
            [
             1,
             "#f0f921"
            ]
           ],
           "sequentialminus": [
            [
             0,
             "#0d0887"
            ],
            [
             0.1111111111111111,
             "#46039f"
            ],
            [
             0.2222222222222222,
             "#7201a8"
            ],
            [
             0.3333333333333333,
             "#9c179e"
            ],
            [
             0.4444444444444444,
             "#bd3786"
            ],
            [
             0.5555555555555556,
             "#d8576b"
            ],
            [
             0.6666666666666666,
             "#ed7953"
            ],
            [
             0.7777777777777778,
             "#fb9f3a"
            ],
            [
             0.8888888888888888,
             "#fdca26"
            ],
            [
             1,
             "#f0f921"
            ]
           ]
          },
          "colorway": [
           "#636efa",
           "#EF553B",
           "#00cc96",
           "#ab63fa",
           "#FFA15A",
           "#19d3f3",
           "#FF6692",
           "#B6E880",
           "#FF97FF",
           "#FECB52"
          ],
          "font": {
           "color": "#2a3f5f"
          },
          "geo": {
           "bgcolor": "white",
           "lakecolor": "white",
           "landcolor": "#E5ECF6",
           "showlakes": true,
           "showland": true,
           "subunitcolor": "white"
          },
          "hoverlabel": {
           "align": "left"
          },
          "hovermode": "closest",
          "mapbox": {
           "style": "light"
          },
          "paper_bgcolor": "white",
          "plot_bgcolor": "#E5ECF6",
          "polar": {
           "angularaxis": {
            "gridcolor": "white",
            "linecolor": "white",
            "ticks": ""
           },
           "bgcolor": "#E5ECF6",
           "radialaxis": {
            "gridcolor": "white",
            "linecolor": "white",
            "ticks": ""
           }
          },
          "scene": {
           "xaxis": {
            "backgroundcolor": "#E5ECF6",
            "gridcolor": "white",
            "gridwidth": 2,
            "linecolor": "white",
            "showbackground": true,
            "ticks": "",
            "zerolinecolor": "white"
           },
           "yaxis": {
            "backgroundcolor": "#E5ECF6",
            "gridcolor": "white",
            "gridwidth": 2,
            "linecolor": "white",
            "showbackground": true,
            "ticks": "",
            "zerolinecolor": "white"
           },
           "zaxis": {
            "backgroundcolor": "#E5ECF6",
            "gridcolor": "white",
            "gridwidth": 2,
            "linecolor": "white",
            "showbackground": true,
            "ticks": "",
            "zerolinecolor": "white"
           }
          },
          "shapedefaults": {
           "line": {
            "color": "#2a3f5f"
           }
          },
          "ternary": {
           "aaxis": {
            "gridcolor": "white",
            "linecolor": "white",
            "ticks": ""
           },
           "baxis": {
            "gridcolor": "white",
            "linecolor": "white",
            "ticks": ""
           },
           "bgcolor": "#E5ECF6",
           "caxis": {
            "gridcolor": "white",
            "linecolor": "white",
            "ticks": ""
           }
          },
          "title": {
           "x": 0.05
          },
          "xaxis": {
           "automargin": true,
           "gridcolor": "white",
           "linecolor": "white",
           "ticks": "",
           "title": {
            "standoff": 15
           },
           "zerolinecolor": "white",
           "zerolinewidth": 2
          },
          "yaxis": {
           "automargin": true,
           "gridcolor": "white",
           "linecolor": "white",
           "ticks": "",
           "title": {
            "standoff": 15
           },
           "zerolinecolor": "white",
           "zerolinewidth": 2
          }
         }
        },
        "width": 1300
       }
      },
      "text/html": [
       "<div>                            <div id=\"11921940-59b2-4f29-9ff4-837908a29c6e\" class=\"plotly-graph-div\" style=\"height:800px; width:1300px;\"></div>            <script type=\"text/javascript\">                require([\"plotly\"], function(Plotly) {                    window.PLOTLYENV=window.PLOTLYENV || {};                                    if (document.getElementById(\"11921940-59b2-4f29-9ff4-837908a29c6e\")) {                    Plotly.newPlot(                        \"11921940-59b2-4f29-9ff4-837908a29c6e\",                        [{\"colorscale\":[[0.0,\"#000004\"],[0.1111111111111111,\"#180f3d\"],[0.2222222222222222,\"#440f76\"],[0.3333333333333333,\"#721f81\"],[0.4444444444444444,\"#9e2f7f\"],[0.5555555555555556,\"#cd4071\"],[0.6666666666666666,\"#f1605d\"],[0.7777777777777778,\"#fd9668\"],[0.8888888888888888,\"#feca8d\"],[1.0,\"#fcfdbf\"]],\"x\":[\"Github\",\"JavaScript\",\"HTML/CSS\",\"SQL\",\"Linux\",\"Windows\",\"Slack\",\"MySQL\",\"Python\",\"Jira\",\"Java\",\"Google Suite (Docs, Meet, etc)\",\"Node.js\",\"Gitlab\",\"Bash/Shell/PowerShell\",\"Docker\",\"jQuery\",\"C#\",\"PostgreSQL\",\"Confluence\",\"Microsoft SQL Server\",\"Trello\",\"SQLite\",\"React.js\",\"PHP\",\"TypeScript\",\"AWS\",\".NET\",\"Android\",\"C++\",\"Microsoft Teams\",\"MongoDB\",\"MacOS\",\"C\",\".NET Core\",\"Angular\",\"ASP.NET\",\"Redis\",\"Express\",\"MariaDB\",\"Oracle\",\"ASP.NET Core\",\"Raspberry Pi\",\"Microsoft Azure\",\"Microsoft Azure\",\"Microsoft Azure\",\"Microsoft Azure\",\"WordPress\",\"Google Cloud Platform\",\"Vue.js\",\"Firebase\",\"Spring\",\"Angular.js\",\"Elasticsearch\",\"iOS\",\"Pandas\",\"Kubernetes\",\"Django\",\"Flask\",\"Heroku\",\"Arduino\",\"Go\",\"Laravel\",\"TensorFlow\",\"React Native\",\"Kotlin\",\"Unity 3D\",\"Ruby\",\"Slack Apps and Integrations\",\"Assembly\",\"VBA\",\"DynamoDB\",\"Swift\",\"R\",\"Stack Overflow for Teams\",\"Ansible\",\"Ruby on Rails\",\"Rust\",\"Flutter\",\"Teraform\",\"Keras\",\"Cordova\",\"Xamarin\",\"Objective-C\",\"Dart\",\"Apache Spark\",\"Scala\",\"Torch/PyTorch\",\"Symfony\",\"Hadoop\",\"Perl\",\"Gatsby\",\"Cassandra\",\"Facebook Workplace\",\"IBM DB2\",\"Drupal\",\"Unreal Engine\",\"Haskell\",\"Puppet\",\"Couchbase\",\"IBM Cloud or Watson\",\"Chef\",\"Julia\"],\"y\":[\"Marketing or sales professional\",\"Senior executive/VP\",\"Engineer, site reliability\",\"Scientist\",\"Product manager\",\"Engineering manager\",\"Developer, game or graphics\",\"Educator\",\"Academic researcher\",\"Engineer, data\",\"Developer, QA or test\",\"Data scientist or machine learning specialist\",\"Data or business analyst\",\"Developer, embedded applications or devices\",\"System administrator\",\"Designer\",\"Database administrator\",\"DevOps specialist\",\"Developer, mobile\",\"Developer, desktop or enterprise applications\",\"Developer, front-end\",\"Developer, full-stack\",\"Developer, back-end\"],\"ygap\":1,\"z\":[[70.87227414330218,71.02803738317756,76.63551401869158,57.78816199376947,42.36760124610592,47.19626168224299,45.638629283489095,61.37071651090342,38.62928348909657,28.971962616822427,32.242990654205606,54.04984423676012,41.74454828660436,28.971962616822427,31.15264797507788,23.05295950155763,45.482866043613704,25.70093457943925,30.062305295950154,19.314641744548286,31.15264797507788,35.3582554517134,32.398753894081,26.635514018691588,49.06542056074766,22.897196261682243,27.102803738317753,26.168224299065418,30.218068535825545,21.339563862928348,23.364485981308412,24.922118380062305,27.41433021806853,21.651090342679126,19.003115264797508,19.626168224299064,19.003115264797508,13.239875389408098,19.470404984423677,23.98753894080997,15.732087227414329,15.42056074766355,18.53582554517134,18.53582554517134,18.22429906542056,18.53582554517134,18.22429906542056,42.36760124610592,25.54517133956386,18.22429906542056,19.470404984423677,9.968847352024921,16.355140186915886,9.968847352024921,21.02803738317757,11.682242990654206,10.43613707165109,15.109034267912772,11.993769470404985,14.641744548286603,14.018691588785046,10.903426791277258,18.06853582554517,11.838006230529595,14.953271028037381,9.034267912772584,11.059190031152648,11.214953271028037,12.461059190031152,9.813084112149532,13.862928348909657,7.78816199376947,10.12461059190031,10.43613707165109,11.838006230529595,7.009345794392523,9.345794392523365,6.230529595015576,10.59190031152648,5.451713395638629,6.074766355140187,9.813084112149532,8.566978193146417,9.345794392523365,9.034267912772584,6.853582554517133,5.451713395638629,5.919003115264798,9.190031152647975,4.8286604361370715,7.78816199376947,9.034267912772584,5.919003115264798,11.370716510903426,5.763239875389408,9.968847352024921,6.853582554517133,4.205607476635514,4.517133956386292,6.230529595015576,7.476635514018691,4.672897196261682,4.049844236760125],[75.07575757575758,72.87878787878788,69.16666666666667,65.07575757575758,58.86363636363636,44.31818181818182,59.3939393939394,49.54545454545455,45.984848484848484,43.93939393939394,33.33333333333333,55.6060606060606,43.78787878787879,33.25757575757576,44.3939393939394,42.95454545454545,36.43939393939394,34.84848484848485,45.75757575757576,29.09090909090909,34.54545454545455,35.0,33.63636363636363,31.439393939393938,31.515151515151512,29.772727272727273,45.07575757575758,28.939393939393938,31.363636363636367,23.636363636363637,23.939393939393938,25.833333333333336,33.18181818181819,23.40909090909091,26.136363636363637,20.606060606060606,20.530303030303028,29.393939393939394,18.409090909090907,22.954545454545457,13.712121212121211,20.303030303030305,23.03030303030303,21.06060606060606,24.62121212121212,21.06060606060606,24.62121212121212,23.863636363636363,24.848484848484848,19.015151515151516,15.757575757575756,10.303030303030303,15.075757575757576,21.59090909090909,23.40909090909091,12.878787878787879,19.090909090909093,13.560606060606062,12.727272727272727,14.696969696969697,13.560606060606062,13.863636363636363,12.424242424242424,11.363636363636363,15.151515151515152,9.393939393939393,8.787878787878787,12.5,14.84848484848485,10.606060606060606,10.303030303030303,12.727272727272727,10.681818181818182,6.8181818181818175,7.196969696969697,10.53030303030303,10.378787878787879,7.954545454545454,7.878787878787878,9.242424242424242,6.4393939393939394,8.409090909090908,8.93939393939394,9.318181818181818,7.348484848484849,5.681818181818182,6.212121212121212,5.151515151515151,6.666666666666667,4.772727272727273,8.333333333333332,5.227272727272727,6.59090909090909,5.681818181818182,5.227272727272727,6.0606060606060606,4.318181818181818,3.4090909090909087,4.848484848484849,5.227272727272727,5.0,3.939393939393939,2.727272727272727],[79.84536082474227,65.87628865979381,58.50515463917526,61.701030927835056,74.63917525773196,39.43298969072165,60.567010309278345,53.76288659793814,59.896907216494846,56.34020618556701,39.948453608247426,50.618556701030926,42.628865979381445,41.95876288659794,61.49484536082475,63.4020618556701,30.97938144329897,26.134020618556704,49.432989690721655,43.29896907216495,28.04123711340206,30.463917525773194,30.77319587628866,28.298969072164947,28.09278350515464,27.010309278350515,50.4639175257732,20.36082474226804,19.948453608247423,21.494845360824744,25.56701030927835,28.60824742268041,33.298969072164944,20.670103092783503,19.02061855670103,18.04123711340206,14.484536082474229,40.0,19.329896907216497,24.690721649484537,12.886597938144329,14.896907216494846,20.721649484536083,17.7319587628866,20.927835051546392,17.7319587628866,20.927835051546392,15.463917525773196,25.670103092783503,14.793814432989691,10.77319587628866,15.206185567010309,15.257731958762887,33.76288659793815,10.463917525773196,12.216494845360824,36.08247422680412,16.34020618556701,20.412371134020617,11.752577319587628,10.824742268041238,30.20618556701031,9.587628865979383,8.350515463917525,9.742268041237114,9.175257731958762,6.701030927835052,16.391752577319586,17.422680412371133,7.628865979381444,6.855670103092784,18.402061855670105,5.206185567010309,5.309278350515464,6.907216494845361,26.134020618556704,10.257731958762886,11.237113402061857,5.927835051546391,25.51546391752577,4.22680412371134,5.103092783505154,4.587628865979381,4.587628865979381,4.278350515463917,7.422680412371134,7.783505154639175,3.865979381443299,6.288659793814433,6.494845360824743,9.845360824742269,4.896907216494846,8.8659793814433,5.721649484536083,3.711340206185567,5.206185567010309,3.1443298969072164,3.9690721649484533,9.278350515463918,3.65979381443299,3.2989690721649487,8.041237113402062,2.0103092783505154],[77.75647171620325,48.465963566634706,47.02780441035475,43.672099712368166,67.16203259827421,50.0,45.49376797698945,39.213806327900286,67.68935762224353,32.118887823585816,32.98178331735379,41.37104506232023,25.98274209012464,40.46021093000959,42.42569511025887,32.98178331735379,25.071907957814,22.33940556088207,31.1601150527325,22.96260786193672,20.949185043144773,24.448705656759348,33.17353787152445,17.449664429530202,20.086289549376797,14.04602109300096,23.441994247363375,19.12751677852349,22.53116011505273,39.83700862895494,19.463087248322147,19.606903163950143,24.73633748801534,34.851390220517736,13.422818791946309,11.553211888782359,11.073825503355705,11.84084372003835,10.738255033557047,14.669223394055608,11.984659635666347,9.683604985618409,19.942473633748804,10.977948226270374,12.559923298178333,10.977948226270374,12.559923298178333,11.984659635666347,16.347075743048897,9.683604985618409,10.354745925215724,8.964525407478426,9.827420901246404,9.491850431447748,10.162991371045061,30.393096836049853,9.87535953978907,14.285714285714285,15.771812080536913,8.389261744966444,15.244487056567593,9.491850431447748,6.7114093959731544,24.30488974113135,7.28667305848514,5.944391179290508,8.724832214765101,7.766059443911794,6.903163950143816,11.601150527325025,9.731543624161073,5.512943432406519,6.2320230105465,22.24352828379674,6.615532118887824,6.136145733461169,5.704697986577181,8.820709491850431,5.417066155321189,3.883029721955897,16.155321188878236,4.650047938638543,4.410354745925216,5.321188878235858,3.978906999041227,6.85522531160115,5.129434324065196,12.224352828379674,3.883029721955897,6.85522531160115,6.615532118887824,2.924256951102589,4.1227229146692235,3.7392138063279003,3.4995206136145733,3.691275167785235,4.026845637583892,4.554170661553212,2.3010546500479387,3.2598274209012463,3.978906999041227,2.1572387344199426,5.465004793863854],[75.0901081297557,73.00760913095715,69.60352422907489,63.115738886664,53.66439727673208,50.62074489387265,53.34401281537845,52.42290748898678,42.01041249499399,44.533440128153785,36.28354024829796,49.539447336804166,42.57108530236284,34.84181017220665,37.48498197837405,36.04325190228274,41.529835802963554,34.52142571085302,36.72406888265919,28.233880656788145,35.32238686423708,36.8442130556668,34.96195434521426,28.55426511814177,34.88185822987585,28.39407288746496,33.11974369243092,28.994793752503,30.356427713255908,22.947537044453345,26.231477773327995,26.111333600320386,27.75330396475771,20.94513416099319,22.3468161794153,21.105326391670005,20.464557468962756,20.50460552663196,18.622346816179416,20.704845814977972,15.618742490989188,16.900280336403682,18.622346816179416,18.30196235482579,19.463356027232678,18.30196235482579,19.463356027232678,22.90748898678414,21.18542250700841,16.940328394072885,17.22066479775731,10.732879455346415,15.818982779335203,15.93912695234281,19.823788546255507,10.332398878654384,12.655186223468162,12.975570684821786,11.17340808970765,13.215859030837004,11.894273127753303,11.533840608730477,12.655186223468162,8.970764917901482,12.214657589106928,9.130957148578293,9.010812975570685,10.13215859030837,11.213456147376851,7.649179014817781,10.492591109331197,8.53023628354025,10.01201441730076,6.888265919102923,5.726872246696035,6.888265919102923,7.929515418502203,5.206247496996395,7.889467360833,5.206247496996395,3.884661593912695,7.8494193031637955,7.529034841810173,8.049659591509812,6.207448938726472,4.685622747296756,3.2839407288746494,3.644373247897477,5.967160592711253,4.004805766920304,5.246295554665599,4.805766920304365,4.325190228273929,4.565478574289147,3.9247096515818978,5.246295554665599,3.2038446135362433,2.2827392871445733,3.0036043251902282,3.123748498197837,2.8033640368442128,2.643171806167401,1.5618742490989186],[75.99118942731278,69.34654919236417,60.68281938325991,60.4258443465492,61.60058737151248,42.621145374449334,61.45374449339207,47.09985315712188,46.51248164464023,59.03083700440529,37.99559471365639,54.25844346549192,43.4654919236417,36.71071953010279,45.88839941262849,50.14684287812041,30.837004405286343,33.33333333333333,44.860499265785606,44.49339207048458,32.8928046989721,33.480176211453745,30.726872246696036,33.627019089574155,26.431718061674008,30.066079295154186,44.82378854625551,27.019089574155654,24.963289280469898,23.017621145374452,28.634361233480178,28.524229074889867,33.44346549192364,21.73274596182085,23.53157121879589,21.292217327459618,18.869309838472834,32.305433186490454,18.68575624082232,18.318649045521294,14.574155653450807,18.355359765051396,18.3920704845815,19.933920704845814,21.32892804698972,19.933920704845814,21.32892804698972,15.38179148311307,21.32892804698972,15.52863436123348,13.215859030837004,14.4640234948605,16.079295154185022,25.40381791483113,16.409691629955947,11.380323054331864,22.24669603524229,11.930983847283407,13.362701908957417,11.674008810572687,10.682819383259911,16.409691629955947,8.994126284875184,9.140969162995596,10.38913362701909,9.544787077826726,7.048458149779736,12.812041116005874,13.766519823788546,7.856093979441997,6.571218795888399,13.876651982378855,8.737151248164464,5.39647577092511,5.983847283406755,11.490455212922173,10.205580029368576,7.63582966226138,5.469897209985316,11.637298091042585,3.9647577092511015,5.947136563876652,5.726872246696035,7.599118942731277,4.441997063142438,6.424375917767988,7.085168869309838,3.81791483113069,5.359765051395008,5.8370044052863435,6.130690161527165,4.809104258443465,6.4610866372980915,4.038179148311307,3.81791483113069,4.662261380323055,2.679882525697504,2.679882525697504,4.5154185022026425,4.001468428781204,2.7900146842878124,4.331864904552129,1.57856093979442],[79.45500179275726,67.22839727500897,62.459662961635,49.26496952312657,52.92219433488705,64.2524202223019,49.40839010397992,48.04589458587307,43.85084259591252,42.34492649695231,41.37683757619218,44.424524919325926,41.23341699533883,39.6916457511653,35.353173180351384,31.122266045177483,34.31337396916457,53.53173180351381,27.321620652563645,29.006812477590532,26.78379347436357,34.63607027608462,33.95482251703119,27.142344926496953,30.36930799569738,28.074578702043745,23.01900322696307,36.966654714951595,43.20544998207242,42.595912513445676,23.664395840803152,24.632484761563283,26.532807457870206,31.33739691645751,27.895302975977053,18.64467551093582,18.60882036572248,15.059160989602008,17.999282897095732,18.142703477949084,13.409824309788455,16.2782359268555,18.752240946575835,14.879885263535316,13.696665471495159,14.879885263535316,13.696665471495159,16.56507708856221,15.453567586948727,16.134815346002153,16.780207959842237,9.358192900681248,13.553244890641809,9.824309788454643,24.52491932592327,7.565435640014343,9.752599498027967,10.254571531014701,9.680889207601291,11.258515596988168,16.098960200788813,10.326281821441377,9.5016134815346,9.465758336321262,12.19074937253496,10.039440659734671,43.09788454643241,8.031552527787737,7.852276801721048,11.939763356041592,7.60129078522768,6.704912154894227,9.788454643241305,4.195051989960559,6.09537468626748,4.553603442093941,5.808533524560774,10.362136966654715,8.103262818214414,4.051631409107207,4.230907135173897,7.60129078522768,8.246683399067766,10.147006095374685,6.09537468626748,3.1911079239870923,3.2628182144137687,3.513804230907135,4.697024022947293,3.04768734313374,3.872355683040516,3.7289351021871644,2.6532807457870207,3.9082108282538544,2.6174256005736822,3.657224811760488,16.098960200788813,3.155252778773754,2.4022947292936534,3.0118321979204015,2.2947292936536394,2.007888131946934,1.3983506633201863],[78.27868852459017,68.4084699453552,66.80327868852459,56.62568306010929,56.93306010928961,51.263661202185794,51.434426229508205,53.85928961748634,45.25273224043716,40.47131147540984,39.9931693989071,46.89207650273224,39.58333333333333,40.33469945355191,38.18306010928962,35.040983606557376,37.36338797814208,29.57650273224044,34.18715846994536,27.66393442622951,28.927595628415297,33.060109289617486,34.80191256830601,27.86885245901639,32.99180327868852,26.331967213114755,25.512295081967213,25.136612021857925,28.688524590163933,27.732240437158467,21.9603825136612,26.400273224043712,26.707650273224044,25.37568306010929,18.237704918032787,20.32103825136612,16.35928961748634,16.87158469945355,18.954918032786885,21.311475409836063,15.881147540983607,13.866120218579233,18.066939890710383,14.924863387978144,14.993169398907105,14.924863387978144,14.993169398907105,20.21857923497268,16.76912568306011,15.23224043715847,16.188524590163937,13.524590163934427,14.685792349726775,12.295081967213115,13.456284153005466,12.978142076502733,11.202185792349727,13.114754098360656,12.09016393442623,14.515027322404372,14.412568306010929,9.084699453551913,11.441256830601093,10.758196721311474,11.441256830601093,9.870218579234972,9.426229508196721,8.777322404371585,9.528688524590164,9.562841530054644,8.435792349726775,6.796448087431695,6.864754098360656,9.221311475409836,7.547814207650274,6.762295081967213,6.4890710382513666,5.669398907103825,7.41120218579235,4.67896174863388,5.532786885245901,7.035519125683059,5.942622950819672,5.976775956284152,5.601092896174864,4.5423497267759565,4.132513661202186,4.337431693989071,5.498633879781421,3.927595628415301,5.669398907103825,4.474043715846995,3.5177595628415297,4.337431693989071,3.790983606557377,4.67896174863388,3.3811475409836067,4.200819672131147,2.8346994535519126,2.7663934426229506,2.698087431693989,2.288251366120219,2.185792349726776],[77.73085585585585,54.19481981981982,53.46283783783784,46.70608108108108,62.19031531531532,49.0990990990991,45.21396396396396,47.015765765765764,59.03716216216216,30.152027027027028,39.86486486486486,40.93468468468468,28.29391891891892,40.765765765765764,36.76801801801802,30.96846846846847,29.898648648648653,24.239864864864867,30.236486486486484,19.53828828828829,22.804054054054053,26.745495495495497,32.74211711711711,18.86261261261261,25.788288288288285,15.79391891891892,21.79054054054054,19.98873873873874,26.97072072072072,36.76801801801802,18.524774774774773,23.170045045045047,22.60698198198198,33.164414414414416,13.65427927927928,15.118243243243242,13.034909909909908,12.443693693693694,11.79617117117117,16.019144144144143,13.56981981981982,9.628378378378379,16.666666666666664,10.951576576576578,11.993243243243242,10.951576576576578,11.993243243243242,15.850225225225225,16.07545045045045,11.233108108108109,12.528153153153154,11.120495495495495,11.683558558558559,9.90990990990991,10.416666666666668,25.11261261261261,8.220720720720722,13.992117117117116,14.076576576576578,10.416666666666668,14.329954954954955,7.85472972972973,9.121621621621621,19.90427927927928,7.573198198198199,6.587837837837837,7.882882882882883,6.925675675675675,5.996621621621621,10.838963963963964,7.967342342342343,4.5608108108108105,5.63063063063063,17.989864864864867,6.981981981981981,4.842342342342342,5.405405405405405,6.78490990990991,5.574324324324325,3.0968468468468466,13.147522522522523,5.123873873873873,4.391891891891892,4.870495495495495,4.110360360360361,6.221846846846847,4.983108108108108,10.022522522522523,3.350225225225225,5.79954954954955,5.405405405405405,2.5337837837837838,3.800675675675676,3.9977477477477477,3.040540540540541,3.2939189189189184,2.956081081081081,4.504504504504505,2.1114864864864864,2.505630630630631,3.350225225225225,1.5202702702702704,4.335585585585585],[75.30765115034778,56.90208667736758,52.59497057249867,67.1749598715891,62.84109149277689,49.518459069020864,52.220438737292675,49.67897271268058,65.08828250401284,49.2776886035313,40.44943820224719,43.28517924023542,31.942215088282506,36.43659711075441,43.90048154093098,44.569288389513105,29.507758159443554,26.64526484751204,44.0342429106474,34.85821294810059,34.4836811128946,27.768860353130016,32.102728731942214,21.187800963081862,22.953451043338685,18.432316746923487,37.31942215088282,21.74959871589085,20.518994114499733,23.809523809523807,27.554842161583736,27.314071696094167,25.842696629213485,22.98020331728197,16.934189406099517,15.302300695559124,14.526484751203853,21.910112359550563,13.456393793472445,16.613162118780096,18.726591760299627,12.413055109684324,18.619582664526487,16.479400749063668,18.45906902086677,16.479400749063668,18.45906902086677,12.787586944890316,21.69609416800428,11.985018726591761,11.20920278223649,14.018191546281432,12.867843766720172,20.278223649010165,9.149277688603531,32.530765115034775,18.325307651150347,16.559657570893528,22.364901016586412,9.65757089352595,12.54681647940075,11.797752808988763,7.784911717495987,17.415730337078653,7.410379882289994,6.71482075976458,6.821829855537722,7.811663991439273,10.914927768860354,7.2766185125735685,11.15569823434992,10.112359550561797,4.628143392188336,13.857677902621724,6.982343499197431,8.507223113964688,5.591225254146603,5.858747993579454,4.574638844301766,8.801498127340825,10.914927768860354,4.5211342964151955,4.735152487961477,4.360620652755484,3.2370251471375067,17.46923488496522,12.680577849117174,8.079186730872125,4.226859283039058,14.686998394863563,5.778491171749598,2.7822364901016585,7.490636704119851,4.119850187265917,4.333868378812198,3.210272873194221,2.701979668271803,2.8357410379882286,2.8089887640449436,3.504547886570358,3.263777421080792,2.354200107009096,2.247191011235955],[74.79098049151254,71.54801114770713,67.24094248796554,63.38991639219661,56.29592095262225,56.346592348619204,51.3301241449202,52.52090195084874,44.210793007347355,53.25563719280466,43.374714973397516,42.71598682543704,40.689130985558656,37.92753990372435,42.386622751456805,38.94096782366354,38.484925259690904,38.3582467696985,33.18976437800861,37.674182923739544,35.39397010387636,29.820116544210794,31.59361540410438,25.918419052444897,30.833544464149988,27.793260704332408,28.78135292627312,31.5682797061059,27.793260704332408,23.43552064859387,29.592095262224476,24.423612870534583,26.349125918419052,21.560678996706358,24.220927286546747,22.194071446668357,21.28198631872308,17.329617430960223,16.18951102102863,19.50848745882949,18.267038256903977,18.191031162908537,15.860146947048392,18.520395236888774,18.29237395490246,18.520395236888774,18.29237395490246,16.696224980998224,15.049404611097037,15.150747403090955,13.757284013174562,14.694704839118316,17.101596148973904,15.252090195084875,15.049404611097037,8.538130225487713,13.225234355206487,11.147707119331137,10.61565746136306,9.830250823410184,10.362300481378261,10.134279199391944,11.147707119331137,6.764631365594122,9.095515581454269,8.79148720547251,8.71548011147707,9.602229541423867,10.86901444134786,6.865974157588041,8.99417278946035,7.575373701545478,6.6632885736002025,4.079047377755257,7.246009627565239,7.347352419559158,6.435267291613885,5.117810995692931,5.4218393716746895,5.573853559665569,2.837598175829744,6.485938687610844,6.257917405624525,5.649860653661008,4.155054471750697,3.749683303775019,3.775019001773499,2.5842411958449456,5.092475297694452,3.2936407398023815,5.903217633645807,3.014948061819103,3.4709906257917407,3.7243476057765394,3.7243476057765394,4.4590828477324544,3.166962249809982,2.2802128198631872,3.2176336458069423,2.5842411958449456,2.4322270078540664,2.482898403851026,1.3681276919179122],[78.05917753259779,48.26980942828485,48.24473420260782,58.45035105315948,63.54062186559679,48.72116349047141,51.07823470411233,46.26379137412236,78.33500501504514,40.84754262788365,35.05516549648947,43.75626880641926,25.651955867602812,36.18355065195587,39.56870611835506,39.96990972918756,24.172517552657975,21.339017051153462,39.1173520561685,28.58575727181545,27.256770310932797,26.705115346038117,33.45035105315948,18.756268806419257,18.004012036108325,13.99197592778335,32.59779338014042,17.201604814443332,19.408224674022065,29.789368104312942,24.37311935807422,25.827482447342025,24.82447342026078,25.050150451354064,13.440320962888666,12.637913741223672,11.158475426278837,15.220661985957873,10.782347041123371,13.665997993981946,16.098294884653964,9.378134403209629,17.953861584754264,14.543630892678033,16.72517552657974,14.543630892678033,16.72517552657974,12.211634904714144,22.216649949849547,9.829488465396189,9.954864593781345,9.553660982948847,10.75727181544634,15.57171514543631,8.224674022066198,50.075225677031085,13.716148445336007,19.132397191574725,26.4543630892678,9.754262788365095,11.885656970912738,9.553660982948847,6.218655967903711,37.938816449348046,7.246740220661986,5.917753259779338,6.64493480441324,6.41925777331996,8.049147442326982,7.5225677031093285,9.327983951855568,7.096288866599799,4.689067201604814,27.632898696088265,7.246740220661986,6.093279839518555,4.663991975927784,6.218655967903711,4.789368104312939,5.1654964894684054,27.256770310932797,3.7612838515546643,3.5857572718154462,3.8114343029087263,3.3600802407221666,15.697091273821465,8.375125376128386,19.834503510531594,2.8084252758274824,12.963891675025074,4.413239719157472,2.683049147442327,5.441323971915748,4.037111334002006,3.786359077231695,2.8335005015045134,2.7582748244734203,3.6609829488465397,2.432296890672016,2.3570712136409226,4.112337011033099,2.0812437311935805,4.237713139418255],[67.9920477137177,57.55467196819085,58.97117296222664,73.45924453280318,46.34691848906561,59.04572564612326,40.87972166998012,49.6520874751491,53.23061630218688,36.97813121272366,31.088469184890656,38.07157057654075,27.907554671968192,27.186878727634195,34.69184890656064,26.565606361829026,33.64811133200795,31.6351888667992,34.09542743538768,24.055666003976143,45.80019880715705,25.074552683896624,30.66600397614314,17.2713717693837,25.894632206759443,16.84890656063618,25.497017892644138,28.45427435387674,20.328031809145127,18.961232604373755,29.27435387673956,19.905566600397613,18.389662027833,17.544731610337973,19.25944333996024,14.48807157057654,20.601391650099405,11.928429423459244,10.636182902584492,16.575546719681906,22.39065606361829,15.283300198807156,14.115308151093439,17.395626242544733,19.01093439363817,17.395626242544733,19.01093439363817,17.072564612326044,16.451292246520875,10.43737574552684,9.542743538767395,8.722664015904574,12.226640159045726,11.456262425447317,9.269383697813122,26.988071570576537,8.399602385685885,13.543737574552683,14.41351888667992,9.269383697813122,9.791252485089464,6.312127236580517,8.623260437375746,13.643141153081512,6.535785288270378,4.920477137176938,5.193836978131213,6.163021868787276,7.231610337972167,5.8399602385685885,18.961232604373755,5.666003976143141,4.150099403578529,18.93638170974155,6.36182902584493,4.52286282306163,4.920477137176938,3.354870775347912,4.398608349900597,3.354870775347912,7.75347912524851,4.796222664015905,5.318091451292246,3.6779324055666,3.1560636182902586,8.499005964214712,4.473161033797217,5.790258449304175,3.6530815109343937,7.952286282306163,4.970178926441352,2.261431411530815,3.5288270377733597,4.3737574552683895,5.5168986083499005,3.8270377733598413,2.0129224652087476,2.360834990059642,2.3111332007952288,2.3856858846918487,3.2803180914512926,1.9880715705765408,1.8638170974155068],[72.96842105263158,58.37894736842105,54.10526315789473,49.55789473684211,63.49473684210526,56.48421052631579,42.589473684210525,45.03157894736842,50.27368421052631,46.14736842105263,39.83157894736842,37.05263157894737,34.0,38.315789473684205,43.97894736842105,33.97894736842105,30.484210526315792,38.33684210526316,29.957894736842107,31.305263157894736,30.589473684210528,24.31578947368421,38.821052631578944,19.747368421052634,25.157894736842106,22.526315789473685,23.157894736842106,32.61052631578947,36.46315789473684,47.473684210526315,27.66315789473684,20.968421052631577,22.526315789473685,47.89473684210526,24.08421052631579,18.821052631578947,19.11578947368421,14.526315789473685,13.094736842105261,17.49473684210526,15.073684210526316,16.568421052631578,30.23157894736842,16.673684210526314,15.389473684210525,16.673684210526314,15.389473684210525,13.473684210526315,14.063157894736841,12.021052631578948,13.368421052631579,10.505263157894737,14.547368421052632,10.042105263157895,18.294736842105262,9.284210526315789,9.873684210526317,10.547368421052632,10.821052631578947,7.831578947368421,23.978947368421053,10.778947368421052,8.063157894736841,10.442105263157893,9.178947368421053,9.284210526315789,10.063157894736841,7.178947368421053,7.473684210526316,15.389473684210525,9.494736842105263,6.421052631578947,9.263157894736842,4.378947368421052,6.273684210526316,5.747368421052632,4.905263157894737,9.031578947368422,7.178947368421053,3.4526315789473685,4.757894736842106,7.284210526315789,9.010526315789473,8.715789473684211,5.663157894736842,3.494736842105263,3.136842105263158,3.8947368421052633,3.7263157894736847,3.0947368421052635,5.6421052631578945,2.4842105263157896,3.663157894736842,3.3473684210526313,3.494736842105263,2.926315789473684,3.7894736842105265,2.863157894736842,2.168421052631579,2.8000000000000003,2.378947368421053,1.831578947368421,1.263157894736842],[73.63601678748569,71.04158718046547,69.49637542922548,68.14193056085463,70.67913010301412,52.89965661961084,46.37542922548646,57.535291873330785,50.91568103777184,39.813048454788245,35.80694391453644,43.13239221671118,38.744753910721094,40.061045402518126,54.94086226631056,42.69362838611217,41.26287676459366,31.896222815719188,40.499809233117126,27.413201068294548,35.23464326592903,28.46241892407478,35.12018313620756,22.128958412819536,39.75581838992751,23.52155665776421,31.972529568866843,26.955360549408624,24.28462418924075,23.61694009919878,24.780618084700496,23.712323540633346,23.97939717665013,23.998473864937047,19.896985883250668,17.798550171690195,18.06562380770698,23.73140022892026,15.566577642121327,31.55284242655475,15.261350629530712,14.6699732926364,23.73140022892026,16.08164822586799,17.32163296451736,16.08164822586799,17.32163296451736,21.13697062190004,16.88286913391835,16.19610835558947,10.282334986646319,9.786341091186571,13.620755436856161,17.3788630293781,11.52231972529569,9.462037390309042,15.375810759252193,14.498283098054177,13.639832125143075,9.805417779473483,13.296451735978634,13.964135826020602,12.361694009919878,7.058374666157954,7.458985120183136,6.447920640976726,7.954979015642884,10.511255246089279,9.50019076688287,8.393742846241894,10.702022128958413,7.039297977871041,5.322396032048837,5.207935902327356,5.188859214040443,15.070583746661578,6.75314765356734,7.306371613887828,5.265165967188096,9.080503624570776,3.0331934376192295,5.990080122090805,5.589469668065624,4.425791682563907,4.101487981686379,4.120564669973293,3.452880579931324,2.918733307897749,6.447920640976726,3.6818008393742843,8.260206028233497,2.861503243037009,4.311331552842427,2.918733307897749,3.719954215948111,5.11255246089279,3.4147272033574967,2.708889736741702,5.0362457077451355,2.689813048454788,2.2510492178557806,3.5864173979397176,1.2590614269362839],[72.48637474158993,75.98195827851907,74.87314414583724,58.804735951888745,44.7472279646683,55.44070663409134,42.02217628265363,55.19639165570381,35.951888742717536,34.63634655140011,35.89550836308965,39.29712460063898,41.890622063521896,31.685773350873898,30.182296560796846,24.03683518135689,45.74328133809434,35.08738958842323,25.803420409697424,20.879533922195076,32.77579402367976,28.79158052997557,29.900394662657398,29.017102048487125,37.981582409321554,27.870700996053372,21.14264236045856,29.24262356699868,29.63728622439391,24.130802480736705,24.018041721480923,23.003194888178914,21.424544258598008,22.533358391279833,19.921067468520956,22.834053749295244,20.710392783311406,11.445217064461568,18.248449539560234,18.53035143769968,15.260289419282088,14.809246382258973,14.65889870325127,15.354256718661905,13.47491073106559,15.354256718661905,13.47491073106559,25.671866190565684,14.62131178349934,17.308776545762075,16.500657771095657,9.302762638601767,16.93290734824281,8.851719601578651,15.86168013531291,6.483743657207292,7.42341665100545,10.129674873144145,7.83687276827664,11.783499342228906,11.294869385453863,6.558917496711144,12.666791956399173,6.107874459688029,11.069347866942305,7.103927833114076,10.467957150911483,6.840819394850592,6.822025934974629,7.0287539936102235,9.528284157113324,4.999060327006202,7.479797030633339,4.491636910355196,8.02480736703627,3.7398985153166695,5.299755685021613,3.6083442961849275,6.897199774478481,2.3491824844953957,2.180041345611727,6.9723736139823345,6.29580905844766,5.713211802292802,4.961473407254275,2.837812441270438,1.8793459875963165,2.405562864123285,4.134561172711896,2.499530163503101,4.134561172711896,4.698364968990791,2.5559105431309903,3.476790077053186,3.4579966171772227,4.773538808494644,4.021800413456117,1.935726367224206,2.161247885735764,2.2364217252396164,2.1236609659838375,1.5410637098289794,0.9208795339221951],[71.26878713736455,74.27472911569382,73.06885704299197,80.07689619014332,56.83327507864383,59.07025515554002,43.77839916113247,59.402306885704306,42.24047535826634,37.17231737154841,35.04019573575673,40.055924501922405,38.67528836071304,33.97413491786089,43.411394617266694,33.92170569730864,47.6581614819993,40.38797623208668,37.189793778399164,23.226144704648725,46.01537923802866,27.96225096120238,32.52359314924851,22.859140160782943,41.50646627053477,24.23977630199231,30.059419783292558,35.389723872771754,26.074799021321216,20.447396015379237,26.4767563788885,23.593149248514507,21.04159384830479,19.18909472212513,25.09612023767913,19.64348130024467,26.82628451590353,19.975533030408947,15.798671793079343,27.455435162530584,18.175463124781547,20.027962250961203,17.493883257602235,18.47256204124432,19.50367004543866,18.47256204124432,19.50367004543866,21.688220901782593,16.218105557497378,16.58511010136316,12.320866829779797,9.664452988465571,16.07829430269137,14.872422229989516,13.386927647675636,10.013981125480601,11.272282418734708,12.111149947570778,11.464522894092974,9.140160782943028,11.272282418734708,10.013981125480601,15.379238028661307,6.850751485494583,9.140160782943028,6.291506466270534,7.462425725270884,7.444949318420132,8.930443900734009,6.850751485494583,13.491786088780147,6.815798671793079,5.924501922404754,6.274030059419783,6.308982873121287,8.091576371897938,5.522544564837469,4.526389374344634,5.522544564837469,5.312827682628452,2.883607130373995,6.780845858091576,7.3051380636141205,5.173016427822439,4.229290457881859,4.2642432715833625,3.0408947920307585,2.7962250961202377,6.256553652569032,3.862285914016078,6.23907724571828,2.778748689269486,3.670045438657812,3.005941978329256,4.037049982523593,4.596295001747641,2.6738902481649776,2.009786787836421,2.9010835372247463,2.6389374344634744,2.1146452289409297,2.2719328905976934,0.9262495630898288],[77.73496398056626,70.29653208242587,62.70732115932317,63.05913888423521,70.74886915731278,45.652538113586864,59.189143910202716,48.4335734628916,51.76746523705813,59.03836488524041,38.43189814039202,44.429552688892606,43.457865639135534,43.910202714022454,58.68654716032836,63.343943709164016,33.690735466577316,35.13151281621712,45.04942201373765,44.44630591388842,35.91891439102027,30.85944044228514,29.88775339252806,28.76528731780868,26.553861618361534,32.166191991958456,44.93214943876696,28.7987937678003,20.237895794940524,18.26101524543475,32.81956776679511,29.38515664265371,29.050092142737476,17.574133020606467,26.687887418328028,23.370748869157314,20.924778019768805,32.83632099179092,18.445300720388673,23.203216619199196,15.831797621042051,22.04724409448819,19.85257162003686,24.593734293851565,26.16853744345787,24.593734293851565,26.16853744345787,14.324007371418999,20.807505444798124,16.736471770815882,10.956609147260847,16.334394370916403,15.412966996146757,27.00619869324845,11.157647847210587,10.722063997319484,29.938013067515495,13.63712514659072,15.915563746021109,10.202714022449321,9.39855922265036,19.919584520020102,9.130507622717374,7.823756073044061,8.828949572792762,8.175573797956107,6.13168034846708,12.079075221980231,14.156475121460883,5.327525548668119,5.8803819735299045,13.838163846540457,4.891941698777014,4.288825598927794,4.657396548835651,20.857765119785558,7.287652873178087,7.321159323169709,4.875188473781203,17.440107220639973,3.7862288490534426,5.763109398559223,5.394538448651366,4.087786898978053,3.7694756240576313,5.243759423689061,5.411291673647177,2.680515999329871,5.428044898642989,4.741162673814709,6.349472273412632,3.886748199028313,5.846875523538281,3.4511643491372093,3.668956274082761,3.886748199028313,2.0606466744848384,2.4794772993801306,5.712849723571788,3.5349304741162673,2.445970849388507,5.277265873680684,0.9884402747528899],[77.74731069394643,66.64205863741827,60.69394642480489,50.28475005273149,40.392322294874496,41.700063277789496,52.71039865007382,50.34802784222738,31.195950221472263,45.07487871757013,49.44104619278633,41.05673908458131,40.82472052309639,36.753849398861,26.323560430288968,27.336005062223162,33.769246994305,34.09618224003375,27.54693102720945,27.93714406243409,28.11643113267243,34.454756380510446,43.35583210293187,30.24678337903396,29.339801729592914,29.962033326302468,24.214300780426072,26.102088167053367,62.58173381143218,22.51634676228644,22.463615271039867,25.079097236869856,28.337903395908036,19.521198059481122,20.702383463404345,22.54798565703438,18.519299725796245,14.047669268086901,19.721577726218097,15.85108626871968,12.507909723686986,15.977641847711455,14.237502636574561,15.819447373971737,14.522252689306054,15.819447373971737,14.522252689306054,16.20966040919637,16.968993883147014,13.636363636363635,28.685931238135414,11.970048512971946,14.764817549040288,9.586585108626872,38.58890529424172,5.526260282640793,7.793714406243408,9.20691837165155,7.456232862265345,11.600928074245939,11.706391056739085,7.4035013710187725,11.0630668635309,7.034380932292765,19.700485129719468,20.934402024889266,11.126344653026788,7.087112423539338,7.930816283484497,5.357519510651762,5.389158405399705,6.116852984602405,21.145327989875554,2.963509808057372,6.580890107572242,3.0478801940518876,5.199325036912044,3.4591858257751533,14.226956338325248,2.858046825564227,2.815861632566969,11.020881670533642,11.569289179497996,14.923012022780005,11.27399282851719,2.1619911411094703,2.214722632356043,2.0987133516135836,3.627926597764185,1.9510651761231808,2.4151022990930184,3.3748154397806367,2.27800042185193,3.6806580890107568,2.2041763341067284,2.7736764395697113,3.290445053786121,1.4975743514026576,1.4975743514026576,2.3096393165998736,1.8139632988820924,1.0651761231807635,0.5484075089643535],[69.73014256619145,65.69925322471147,61.31194840461644,62.02477936184657,49.45689069925322,68.77970128988458,41.35268160217244,43.73727087576375,36.10828241683639,45.23930753564155,40.73319755600815,32.56958587915818,33.71520706042091,32.56958587915818,36.21011541072641,30.99966055668703,35.429395790902916,51.332315003394434,29.14969450101833,31.54276985743381,45.13747454175153,24.151391717583166,31.551255940257978,21.452817379497624,22.174134419551937,28.301086218601494,21.486761710794298,45.58723693143245,26.196537678207736,28.131364562118126,32.73930753564155,20.38357094365241,19.20400543109301,22.87847929395791,33.29938900203666,22.284453496266124,28.615071283095723,13.441955193482688,12.81398506449423,14.850644942294636,20.08655804480652,25.19517990495587,15.08825526137135,21.98744059742023,20.621181262729124,21.98744059742023,20.621181262729124,12.08418194161575,11.023421588594704,11.617447386286491,10.140868974881196,15.08825526137135,14.867617107942973,11.074338085539715,12.415139171758316,6.916157501697216,9.971147318397827,7.781737949762389,7.73082145281738,7.484725050916497,10.36999321113374,7.909029192124915,6.839782756279702,5.872369314324508,7.4168363883231505,6.907671418873049,8.630346232179226,5.337746096401901,5.974202308214529,6.737949762389681,10.123896809232859,5.18499660556687,5.762050237610318,3.63204344874406,4.9813306177868295,4.2175831636116765,3.513238289205703,5.371690427698574,4.760692464358452,3.250169721656483,2.6391717583163614,5.609300746775289,8.621860149355058,5.066191446028514,3.699932111337407,2.842837746096402,3.054989816700611,2.096062457569586,2.842837746096402,2.6476578411405294,3.699932111337407,1.8584521384928716,2.7155465037338766,2.5288526816021726,3.920570264765784,2.3167006109979633,2.774949083503055,1.8499660556687034,1.7566191446028514,2.197895451459606,1.4511201629327901,1.2983706720977597,0.721317040054311],[75.72693484914736,84.0128989943157,78.31219938784434,56.394840402273715,45.419763882815914,48.88500218627022,51.4702667249672,50.841714035854835,31.29645824223874,45.917140358548316,33.728683865325756,39.71359860078706,49.36051595977263,35.417577612592915,29.334280717096632,32.71206821163096,43.56689986882379,33.542850896370794,30.908395277656318,29.268692610406642,31.383909051158724,31.351114997813728,25.912767818102317,40.10712724092698,32.624617402710975,39.0194578049847,25.24048972452995,27.169873196327067,25.972890249234805,16.04722343681679,25.087450808919982,26.929383471797113,24.579142982072586,14.675338871884566,21.523830345430696,28.377787494534324,20.529077393965895,16.40249234805422,23.048753825972888,16.708570179274158,13.609532138172279,17.539352864013992,12.357892435505029,15.954306952339309,15.074333187581985,15.954306952339309,15.074333187581985,18.84564932225623,13.751639702667251,19.266506340183646,15.828596414516834,11.636423261915173,18.03126366418889,11.368605159597726,14.013992129427196,5.596851770878881,9.44468736335811,9.368167905553126,7.804984696108439,12.877131613467425,8.275032794053345,7.542632269348491,11.472452995190205,5.0120244862264975,12.762352426759948,6.711849584608657,7.362264975951027,7.25295146480105,7.859641451683428,3.9735461303017057,6.3456493222562305,6.006777437691299,5.875601224311325,2.9514648010494096,5.667905553126366,3.9516834280717097,5.711630957586357,3.8860953213817226,5.728027984258855,3.219282903366856,2.1425448185395717,7.1217752514210755,5.378224748578924,4.328815041539134,4.394403148229121,2.04962833406209,2.295583734149541,1.5686488850021865,4.257761259291649,1.7654132050721467,2.6125929164844774,5.329033668561435,2.109750765194578,3.0279842588543944,2.3611718408395275,3.4707039790118057,2.104285089637079,1.6178399650196764,1.579580236117184,1.8419326628771315,1.4265413205072146,1.0439440314822912,0.4481853957149104],[75.39539170506913,81.99078341013825,73.78433179723503,62.046082949308754,51.1815668202765,48.86267281105991,52.73364055299539,50.22672811059908,36.20276497695853,48.24700460829493,36.781566820276495,39.34746543778802,47.34009216589862,35.52073732718894,33.500460829493086,39.09677419354839,42.08663594470046,36.37603686635945,36.022119815668205,32.07741935483871,34.82764976958526,30.348387096774193,26.392626728110596,36.22857142857143,30.311520737327193,37.235023041474655,30.189861751152076,29.423041474654376,22.923502304147465,16.250691244239633,26.65437788018433,27.188940092165897,24.302304147465435,14.422119815668202,24.287557603686636,26.70230414746544,22.55115207373272,20.903225806451616,21.92442396313364,17.142857142857142,14.816589861751153,20.468202764976958,13.183410138248847,17.51889400921659,17.74746543778802,17.51889400921659,17.74746543778802,15.402764976958524,14.282027649769585,18.001843317972348,13.12442396313364,14.975115207373271,16.94377880184332,14.381566820276499,11.546543778801844,7.498617511520737,12.342857142857143,10.665437788018433,10.031336405529954,12.866359447004609,7.915207373271889,9.209216589861752,11.163133640552996,5.7695852534562215,10.694930875576036,6.705990783410138,6.473732718894009,8.468202764976958,8.188018433179725,3.845161290322581,5.776958525345622,7.472811059907834,4.836866359447005,3.288479262672811,4.925345622119816,5.393548387096774,6.731797235023042,4.497695852534562,5.172350230414747,4.748387096774193,2.6764976958525346,6.016589861751152,5.131797235023042,3.44331797235023,3.911520737327189,2.790783410138249,3.1889400921658986,1.9649769585253458,4.313364055299539,2.3483870967741938,2.8829493087557605,4.1732718894009215,2.79815668202765,2.5732718894009214,2.647004608294931,3.0414746543778803,1.824884792626728,1.6921658986175117,1.7253456221198158,1.9944700460829492,1.448847926267281,1.4414746543778802,0.5124423963133641],[74.29484354341119,69.39180255619215,61.38901131188482,61.37432055237255,55.76979579844278,48.16732775084472,51.722491552813274,49.397678859997065,39.86704862641399,49.9118554429264,39.848685177023654,38.73953283384751,37.55692669311003,36.78566181871602,35.71323637432055,41.1671808432496,35.54796532980755,34.023799030409876,36.95093286322903,34.211106214191275,32.90362861759953,28.35683854855296,27.03099750257088,26.23402379903041,28.14382253562509,27.838989275745558,30.08667548112237,27.725135889525486,21.17672983693257,19.244894961069487,25.672102247686208,24.63273101219333,23.54561480828559,17.17349786983987,22.62009695901278,20.761715880711034,19.861906860584693,21.77537828705744,16.203907742030264,17.412222711914204,15.715439988247393,18.168796826795948,13.379609225796973,16.068018216541795,16.247980020567063,16.068018216541795,16.247980020567063,13.30615542823564,14.13985603055678,14.297781695313647,10.78301748200382,16.369178786543266,13.478771852504776,16.101072425444396,9.706919347730278,8.939327163214337,14.070074922873513,11.223740267371824,11.10621419127369,10.456148082855883,8.039518143087998,11.146613779932423,10.327603937123548,6.335390039665051,7.973409725282797,7.271925958572058,6.217863963566916,7.988100484795065,8.11297194064933,4.745115322462171,5.718378140149846,7.841192889672397,4.539444689290437,3.5735272513588954,4.976494784780374,6.691640957837521,5.935066842955781,5.417217570148377,4.392537094167769,5.79183193771118,3.114441016600558,4.712061113559571,4.7157338034376375,3.400910827089761,3.4045835169678274,3.926105479653298,4.631261936242104,2.2770677244013515,4.381519024533569,3.3127662700161595,3.514764213309828,2.6516820919641546,3.782870574408697,2.754517408550022,2.743499338915822,2.7030997502570884,1.7775819009842808,2.0016159835463494,1.9869252240340824,2.0603790215954163,1.4323490524460116,1.604965476715146,0.5619215513442045]],\"type\":\"heatmap\"}],                        {\"height\":800,\"template\":{\"data\":{\"barpolar\":[{\"marker\":{\"line\":{\"color\":\"#E5ECF6\",\"width\":0.5},\"pattern\":{\"fillmode\":\"overlay\",\"size\":10,\"solidity\":0.2}},\"type\":\"barpolar\"}],\"bar\":[{\"error_x\":{\"color\":\"#2a3f5f\"},\"error_y\":{\"color\":\"#2a3f5f\"},\"marker\":{\"line\":{\"color\":\"#E5ECF6\",\"width\":0.5},\"pattern\":{\"fillmode\":\"overlay\",\"size\":10,\"solidity\":0.2}},\"type\":\"bar\"}],\"carpet\":[{\"aaxis\":{\"endlinecolor\":\"#2a3f5f\",\"gridcolor\":\"white\",\"linecolor\":\"white\",\"minorgridcolor\":\"white\",\"startlinecolor\":\"#2a3f5f\"},\"baxis\":{\"endlinecolor\":\"#2a3f5f\",\"gridcolor\":\"white\",\"linecolor\":\"white\",\"minorgridcolor\":\"white\",\"startlinecolor\":\"#2a3f5f\"},\"type\":\"carpet\"}],\"choropleth\":[{\"colorbar\":{\"outlinewidth\":0,\"ticks\":\"\"},\"type\":\"choropleth\"}],\"contourcarpet\":[{\"colorbar\":{\"outlinewidth\":0,\"ticks\":\"\"},\"type\":\"contourcarpet\"}],\"contour\":[{\"colorbar\":{\"outlinewidth\":0,\"ticks\":\"\"},\"colorscale\":[[0.0,\"#0d0887\"],[0.1111111111111111,\"#46039f\"],[0.2222222222222222,\"#7201a8\"],[0.3333333333333333,\"#9c179e\"],[0.4444444444444444,\"#bd3786\"],[0.5555555555555556,\"#d8576b\"],[0.6666666666666666,\"#ed7953\"],[0.7777777777777778,\"#fb9f3a\"],[0.8888888888888888,\"#fdca26\"],[1.0,\"#f0f921\"]],\"type\":\"contour\"}],\"heatmapgl\":[{\"colorbar\":{\"outlinewidth\":0,\"ticks\":\"\"},\"colorscale\":[[0.0,\"#0d0887\"],[0.1111111111111111,\"#46039f\"],[0.2222222222222222,\"#7201a8\"],[0.3333333333333333,\"#9c179e\"],[0.4444444444444444,\"#bd3786\"],[0.5555555555555556,\"#d8576b\"],[0.6666666666666666,\"#ed7953\"],[0.7777777777777778,\"#fb9f3a\"],[0.8888888888888888,\"#fdca26\"],[1.0,\"#f0f921\"]],\"type\":\"heatmapgl\"}],\"heatmap\":[{\"colorbar\":{\"outlinewidth\":0,\"ticks\":\"\"},\"colorscale\":[[0.0,\"#0d0887\"],[0.1111111111111111,\"#46039f\"],[0.2222222222222222,\"#7201a8\"],[0.3333333333333333,\"#9c179e\"],[0.4444444444444444,\"#bd3786\"],[0.5555555555555556,\"#d8576b\"],[0.6666666666666666,\"#ed7953\"],[0.7777777777777778,\"#fb9f3a\"],[0.8888888888888888,\"#fdca26\"],[1.0,\"#f0f921\"]],\"type\":\"heatmap\"}],\"histogram2dcontour\":[{\"colorbar\":{\"outlinewidth\":0,\"ticks\":\"\"},\"colorscale\":[[0.0,\"#0d0887\"],[0.1111111111111111,\"#46039f\"],[0.2222222222222222,\"#7201a8\"],[0.3333333333333333,\"#9c179e\"],[0.4444444444444444,\"#bd3786\"],[0.5555555555555556,\"#d8576b\"],[0.6666666666666666,\"#ed7953\"],[0.7777777777777778,\"#fb9f3a\"],[0.8888888888888888,\"#fdca26\"],[1.0,\"#f0f921\"]],\"type\":\"histogram2dcontour\"}],\"histogram2d\":[{\"colorbar\":{\"outlinewidth\":0,\"ticks\":\"\"},\"colorscale\":[[0.0,\"#0d0887\"],[0.1111111111111111,\"#46039f\"],[0.2222222222222222,\"#7201a8\"],[0.3333333333333333,\"#9c179e\"],[0.4444444444444444,\"#bd3786\"],[0.5555555555555556,\"#d8576b\"],[0.6666666666666666,\"#ed7953\"],[0.7777777777777778,\"#fb9f3a\"],[0.8888888888888888,\"#fdca26\"],[1.0,\"#f0f921\"]],\"type\":\"histogram2d\"}],\"histogram\":[{\"marker\":{\"pattern\":{\"fillmode\":\"overlay\",\"size\":10,\"solidity\":0.2}},\"type\":\"histogram\"}],\"mesh3d\":[{\"colorbar\":{\"outlinewidth\":0,\"ticks\":\"\"},\"type\":\"mesh3d\"}],\"parcoords\":[{\"line\":{\"colorbar\":{\"outlinewidth\":0,\"ticks\":\"\"}},\"type\":\"parcoords\"}],\"pie\":[{\"automargin\":true,\"type\":\"pie\"}],\"scatter3d\":[{\"line\":{\"colorbar\":{\"outlinewidth\":0,\"ticks\":\"\"}},\"marker\":{\"colorbar\":{\"outlinewidth\":0,\"ticks\":\"\"}},\"type\":\"scatter3d\"}],\"scattercarpet\":[{\"marker\":{\"colorbar\":{\"outlinewidth\":0,\"ticks\":\"\"}},\"type\":\"scattercarpet\"}],\"scattergeo\":[{\"marker\":{\"colorbar\":{\"outlinewidth\":0,\"ticks\":\"\"}},\"type\":\"scattergeo\"}],\"scattergl\":[{\"marker\":{\"colorbar\":{\"outlinewidth\":0,\"ticks\":\"\"}},\"type\":\"scattergl\"}],\"scattermapbox\":[{\"marker\":{\"colorbar\":{\"outlinewidth\":0,\"ticks\":\"\"}},\"type\":\"scattermapbox\"}],\"scatterpolargl\":[{\"marker\":{\"colorbar\":{\"outlinewidth\":0,\"ticks\":\"\"}},\"type\":\"scatterpolargl\"}],\"scatterpolar\":[{\"marker\":{\"colorbar\":{\"outlinewidth\":0,\"ticks\":\"\"}},\"type\":\"scatterpolar\"}],\"scatter\":[{\"marker\":{\"colorbar\":{\"outlinewidth\":0,\"ticks\":\"\"}},\"type\":\"scatter\"}],\"scatterternary\":[{\"marker\":{\"colorbar\":{\"outlinewidth\":0,\"ticks\":\"\"}},\"type\":\"scatterternary\"}],\"surface\":[{\"colorbar\":{\"outlinewidth\":0,\"ticks\":\"\"},\"colorscale\":[[0.0,\"#0d0887\"],[0.1111111111111111,\"#46039f\"],[0.2222222222222222,\"#7201a8\"],[0.3333333333333333,\"#9c179e\"],[0.4444444444444444,\"#bd3786\"],[0.5555555555555556,\"#d8576b\"],[0.6666666666666666,\"#ed7953\"],[0.7777777777777778,\"#fb9f3a\"],[0.8888888888888888,\"#fdca26\"],[1.0,\"#f0f921\"]],\"type\":\"surface\"}],\"table\":[{\"cells\":{\"fill\":{\"color\":\"#EBF0F8\"},\"line\":{\"color\":\"white\"}},\"header\":{\"fill\":{\"color\":\"#C8D4E3\"},\"line\":{\"color\":\"white\"}},\"type\":\"table\"}]},\"layout\":{\"annotationdefaults\":{\"arrowcolor\":\"#2a3f5f\",\"arrowhead\":0,\"arrowwidth\":1},\"autotypenumbers\":\"strict\",\"coloraxis\":{\"colorbar\":{\"outlinewidth\":0,\"ticks\":\"\"}},\"colorscale\":{\"diverging\":[[0,\"#8e0152\"],[0.1,\"#c51b7d\"],[0.2,\"#de77ae\"],[0.3,\"#f1b6da\"],[0.4,\"#fde0ef\"],[0.5,\"#f7f7f7\"],[0.6,\"#e6f5d0\"],[0.7,\"#b8e186\"],[0.8,\"#7fbc41\"],[0.9,\"#4d9221\"],[1,\"#276419\"]],\"sequential\":[[0.0,\"#0d0887\"],[0.1111111111111111,\"#46039f\"],[0.2222222222222222,\"#7201a8\"],[0.3333333333333333,\"#9c179e\"],[0.4444444444444444,\"#bd3786\"],[0.5555555555555556,\"#d8576b\"],[0.6666666666666666,\"#ed7953\"],[0.7777777777777778,\"#fb9f3a\"],[0.8888888888888888,\"#fdca26\"],[1.0,\"#f0f921\"]],\"sequentialminus\":[[0.0,\"#0d0887\"],[0.1111111111111111,\"#46039f\"],[0.2222222222222222,\"#7201a8\"],[0.3333333333333333,\"#9c179e\"],[0.4444444444444444,\"#bd3786\"],[0.5555555555555556,\"#d8576b\"],[0.6666666666666666,\"#ed7953\"],[0.7777777777777778,\"#fb9f3a\"],[0.8888888888888888,\"#fdca26\"],[1.0,\"#f0f921\"]]},\"colorway\":[\"#636efa\",\"#EF553B\",\"#00cc96\",\"#ab63fa\",\"#FFA15A\",\"#19d3f3\",\"#FF6692\",\"#B6E880\",\"#FF97FF\",\"#FECB52\"],\"font\":{\"color\":\"#2a3f5f\"},\"geo\":{\"bgcolor\":\"white\",\"lakecolor\":\"white\",\"landcolor\":\"#E5ECF6\",\"showlakes\":true,\"showland\":true,\"subunitcolor\":\"white\"},\"hoverlabel\":{\"align\":\"left\"},\"hovermode\":\"closest\",\"mapbox\":{\"style\":\"light\"},\"paper_bgcolor\":\"white\",\"plot_bgcolor\":\"#E5ECF6\",\"polar\":{\"angularaxis\":{\"gridcolor\":\"white\",\"linecolor\":\"white\",\"ticks\":\"\"},\"bgcolor\":\"#E5ECF6\",\"radialaxis\":{\"gridcolor\":\"white\",\"linecolor\":\"white\",\"ticks\":\"\"}},\"scene\":{\"xaxis\":{\"backgroundcolor\":\"#E5ECF6\",\"gridcolor\":\"white\",\"gridwidth\":2,\"linecolor\":\"white\",\"showbackground\":true,\"ticks\":\"\",\"zerolinecolor\":\"white\"},\"yaxis\":{\"backgroundcolor\":\"#E5ECF6\",\"gridcolor\":\"white\",\"gridwidth\":2,\"linecolor\":\"white\",\"showbackground\":true,\"ticks\":\"\",\"zerolinecolor\":\"white\"},\"zaxis\":{\"backgroundcolor\":\"#E5ECF6\",\"gridcolor\":\"white\",\"gridwidth\":2,\"linecolor\":\"white\",\"showbackground\":true,\"ticks\":\"\",\"zerolinecolor\":\"white\"}},\"shapedefaults\":{\"line\":{\"color\":\"#2a3f5f\"}},\"ternary\":{\"aaxis\":{\"gridcolor\":\"white\",\"linecolor\":\"white\",\"ticks\":\"\"},\"baxis\":{\"gridcolor\":\"white\",\"linecolor\":\"white\",\"ticks\":\"\"},\"bgcolor\":\"#E5ECF6\",\"caxis\":{\"gridcolor\":\"white\",\"linecolor\":\"white\",\"ticks\":\"\"}},\"title\":{\"x\":0.05},\"xaxis\":{\"automargin\":true,\"gridcolor\":\"white\",\"linecolor\":\"white\",\"ticks\":\"\",\"title\":{\"standoff\":15},\"zerolinecolor\":\"white\",\"zerolinewidth\":2},\"yaxis\":{\"automargin\":true,\"gridcolor\":\"white\",\"linecolor\":\"white\",\"ticks\":\"\",\"title\":{\"standoff\":15},\"zerolinecolor\":\"white\",\"zerolinewidth\":2}}},\"width\":1300},                        {\"responsive\": true}                    ).then(function(){\n",
       "                            \n",
       "var gd = document.getElementById('11921940-59b2-4f29-9ff4-837908a29c6e');\n",
       "var x = new MutationObserver(function (mutations, observer) {{\n",
       "        var display = window.getComputedStyle(gd).display;\n",
       "        if (!display || display === 'none') {{\n",
       "            console.log([gd, 'removed!']);\n",
       "            Plotly.purge(gd);\n",
       "            observer.disconnect();\n",
       "        }}\n",
       "}});\n",
       "\n",
       "// Listen for the removal of the full notebook cells\n",
       "var notebookContainer = gd.closest('#notebook-container');\n",
       "if (notebookContainer) {{\n",
       "    x.observe(notebookContainer, {childList: true});\n",
       "}}\n",
       "\n",
       "// Listen for the clearing of the current output cell\n",
       "var outputEl = gd.closest('.output');\n",
       "if (outputEl) {{\n",
       "    x.observe(outputEl, {childList: true});\n",
       "}}\n",
       "\n",
       "                        })                };                });            </script>        </div>"
      ]
     },
     "metadata": {},
     "output_type": "display_data"
    }
   ],
   "source": [
    "# Transpose skills_jobs \n",
    "skills_jobs = skills_jobs.T\n",
    "\n",
    "# Build Heatmap figure\n",
    "data=go.Heatmap(z=skills_jobs, x=skills_jobs.columns, \n",
    "                y=skills_jobs.index, colorscale='magma', ygap=1)\n",
    "# Plot\n",
    "fig = go.Figure(data=data)\n",
    "fig.update_layout(width=1300, height=800)\n",
    "iplot(fig)"
   ]
  },
  {
   "cell_type": "markdown",
   "id": "square-joint",
   "metadata": {},
   "source": [
    "### Create Jobs Dendogram"
   ]
  },
  {
   "cell_type": "code",
   "execution_count": 13,
   "id": "hazardous-canadian",
   "metadata": {},
   "outputs": [
    {
     "data": {
      "text/html": [
       "<div>\n",
       "<style scoped>\n",
       "    .dataframe tbody tr th:only-of-type {\n",
       "        vertical-align: middle;\n",
       "    }\n",
       "\n",
       "    .dataframe tbody tr th {\n",
       "        vertical-align: top;\n",
       "    }\n",
       "\n",
       "    .dataframe thead th {\n",
       "        text-align: right;\n",
       "    }\n",
       "</style>\n",
       "<table border=\"1\" class=\"dataframe\">\n",
       "  <thead>\n",
       "    <tr style=\"text-align: right;\">\n",
       "      <th></th>\n",
       "      <th>Original name</th>\n",
       "      <th>Short name</th>\n",
       "    </tr>\n",
       "  </thead>\n",
       "  <tbody>\n",
       "    <tr>\n",
       "      <th>0</th>\n",
       "      <td>Developer, back-end</td>\n",
       "      <td>Back-end dev</td>\n",
       "    </tr>\n",
       "    <tr>\n",
       "      <th>1</th>\n",
       "      <td>Developer, full-stack</td>\n",
       "      <td>Full-stack dev</td>\n",
       "    </tr>\n",
       "    <tr>\n",
       "      <th>2</th>\n",
       "      <td>Developer, front-end</td>\n",
       "      <td>Front-end dev</td>\n",
       "    </tr>\n",
       "    <tr>\n",
       "      <th>3</th>\n",
       "      <td>Developer, desktop or enterprise applications</td>\n",
       "      <td>Desktop dev</td>\n",
       "    </tr>\n",
       "    <tr>\n",
       "      <th>4</th>\n",
       "      <td>Developer, mobile</td>\n",
       "      <td>Mobile dev</td>\n",
       "    </tr>\n",
       "  </tbody>\n",
       "</table>\n",
       "</div>"
      ],
      "text/plain": [
       "                                   Original name     Short name \n",
       "0                            Developer, back-end    Back-end dev\n",
       "1                          Developer, full-stack  Full-stack dev\n",
       "2                           Developer, front-end   Front-end dev\n",
       "3  Developer, desktop or enterprise applications     Desktop dev\n",
       "4                              Developer, mobile      Mobile dev"
      ]
     },
     "execution_count": 13,
     "metadata": {},
     "output_type": "execute_result"
    }
   ],
   "source": [
    "# Read shorter role names file\n",
    "roles_names = pd.read_csv(ROLES_PATH)\n",
    "roles_names.head()"
   ]
  },
  {
   "cell_type": "code",
   "execution_count": 14,
   "id": "immediate-insulin",
   "metadata": {},
   "outputs": [
    {
     "data": {
      "image/png": "[encoded data removed]"
     },
     "metadata": {},
     "output_type": "display_data"
    }
   ],
   "source": [
    "# Build a dictionary to replace column names with shorter versions\n",
    "roles_short_dict = roles_names.set_index('Original name')[\"Short name \"].to_dict()\n",
    "short_labels = [roles_short_dict[role] \n",
    "                for role in sorted_roles]\n",
    "\n",
    "fig = ff.create_dendrogram(skills_jobs, labels=short_labels, \n",
    "                           orientation='left', color_threshold=0)\n",
    "\n",
    "fig.update_layout(height=700, width=900, showlegend=False) \n",
    "fig.show(\"png\")"
   ]
  },
  {
   "cell_type": "markdown",
   "id": "rural-vertical",
   "metadata": {},
   "source": [
    "<h3> Insights From The Above Dendogram </h3>\n",
    "    <ol>\n",
    "        <li>Data Scientist ---> Data Engineer.</li>\n",
    "        <li>Researcher --->  Scientist.</li>\n",
    "        <li>Full Stack Developer --->  Front-End Developer.</li>\n",
    "        <li>System Admin --->  Database Admin.</li>\n",
    "    </ol>\n",
    "    \n",
    "<h5 > What about Back-End Developer, Is it in the right category? </h5>\n"
   ]
  },
  {
   "cell_type": "markdown",
   "id": "public-membrane",
   "metadata": {},
   "source": [
    "## Normalize Features"
   ]
  },
  {
   "cell_type": "code",
   "execution_count": 15,
   "id": "environmental-boulder",
   "metadata": {},
   "outputs": [],
   "source": [
    "std_skills_jobs = StandardScaler().fit_transform(skills_jobs)\n",
    "std_skills_jobs = pd.DataFrame(std_skills_jobs, columns=skills_jobs.columns, index=skills_jobs.index)"
   ]
  },
  {
   "cell_type": "code",
   "execution_count": 16,
   "id": "governmental-malaysia",
   "metadata": {},
   "outputs": [
    {
     "data": {
      "application/vnd.plotly.v1+json": {
       "config": {
        "linkText": "Export to plot.ly",
        "plotlyServerURL": "https://plot.ly",
        "showLink": false
       },
       "data": [
        {
         "colorscale": [
          [
           0,
           "#000004"
          ],
          [
           0.1111111111111111,
           "#180f3d"
          ],
          [
           0.2222222222222222,
           "#440f76"
          ],
          [
           0.3333333333333333,
           "#721f81"
          ],
          [
           0.4444444444444444,
           "#9e2f7f"
          ],
          [
           0.5555555555555556,
           "#cd4071"
          ],
          [
           0.6666666666666666,
           "#f1605d"
          ],
          [
           0.7777777777777778,
           "#fd9668"
          ],
          [
           0.8888888888888888,
           "#feca8d"
          ],
          [
           1,
           "#fcfdbf"
          ]
         ],
         "type": "heatmap",
         "x": [
          "Github",
          "JavaScript",
          "HTML/CSS",
          "SQL",
          "Linux",
          "Windows",
          "Slack",
          "MySQL",
          "Python",
          "Jira",
          "Java",
          "Google Suite (Docs, Meet, etc)",
          "Node.js",
          "Gitlab",
          "Bash/Shell/PowerShell",
          "Docker",
          "jQuery",
          "C#",
          "PostgreSQL",
          "Confluence",
          "Microsoft SQL Server",
          "Trello",
          "SQLite",
          "React.js",
          "PHP",
          "TypeScript",
          "AWS",
          ".NET",
          "Android",
          "C++",
          "Microsoft Teams",
          "MongoDB",
          "MacOS",
          "C",
          ".NET Core",
          "Angular",
          "ASP.NET",
          "Redis",
          "Express",
          "MariaDB",
          "Oracle",
          "ASP.NET Core",
          "Raspberry Pi",
          "Microsoft Azure",
          "Microsoft Azure",
          "Microsoft Azure",
          "Microsoft Azure",
          "WordPress",
          "Google Cloud Platform",
          "Vue.js",
          "Firebase",
          "Spring",
          "Angular.js",
          "Elasticsearch",
          "iOS",
          "Pandas",
          "Kubernetes",
          "Django",
          "Flask",
          "Heroku",
          "Arduino",
          "Go",
          "Laravel",
          "TensorFlow",
          "React Native",
          "Kotlin",
          "Unity 3D",
          "Ruby",
          "Slack Apps and Integrations",
          "Assembly",
          "VBA",
          "DynamoDB",
          "Swift",
          "R",
          "Stack Overflow for Teams",
          "Ansible",
          "Ruby on Rails",
          "Rust",
          "Flutter",
          "Teraform",
          "Keras",
          "Cordova",
          "Xamarin",
          "Objective-C",
          "Dart",
          "Apache Spark",
          "Scala",
          "Torch/PyTorch",
          "Symfony",
          "Hadoop",
          "Perl",
          "Gatsby",
          "Cassandra",
          "Facebook Workplace",
          "IBM DB2",
          "Drupal",
          "Unreal Engine",
          "Haskell",
          "Puppet",
          "Couchbase",
          "IBM Cloud or Watson",
          "Chef",
          "Julia"
         ],
         "y": [
          "Marketing or sales professional",
          "Senior executive/VP",
          "Engineer, site reliability",
          "Scientist",
          "Product manager",
          "Engineering manager",
          "Developer, game or graphics",
          "Educator",
          "Academic researcher",
          "Engineer, data",
          "Developer, QA or test",
          "Data scientist or machine learning specialist",
          "Data or business analyst",
          "Developer, embedded applications or devices",
          "System administrator",
          "Designer",
          "Database administrator",
          "DevOps specialist",
          "Developer, mobile",
          "Developer, desktop or enterprise applications",
          "Developer, front-end",
          "Developer, full-stack",
          "Developer, back-end"
         ],
         "ygap": 1,
         "z": [
          [
           -1.3793957040837357,
           0.4338163524993637,
           1.5100246629109877,
           -0.2607076348377079,
           -1.5677697663654662,
           -0.5812455179207402,
           -0.7285375131061432,
           2.216239261492258,
           -0.766783536482833,
           -1.8073580111623533,
           -1.369925824210894,
           1.8247052663489502,
           0.5288259953880806,
           -1.8906158415768035,
           -1.0406113889216824,
           -1.4120885992074215,
           1.5050559422746528,
           -1.0204779892222724,
           -0.8441624618555672,
           -1.5076060015572241,
           -0.281531555022435,
           1.4434813334930106,
           -0.003603769998175798,
           0.09427735916279231,
           2.704155227861616,
           -0.43885850955150835,
           -0.402247270458983,
           -0.27611323412854916,
           0.24950478235840726,
           -0.5344944959944712,
           -0.6630534374438605,
           0.04936790011888692,
           0.450157462959661,
           -0.25201612171010984,
           -0.5339247200075792,
           -0.02905222760552471,
           0.014187097486912064,
           -0.820911321044297,
           0.8370470594229039,
           1.0454246307319,
           0.0468631744297066,
           -0.24244875284572454,
           0.1417761665314281,
           0.4806812488653785,
           0.15751228007744145,
           0.4806812488653785,
           0.15751228007744145,
           3.7606615562857777,
           1.8933568139683816,
           1.193101515382013,
           1.3396951646362145,
           -0.8036855123577558,
           0.8496365372616713,
           -0.8345762760596926,
           0.8744047141872077,
           -0.2590411025324499,
           -0.5017250091705936,
           0.9305669945807491,
           -0.21591490034679836,
           1.7767171419425751,
           0.5363967033779256,
           -0.09549340174786018,
           2.7845083008742386,
           0.08291266909780944,
           1.5061172389203747,
           0.23952191407703682,
           0.19828687934782416,
           0.893225946478879,
           0.9336801577416799,
           0.6828994650024179,
           1.4908988646765222,
           -0.10276866334912911,
           0.7846123036572243,
           0.29539533409288876,
           3.663366211258462,
           -0.2089625897866079,
           1.5213540364260216,
           -0.03243080888395138,
           1.8719418237385896,
           -0.22968672323927344,
           -0.02074126259875836,
           1.9766650652683115,
           1.1187916420635642,
           1.156486625023335,
           2.100966929728105,
           0.3060348084903469,
           0.29756698250245944,
           0.23942613999440443,
           2.975431822509126,
           -0.04550947583260416,
           1.2383030629840182,
           3.4524270657129876,
           0.903457365237252,
           4.148711478394605,
           2.3150776214497837,
           3.6878790371710695,
           1.109494740344591,
           1.4684174343266807,
           0.7638453825987382,
           3.17070146491487,
           3.459063691871831,
           1.2397908126697035,
           1.5895510345363648
          ],
          [
           -0.006988757912401595,
           0.6362434631208689,
           0.6495983863750474,
           0.6223122554097734,
           0.21508675457432033,
           -0.9955697057528287,
           1.537555916667159,
           -0.18598616746928967,
           -0.1403295385780517,
           0.0060390354734216655,
           -1.1014004242199276,
           2.094333814197422,
           0.84311697784535,
           -0.8156916983649944,
           0.47238880190340804,
           0.5183509153254299,
           0.07649364687685707,
           0.16380398213338432,
           1.539840994691499,
           -0.13432624775472474,
           0.257640258033824,
           1.34816096194045,
           0.33016063015860886,
           0.9069881698040273,
           0.21230101927399417,
           0.6206983775414742,
           1.7387814446387881,
           0.1773321713083857,
           0.3731402500657335,
           -0.25403384225748743,
           -0.49805147394702876,
           0.38825808156944075,
           1.890548793346148,
           -0.010306767706210999,
           0.9724583005139231,
           0.21610474341989114,
           0.3818823515007265,
           1.3177234240222326,
           0.5360483555824651,
           0.807396530012036,
           -0.7754594925585436,
           1.029975547372305,
           1.2841235720433768,
           1.3123601879334528,
           1.9692673996039467,
           1.3123601879334528,
           1.9692673996039467,
           0.8972012723152283,
           1.7211177689967523,
           1.4667620885466455,
           0.4533569112637105,
           -0.6721998394120345,
           0.2277060910813466,
           0.9921455000603165,
           1.2271258727501553,
           -0.14838332570946267,
           0.7358143452490093,
           0.3428668711780654,
           -0.058145229099036785,
           1.8036990282630412,
           0.399323620000513,
           0.48814268151343926,
           0.7168769376790908,
           0.01879254602260417,
           1.5694281496492861,
           0.3568528460433733,
           -0.1122642703264157,
           1.389405299126169,
           1.7273413385307466,
           0.9722131849007412,
           0.34075416271276926,
           1.3642784756695965,
           0.9407117571164615,
           -0.2392395899668647,
           0.4569995175928429,
           0.43173734848544887,
           2.0778020631958545,
           0.7840223836933355,
           0.6569951655570462,
           0.4913596128860081,
           0.04298537446674966,
           1.151266943617935,
           1.3112626387506945,
           1.1464198089438498,
           1.228555775242473,
           -0.003959905970358648,
           0.6138499731871262,
           0.05283605873665295,
           1.235903097024402,
           -0.0631943094669577,
           1.5290421534673575,
           0.9440524844590716,
           1.288963282710352,
           0.9010251847871459,
           1.7148349046609506,
           1.1932632852403189,
           0.21827930534968687,
           0.6270666288867056,
           0.952937617616768,
           2.1870510038198474,
           1.6053961026495192,
           0.7851530195651726,
           0.6218549753633835
          ],
          [
           1.5502522148596283,
           -0.12965971366735277,
           -0.5786292990616523,
           0.21340499364719842,
           1.9200735703933778,
           -1.6988348534258222,
           1.7308113411223418,
           0.670757856552762,
           1.0445236734538377,
           1.5084742775969497,
           0.5277459458283661,
           1.2302036958988907,
           0.6648456340583337,
           1.3667535696522877,
           2.4264031931525714,
           2.5017452904286634,
           -0.7860034001016524,
           -0.9644087714440196,
           2.098111050775231,
           1.8614908081621597,
           -0.7759850408474297,
           0.14125381016245087,
           -0.4419918807186283,
           0.3756973628451362,
           -0.2736198578869332,
           0.19499467461735565,
           2.380646175326067,
           -1.2263757544173046,
           -0.858843945600925,
           -0.5155331782004765,
           -0.030916008045961226,
           1.420277075411412,
           1.9198064403257562,
           -0.38689309444186504,
           -0.5302284149929103,
           -0.4255824156787828,
           -1.073734216285482,
           2.721858613411109,
           0.7971976405737167,
           1.2074558989155189,
           -1.1115277705285738,
           -0.3789185188930396,
           0.697340259198378,
           0.21588236097966254,
           0.923216788012404,
           0.21588236097966254,
           0.923216788012404,
           -0.40264237965404626,
           1.9242431970642493,
           0.006042676450849233,
           -0.7365299077095582,
           1.2569670061802325,
           0.3161670473494777,
           2.90530143315448,
           -0.6905280161142644,
           -0.20963290807883123,
           3.1654254894899796,
           1.3978536821526917,
           1.5948473619862573,
           0.3651286974657297,
           -0.41932980316756496,
           3.7102461084545793,
           -0.3222382785808486,
           -0.3884881360236053,
           -0.15805993373813568,
           0.28551518223723177,
           -0.3975941669009067,
           2.892080050901662,
           2.583091164114515,
           -0.11400218077495505,
           -0.7730314060364137,
           3.049841647776285,
           -0.5932645812910365,
           -0.4622142909601231,
           0.2568168622837705,
           3.2711075043185036,
           2.012592234941947,
           2.3385690346345083,
           -0.21665223258424868,
           3.5867198525895945,
           -0.34371303851102053,
           -0.7923070260376768,
           -0.9378059612425166,
           -0.5782149873285092,
           -0.36027228611216555,
           0.4565918078803389,
           1.2674492683027727,
           -0.2597007302776667,
           0.9753169560169536,
           0.48130147854312466,
           2.335404237706277,
           0.7263793828711069,
           2.5942844012302086,
           0.9237641350039372,
           0.017105000648608554,
           0.6478898901082598,
           -0.19433986591018568,
           1.2185680487497017,
           3.4809320180349124,
           0.6502049527776805,
           0.3322390792019438,
           3.3275451777886578,
           0.0972688194420319
          ],
          [
           0.8682450252497482,
           -2.0339260164177344,
           -1.900843190500415,
           -1.9711159068413413,
           1.1119598355817486,
           -0.1776234308813623,
           -0.7524024243477895,
           -2.2847936310003516,
           1.7081860451377664,
           -1.4260885232360865,
           -1.1879788095888808,
           -0.37201125540520696,
           -1.8955461518015233,
           0.9908844407577091,
           0.2474897431486787,
           -0.44899983471776483,
           -1.7191841281638556,
           -1.4556762768269267,
           -0.6774127227415373,
           -0.9951734100495979,
           -1.9030267668322678,
           -1.459202589257443,
           0.205343607068808,
           -1.4597663282873141,
           -1.4104124396931155,
           -1.8028729534943928,
           -0.838341321082342,
           -1.4281814546206495,
           -0.5801052108288096,
           1.7242158676800443,
           -1.782777807707353,
           -1.927415121901193,
           -0.21865321084690317,
           1.5629070456028857,
           -1.7123589225353533,
           -2.048806191686597,
           -1.894918173545292,
           -1.006128968858698,
           -1.6394732073295126,
           -1.1017534308869366,
           -1.478704398618984,
           -1.7375613875734066,
           0.499299549343018,
           -2.008932145948043,
           -1.4467711775399283,
           -2.008932145948043,
           -1.4467711775399283,
           -0.9410522204255609,
           -0.3806519710272902,
           -1.7622553756506463,
           -0.8364235941942094,
           -1.1988401614371602,
           -2.3236029084431107,
           -0.9095492611923776,
           -0.7351061916077722,
           1.4713590767878737,
           -0.5819101675097547,
           0.6180789807001654,
           0.5967066319772566,
           -1.2781190014229815,
           0.9031918846772592,
           -0.3738003518934821,
           -1.3758620292960047,
           1.7680494386387597,
           -0.9422746282877319,
           -0.7684482358621345,
           -0.12088448291130781,
           -0.43845318075160444,
           -0.9139525353105994,
           1.3352670319755877,
           0.1561161850310397,
           -0.7785690373817062,
           -0.30588036906660676,
           2.040205112488038,
           0.05530001117303202,
           -0.3678566596809844,
           -0.4400144884561133,
           1.194217214352331,
           -0.44537735141225754,
           -0.5280723456635235,
           1.7410559437846094,
           -1.058649030515795,
           -1.0294243391372622,
           -0.3107783609817974,
           -0.5152375775542959,
           0.3064694061151367,
           0.16351866476708007,
           1.7723696790443833,
           -0.6830493387200649,
           0.595245677049173,
           0.6129412389941036,
           -0.573371612943204,
           -0.12715803612949986,
           -0.20797153816819774,
           -0.22011694133175652,
           -0.3190717335172324,
           0.1158721011549666,
           1.836600505874412,
           -0.5008060760370959,
           0.25805500587011104,
           0.8411467850792711,
           -0.31945708512482307,
           2.6249924336461112
          ],
          [
           -0.0023034057979214335,
           0.6503333763345197,
           0.6999252585258842,
           0.3848216498657335,
           -0.3468359889194517,
           -0.08826189952976593,
           0.5408718172027499,
           0.3985497736193528,
           -0.4788217300954861,
           0.0780114120987829,
           -0.37483481593725454,
           1.0432382477864697,
           0.6559582094660333,
           -0.4183315622855093,
           -0.3170548828162475,
           -0.15203958527791767,
           0.8806110510558178,
           0.12146147196700795,
           0.16771353328856564,
           -0.254713687593864,
           0.3811073635851661,
           1.838847350235454,
           0.6876521500434744,
           0.4188878380244141,
           0.6903188932091617,
           0.4082402057320506,
           0.31452089882990075,
           0.1863972210804347,
           0.2644372038160643,
           -0.33814598756200803,
           0.15979006012720184,
           0.4916492304793089,
           0.5348138764673338,
           -0.34907878249107194,
           0.17219036545054725,
           0.3410148764251,
           0.366053039988864,
           0.1408654975098941,
           0.5965297466351862,
           0.2890082347161541,
           0.0007208407267917738,
           0.14318215398747552,
           0.1637670096905362,
           0.40364520995243885,
           0.5084421386465883,
           0.40364520995243885,
           0.5084421386465883,
           0.7492389271298024,
           0.8155133580510457,
           0.7488060592990008,
           0.8026301218454714,
           -0.5030739013969567,
           0.5890009675647815,
           0.10381486317657505,
           0.6960113936110572,
           -0.3838761588457009,
           -0.18442483665830814,
           0.12081888669876292,
           -0.3923669394143161,
           1.0800584301915384,
           -0.09929373197619058,
           0.028799234384311045,
           0.8014768350381414,
           -0.3046496081102556,
           0.631518244955421,
           0.27106358124340096,
           -0.08178299282892035,
           0.47513969979489934,
           0.5189346344694005,
           -0.10659106595674932,
           0.40199815179816345,
           0.11764712048072677,
           0.7530689405828245,
           -0.22888307493318044,
           -0.5586510740185542,
           -0.23099519723575065,
           0.7584396028611646,
           -0.5175066186015989,
           0.6617774963094557,
           -0.27637777777058004,
           -0.4035099210364507,
           0.822239786458685,
           0.5823642934635155,
           0.6839500735728771,
           0.6380572250850366,
           -0.26750719112993937,
           -0.604093425645504,
           -0.31357715364659294,
           0.7536854403772769,
           -0.3059941664129983,
           -0.11727064935823618,
           0.6663283475656507,
           -0.010992455945976096,
           0.2637276567495601,
           0.25606266071127015,
           0.6734919447291777,
           -0.17341992481014418,
           -0.5626849506121135,
           -0.09988158344713007,
           0.12463544068570279,
           -0.03870246057220254,
           -0.018267503119184486,
           -0.23084108424860547
          ],
          [
           0.29189312232067083,
           0.2499024230864781,
           -0.327757929092047,
           0.058893796863016476,
           0.5108906199952356,
           -1.2398726019479198,
           1.8768947440002524,
           -0.6827942602897009,
           -0.0953924191902726,
           1.8344608731132106,
           0.04680337076977009,
           1.8608469676154316,
           0.793529657424499,
           0.050431185143417746,
           0.6431514731513361,
           1.2159985892113128,
           -0.8084941498813029,
           -0.03235417720880735,
           1.4035812556545881,
           2.029272320569246,
           -0.004992519754083886,
           0.9437842315214402,
           -0.45448465442251895,
           1.2770862235709872,
           -0.5094642717431013,
           0.6659055266628694,
           1.7087656257389774,
           -0.13688648163361267,
           -0.31761754349826626,
           -0.3295880658013734,
           0.849431738248118,
           1.3890297906453948,
           1.9558934493668636,
           -0.2407892044208742,
           0.4223842156905283,
           0.3877726802238408,
           -0.018028731720305283,
           1.703175764872722,
           0.6145132588417855,
           -0.26083248793115993,
           -0.42452761773340425,
           0.5223915689696118,
           0.10523838855005631,
           0.9412227858449093,
           1.0368156882261181,
           0.9412227858449093,
           1.0368156882261181,
           -0.41535125923367283,
           0.850991664966739,
           0.2603141815898922,
           -0.15340968814109965,
           0.9649602500072132,
           0.7155434029743365,
           1.5914473911968237,
           0.19025870613149176,
           -0.28696298767298956,
           1.187057951560749,
           -0.275650132936271,
           0.07852962838384436,
           0.32674171926536844,
           -0.4617974346950833,
           0.9901239389476352,
           -0.5396515956392918,
           -0.28164326241879684,
           0.04852197465139428,
           0.40606191671543934,
           -0.35009124385477625,
           1.50988991299153,
           1.367659504655711,
           -0.031099120637150438,
           -0.864932960443704,
           1.7056746578634951,
           0.39592117817201633,
           -0.44932889493588685,
           -0.3811139671988548,
           0.6064538823478051,
           1.9844992812209667,
           0.6330861120246456,
           -0.4217193147832346,
           0.9468981870014106,
           -0.389511374867833,
           -0.29609938814341613,
           -0.3490249787917541,
           0.5196948400157041,
           -0.27558340970081857,
           0.19248656286718488,
           0.9769842256770007,
           -0.2713860840187613,
           0.33496591027338096,
           0.2733066656746861,
           0.35437572118098787,
           0.6685272718482588,
           1.2144776762385143,
           -0.03729778250287182,
           0.13646052951375645,
           0.30070512264126936,
           -0.35759716091404775,
           -0.14318735665549243,
           0.7628664232134083,
           0.9852023026629841,
           -0.04869394378837781,
           1.0284131984211984,
           -0.21863180504453905
          ],
          [
           1.4228028135225064,
           0.01822809772247545,
           -0.12306196570305356,
           -1.2934417369586808,
           -0.42705171017012283,
           1.8741342381759263,
           -0.10749515502502753,
           -0.49061206731694956,
           -0.32207717066999336,
           -0.18714057489300018,
           0.8795228538366778,
           0.15703172086105738,
           0.4502073110409796,
           0.7981117290737029,
           -0.5606434434921687,
           -0.629371671848994,
           -0.25934550137630685,
           2.5826190620678697,
           -1.2604535782854382,
           -0.14613936336849964,
           -0.9758131632626651,
           1.2513308471809212,
           0.4160441147896908,
           0.18002199989900564,
           0.049609781383763644,
           0.3590044064889955,
           -0.8887301402545704,
           1.4908297154317531,
           1.6511686039312206,
           2.0611037392268394,
           -0.5769775447853537,
           -0.05834981146493396,
           0.2300030821774718,
           1.079764396091661,
           1.343907073541746,
           -0.2746095818315985,
           -0.08074580228245802,
           -0.5800563018563994,
           0.4198229296685591,
           -0.3013748435569801,
           -0.8985237387223516,
           -0.01892933765590177,
           0.19678179802587756,
           -0.7236089918662021,
           -1.1248192557104078,
           -0.7236089918662021,
           -1.1248192557104078,
           -0.23223962033255902,
           -0.601550457579975,
           0.4700724440694868,
           0.6974828822200569,
           -1.0439500477886199,
           -0.5124141710753862,
           -0.8572942688541886,
           1.3924208934874986,
           -0.6397679382309419,
           -0.5994635337326333,
           -0.9119261452795061,
           -0.7133937530736522,
           0.12374017154306285,
           1.158876164875327,
           -0.20928353093811608,
           -0.3537476445812541,
           -0.23774181921894214,
           0.6238829570158768,
           0.5674262972814617,
           4.578863713652795,
           -0.3359415883558294,
           -0.5984352651423845,
           1.4588083195591637,
           -0.532133586441635,
           -0.42452265160952857,
           0.6904395737587022,
           -0.62686650026797,
           -0.3040626991517659,
           -0.6558279926045161,
           -0.38408085384192653,
           1.9242008603690703,
           0.7575162771080656,
           -0.4960019415365297,
           -0.34299594761158925,
           0.6763667065989031,
           0.9532576686180816,
           1.4485872728502838,
           0.5800575749241338,
           -0.662886762913694,
           -0.6128790955185075,
           -0.3453208221348193,
           -0.12190707139329861,
           -0.6086139193675572,
           -0.8499908047769706,
           -0.04318070858934757,
           -0.970250182981443,
           -0.1114942801790128,
           -1.2079967189525274,
           -0.3408059480051374,
           4.359325484112452,
           0.35894048550707547,
           -0.4430313323605931,
           0.014906293633239705,
           -0.41939624165866096,
           -0.4120271285041992,
           -0.3504876427936669
          ],
          [
           1.0387450371455917,
           0.1472993591097731,
           0.3773313253149117,
           -0.40156232536865377,
           0.00643416383293464,
           0.004291396371472371,
           0.22628046440320693,
           0.6903415060028965,
           -0.20268194094379596,
           -0.41414064413492846,
           0.5387583787108493,
           0.5845573293174857,
           0.19640284086596763,
           0.9594034573223262,
           -0.23728982728838652,
           -0.24925888864410328,
           0.22245340986567727,
           -0.5187299411515335,
           -0.21762568132689283,
           -0.3347744706567967,
           -0.6351283437017143,
           0.8320177953796528,
           0.6444913329903635,
           0.30293109326462636,
           0.4219616747333671,
           0.09045845685165556,
           -0.5917166662888648,
           -0.44491554795464056,
           0.0844286720575764,
           0.24611088017903643,
           -1.066039386509527,
           0.5991088382923162,
           0.2736688994273619,
           0.2600820634999152,
           -0.6955623204441256,
           0.14479567065639212,
           -0.6223568592639015,
           -0.34010972757121544,
           0.6908500872959836,
           0.42879119774982194,
           0.10754522237921442,
           -0.6475527437710878,
           0.022600953700308648,
           -0.7087929084129273,
           -0.7576190753283794,
           -0.7087929084129273,
           -0.7576190753283794,
           0.3331342527857797,
           -0.2763102340642573,
           0.1577522799703479,
           0.5562343699970888,
           0.5953362960237971,
           0.038137118590335604,
           -0.46894550215740183,
           -0.24724901708479002,
           -0.1391949410979118,
           -0.39218827762435593,
           0.17364542972246422,
           -0.1951813551902591,
           1.7148056783226349,
           0.6542565631192923,
           -0.45407439879001926,
           0.3567872508969132,
           -0.06304415375499293,
           0.38452627606144507,
           0.5122231870712759,
           -0.024984048085992878,
           -0.04798660100431768,
           -0.041139207462127805,
           0.5915996435590947,
           -0.26251981076059266,
           -0.3973340471841215,
           -0.12862331302216878,
           0.11587730667408891,
           0.6993885066833321,
           -0.2539178009963889,
           -0.01749213699980467,
           -0.2981690496699542,
           0.44760772246277336,
           -0.3766749178888411,
           -0.11546401662625794,
           0.3437533691170641,
           -0.23752122666246905,
           -0.07176860922281798,
           0.3242613480720634,
           -0.30541061277431714,
           -0.25113915685313665,
           -0.14508222228531778,
           0.4306977466349567,
           -0.33040631067779397,
           0.10836975933740818,
           0.44776068106525013,
           -0.4742556367428962,
           0.13353993241215117,
           0.10629959248405549,
           0.31136490507146464,
           -0.11109640200511889,
           1.463360134403271,
           -0.196270639415094,
           -0.22573591135070586,
           -0.11749799982927692,
           -0.23825322789945558,
           0.22566586671261402
          ],
          [
           0.859881632069347,
           -1.4073284165528295,
           -1.159514362847717,
           -1.6034959058309513,
           0.5746271665470774,
           -0.3073158132033245,
           -0.7984982252021484,
           -0.6998760695858411,
           0.9713014632257141,
           -1.6643858958951254,
           0.5071600317105205,
           -0.44761463375379024,
           -1.5400568975173112,
           1.0675241791666916,
           -0.3989779048628884,
           -0.644289926103696,
           -0.9567225778737534,
           -1.2096344815040827,
           -0.8177055389679136,
           -1.476190200449823,
           -1.6082580946875435,
           -0.8480999256150238,
           0.08899603449364828,
           -1.2207265766236057,
           -0.6008208876773803,
           -1.5335123504498964,
           -1.0350707980477158,
           -1.28726004178549,
           -0.10096540035970414,
           1.3494635174703211,
           -2.0520790033708396,
           -0.6022461326482726,
           -0.7504454277494494,
           1.3309629608829898,
           -1.663479628015083,
           -1.1568793793777803,
           -1.4227552573031033,
           -0.9263177275908591,
           -1.3394381907451036,
           -0.7906971884822971,
           -0.8333900020559722,
           -1.7519540379061813,
           -0.3333021495604977,
           -2.01761913695765,
           -1.6072681987918718,
           -2.01761913695765,
           -1.6072681987918718,
           -0.3428618535992819,
           -0.44780481751759177,
           -1.2260770875702658,
           -0.31758099503899045,
           -0.3505647571386167,
           -1.4213016646118326,
           -0.8438398913595577,
           -0.697527597428068,
           0.9830141341874881,
           -0.8185057302110135,
           0.5066452756042361,
           0.232077374174819,
           -0.2875701223827574,
           0.6295361428903468,
           -0.6965757131714451,
           -0.49294719206289106,
           1.1732231140495144,
           -0.8507704403010632,
           -0.5585450323246552,
           -0.23600227390440895,
           -0.7629402711411283,
           -1.2153179212201224,
           1.0571868724806754,
           -0.4138683289440666,
           -1.0613777278213377,
           -0.47435801279944634,
           1.4116298926105413,
           0.3084703164328726,
           -0.6032868842720676,
           -0.6012359951106474,
           0.23011061467401228,
           -0.37495627906869355,
           -0.6776153481593508,
           1.2153774097009749,
           -0.7800899633632848,
           -1.038966266279948,
           -0.4750892773117458,
           -0.44720902682383934,
           0.13890672807020965,
           0.10265593795746125,
           1.237065263743245,
           -1.050348130582867,
           0.2614642657079451,
           -0.032417595035830166,
           -0.8306487882059292,
           -0.31193257429138704,
           -0.060379317423313573,
           -0.7341399499843646,
           -0.5727027362207943,
           -0.2605109637880939,
           1.7841387455812736,
           -0.6089870666150133,
           -0.48140269869078,
           0.3706023624296329,
           -0.7142609719607407,
           1.7986216029083848
          ],
          [
           0.06872281741648986,
           -1.111219238706015,
           -1.2594944219448896,
           0.8766673935370626,
           0.6449616768335302,
           -0.24694536236324627,
           0.3557706587578084,
           -0.1588628159971729,
           1.4866593632843212,
           0.6528065114276754,
           0.651126504132036,
           -0.0403702130928247,
           -0.9789011830358688,
           -0.01832462576988602,
           0.41600443559436534,
           0.6749798179082577,
           -1.0184700359377246,
           -0.8982208516727304,
           1.2780786074868136,
           0.6758113375330174,
           0.24782346095412586,
           -0.5758151132080571,
           -0.08343722419378917,
           -0.8273558553739503,
           -1.0033219035385106,
           -1.1269208326365683,
           0.8148077328723055,
           -0.9991312117645479,
           -0.7972683316355091,
           -0.23288937162168918,
           0.5396034187926894,
           0.9389598568590709,
           0.05765254397943109,
           -0.06927497553109108,
           -0.9708357347261461,
           -1.1108304781471172,
           -1.0636343930990548,
           0.3269403915096321,
           -0.8685833617986662,
           -0.653820265078493,
           1.2659178194818985,
           -1.0262372052695796,
           0.16306445383624366,
           -0.196718304182752,
           0.22400461239163288,
           -0.196718304182752,
           0.22400461239163288,
           -0.8168004465229652,
           0.9417646924895491,
           -0.9658916498279777,
           -0.6324449698186138,
           0.7895458142819239,
           -0.8455997428467167,
           0.7858214298749256,
           -0.8852742834337356,
           1.6690529716708766,
           0.6263415700686197,
           1.4811456330669768,
           2.0148182275408195,
           -0.6584489039821102,
           0.09596702992414644,
           0.08083226755934611,
           -0.9826140333766025,
           0.8368483238512785,
           -0.9027678245496404,
           -0.5171210514042347,
           -0.38107760802392665,
           -0.4208444554346195,
           0.4196936865665848,
           -0.24251800152055208,
           0.6162371937160923,
           0.587579773886257,
           -0.7552007594744646,
           0.8010055736278389,
           0.30872007890520464,
           0.06360246621607538,
           -0.50113944121986,
           -0.20849779443754773,
           -0.8226209311229561,
           0.40748928549017305,
           0.8251826967250814,
           -1.1344364901092276,
           -0.8615631631227035,
           -0.6609761925240395,
           -0.8991695416499988,
           3.1144459444353783,
           3.304331009700809,
           0.7646054983762581,
           -0.4460239698136905,
           3.0714797320542107,
           0.16654850700828508,
           -0.666946859833337,
           1.8051818186060946,
           0.009326695287754934,
           0.7142895257226128,
           -0.6260936933527668,
           -0.34982982289553666,
           0.021444102618120457,
           -0.2109429757771199,
           0.49799295858643433,
           0.30589946537638313,
           -0.19737707672355462,
           0.27058989717502474
          ],
          [
           -0.09996641675379951,
           0.49068884125587603,
           0.4277510775977667,
           0.4180430585073047,
           -0.0624264861424848,
           0.7360227653824639,
           0.20909740806360666,
           0.41845671427487535,
           -0.2914211470442006,
           1.1347596313714328,
           1.371552412513277,
           -0.13898794214128427,
           0.3664889969234814,
           0.3556359608894403,
           0.24302518720368194,
           0.12903677364837488,
           0.3996183145438262,
           0.6181931513418076,
           -0.3691229727262635,
           1.0713727944627138,
           0.39248309759774996,
           -0.030041137269429904,
           -0.22073729437925257,
           -0.02703933503964947,
           0.1155238476973944,
           0.3156517663133605,
           -0.20229004341541718,
           0.6074957221016084,
           -0.012192729625622381,
           -0.2785586425034176,
           1.1243070344203645,
           -0.13603140876152958,
           0.1841298530280733,
           -0.2644468731257963,
           0.5679608480271604,
           0.6134054418282808,
           0.5628623095100562,
           -0.2794708249580323,
           -0.09344548126086032,
           0.013336692658198385,
           1.0788348390381568,
           0.4795657603872318,
           -0.5382927657662794,
           0.4755984060822201,
           0.17679267805289428,
           0.4755984060822201,
           0.17679267805289428,
           -0.2119446844254578,
           -0.7014700711579162,
           0.12955304960894748,
           -0.024159015983275033,
           1.0557227850034228,
           1.212501942409234,
           -0.004171571044384622,
           -0.011249579191916634,
           -0.5498120816444604,
           -0.1029140822017132,
           -0.5729398797283982,
           -0.5123338685973243,
           -0.5740809964423927,
           -0.55770641120502,
           -0.24713884339814773,
           0.24925340272053195,
           -0.6028505790545716,
           -0.3646057143983469,
           0.16032273331754537,
           -0.122163174432151,
           0.27052468736273794,
           0.40443054084370494,
           -0.3923396504702544,
           -0.08211624409577153,
           -0.16597244074297374,
           -0.18506306523484153,
           -0.6440088120689497,
           0.49087988009035755,
           -0.14745635458696127,
           -0.04647488379089574,
           -0.559388056890263,
           -0.4432398788963805,
           -0.2064539520454366,
           -0.586507130546268,
           0.020658741384983317,
           -0.0745715163516658,
           -0.19095330328174098,
           -0.42407933585543073,
           -0.5151135250541866,
           -0.39983499819906965,
           -0.5713142584345373,
           0.15070469586184618,
           -0.5308488755773263,
           0.23306494956360876,
           -0.5136165395106329,
           -0.5010893049050701,
           -0.2164583756850211,
           0.03167230555951224,
           0.1710170276488853,
           -0.18638439680104968,
           -0.5653536274089623,
           0.02225867197360148,
           -0.4043284007654946,
           -0.3164844264307863,
           -0.1176076836026772,
           -0.3726011165171511
          ],
          [
           0.967076285498978,
           -2.0553805104496368,
           -1.7606504243877041,
           -0.1804718281210389,
           0.720565437245754,
           -0.36172287328974495,
           0.16760034240237398,
           -0.8526348000741512,
           2.6148476507869254,
           -0.36855790879145617,
           -0.6773542237183563,
           0.04125031098237779,
           -1.9464254034912876,
           -0.08179413152863334,
           -0.07896065758627525,
           0.22884339796838765,
           -1.8612573503556866,
           -1.5851909601659178,
           0.5312367597338895,
           -0.2052853102660454,
           -0.9006494976610825,
           -0.8588437979865869,
           0.27999588425071037,
           -1.2387176093647903,
           -1.7060621514670447,
           -1.8112016086816658,
           0.2523435507670409,
           -1.743317676770024,
           -0.9171481815706282,
           0.49730533649320385,
           -0.37356972918383374,
           0.3860820770952778,
           -0.19664185451642083,
           0.21532424141910095,
           -1.7086628542426907,
           -1.7774271856246004,
           -1.8745373300010353,
           -0.558675202829391,
           -1.6269682972038035,
           -1.3329222037288517,
           0.19594531496716336,
           -1.8171703206452872,
           -0.0061398086810772285,
           -0.8343733441344373,
           -0.2670745046121718,
           -0.8343733441344373,
           -0.2670745046121718,
           -0.9059281444510309,
           1.0704596390222787,
           -1.7117749646652345,
           -0.9318845214829982,
           -0.967042317280396,
           -1.8715859833217252,
           0.046066146678692826,
           -1.0222419210459557,
           3.291583827472921,
           -0.03271864495362059,
           2.4576193148447327,
           2.894423165550614,
           -0.6112072074566481,
           -0.10187194742363039,
           -0.361613759255187,
           -1.5563686702093122,
           3.6109343256038575,
           -0.9550275123895259,
           -0.7771379765992944,
           -0.4052640605240288,
           -0.9584772125571626,
           -0.5329887937380327,
           -0.15278460366290778,
           0.025732670377953126,
           -0.30827336784848913,
           -0.7381332005886125,
           2.8366067922330895,
           0.4913846271129449,
           -0.3756568610929471,
           -1.0006170612443355,
           -0.03805387824805691,
           -0.7264639883747208,
           -0.2841291905950077,
           3.6812767324840125,
           -1.5811474346898458,
           -1.4555907923734033,
           -0.8611950460393678,
           -0.8354871862308635,
           2.6456186225613307,
           1.5135269767983148,
           3.6225337223070273,
           -1.42384810677716,
           2.526671360474744,
           -0.5615381270492553,
           -0.7322999787593654,
           0.6293890534649687,
           -0.03790737784028608,
           0.10112046899473152,
           -0.8665860844886855,
           -0.33004158531899946,
           0.8931371403710135,
           -0.42590997887795695,
           -0.6270588548760868,
           0.9410140797453086,
           -0.3665600805516514,
           1.72701051815543
          ],
          [
           -2.3197688070173217,
           -1.039842272891999,
           -0.5249430484795043,
           1.638118586787189,
           -1.1376935907904404,
           1.1245860659716604,
           -1.5125350521858199,
           -0.1643243779862855,
           0.47677332431323494,
           -0.8373610775682041,
           -1.6542569297253285,
           -0.9436750238975627,
           -1.599484776993867,
           -2.3383533547695063,
           -0.6362088638723429,
           -1.071364381766367,
           -0.3644344659937136,
           -0.2522034064914315,
           -0.23155899353026235,
           -0.8416306965567549,
           2.0462010684407006,
           -1.2926846175797502,
           -0.4708998951204451,
           -1.489929524443529,
           -0.5857217720962122,
           -1.370932991883436,
           -0.5935365619678129,
           0.09795224308639305,
           -0.8178779484245073,
           -0.8249109037685193,
           1.0331133889822275,
           -1.8163391284629864,
           -1.8036927232102644,
           -0.8166037193855255,
           -0.4797939453597701,
           -1.3145405484739843,
           0.3989980910999552,
           -0.9945335072798364,
           -1.6684218285106058,
           -0.6624878144137162,
           2.7575484247048405,
           -0.2782203343877258,
           -0.9817730319795454,
           0.10509226576861326,
           0.38030576979172565,
           0.10509226576861326,
           0.38030576979172565,
           -0.1537067016776485,
           -0.3548869371732604,
           -1.5014262687022435,
           -1.0302673540242104,
           -1.294001532581329,
           -1.1573001226512827,
           -0.6007887118739684,
           -0.8674821883557685,
           1.156458624961878,
           -0.7929275752132958,
           0.33646450051056703,
           0.3045505049983551,
           -0.8481092858108394,
           -0.7285812910969139,
           -1.0007158272827656,
           -0.6755080799338185,
           0.32691103720543463,
           -1.182076887005522,
           -1.102466347125415,
           -0.6036693207349204,
           -1.0574144436862833,
           -0.8047658274159595,
           -0.7666759717335971,
           3.1380773941877056,
           -0.7331059884846038,
           -0.88912285009506,
           1.5514992182459755,
           -0.11997659820731221,
           -0.6614217875292514,
           -0.8624548523141153,
           -1.39427490741848,
           -0.9014483539492442,
           -0.6285355803273869,
           0.2726504720306157,
           -0.9727138967157232,
           -0.560290071395095,
           -0.9098663155190627,
           -0.9410680174069564,
           0.7413378198639561,
           -0.10945075302845263,
           0.20812600394311023,
           -0.8415684589930015,
           0.9421121793336104,
           -0.2645232496535238,
           -1.010097864029715,
           -0.4679056752417882,
           0.15427763419327423,
           2.039194011970035,
           -0.23241497178320442,
           -0.5920394295125304,
           -0.4801934052679366,
           -0.49505454274718147,
           -0.5990033934301551,
           0.3182795287309842,
           -0.42430977025664146,
           -0.009916240249301161
          ],
          [
           -0.6950188949954622,
           -0.9496865830673903,
           -1.085505670470425,
           -1.2579487149933684,
           0.7156062811356647,
           0.7558340779235321,
           -1.2308650807436166,
           -1.1029507790418418,
           0.224939246112101,
           0.27354882508233963,
           0.4989625040149623,
           -1.120215412295337,
           -0.6623869230147599,
           0.45301732095034597,
           0.4249702387181163,
           -0.3522756394099578,
           -0.8642236338379458,
           0.6154220096210046,
           -0.8600217064873934,
           0.17672576220013703,
           -0.3710290542682916,
           -1.4945673545261262,
           1.7283918765415498,
           -1.071045355992324,
           -0.690326571046481,
           -0.4960132162913369,
           -0.8721846845869079,
           0.7780381275954887,
           0.9235063779152178,
           2.6567251141353108,
           0.5706906709284522,
           -1.4210526629807172,
           -0.7705912668174338,
           3.356250543999909,
           0.5390893163623508,
           -0.23048220472379674,
           0.041315242953483176,
           -0.650599618907558,
           -0.9711526917703572,
           -0.45068291733533766,
           -0.22117090173859708,
           0.05669604032386313,
           3.1144495415135043,
           -0.13272008250766693,
           -0.6453764496233598,
           -0.13272008250766693,
           -0.6453764496233598,
           -0.7106279433017381,
           -0.9452959450731603,
           -0.9534227511155716,
           -0.11698960316908487,
           -0.5926304809705374,
           -0.029153193917820484,
           -0.8230618111956887,
           0.4695028826847251,
           -0.48081376136427945,
           -0.5821497215834673,
           -0.8007961829117196,
           -0.46815529382286836,
           -1.5505914927876925,
           3.516807318770595,
           -0.12003581370436402,
           -0.880686213214107,
           -0.1057699350795273,
           -0.3379610788654308,
           0.3210574300150527,
           0.062101701736249154,
           -0.6651475748001795,
           -0.7242922701140979,
           2.7174188020612386,
           0.07960779567257506,
           -0.5088364732734394,
           0.5432798135021216,
           -0.599691788362982,
           -0.180873468553671,
           -0.43860151210953496,
           -0.8706502464414412,
           1.294080008086517,
           0.3436027388112135,
           -0.6099401052038163,
           -0.25089335011265407,
           0.4899573639125327,
           1.3480250998429624,
           0.9268034535566918,
           0.3563806629445746,
           -0.5825605796237388,
           -0.6652774266420355,
           -0.252709276111445,
           -0.7910830329211891,
           -0.5937379046534434,
           0.09381409831684859,
           -0.8633118972679769,
           -0.3908333732593599,
           -0.4316687838133759,
           -0.22547440403695276,
           -0.8073424344366122,
           0.032433792705546,
           0.050404196416529254,
           -0.5764961797066562,
           -0.19278611880742244,
           -0.3563622123316158,
           -0.521306559550117,
           -0.4494051746233768
          ],
          [
           -0.4770537148132398,
           0.43529837091351725,
           0.6875815007083236,
           0.993832834772325,
           1.492080281278601,
           0.23980691527204273,
           -0.607154752978541,
           1.4370975712563177,
           0.2796164162958217,
           -0.493893287843713,
           -0.492209127341742,
           -0.06684194549173832,
           0.06741834695425453,
           0.8907651232770308,
           1.6775202210174434,
           0.49304214746594827,
           0.838440564738629,
           -0.21840880678709254,
           0.7412224810014459,
           -0.36999517727783376,
           0.36716348732741055,
           -0.39128125514745304,
           0.7303240325514507,
           -0.6681327177136918,
           1.3823423662259868,
           -0.34264116188279325,
           0.17785897875086404,
           -0.14731443705141653,
           -0.39086250895011326,
           -0.2564056371323158,
           -0.2566151992105478,
           -0.4005672015607681,
           -0.40769396289758586,
           0.07072811717397358,
           -0.3451591742082446,
           -0.48629969100910725,
           -0.2115291944037437,
           0.5680604908920315,
           -0.27011527579953376,
           2.788663909609683,
           -0.14477241334252602,
           -0.4380599504958067,
           1.4623192729900512,
           -0.3277405433361117,
           -0.09814383331208704,
           -0.3277405433361117,
           -0.09814383331208704,
           0.47525391623685703,
           -0.24818989069824973,
           0.4912818114304359,
           -0.853709760859935,
           -0.8754933602774163,
           -0.4795961041712596,
           0.33010838173419216,
           -0.5337399195938617,
           -0.46436813895257867,
           0.20459522350509682,
           0.6987586768295782,
           0.13813773876516736,
           -0.5862139174841483,
           0.32028063449495003,
           0.5079571950342029,
           0.693964049567787,
           -0.5631455769050375,
           -0.8872453373090274,
           -0.6041883929063019,
           -0.2261447358932763,
           0.6215156478560285,
           -0.05061282769894003,
           0.16505952321596726,
           0.4696618810810645,
           -0.3252011762680336,
           -0.5607086893631615,
           -0.4771899355701895,
           -0.9303497357702458,
           1.2579210763194753,
           0.12475940036468372,
           0.47706256158687943,
           -0.5133990904756711,
           0.46056004178567334,
           -0.5523225850042688,
           -0.27085316030575496,
           -0.42003704399804076,
           -0.6372165545172014,
           -0.45180057972645016,
           -0.4169954512398972,
           -0.5338248142769475,
           -0.4899932302022711,
           1.0851064137124016,
           -0.40812120623151016,
           1.4900434669420672,
           -0.6147191320550417,
           -0.01894386816858651,
           -0.6763686011461695,
           0.026752040845910322,
           0.5881242298006872,
           -0.09929285829676428,
           -0.11254739087193483,
           1.0600872326414141,
           -0.30081971337224295,
           -0.4520891188878509,
           0.566372156192193,
           -0.4524024686968485
          ],
          [
           -0.8524035299726946,
           0.9756548636709039,
           1.3069960995854752,
           -0.1375318884851582,
           -1.3105847529750112,
           0.6056127765467717,
           -1.3243234545696543,
           0.9619651306386323,
           -0.9948101590206099,
           -1.1210827995644868,
           -0.4703978156981817,
           -0.731336715198245,
           0.5512940546814848,
           -1.2099336189097083,
           -1.1514874227263088,
           -1.3166533663491469,
           1.5461927386900876,
           0.19473363740271257,
           -1.4910577361158472,
           -1.2877844000902579,
           -0.02358740768408014,
           -0.30370182983726607,
           -0.6773730057786675,
           0.49718966551902766,
           1.1304295674071032,
           0.32758573829307047,
           -1.1122516899902228,
           0.22694951678905548,
           0.18682382103356648,
           -0.19365825221708013,
           -0.4754790981666729,
           -0.6642994162697045,
           -1.045751296819164,
           -0.13071215619386306,
           -0.3400736802973634,
           0.7735211093670246,
           0.4252418839520499,
           -1.0585059379887969,
           0.49048894472029914,
           -0.21205084603495022,
           -0.1452044291463944,
           -0.4017638790932899,
           -0.8436103069525425,
           -0.5673479837856918,
           -1.1876253752790953,
           -0.5673479837856918,
           -1.1876253752790953,
           1.1770220743212045,
           -0.8073057673121985,
           0.8763010584066283,
           0.6307477832201087,
           -1.0657593151050753,
           1.1304993419445237,
           -1.0101631585162374,
           0.1090781500487977,
           -0.7398039930515657,
           -0.9325116406516392,
           -0.9593302037284163,
           -1.1100243947017039,
           0.3802365698680948,
           -0.2786535110802398,
           -0.9520585625557657,
           0.8057282755099437,
           -0.6916237844712382,
           0.2657540532867125,
           -0.390187730467353,
           0.1174489707486249,
           -0.7957047874334888,
           -0.9409255607105889,
           -0.33295019788794616,
           0.09044638321760107,
           -0.9312059755361314,
           0.04367847776263261,
           -0.5830393533621572,
           1.0289301873622518,
           -0.803895879098755,
           -0.6581468848868605,
           -1.2742358345890572,
           0.21743461780721451,
           -0.8198315896281763,
           -0.7014295535302834,
           0.3066305492665937,
           -0.05498844485569233,
           -0.16785714593646783,
           -0.0067487258703311966,
           -0.7563524244722094,
           -1.1883186477459695,
           -0.6147541636964515,
           -0.50965140656095,
           -0.7819291394673045,
           -0.7101569946434766,
           0.5955627406959202,
           -1.026116317039055,
           -0.3577843664842712,
           -0.2666206804528324,
           0.37173308751147577,
           0.11409866094441398,
           -0.929230496015008,
           -0.5805896956525362,
           -0.7453505194662586,
           -0.5474343856443412,
           -0.7013728444936687,
           -0.6998426129959124
          ],
          [
           -1.2499370786263906,
           0.7889254977087327,
           1.0991385868352528,
           2.4399630325195076,
           -0.004350390838021021,
           1.1281172984415881,
           -1.0349977255106702,
           1.8163695867161784,
           -0.45922788508839046,
           -0.8138342212011194,
           -0.6810409187964063,
           -0.5998677758356685,
           0.05673363591737181,
           -0.6359632170175924,
           0.36011950825411737,
           -0.35782804031179194,
           1.8486789455654433,
           0.8809708282428956,
           0.23845393651759833,
           -0.9581541881261971,
           2.0803967175709106,
           -0.5243600284966585,
           0.030063465878745678,
           -0.5446020279174297,
           1.6309060365442398,
           -0.2319595913590223,
           -0.05004028717372624,
           1.2327971378976414,
           -0.19765779660661792,
           -0.6434365033303976,
           0.2301864617634223,
           -0.444889342385406,
           -1.1413905863020823,
           -0.5905184989983914,
           0.752782086906366,
           -0.024720709841984826,
           1.8977421324018997,
           0.07082164831106558,
           -0.20429118071683583,
           1.8445165535035988,
           1.0415548519955087,
           0.9582898420755573,
           -0.12305107375073657,
           0.45984184381369136,
           0.5198600097722943,
           0.45984184381369136,
           0.5198600097722943,
           0.5605590545138311,
           -0.41253675977179916,
           0.6258890200781249,
           -0.3670650371484969,
           -0.9234507415924488,
           0.7150568714156148,
           -0.06384667474947407,
           -0.2575232535299498,
           -0.4133237800896815,
           -0.38216521363486705,
           -0.20726876473836203,
           -0.32975087526845426,
           -0.9112449781931672,
           -0.2854122165661897,
           -0.27085685895254685,
           1.7993581546176163,
           -0.5912098044762153,
           -0.35034789774106767,
           -0.6552133472103976,
           -0.2934904116802609,
           -0.562439500161487,
           -0.24001599044766003,
           -0.397893570320298,
           1.3709888844856808,
           -0.39158640940934053,
           -0.39203115856535004,
           -0.31965035069801384,
           -0.15648657669082236,
           -0.012031750317168828,
           -0.5381360288570771,
           -0.8394713683284336,
           -0.3981435399395961,
           -0.2561047325662189,
           -0.5784660604939142,
           0.19403267513746725,
           0.4666505072215403,
           -0.36479812704592035,
           -0.3856614019367326,
           -0.3789847315781977,
           -0.7051856213232468,
           -0.5197771724528158,
           0.9531839842361743,
           -0.3510558030977967,
           0.4121783971306734,
           -0.6692449218285871,
           -0.3868816463293476,
           -0.6265827924956435,
           0.3818753447280892,
           0.2585990307135848,
           -0.3597034986425284,
           -0.8510013705049211,
           -0.15838719002457186,
           -0.35070107752740487,
           -0.5541823222925852,
           -0.24836769655235888,
           -0.6959134824907671
          ],
          [
           0.8612229050822908,
           0.3538074562236667,
           -0.09453124190500113,
           0.3779635678865136,
           1.4996175304924084,
           -0.8034777157855277,
           1.5038172589112455,
           -0.411857612712373,
           0.35216062157484446,
           1.8353729225209967,
           0.15425450005633778,
           0.1579028273690748,
           0.7923566350238415,
           1.8562167376121868,
           2.105516386961418,
           2.496107872044431,
           -0.35770129638606424,
           0.20044602396058103,
           1.4322773195573564,
           2.02265809212735,
           0.4759052312154307,
           0.246489867783235,
           -0.6807821627994873,
           0.454588152309022,
           -0.49212186320264384,
           0.9895443653206808,
           1.7216741206118322,
           0.15432582016879215,
           -0.8276058824698937,
           -0.9104139678655216,
           2.050610615535464,
           1.7092175779593848,
           0.8586780025218538,
           -0.8125612884451836,
           1.0889278270590301,
           0.9077955995033573,
           0.47685861095609444,
           1.773459942639333,
           0.5463178003399156,
           0.8646967219429361,
           0.08745500428903158,
           1.4845365001563153,
           0.47644943329418177,
           2.4761953501004657,
           2.4075060546711198,
           2.4761953501004657,
           2.4075060546711198,
           -0.5790417337935659,
           0.7220824178690848,
           0.678265062197839,
           -0.6927449156438608,
           1.7008654556929708,
           0.39162953622570246,
           1.8433049296727877,
           -0.5877611694035079,
           -0.3478395035019957,
           2.286833600598805,
           0.3719094035109421,
           0.627626267019653,
           -0.3921030401185275,
           -0.8460870252728949,
           1.6821358012669632,
           -0.489692050408716,
           -0.45968970115469887,
           -0.44973578777287065,
           -0.040598657169198,
           -0.4754401589524237,
           1.226878770586513,
           1.497293858257336,
           -0.9536353425074229,
           -1.0881310130050172,
           1.6942426587416946,
           -0.6812987304514313,
           -0.6130093232725021,
           -1.2975229257068284,
           2.311000253400391,
           0.41268413435900436,
           0.48406567144074647,
           -0.6880331552727819,
           2.0506738193946052,
           -0.42071319384929956,
           -0.4042877157327104,
           -0.52078092087258,
           -0.7604441807521578,
           -0.6236206023369949,
           -0.1198500139196782,
           0.2807540265557163,
           -0.5479081279754203,
           0.3820359060347672,
           -0.07317434003333206,
           0.4710519064597143,
           0.060800079779662064,
           0.8620741740891257,
           -0.3724136181428807,
           -0.03036180145479817,
           -0.1943020311226286,
           -0.5752639544090341,
           -0.3548729705483387,
           1.4462052984916234,
           0.5277817865622959,
           -0.3061976832020821,
           1.6143887972739113,
           -0.6504099266060402
          ],
          [
           0.8652540177243672,
           -0.045903094750389534,
           -0.3264760714674146,
           -1.1698774582885136,
           -1.7812537298625843,
           -1.3724702398351334,
           0.4364882093103133,
           -0.022948596906680795,
           -1.3998608522228515,
           0.14361005209398225,
           2.865545125398042,
           -0.426467606096295,
           0.38734444294020864,
           0.0612490858029262,
           -1.5924012518325685,
           -0.9966362622738437,
           -0.3452991341442507,
           0.06640758747160018,
           -1.22623048456655,
           -0.2963965040310005,
           -0.7640354955786313,
           1.2030889912339577,
           2.95135247420769,
           0.7052246970926307,
           -0.09656344908323405,
           0.6498714745010795,
           -0.7463402800124909,
           -0.28693506356757265,
           3.742355049216415,
           -0.39079833881189036,
           -0.9216086269494863,
           0.10774994606363594,
           0.6808136527426109,
           -0.5448572605047667,
           -0.17507716159409042,
           0.7019504059805798,
           -0.10229935003908272,
           -0.7139675788807182,
           0.9082820232072717,
           -0.8294220182418307,
           -1.2656907119404335,
           -0.09726740130734327,
           -0.9507152385165668,
           -0.41411119020807313,
           -0.8909936814937442,
           -0.41411119020807313,
           -0.8909936814937442,
           -0.2872398082430403,
           -0.226897609671541,
           -0.3944728034244467,
           3.5396545337768637,
           -0.01630458656468319,
           0.07655266139972637,
           -0.8946591408639151,
           3.4758118675965233,
           -0.8283531002561955,
           -0.8795630425903006,
           -1.3095589758721984,
           -1.191896468578547,
           0.291035955373276,
           -0.15551374592780018,
           -0.7855400738010242,
           0.21824777720839256,
           -0.5663887870577935,
           3.022179571211015,
           4.12154731506091,
           0.2074687759684268,
           -0.700606677161587,
           -0.5723260802912367,
           -0.9426921874673823,
           -1.2468372953432578,
           -0.5991918521800599,
           3.872021724634795,
           -0.8088547822586957,
           0.03136678192980733,
           -0.9298207529357481,
           -0.7122463895893276,
           -1.3448737632907186,
           3.4997398901843475,
           -0.7230384593835897,
           -0.5903060664013282,
           2.6867210925000395,
           2.670438675601566,
           3.189793024658084,
           3.2600490446623644,
           -0.93514351579658,
           -1.048822543272634,
           -0.6893547804844474,
           -0.8589094710781563,
           -0.9553416815940131,
           -1.627141936367287,
           -0.2765050803369107,
           -1.1855671928494864,
           -0.24139990857358326,
           -1.6708046788932285,
           -0.9047715587516776,
           -0.14297911601729005,
           -1.3920451648335126,
           -0.959328714988072,
           -0.6735638018095758,
           -0.7792313233506676,
           -0.9963360639938611,
           -0.9723720816244806
          ],
          [
           -1.752293405491536,
           -0.14902308635661551,
           -0.2552809971381844,
           0.2526327888030118,
           -0.8015743842435175,
           2.525875030652393,
           -1.4346181323722285,
           -1.3658810863452633,
           -0.9814905238253046,
           0.16353162224495843,
           0.7210096660300903,
           -1.8969435882853067,
           -0.7061918056421078,
           -0.9882543880683426,
           -0.4627259732795109,
           -0.6412643159950271,
           -0.08305185254284178,
           2.2978729183169833,
           -0.9827817545220467,
           0.21008850999680803,
           1.9408834688890697,
           -1.5383083642414364,
           -0.23216099327126466,
           -0.7825209073374059,
           -1.113972253328595,
           0.3939104521110068,
           -1.0712584611001097,
           2.9014122150982797,
           -0.18451914569758396,
           0.29484765484397063,
           2.0275754573944167,
           -1.6385644134648798,
           -1.6003159350165794,
           -0.08326111889993047,
           2.4851295583136332,
           0.6360179143067635,
           2.3284215940865383,
           -0.7941579981560797,
           -1.050776549708285,
           -1.0599492693591113,
           1.8195563924197347,
           2.304922572274841,
           -0.7344820819629713,
           1.617665444987267,
           0.8363652758898686,
           1.617665444987267,
           0.8363652758898686,
           -0.9256512956904915,
           -1.6967979262937647,
           -1.093083243785931,
           -0.8874809714701044,
           1.2105668365995186,
           0.1265253396101983,
           -0.6608184659928327,
           -0.40148068807447396,
           -0.6998138888997937,
           -0.5682135449485827,
           -1.8504808641864188,
           -1.1328350380338807,
           -1.7200572638548053,
           -0.5554045131481996,
           -0.6858700098146843,
           -1.3288359859816536,
           -0.7234567906536309,
           -0.9007058856133687,
           -0.45420989845400994,
           -0.13380333346824383,
           -1.3760680686990139,
           -1.222770860618737,
           -0.4390487449982497,
           0.2828790673644994,
           -0.8759779597615711,
           -0.43754134124911664,
           -0.7100637781750534,
           -1.0737256334170506,
           -0.7169727771778719,
           -1.6204995936987994,
           -0.43915675411835053,
           -0.7393050975427455,
           -0.6484511882975063,
           -0.6211864824086996,
           -0.4947107833084407,
           1.147155600671791,
           -0.40374369695592216,
           -0.659610129995983,
           -0.755022960997386,
           -0.6993229559748334,
           -0.6899992603439864,
           -1.400125223745304,
           -0.735094432185181,
           -0.9419440473207829,
           -1.275615133163807,
           -0.9345252169674954,
           -0.8989442024167301,
           0.25142686018305743,
           -1.196457515478476,
           -0.32418043808442354,
           -1.0198180746568855,
           -0.8114994497466842,
           -0.7831238835831078,
           -1.0508056253720552,
           -0.8517981166964493,
           -0.8458580363506252
          ],
          [
           0.20561591332024093,
           1.854044537766451,
           1.7031821986197975,
           -0.4295329579446723,
           -1.237898496023395,
           -0.33813689312986034,
           0.2321849413381001,
           0.0773405579318511,
           -1.3913008501744677,
           0.24565526875992613,
           -1.0040350162870402,
           -0.6591788314413439,
           1.7002615320621282,
           -0.2739166787625252,
           -1.2483849301335914,
           -0.47516200586250174,
           1.2023981793026997,
           -0.00522911472871553,
           -0.7156472224483181,
           -0.10935286075169605,
           -0.2447804314044424,
           0.3773088158042073,
           -1.7527749166971023,
           2.3733779784987097,
           0.3698272220927008,
           2.0456700637730476,
           -0.6240954884042554,
           -0.11221381645507066,
           -0.20865630616188396,
           -1.1807385756365896,
           -0.16855240368082322,
           0.7958903630300513,
           -0.25791148151299853,
           -1.211119556550845,
           -0.0016058942431197664,
           2.1604948204096455,
           0.3815872596498818,
           -0.40221281203752407,
           1.8519006152447608,
           -0.6318358094795616,
           -0.817223225341592,
           0.30973135711344013,
           -1.4284499348563924,
           -0.3696875777893922,
           -0.7346315955284549,
           -0.3696875777893922,
           -0.7346315955284549,
           0.12067544718875832,
           -1.0223113552761829,
           1.5537390025201554,
           0.4703111855328679,
           -0.14757083014447203,
           1.664429714050228,
           -0.6145664253262085,
           -0.1646320572212724,
           -0.8218247224004871,
           -0.6434916587380527,
           -1.248357319556847,
           -1.1168832199565304,
           0.9145630917989257,
           -1.1822802083145383,
           -0.7581089711791006,
           0.3682151062066598,
           -0.8397487815974338,
           0.8064291495766318,
           -0.5180902990881173,
           -0.3071851600092835,
           -0.6365732795568853,
           -0.5959870059622319,
           -1.447628323637686,
           -0.9378107596613233,
           -0.6318872147432958,
           -0.4057304914249124,
           -0.8106347051587443,
           -0.5993895687341622,
           -0.7653578988173734,
           -0.4362798685490129,
           -1.1426995090906502,
           -0.306126935421024,
           -0.6543262940659105,
           -0.7079828908945826,
           0.3944627628733133,
           -0.529212127512567,
           -0.6725716792197098,
           -0.30021378067536675,
           -0.9648695230879835,
           -1.0151892868134789,
           -0.8182229537567124,
           -0.4247211117984229,
           -1.014040743506042,
           -1.521820474447956,
           1.0111013106475797,
           -1.2821003992881268,
           -0.6139992643324932,
           -1.4949815714209407,
           -0.4598614956909305,
           -0.5599246715157878,
           -1.265010053441752,
           -0.9125303619578699,
           -1.1321301773646604,
           -1.0692019551214267,
           -1.0094960755172004,
           -1.0457023653465787
          ],
          [
           0.09736947409908028,
           1.632874252512643,
           1.181562721341352,
           0.25521409168283005,
           -0.6151750436160338,
           -0.3413513974819931,
           0.4403171541383898,
           -0.04758985227126315,
           -0.9734436943084726,
           0.5279327590318444,
           -0.252182747916169,
           -0.7226147102857324,
           1.3894939010985343,
           -0.248041998947955,
           -0.7723413853107183,
           0.1441498793954312,
           0.9685666149576895,
           0.36156756493636627,
           0.06109230582274913,
           0.2851911339486932,
           0.30248564119207483,
           0.11051484062229887,
           -1.623364315126203,
           1.7172116524436876,
           0.04140492580016088,
           1.7706789190588552,
           -0.03450138347614288,
           0.25647122852205556,
           -0.53776165955892,
           -1.1558932604531549,
           0.2811648767616494,
           0.8924221307076023,
           -0.3270501186092072,
           -1.2459349119431697,
           0.5820316854862317,
           1.741309581279078,
           0.8684345745677393,
           0.1936387922220686,
           1.533030038410471,
           -0.531764993464189,
           -0.3258333113790492,
           1.0730212749338304,
           -1.2186306601902621,
           0.1456974608658554,
           0.022461864589380653,
           0.1456974608658554,
           0.022461864589380653,
           -0.41210564311712594,
           -0.891185641424774,
           1.1161246186534837,
           -0.17523735465998191,
           1.1660514114639826,
           1.1357841472321861,
           -0.14099789679548302,
           -0.5301514508237176,
           -0.6459473516603101,
           -0.22908453744831986,
           -0.7559833971406748,
           -0.638015847537135,
           0.9093000299900252,
           -1.289950887412739,
           -0.429524551234168,
           0.25490448370366225,
           -0.7373500142603641,
           0.14618087099041407,
           -0.5200015393193352,
           -0.42867212696233425,
           -0.16734318089156633,
           -0.48682337108402585,
           -1.4944689247376182,
           -1.1215454337145274,
           -0.1964362707932032,
           -0.696727864088616,
           -0.7608331768163772,
           -1.1124041536471068,
           -0.5029852744577059,
           0.11325845827002812,
           -0.8530599425626102,
           -0.5549624875021679,
           -0.3634692435617573,
           -0.6146629592930096,
           -0.2552682634035316,
           -0.6565701933922731,
           -0.9954005478426404,
           -0.5501107042476487,
           -0.7687941332464803,
           -0.6436078609838728,
           -0.7218684948774888,
           -0.3863902795265334,
           -0.8297172463280453,
           -1.3776397996931304,
           0.24958643406640976,
           -0.8871276438990022,
           -0.8735861024831539,
           -1.174870464821267,
           -0.7338369630637893,
           -0.6581363087016712,
           -1.1865004697799975,
           -0.829346331720507,
           -0.9825737953961999,
           -1.0525063081887456,
           -0.7630998347472597,
           -0.998686951958837
          ],
          [
           -0.26195154284451994,
           0.2548520409346588,
           -0.24640319481678688,
           0.1738183073886134,
           -0.11928897796407957,
           -0.4414522601905721,
           0.27373725972410645,
           -0.21600584148796262,
           -0.6613663565398268,
           0.7296397534749715,
           0.5031753604393148,
           -0.8279445271568265,
           -0.11528503019380087,
           0.06922832635335609,
           -0.519501256982442,
           0.34497783437229285,
           -0.06432188127629353,
           0.05703653974131501,
           0.2021726090443398,
           0.5849117595302001,
           -0.0032724241018059126,
           -0.4193728321918958,
           -1.4512054904692615,
           0.026354045659640297,
           -0.2663731414662558,
           0.32269878896512255,
           -0.04679345127621815,
           -0.021356398930998458,
           -0.7262821694052018,
           -0.7902730868723309,
           -0.0007540039527680438,
           -0.05825822833144958,
           -0.5160281920444794,
           -0.8676450383217272,
           0.22990117331495116,
           0.2550477706009254,
           0.22095511978924676,
           0.3091029625693183,
           -0.0893624350997267,
           -0.4696962818464279,
           0.040086128674429615,
           0.4737712522498945,
           -1.1687633465001046,
           -0.33223035606502005,
           -0.4022274125058882,
           -0.33223035606502005,
           -0.4022274125058882,
           -0.736552766309037,
           -0.9263341683861018,
           -0.16560072346152094,
           -0.7341852631479558,
           1.7145515287944322,
           -0.5486168280702589,
           0.12926898043263485,
           -0.8026671475883952,
           -0.5127089510914017,
           0.01788903639825862,
           -0.5440817833211202,
           -0.40681971677627515,
           -0.26828030408817105,
           -1.2527533348433504,
           -0.04754655944179378,
           -0.051168800738484274,
           -0.660870720232154,
           -0.7229595583468482,
           -0.3353838951322941,
           -0.4636564719603415,
           -0.35271919346327485,
           -0.5117713679629433,
           -1.1661249564421363,
           -1.14047179587535,
           -0.08701707803109625,
           -0.7800493424719541,
           -0.7187108731647673,
           -1.077066579728485,
           -0.26677455838806285,
           -0.31592048663946476,
           -0.41759617473238214,
           -0.9041670956329863,
           -0.16499140921455935,
           -0.5381227954058189,
           -1.0221919038104204,
           -0.8715990802457464,
           -1.0108610741417343,
           -0.8124562545348721,
           -0.4684403684792389,
           -0.04369047917103765,
           -0.6459936354463468,
           -0.33940637077067376,
           -0.5248018044055889,
           -1.040693820744893,
           -0.7529672821880399,
           -0.3221482475379991,
           -0.7701164051414275,
           -1.066803656123729,
           -0.9498203947242574,
           -0.6747636869884561,
           -0.8596320921379137,
           -0.6800705254963816,
           -0.9179528630730572,
           -1.0648550884141934,
           -0.6617654426169988,
           -0.9624841583926041
          ]
         ]
        }
       ],
       "layout": {
        "height": 800,
        "template": {
         "data": {
          "bar": [
           {
            "error_x": {
             "color": "#2a3f5f"
            },
            "error_y": {
             "color": "#2a3f5f"
            },
            "marker": {
             "line": {
              "color": "#E5ECF6",
              "width": 0.5
             },
             "pattern": {
              "fillmode": "overlay",
              "size": 10,
              "solidity": 0.2
             }
            },
            "type": "bar"
           }
          ],
          "barpolar": [
           {
            "marker": {
             "line": {
              "color": "#E5ECF6",
              "width": 0.5
             },
             "pattern": {
              "fillmode": "overlay",
              "size": 10,
              "solidity": 0.2
             }
            },
            "type": "barpolar"
           }
          ],
          "carpet": [
           {
            "aaxis": {
             "endlinecolor": "#2a3f5f",
             "gridcolor": "white",
             "linecolor": "white",
             "minorgridcolor": "white",
             "startlinecolor": "#2a3f5f"
            },
            "baxis": {
             "endlinecolor": "#2a3f5f",
             "gridcolor": "white",
             "linecolor": "white",
             "minorgridcolor": "white",
             "startlinecolor": "#2a3f5f"
            },
            "type": "carpet"
           }
          ],
          "choropleth": [
           {
            "colorbar": {
             "outlinewidth": 0,
             "ticks": ""
            },
            "type": "choropleth"
           }
          ],
          "contour": [
           {
            "colorbar": {
             "outlinewidth": 0,
             "ticks": ""
            },
            "colorscale": [
             [
              0,
              "#0d0887"
             ],
             [
              0.1111111111111111,
              "#46039f"
             ],
             [
              0.2222222222222222,
              "#7201a8"
             ],
             [
              0.3333333333333333,
              "#9c179e"
             ],
             [
              0.4444444444444444,
              "#bd3786"
             ],
             [
              0.5555555555555556,
              "#d8576b"
             ],
             [
              0.6666666666666666,
              "#ed7953"
             ],
             [
              0.7777777777777778,
              "#fb9f3a"
             ],
             [
              0.8888888888888888,
              "#fdca26"
             ],
             [
              1,
              "#f0f921"
             ]
            ],
            "type": "contour"
           }
          ],
          "contourcarpet": [
           {
            "colorbar": {
             "outlinewidth": 0,
             "ticks": ""
            },
            "type": "contourcarpet"
           }
          ],
          "heatmap": [
           {
            "colorbar": {
             "outlinewidth": 0,
             "ticks": ""
            },
            "colorscale": [
             [
              0,
              "#0d0887"
             ],
             [
              0.1111111111111111,
              "#46039f"
             ],
             [
              0.2222222222222222,
              "#7201a8"
             ],
             [
              0.3333333333333333,
              "#9c179e"
             ],
             [
              0.4444444444444444,
              "#bd3786"
             ],
             [
              0.5555555555555556,
              "#d8576b"
             ],
             [
              0.6666666666666666,
              "#ed7953"
             ],
             [
              0.7777777777777778,
              "#fb9f3a"
             ],
             [
              0.8888888888888888,
              "#fdca26"
             ],
             [
              1,
              "#f0f921"
             ]
            ],
            "type": "heatmap"
           }
          ],
          "heatmapgl": [
           {
            "colorbar": {
             "outlinewidth": 0,
             "ticks": ""
            },
            "colorscale": [
             [
              0,
              "#0d0887"
             ],
             [
              0.1111111111111111,
              "#46039f"
             ],
             [
              0.2222222222222222,
              "#7201a8"
             ],
             [
              0.3333333333333333,
              "#9c179e"
             ],
             [
              0.4444444444444444,
              "#bd3786"
             ],
             [
              0.5555555555555556,
              "#d8576b"
             ],
             [
              0.6666666666666666,
              "#ed7953"
             ],
             [
              0.7777777777777778,
              "#fb9f3a"
             ],
             [
              0.8888888888888888,
              "#fdca26"
             ],
             [
              1,
              "#f0f921"
             ]
            ],
            "type": "heatmapgl"
           }
          ],
          "histogram": [
           {
            "marker": {
             "pattern": {
              "fillmode": "overlay",
              "size": 10,
              "solidity": 0.2
             }
            },
            "type": "histogram"
           }
          ],
          "histogram2d": [
           {
            "colorbar": {
             "outlinewidth": 0,
             "ticks": ""
            },
            "colorscale": [
             [
              0,
              "#0d0887"
             ],
             [
              0.1111111111111111,
              "#46039f"
             ],
             [
              0.2222222222222222,
              "#7201a8"
             ],
             [
              0.3333333333333333,
              "#9c179e"
             ],
             [
              0.4444444444444444,
              "#bd3786"
             ],
             [
              0.5555555555555556,
              "#d8576b"
             ],
             [
              0.6666666666666666,
              "#ed7953"
             ],
             [
              0.7777777777777778,
              "#fb9f3a"
             ],
             [
              0.8888888888888888,
              "#fdca26"
             ],
             [
              1,
              "#f0f921"
             ]
            ],
            "type": "histogram2d"
           }
          ],
          "histogram2dcontour": [
           {
            "colorbar": {
             "outlinewidth": 0,
             "ticks": ""
            },
            "colorscale": [
             [
              0,
              "#0d0887"
             ],
             [
              0.1111111111111111,
              "#46039f"
             ],
             [
              0.2222222222222222,
              "#7201a8"
             ],
             [
              0.3333333333333333,
              "#9c179e"
             ],
             [
              0.4444444444444444,
              "#bd3786"
             ],
             [
              0.5555555555555556,
              "#d8576b"
             ],
             [
              0.6666666666666666,
              "#ed7953"
             ],
             [
              0.7777777777777778,
              "#fb9f3a"
             ],
             [
              0.8888888888888888,
              "#fdca26"
             ],
             [
              1,
              "#f0f921"
             ]
            ],
            "type": "histogram2dcontour"
           }
          ],
          "mesh3d": [
           {
            "colorbar": {
             "outlinewidth": 0,
             "ticks": ""
            },
            "type": "mesh3d"
           }
          ],
          "parcoords": [
           {
            "line": {
             "colorbar": {
              "outlinewidth": 0,
              "ticks": ""
             }
            },
            "type": "parcoords"
           }
          ],
          "pie": [
           {
            "automargin": true,
            "type": "pie"
           }
          ],
          "scatter": [
           {
            "marker": {
             "colorbar": {
              "outlinewidth": 0,
              "ticks": ""
             }
            },
            "type": "scatter"
           }
          ],
          "scatter3d": [
           {
            "line": {
             "colorbar": {
              "outlinewidth": 0,
              "ticks": ""
             }
            },
            "marker": {
             "colorbar": {
              "outlinewidth": 0,
              "ticks": ""
             }
            },
            "type": "scatter3d"
           }
          ],
          "scattercarpet": [
           {
            "marker": {
             "colorbar": {
              "outlinewidth": 0,
              "ticks": ""
             }
            },
            "type": "scattercarpet"
           }
          ],
          "scattergeo": [
           {
            "marker": {
             "colorbar": {
              "outlinewidth": 0,
              "ticks": ""
             }
            },
            "type": "scattergeo"
           }
          ],
          "scattergl": [
           {
            "marker": {
             "colorbar": {
              "outlinewidth": 0,
              "ticks": ""
             }
            },
            "type": "scattergl"
           }
          ],
          "scattermapbox": [
           {
            "marker": {
             "colorbar": {
              "outlinewidth": 0,
              "ticks": ""
             }
            },
            "type": "scattermapbox"
           }
          ],
          "scatterpolar": [
           {
            "marker": {
             "colorbar": {
              "outlinewidth": 0,
              "ticks": ""
             }
            },
            "type": "scatterpolar"
           }
          ],
          "scatterpolargl": [
           {
            "marker": {
             "colorbar": {
              "outlinewidth": 0,
              "ticks": ""
             }
            },
            "type": "scatterpolargl"
           }
          ],
          "scatterternary": [
           {
            "marker": {
             "colorbar": {
              "outlinewidth": 0,
              "ticks": ""
             }
            },
            "type": "scatterternary"
           }
          ],
          "surface": [
           {
            "colorbar": {
             "outlinewidth": 0,
             "ticks": ""
            },
            "colorscale": [
             [
              0,
              "#0d0887"
             ],
             [
              0.1111111111111111,
              "#46039f"
             ],
             [
              0.2222222222222222,
              "#7201a8"
             ],
             [
              0.3333333333333333,
              "#9c179e"
             ],
             [
              0.4444444444444444,
              "#bd3786"
             ],
             [
              0.5555555555555556,
              "#d8576b"
             ],
             [
              0.6666666666666666,
              "#ed7953"
             ],
             [
              0.7777777777777778,
              "#fb9f3a"
             ],
             [
              0.8888888888888888,
              "#fdca26"
             ],
             [
              1,
              "#f0f921"
             ]
            ],
            "type": "surface"
           }
          ],
          "table": [
           {
            "cells": {
             "fill": {
              "color": "#EBF0F8"
             },
             "line": {
              "color": "white"
             }
            },
            "header": {
             "fill": {
              "color": "#C8D4E3"
             },
             "line": {
              "color": "white"
             }
            },
            "type": "table"
           }
          ]
         },
         "layout": {
          "annotationdefaults": {
           "arrowcolor": "#2a3f5f",
           "arrowhead": 0,
           "arrowwidth": 1
          },
          "autotypenumbers": "strict",
          "coloraxis": {
           "colorbar": {
            "outlinewidth": 0,
            "ticks": ""
           }
          },
          "colorscale": {
           "diverging": [
            [
             0,
             "#8e0152"
            ],
            [
             0.1,
             "#c51b7d"
            ],
            [
             0.2,
             "#de77ae"
            ],
            [
             0.3,
             "#f1b6da"
            ],
            [
             0.4,
             "#fde0ef"
            ],
            [
             0.5,
             "#f7f7f7"
            ],
            [
             0.6,
             "#e6f5d0"
            ],
            [
             0.7,
             "#b8e186"
            ],
            [
             0.8,
             "#7fbc41"
            ],
            [
             0.9,
             "#4d9221"
            ],
            [
             1,
             "#276419"
            ]
           ],
           "sequential": [
            [
             0,
             "#0d0887"
            ],
            [
             0.1111111111111111,
             "#46039f"
            ],
            [
             0.2222222222222222,
             "#7201a8"
            ],
            [
             0.3333333333333333,
             "#9c179e"
            ],
            [
             0.4444444444444444,
             "#bd3786"
            ],
            [
             0.5555555555555556,
             "#d8576b"
            ],
            [
             0.6666666666666666,
             "#ed7953"
            ],
            [
             0.7777777777777778,
             "#fb9f3a"
            ],
            [
             0.8888888888888888,
             "#fdca26"
            ],
            [
             1,
             "#f0f921"
            ]
           ],
           "sequentialminus": [
            [
             0,
             "#0d0887"
            ],
            [
             0.1111111111111111,
             "#46039f"
            ],
            [
             0.2222222222222222,
             "#7201a8"
            ],
            [
             0.3333333333333333,
             "#9c179e"
            ],
            [
             0.4444444444444444,
             "#bd3786"
            ],
            [
             0.5555555555555556,
             "#d8576b"
            ],
            [
             0.6666666666666666,
             "#ed7953"
            ],
            [
             0.7777777777777778,
             "#fb9f3a"
            ],
            [
             0.8888888888888888,
             "#fdca26"
            ],
            [
             1,
             "#f0f921"
            ]
           ]
          },
          "colorway": [
           "#636efa",
           "#EF553B",
           "#00cc96",
           "#ab63fa",
           "#FFA15A",
           "#19d3f3",
           "#FF6692",
           "#B6E880",
           "#FF97FF",
           "#FECB52"
          ],
          "font": {
           "color": "#2a3f5f"
          },
          "geo": {
           "bgcolor": "white",
           "lakecolor": "white",
           "landcolor": "#E5ECF6",
           "showlakes": true,
           "showland": true,
           "subunitcolor": "white"
          },
          "hoverlabel": {
           "align": "left"
          },
          "hovermode": "closest",
          "mapbox": {
           "style": "light"
          },
          "paper_bgcolor": "white",
          "plot_bgcolor": "#E5ECF6",
          "polar": {
           "angularaxis": {
            "gridcolor": "white",
            "linecolor": "white",
            "ticks": ""
           },
           "bgcolor": "#E5ECF6",
           "radialaxis": {
            "gridcolor": "white",
            "linecolor": "white",
            "ticks": ""
           }
          },
          "scene": {
           "xaxis": {
            "backgroundcolor": "#E5ECF6",
            "gridcolor": "white",
            "gridwidth": 2,
            "linecolor": "white",
            "showbackground": true,
            "ticks": "",
            "zerolinecolor": "white"
           },
           "yaxis": {
            "backgroundcolor": "#E5ECF6",
            "gridcolor": "white",
            "gridwidth": 2,
            "linecolor": "white",
            "showbackground": true,
            "ticks": "",
            "zerolinecolor": "white"
           },
           "zaxis": {
            "backgroundcolor": "#E5ECF6",
            "gridcolor": "white",
            "gridwidth": 2,
            "linecolor": "white",
            "showbackground": true,
            "ticks": "",
            "zerolinecolor": "white"
           }
          },
          "shapedefaults": {
           "line": {
            "color": "#2a3f5f"
           }
          },
          "ternary": {
           "aaxis": {
            "gridcolor": "white",
            "linecolor": "white",
            "ticks": ""
           },
           "baxis": {
            "gridcolor": "white",
            "linecolor": "white",
            "ticks": ""
           },
           "bgcolor": "#E5ECF6",
           "caxis": {
            "gridcolor": "white",
            "linecolor": "white",
            "ticks": ""
           }
          },
          "title": {
           "x": 0.05
          },
          "xaxis": {
           "automargin": true,
           "gridcolor": "white",
           "linecolor": "white",
           "ticks": "",
           "title": {
            "standoff": 15
           },
           "zerolinecolor": "white",
           "zerolinewidth": 2
          },
          "yaxis": {
           "automargin": true,
           "gridcolor": "white",
           "linecolor": "white",
           "ticks": "",
           "title": {
            "standoff": 15
           },
           "zerolinecolor": "white",
           "zerolinewidth": 2
          }
         }
        },
        "width": 1300
       }
      },
      "text/html": [
       "<div>                            <div id=\"7aaa96d2-dcc3-4169-8c4f-b7b730f7c4b6\" class=\"plotly-graph-div\" style=\"height:800px; width:1300px;\"></div>            <script type=\"text/javascript\">                require([\"plotly\"], function(Plotly) {                    window.PLOTLYENV=window.PLOTLYENV || {};                                    if (document.getElementById(\"7aaa96d2-dcc3-4169-8c4f-b7b730f7c4b6\")) {                    Plotly.newPlot(                        \"7aaa96d2-dcc3-4169-8c4f-b7b730f7c4b6\",                        [{\"colorscale\":[[0.0,\"#000004\"],[0.1111111111111111,\"#180f3d\"],[0.2222222222222222,\"#440f76\"],[0.3333333333333333,\"#721f81\"],[0.4444444444444444,\"#9e2f7f\"],[0.5555555555555556,\"#cd4071\"],[0.6666666666666666,\"#f1605d\"],[0.7777777777777778,\"#fd9668\"],[0.8888888888888888,\"#feca8d\"],[1.0,\"#fcfdbf\"]],\"x\":[\"Github\",\"JavaScript\",\"HTML/CSS\",\"SQL\",\"Linux\",\"Windows\",\"Slack\",\"MySQL\",\"Python\",\"Jira\",\"Java\",\"Google Suite (Docs, Meet, etc)\",\"Node.js\",\"Gitlab\",\"Bash/Shell/PowerShell\",\"Docker\",\"jQuery\",\"C#\",\"PostgreSQL\",\"Confluence\",\"Microsoft SQL Server\",\"Trello\",\"SQLite\",\"React.js\",\"PHP\",\"TypeScript\",\"AWS\",\".NET\",\"Android\",\"C++\",\"Microsoft Teams\",\"MongoDB\",\"MacOS\",\"C\",\".NET Core\",\"Angular\",\"ASP.NET\",\"Redis\",\"Express\",\"MariaDB\",\"Oracle\",\"ASP.NET Core\",\"Raspberry Pi\",\"Microsoft Azure\",\"Microsoft Azure\",\"Microsoft Azure\",\"Microsoft Azure\",\"WordPress\",\"Google Cloud Platform\",\"Vue.js\",\"Firebase\",\"Spring\",\"Angular.js\",\"Elasticsearch\",\"iOS\",\"Pandas\",\"Kubernetes\",\"Django\",\"Flask\",\"Heroku\",\"Arduino\",\"Go\",\"Laravel\",\"TensorFlow\",\"React Native\",\"Kotlin\",\"Unity 3D\",\"Ruby\",\"Slack Apps and Integrations\",\"Assembly\",\"VBA\",\"DynamoDB\",\"Swift\",\"R\",\"Stack Overflow for Teams\",\"Ansible\",\"Ruby on Rails\",\"Rust\",\"Flutter\",\"Teraform\",\"Keras\",\"Cordova\",\"Xamarin\",\"Objective-C\",\"Dart\",\"Apache Spark\",\"Scala\",\"Torch/PyTorch\",\"Symfony\",\"Hadoop\",\"Perl\",\"Gatsby\",\"Cassandra\",\"Facebook Workplace\",\"IBM DB2\",\"Drupal\",\"Unreal Engine\",\"Haskell\",\"Puppet\",\"Couchbase\",\"IBM Cloud or Watson\",\"Chef\",\"Julia\"],\"y\":[\"Marketing or sales professional\",\"Senior executive/VP\",\"Engineer, site reliability\",\"Scientist\",\"Product manager\",\"Engineering manager\",\"Developer, game or graphics\",\"Educator\",\"Academic researcher\",\"Engineer, data\",\"Developer, QA or test\",\"Data scientist or machine learning specialist\",\"Data or business analyst\",\"Developer, embedded applications or devices\",\"System administrator\",\"Designer\",\"Database administrator\",\"DevOps specialist\",\"Developer, mobile\",\"Developer, desktop or enterprise applications\",\"Developer, front-end\",\"Developer, full-stack\",\"Developer, back-end\"],\"ygap\":1,\"z\":[[-1.3793957040837357,0.4338163524993637,1.5100246629109877,-0.2607076348377079,-1.5677697663654662,-0.5812455179207402,-0.7285375131061432,2.216239261492258,-0.766783536482833,-1.8073580111623533,-1.369925824210894,1.8247052663489502,0.5288259953880806,-1.8906158415768035,-1.0406113889216824,-1.4120885992074215,1.5050559422746528,-1.0204779892222724,-0.8441624618555672,-1.5076060015572241,-0.281531555022435,1.4434813334930106,-0.003603769998175798,0.09427735916279231,2.704155227861616,-0.43885850955150835,-0.402247270458983,-0.27611323412854916,0.24950478235840726,-0.5344944959944712,-0.6630534374438605,0.04936790011888692,0.450157462959661,-0.25201612171010984,-0.5339247200075792,-0.02905222760552471,0.014187097486912064,-0.820911321044297,0.8370470594229039,1.0454246307319,0.0468631744297066,-0.24244875284572454,0.1417761665314281,0.4806812488653785,0.15751228007744145,0.4806812488653785,0.15751228007744145,3.7606615562857777,1.8933568139683816,1.193101515382013,1.3396951646362145,-0.8036855123577558,0.8496365372616713,-0.8345762760596926,0.8744047141872077,-0.2590411025324499,-0.5017250091705936,0.9305669945807491,-0.21591490034679836,1.7767171419425751,0.5363967033779256,-0.09549340174786018,2.7845083008742386,0.08291266909780944,1.5061172389203747,0.23952191407703682,0.19828687934782416,0.893225946478879,0.9336801577416799,0.6828994650024179,1.4908988646765222,-0.10276866334912911,0.7846123036572243,0.29539533409288876,3.663366211258462,-0.2089625897866079,1.5213540364260216,-0.03243080888395138,1.8719418237385896,-0.22968672323927344,-0.02074126259875836,1.9766650652683115,1.1187916420635642,1.156486625023335,2.100966929728105,0.3060348084903469,0.29756698250245944,0.23942613999440443,2.975431822509126,-0.04550947583260416,1.2383030629840182,3.4524270657129876,0.903457365237252,4.148711478394605,2.3150776214497837,3.6878790371710695,1.109494740344591,1.4684174343266807,0.7638453825987382,3.17070146491487,3.459063691871831,1.2397908126697035,1.5895510345363648],[-0.006988757912401595,0.6362434631208689,0.6495983863750474,0.6223122554097734,0.21508675457432033,-0.9955697057528287,1.537555916667159,-0.18598616746928967,-0.1403295385780517,0.0060390354734216655,-1.1014004242199276,2.094333814197422,0.84311697784535,-0.8156916983649944,0.47238880190340804,0.5183509153254299,0.07649364687685707,0.16380398213338432,1.539840994691499,-0.13432624775472474,0.257640258033824,1.34816096194045,0.33016063015860886,0.9069881698040273,0.21230101927399417,0.6206983775414742,1.7387814446387881,0.1773321713083857,0.3731402500657335,-0.25403384225748743,-0.49805147394702876,0.38825808156944075,1.890548793346148,-0.010306767706210999,0.9724583005139231,0.21610474341989114,0.3818823515007265,1.3177234240222326,0.5360483555824651,0.807396530012036,-0.7754594925585436,1.029975547372305,1.2841235720433768,1.3123601879334528,1.9692673996039467,1.3123601879334528,1.9692673996039467,0.8972012723152283,1.7211177689967523,1.4667620885466455,0.4533569112637105,-0.6721998394120345,0.2277060910813466,0.9921455000603165,1.2271258727501553,-0.14838332570946267,0.7358143452490093,0.3428668711780654,-0.058145229099036785,1.8036990282630412,0.399323620000513,0.48814268151343926,0.7168769376790908,0.01879254602260417,1.5694281496492861,0.3568528460433733,-0.1122642703264157,1.389405299126169,1.7273413385307466,0.9722131849007412,0.34075416271276926,1.3642784756695965,0.9407117571164615,-0.2392395899668647,0.4569995175928429,0.43173734848544887,2.0778020631958545,0.7840223836933355,0.6569951655570462,0.4913596128860081,0.04298537446674966,1.151266943617935,1.3112626387506945,1.1464198089438498,1.228555775242473,-0.003959905970358648,0.6138499731871262,0.05283605873665295,1.235903097024402,-0.0631943094669577,1.5290421534673575,0.9440524844590716,1.288963282710352,0.9010251847871459,1.7148349046609506,1.1932632852403189,0.21827930534968687,0.6270666288867056,0.952937617616768,2.1870510038198474,1.6053961026495192,0.7851530195651726,0.6218549753633835],[1.5502522148596283,-0.12965971366735277,-0.5786292990616523,0.21340499364719842,1.9200735703933778,-1.6988348534258222,1.7308113411223418,0.670757856552762,1.0445236734538377,1.5084742775969497,0.5277459458283661,1.2302036958988907,0.6648456340583337,1.3667535696522877,2.4264031931525714,2.5017452904286634,-0.7860034001016524,-0.9644087714440196,2.098111050775231,1.8614908081621597,-0.7759850408474297,0.14125381016245087,-0.4419918807186283,0.3756973628451362,-0.2736198578869332,0.19499467461735565,2.380646175326067,-1.2263757544173046,-0.858843945600925,-0.5155331782004765,-0.030916008045961226,1.420277075411412,1.9198064403257562,-0.38689309444186504,-0.5302284149929103,-0.4255824156787828,-1.073734216285482,2.721858613411109,0.7971976405737167,1.2074558989155189,-1.1115277705285738,-0.3789185188930396,0.697340259198378,0.21588236097966254,0.923216788012404,0.21588236097966254,0.923216788012404,-0.40264237965404626,1.9242431970642493,0.006042676450849233,-0.7365299077095582,1.2569670061802325,0.3161670473494777,2.90530143315448,-0.6905280161142644,-0.20963290807883123,3.1654254894899796,1.3978536821526917,1.5948473619862573,0.3651286974657297,-0.41932980316756496,3.7102461084545793,-0.3222382785808486,-0.3884881360236053,-0.15805993373813568,0.28551518223723177,-0.3975941669009067,2.892080050901662,2.583091164114515,-0.11400218077495505,-0.7730314060364137,3.049841647776285,-0.5932645812910365,-0.4622142909601231,0.2568168622837705,3.2711075043185036,2.012592234941947,2.3385690346345083,-0.21665223258424868,3.5867198525895945,-0.34371303851102053,-0.7923070260376768,-0.9378059612425166,-0.5782149873285092,-0.36027228611216555,0.4565918078803389,1.2674492683027727,-0.2597007302776667,0.9753169560169536,0.48130147854312466,2.335404237706277,0.7263793828711069,2.5942844012302086,0.9237641350039372,0.017105000648608554,0.6478898901082598,-0.19433986591018568,1.2185680487497017,3.4809320180349124,0.6502049527776805,0.3322390792019438,3.3275451777886578,0.0972688194420319],[0.8682450252497482,-2.0339260164177344,-1.900843190500415,-1.9711159068413413,1.1119598355817486,-0.1776234308813623,-0.7524024243477895,-2.2847936310003516,1.7081860451377664,-1.4260885232360865,-1.1879788095888808,-0.37201125540520696,-1.8955461518015233,0.9908844407577091,0.2474897431486787,-0.44899983471776483,-1.7191841281638556,-1.4556762768269267,-0.6774127227415373,-0.9951734100495979,-1.9030267668322678,-1.459202589257443,0.205343607068808,-1.4597663282873141,-1.4104124396931155,-1.8028729534943928,-0.838341321082342,-1.4281814546206495,-0.5801052108288096,1.7242158676800443,-1.782777807707353,-1.927415121901193,-0.21865321084690317,1.5629070456028857,-1.7123589225353533,-2.048806191686597,-1.894918173545292,-1.006128968858698,-1.6394732073295126,-1.1017534308869366,-1.478704398618984,-1.7375613875734066,0.499299549343018,-2.008932145948043,-1.4467711775399283,-2.008932145948043,-1.4467711775399283,-0.9410522204255609,-0.3806519710272902,-1.7622553756506463,-0.8364235941942094,-1.1988401614371602,-2.3236029084431107,-0.9095492611923776,-0.7351061916077722,1.4713590767878737,-0.5819101675097547,0.6180789807001654,0.5967066319772566,-1.2781190014229815,0.9031918846772592,-0.3738003518934821,-1.3758620292960047,1.7680494386387597,-0.9422746282877319,-0.7684482358621345,-0.12088448291130781,-0.43845318075160444,-0.9139525353105994,1.3352670319755877,0.1561161850310397,-0.7785690373817062,-0.30588036906660676,2.040205112488038,0.05530001117303202,-0.3678566596809844,-0.4400144884561133,1.194217214352331,-0.44537735141225754,-0.5280723456635235,1.7410559437846094,-1.058649030515795,-1.0294243391372622,-0.3107783609817974,-0.5152375775542959,0.3064694061151367,0.16351866476708007,1.7723696790443833,-0.6830493387200649,0.595245677049173,0.6129412389941036,-0.573371612943204,-0.12715803612949986,-0.20797153816819774,-0.22011694133175652,-0.3190717335172324,0.1158721011549666,1.836600505874412,-0.5008060760370959,0.25805500587011104,0.8411467850792711,-0.31945708512482307,2.6249924336461112],[-0.0023034057979214335,0.6503333763345197,0.6999252585258842,0.3848216498657335,-0.3468359889194517,-0.08826189952976593,0.5408718172027499,0.3985497736193528,-0.4788217300954861,0.0780114120987829,-0.37483481593725454,1.0432382477864697,0.6559582094660333,-0.4183315622855093,-0.3170548828162475,-0.15203958527791767,0.8806110510558178,0.12146147196700795,0.16771353328856564,-0.254713687593864,0.3811073635851661,1.838847350235454,0.6876521500434744,0.4188878380244141,0.6903188932091617,0.4082402057320506,0.31452089882990075,0.1863972210804347,0.2644372038160643,-0.33814598756200803,0.15979006012720184,0.4916492304793089,0.5348138764673338,-0.34907878249107194,0.17219036545054725,0.3410148764251,0.366053039988864,0.1408654975098941,0.5965297466351862,0.2890082347161541,0.0007208407267917738,0.14318215398747552,0.1637670096905362,0.40364520995243885,0.5084421386465883,0.40364520995243885,0.5084421386465883,0.7492389271298024,0.8155133580510457,0.7488060592990008,0.8026301218454714,-0.5030739013969567,0.5890009675647815,0.10381486317657505,0.6960113936110572,-0.3838761588457009,-0.18442483665830814,0.12081888669876292,-0.3923669394143161,1.0800584301915384,-0.09929373197619058,0.028799234384311045,0.8014768350381414,-0.3046496081102556,0.631518244955421,0.27106358124340096,-0.08178299282892035,0.47513969979489934,0.5189346344694005,-0.10659106595674932,0.40199815179816345,0.11764712048072677,0.7530689405828245,-0.22888307493318044,-0.5586510740185542,-0.23099519723575065,0.7584396028611646,-0.5175066186015989,0.6617774963094557,-0.27637777777058004,-0.4035099210364507,0.822239786458685,0.5823642934635155,0.6839500735728771,0.6380572250850366,-0.26750719112993937,-0.604093425645504,-0.31357715364659294,0.7536854403772769,-0.3059941664129983,-0.11727064935823618,0.6663283475656507,-0.010992455945976096,0.2637276567495601,0.25606266071127015,0.6734919447291777,-0.17341992481014418,-0.5626849506121135,-0.09988158344713007,0.12463544068570279,-0.03870246057220254,-0.018267503119184486,-0.23084108424860547],[0.29189312232067083,0.2499024230864781,-0.327757929092047,0.058893796863016476,0.5108906199952356,-1.2398726019479198,1.8768947440002524,-0.6827942602897009,-0.0953924191902726,1.8344608731132106,0.04680337076977009,1.8608469676154316,0.793529657424499,0.050431185143417746,0.6431514731513361,1.2159985892113128,-0.8084941498813029,-0.03235417720880735,1.4035812556545881,2.029272320569246,-0.004992519754083886,0.9437842315214402,-0.45448465442251895,1.2770862235709872,-0.5094642717431013,0.6659055266628694,1.7087656257389774,-0.13688648163361267,-0.31761754349826626,-0.3295880658013734,0.849431738248118,1.3890297906453948,1.9558934493668636,-0.2407892044208742,0.4223842156905283,0.3877726802238408,-0.018028731720305283,1.703175764872722,0.6145132588417855,-0.26083248793115993,-0.42452761773340425,0.5223915689696118,0.10523838855005631,0.9412227858449093,1.0368156882261181,0.9412227858449093,1.0368156882261181,-0.41535125923367283,0.850991664966739,0.2603141815898922,-0.15340968814109965,0.9649602500072132,0.7155434029743365,1.5914473911968237,0.19025870613149176,-0.28696298767298956,1.187057951560749,-0.275650132936271,0.07852962838384436,0.32674171926536844,-0.4617974346950833,0.9901239389476352,-0.5396515956392918,-0.28164326241879684,0.04852197465139428,0.40606191671543934,-0.35009124385477625,1.50988991299153,1.367659504655711,-0.031099120637150438,-0.864932960443704,1.7056746578634951,0.39592117817201633,-0.44932889493588685,-0.3811139671988548,0.6064538823478051,1.9844992812209667,0.6330861120246456,-0.4217193147832346,0.9468981870014106,-0.389511374867833,-0.29609938814341613,-0.3490249787917541,0.5196948400157041,-0.27558340970081857,0.19248656286718488,0.9769842256770007,-0.2713860840187613,0.33496591027338096,0.2733066656746861,0.35437572118098787,0.6685272718482588,1.2144776762385143,-0.03729778250287182,0.13646052951375645,0.30070512264126936,-0.35759716091404775,-0.14318735665549243,0.7628664232134083,0.9852023026629841,-0.04869394378837781,1.0284131984211984,-0.21863180504453905],[1.4228028135225064,0.01822809772247545,-0.12306196570305356,-1.2934417369586808,-0.42705171017012283,1.8741342381759263,-0.10749515502502753,-0.49061206731694956,-0.32207717066999336,-0.18714057489300018,0.8795228538366778,0.15703172086105738,0.4502073110409796,0.7981117290737029,-0.5606434434921687,-0.629371671848994,-0.25934550137630685,2.5826190620678697,-1.2604535782854382,-0.14613936336849964,-0.9758131632626651,1.2513308471809212,0.4160441147896908,0.18002199989900564,0.049609781383763644,0.3590044064889955,-0.8887301402545704,1.4908297154317531,1.6511686039312206,2.0611037392268394,-0.5769775447853537,-0.05834981146493396,0.2300030821774718,1.079764396091661,1.343907073541746,-0.2746095818315985,-0.08074580228245802,-0.5800563018563994,0.4198229296685591,-0.3013748435569801,-0.8985237387223516,-0.01892933765590177,0.19678179802587756,-0.7236089918662021,-1.1248192557104078,-0.7236089918662021,-1.1248192557104078,-0.23223962033255902,-0.601550457579975,0.4700724440694868,0.6974828822200569,-1.0439500477886199,-0.5124141710753862,-0.8572942688541886,1.3924208934874986,-0.6397679382309419,-0.5994635337326333,-0.9119261452795061,-0.7133937530736522,0.12374017154306285,1.158876164875327,-0.20928353093811608,-0.3537476445812541,-0.23774181921894214,0.6238829570158768,0.5674262972814617,4.578863713652795,-0.3359415883558294,-0.5984352651423845,1.4588083195591637,-0.532133586441635,-0.42452265160952857,0.6904395737587022,-0.62686650026797,-0.3040626991517659,-0.6558279926045161,-0.38408085384192653,1.9242008603690703,0.7575162771080656,-0.4960019415365297,-0.34299594761158925,0.6763667065989031,0.9532576686180816,1.4485872728502838,0.5800575749241338,-0.662886762913694,-0.6128790955185075,-0.3453208221348193,-0.12190707139329861,-0.6086139193675572,-0.8499908047769706,-0.04318070858934757,-0.970250182981443,-0.1114942801790128,-1.2079967189525274,-0.3408059480051374,4.359325484112452,0.35894048550707547,-0.4430313323605931,0.014906293633239705,-0.41939624165866096,-0.4120271285041992,-0.3504876427936669],[1.0387450371455917,0.1472993591097731,0.3773313253149117,-0.40156232536865377,0.00643416383293464,0.004291396371472371,0.22628046440320693,0.6903415060028965,-0.20268194094379596,-0.41414064413492846,0.5387583787108493,0.5845573293174857,0.19640284086596763,0.9594034573223262,-0.23728982728838652,-0.24925888864410328,0.22245340986567727,-0.5187299411515335,-0.21762568132689283,-0.3347744706567967,-0.6351283437017143,0.8320177953796528,0.6444913329903635,0.30293109326462636,0.4219616747333671,0.09045845685165556,-0.5917166662888648,-0.44491554795464056,0.0844286720575764,0.24611088017903643,-1.066039386509527,0.5991088382923162,0.2736688994273619,0.2600820634999152,-0.6955623204441256,0.14479567065639212,-0.6223568592639015,-0.34010972757121544,0.6908500872959836,0.42879119774982194,0.10754522237921442,-0.6475527437710878,0.022600953700308648,-0.7087929084129273,-0.7576190753283794,-0.7087929084129273,-0.7576190753283794,0.3331342527857797,-0.2763102340642573,0.1577522799703479,0.5562343699970888,0.5953362960237971,0.038137118590335604,-0.46894550215740183,-0.24724901708479002,-0.1391949410979118,-0.39218827762435593,0.17364542972246422,-0.1951813551902591,1.7148056783226349,0.6542565631192923,-0.45407439879001926,0.3567872508969132,-0.06304415375499293,0.38452627606144507,0.5122231870712759,-0.024984048085992878,-0.04798660100431768,-0.041139207462127805,0.5915996435590947,-0.26251981076059266,-0.3973340471841215,-0.12862331302216878,0.11587730667408891,0.6993885066833321,-0.2539178009963889,-0.01749213699980467,-0.2981690496699542,0.44760772246277336,-0.3766749178888411,-0.11546401662625794,0.3437533691170641,-0.23752122666246905,-0.07176860922281798,0.3242613480720634,-0.30541061277431714,-0.25113915685313665,-0.14508222228531778,0.4306977466349567,-0.33040631067779397,0.10836975933740818,0.44776068106525013,-0.4742556367428962,0.13353993241215117,0.10629959248405549,0.31136490507146464,-0.11109640200511889,1.463360134403271,-0.196270639415094,-0.22573591135070586,-0.11749799982927692,-0.23825322789945558,0.22566586671261402],[0.859881632069347,-1.4073284165528295,-1.159514362847717,-1.6034959058309513,0.5746271665470774,-0.3073158132033245,-0.7984982252021484,-0.6998760695858411,0.9713014632257141,-1.6643858958951254,0.5071600317105205,-0.44761463375379024,-1.5400568975173112,1.0675241791666916,-0.3989779048628884,-0.644289926103696,-0.9567225778737534,-1.2096344815040827,-0.8177055389679136,-1.476190200449823,-1.6082580946875435,-0.8480999256150238,0.08899603449364828,-1.2207265766236057,-0.6008208876773803,-1.5335123504498964,-1.0350707980477158,-1.28726004178549,-0.10096540035970414,1.3494635174703211,-2.0520790033708396,-0.6022461326482726,-0.7504454277494494,1.3309629608829898,-1.663479628015083,-1.1568793793777803,-1.4227552573031033,-0.9263177275908591,-1.3394381907451036,-0.7906971884822971,-0.8333900020559722,-1.7519540379061813,-0.3333021495604977,-2.01761913695765,-1.6072681987918718,-2.01761913695765,-1.6072681987918718,-0.3428618535992819,-0.44780481751759177,-1.2260770875702658,-0.31758099503899045,-0.3505647571386167,-1.4213016646118326,-0.8438398913595577,-0.697527597428068,0.9830141341874881,-0.8185057302110135,0.5066452756042361,0.232077374174819,-0.2875701223827574,0.6295361428903468,-0.6965757131714451,-0.49294719206289106,1.1732231140495144,-0.8507704403010632,-0.5585450323246552,-0.23600227390440895,-0.7629402711411283,-1.2153179212201224,1.0571868724806754,-0.4138683289440666,-1.0613777278213377,-0.47435801279944634,1.4116298926105413,0.3084703164328726,-0.6032868842720676,-0.6012359951106474,0.23011061467401228,-0.37495627906869355,-0.6776153481593508,1.2153774097009749,-0.7800899633632848,-1.038966266279948,-0.4750892773117458,-0.44720902682383934,0.13890672807020965,0.10265593795746125,1.237065263743245,-1.050348130582867,0.2614642657079451,-0.032417595035830166,-0.8306487882059292,-0.31193257429138704,-0.060379317423313573,-0.7341399499843646,-0.5727027362207943,-0.2605109637880939,1.7841387455812736,-0.6089870666150133,-0.48140269869078,0.3706023624296329,-0.7142609719607407,1.7986216029083848],[0.06872281741648986,-1.111219238706015,-1.2594944219448896,0.8766673935370626,0.6449616768335302,-0.24694536236324627,0.3557706587578084,-0.1588628159971729,1.4866593632843212,0.6528065114276754,0.651126504132036,-0.0403702130928247,-0.9789011830358688,-0.01832462576988602,0.41600443559436534,0.6749798179082577,-1.0184700359377246,-0.8982208516727304,1.2780786074868136,0.6758113375330174,0.24782346095412586,-0.5758151132080571,-0.08343722419378917,-0.8273558553739503,-1.0033219035385106,-1.1269208326365683,0.8148077328723055,-0.9991312117645479,-0.7972683316355091,-0.23288937162168918,0.5396034187926894,0.9389598568590709,0.05765254397943109,-0.06927497553109108,-0.9708357347261461,-1.1108304781471172,-1.0636343930990548,0.3269403915096321,-0.8685833617986662,-0.653820265078493,1.2659178194818985,-1.0262372052695796,0.16306445383624366,-0.196718304182752,0.22400461239163288,-0.196718304182752,0.22400461239163288,-0.8168004465229652,0.9417646924895491,-0.9658916498279777,-0.6324449698186138,0.7895458142819239,-0.8455997428467167,0.7858214298749256,-0.8852742834337356,1.6690529716708766,0.6263415700686197,1.4811456330669768,2.0148182275408195,-0.6584489039821102,0.09596702992414644,0.08083226755934611,-0.9826140333766025,0.8368483238512785,-0.9027678245496404,-0.5171210514042347,-0.38107760802392665,-0.4208444554346195,0.4196936865665848,-0.24251800152055208,0.6162371937160923,0.587579773886257,-0.7552007594744646,0.8010055736278389,0.30872007890520464,0.06360246621607538,-0.50113944121986,-0.20849779443754773,-0.8226209311229561,0.40748928549017305,0.8251826967250814,-1.1344364901092276,-0.8615631631227035,-0.6609761925240395,-0.8991695416499988,3.1144459444353783,3.304331009700809,0.7646054983762581,-0.4460239698136905,3.0714797320542107,0.16654850700828508,-0.666946859833337,1.8051818186060946,0.009326695287754934,0.7142895257226128,-0.6260936933527668,-0.34982982289553666,0.021444102618120457,-0.2109429757771199,0.49799295858643433,0.30589946537638313,-0.19737707672355462,0.27058989717502474],[-0.09996641675379951,0.49068884125587603,0.4277510775977667,0.4180430585073047,-0.0624264861424848,0.7360227653824639,0.20909740806360666,0.41845671427487535,-0.2914211470442006,1.1347596313714328,1.371552412513277,-0.13898794214128427,0.3664889969234814,0.3556359608894403,0.24302518720368194,0.12903677364837488,0.3996183145438262,0.6181931513418076,-0.3691229727262635,1.0713727944627138,0.39248309759774996,-0.030041137269429904,-0.22073729437925257,-0.02703933503964947,0.1155238476973944,0.3156517663133605,-0.20229004341541718,0.6074957221016084,-0.012192729625622381,-0.2785586425034176,1.1243070344203645,-0.13603140876152958,0.1841298530280733,-0.2644468731257963,0.5679608480271604,0.6134054418282808,0.5628623095100562,-0.2794708249580323,-0.09344548126086032,0.013336692658198385,1.0788348390381568,0.4795657603872318,-0.5382927657662794,0.4755984060822201,0.17679267805289428,0.4755984060822201,0.17679267805289428,-0.2119446844254578,-0.7014700711579162,0.12955304960894748,-0.024159015983275033,1.0557227850034228,1.212501942409234,-0.004171571044384622,-0.011249579191916634,-0.5498120816444604,-0.1029140822017132,-0.5729398797283982,-0.5123338685973243,-0.5740809964423927,-0.55770641120502,-0.24713884339814773,0.24925340272053195,-0.6028505790545716,-0.3646057143983469,0.16032273331754537,-0.122163174432151,0.27052468736273794,0.40443054084370494,-0.3923396504702544,-0.08211624409577153,-0.16597244074297374,-0.18506306523484153,-0.6440088120689497,0.49087988009035755,-0.14745635458696127,-0.04647488379089574,-0.559388056890263,-0.4432398788963805,-0.2064539520454366,-0.586507130546268,0.020658741384983317,-0.0745715163516658,-0.19095330328174098,-0.42407933585543073,-0.5151135250541866,-0.39983499819906965,-0.5713142584345373,0.15070469586184618,-0.5308488755773263,0.23306494956360876,-0.5136165395106329,-0.5010893049050701,-0.2164583756850211,0.03167230555951224,0.1710170276488853,-0.18638439680104968,-0.5653536274089623,0.02225867197360148,-0.4043284007654946,-0.3164844264307863,-0.1176076836026772,-0.3726011165171511],[0.967076285498978,-2.0553805104496368,-1.7606504243877041,-0.1804718281210389,0.720565437245754,-0.36172287328974495,0.16760034240237398,-0.8526348000741512,2.6148476507869254,-0.36855790879145617,-0.6773542237183563,0.04125031098237779,-1.9464254034912876,-0.08179413152863334,-0.07896065758627525,0.22884339796838765,-1.8612573503556866,-1.5851909601659178,0.5312367597338895,-0.2052853102660454,-0.9006494976610825,-0.8588437979865869,0.27999588425071037,-1.2387176093647903,-1.7060621514670447,-1.8112016086816658,0.2523435507670409,-1.743317676770024,-0.9171481815706282,0.49730533649320385,-0.37356972918383374,0.3860820770952778,-0.19664185451642083,0.21532424141910095,-1.7086628542426907,-1.7774271856246004,-1.8745373300010353,-0.558675202829391,-1.6269682972038035,-1.3329222037288517,0.19594531496716336,-1.8171703206452872,-0.0061398086810772285,-0.8343733441344373,-0.2670745046121718,-0.8343733441344373,-0.2670745046121718,-0.9059281444510309,1.0704596390222787,-1.7117749646652345,-0.9318845214829982,-0.967042317280396,-1.8715859833217252,0.046066146678692826,-1.0222419210459557,3.291583827472921,-0.03271864495362059,2.4576193148447327,2.894423165550614,-0.6112072074566481,-0.10187194742363039,-0.361613759255187,-1.5563686702093122,3.6109343256038575,-0.9550275123895259,-0.7771379765992944,-0.4052640605240288,-0.9584772125571626,-0.5329887937380327,-0.15278460366290778,0.025732670377953126,-0.30827336784848913,-0.7381332005886125,2.8366067922330895,0.4913846271129449,-0.3756568610929471,-1.0006170612443355,-0.03805387824805691,-0.7264639883747208,-0.2841291905950077,3.6812767324840125,-1.5811474346898458,-1.4555907923734033,-0.8611950460393678,-0.8354871862308635,2.6456186225613307,1.5135269767983148,3.6225337223070273,-1.42384810677716,2.526671360474744,-0.5615381270492553,-0.7322999787593654,0.6293890534649687,-0.03790737784028608,0.10112046899473152,-0.8665860844886855,-0.33004158531899946,0.8931371403710135,-0.42590997887795695,-0.6270588548760868,0.9410140797453086,-0.3665600805516514,1.72701051815543],[-2.3197688070173217,-1.039842272891999,-0.5249430484795043,1.638118586787189,-1.1376935907904404,1.1245860659716604,-1.5125350521858199,-0.1643243779862855,0.47677332431323494,-0.8373610775682041,-1.6542569297253285,-0.9436750238975627,-1.599484776993867,-2.3383533547695063,-0.6362088638723429,-1.071364381766367,-0.3644344659937136,-0.2522034064914315,-0.23155899353026235,-0.8416306965567549,2.0462010684407006,-1.2926846175797502,-0.4708998951204451,-1.489929524443529,-0.5857217720962122,-1.370932991883436,-0.5935365619678129,0.09795224308639305,-0.8178779484245073,-0.8249109037685193,1.0331133889822275,-1.8163391284629864,-1.8036927232102644,-0.8166037193855255,-0.4797939453597701,-1.3145405484739843,0.3989980910999552,-0.9945335072798364,-1.6684218285106058,-0.6624878144137162,2.7575484247048405,-0.2782203343877258,-0.9817730319795454,0.10509226576861326,0.38030576979172565,0.10509226576861326,0.38030576979172565,-0.1537067016776485,-0.3548869371732604,-1.5014262687022435,-1.0302673540242104,-1.294001532581329,-1.1573001226512827,-0.6007887118739684,-0.8674821883557685,1.156458624961878,-0.7929275752132958,0.33646450051056703,0.3045505049983551,-0.8481092858108394,-0.7285812910969139,-1.0007158272827656,-0.6755080799338185,0.32691103720543463,-1.182076887005522,-1.102466347125415,-0.6036693207349204,-1.0574144436862833,-0.8047658274159595,-0.7666759717335971,3.1380773941877056,-0.7331059884846038,-0.88912285009506,1.5514992182459755,-0.11997659820731221,-0.6614217875292514,-0.8624548523141153,-1.39427490741848,-0.9014483539492442,-0.6285355803273869,0.2726504720306157,-0.9727138967157232,-0.560290071395095,-0.9098663155190627,-0.9410680174069564,0.7413378198639561,-0.10945075302845263,0.20812600394311023,-0.8415684589930015,0.9421121793336104,-0.2645232496535238,-1.010097864029715,-0.4679056752417882,0.15427763419327423,2.039194011970035,-0.23241497178320442,-0.5920394295125304,-0.4801934052679366,-0.49505454274718147,-0.5990033934301551,0.3182795287309842,-0.42430977025664146,-0.009916240249301161],[-0.6950188949954622,-0.9496865830673903,-1.085505670470425,-1.2579487149933684,0.7156062811356647,0.7558340779235321,-1.2308650807436166,-1.1029507790418418,0.224939246112101,0.27354882508233963,0.4989625040149623,-1.120215412295337,-0.6623869230147599,0.45301732095034597,0.4249702387181163,-0.3522756394099578,-0.8642236338379458,0.6154220096210046,-0.8600217064873934,0.17672576220013703,-0.3710290542682916,-1.4945673545261262,1.7283918765415498,-1.071045355992324,-0.690326571046481,-0.4960132162913369,-0.8721846845869079,0.7780381275954887,0.9235063779152178,2.6567251141353108,0.5706906709284522,-1.4210526629807172,-0.7705912668174338,3.356250543999909,0.5390893163623508,-0.23048220472379674,0.041315242953483176,-0.650599618907558,-0.9711526917703572,-0.45068291733533766,-0.22117090173859708,0.05669604032386313,3.1144495415135043,-0.13272008250766693,-0.6453764496233598,-0.13272008250766693,-0.6453764496233598,-0.7106279433017381,-0.9452959450731603,-0.9534227511155716,-0.11698960316908487,-0.5926304809705374,-0.029153193917820484,-0.8230618111956887,0.4695028826847251,-0.48081376136427945,-0.5821497215834673,-0.8007961829117196,-0.46815529382286836,-1.5505914927876925,3.516807318770595,-0.12003581370436402,-0.880686213214107,-0.1057699350795273,-0.3379610788654308,0.3210574300150527,0.062101701736249154,-0.6651475748001795,-0.7242922701140979,2.7174188020612386,0.07960779567257506,-0.5088364732734394,0.5432798135021216,-0.599691788362982,-0.180873468553671,-0.43860151210953496,-0.8706502464414412,1.294080008086517,0.3436027388112135,-0.6099401052038163,-0.25089335011265407,0.4899573639125327,1.3480250998429624,0.9268034535566918,0.3563806629445746,-0.5825605796237388,-0.6652774266420355,-0.252709276111445,-0.7910830329211891,-0.5937379046534434,0.09381409831684859,-0.8633118972679769,-0.3908333732593599,-0.4316687838133759,-0.22547440403695276,-0.8073424344366122,0.032433792705546,0.050404196416529254,-0.5764961797066562,-0.19278611880742244,-0.3563622123316158,-0.521306559550117,-0.4494051746233768],[-0.4770537148132398,0.43529837091351725,0.6875815007083236,0.993832834772325,1.492080281278601,0.23980691527204273,-0.607154752978541,1.4370975712563177,0.2796164162958217,-0.493893287843713,-0.492209127341742,-0.06684194549173832,0.06741834695425453,0.8907651232770308,1.6775202210174434,0.49304214746594827,0.838440564738629,-0.21840880678709254,0.7412224810014459,-0.36999517727783376,0.36716348732741055,-0.39128125514745304,0.7303240325514507,-0.6681327177136918,1.3823423662259868,-0.34264116188279325,0.17785897875086404,-0.14731443705141653,-0.39086250895011326,-0.2564056371323158,-0.2566151992105478,-0.4005672015607681,-0.40769396289758586,0.07072811717397358,-0.3451591742082446,-0.48629969100910725,-0.2115291944037437,0.5680604908920315,-0.27011527579953376,2.788663909609683,-0.14477241334252602,-0.4380599504958067,1.4623192729900512,-0.3277405433361117,-0.09814383331208704,-0.3277405433361117,-0.09814383331208704,0.47525391623685703,-0.24818989069824973,0.4912818114304359,-0.853709760859935,-0.8754933602774163,-0.4795961041712596,0.33010838173419216,-0.5337399195938617,-0.46436813895257867,0.20459522350509682,0.6987586768295782,0.13813773876516736,-0.5862139174841483,0.32028063449495003,0.5079571950342029,0.693964049567787,-0.5631455769050375,-0.8872453373090274,-0.6041883929063019,-0.2261447358932763,0.6215156478560285,-0.05061282769894003,0.16505952321596726,0.4696618810810645,-0.3252011762680336,-0.5607086893631615,-0.4771899355701895,-0.9303497357702458,1.2579210763194753,0.12475940036468372,0.47706256158687943,-0.5133990904756711,0.46056004178567334,-0.5523225850042688,-0.27085316030575496,-0.42003704399804076,-0.6372165545172014,-0.45180057972645016,-0.4169954512398972,-0.5338248142769475,-0.4899932302022711,1.0851064137124016,-0.40812120623151016,1.4900434669420672,-0.6147191320550417,-0.01894386816858651,-0.6763686011461695,0.026752040845910322,0.5881242298006872,-0.09929285829676428,-0.11254739087193483,1.0600872326414141,-0.30081971337224295,-0.4520891188878509,0.566372156192193,-0.4524024686968485],[-0.8524035299726946,0.9756548636709039,1.3069960995854752,-0.1375318884851582,-1.3105847529750112,0.6056127765467717,-1.3243234545696543,0.9619651306386323,-0.9948101590206099,-1.1210827995644868,-0.4703978156981817,-0.731336715198245,0.5512940546814848,-1.2099336189097083,-1.1514874227263088,-1.3166533663491469,1.5461927386900876,0.19473363740271257,-1.4910577361158472,-1.2877844000902579,-0.02358740768408014,-0.30370182983726607,-0.6773730057786675,0.49718966551902766,1.1304295674071032,0.32758573829307047,-1.1122516899902228,0.22694951678905548,0.18682382103356648,-0.19365825221708013,-0.4754790981666729,-0.6642994162697045,-1.045751296819164,-0.13071215619386306,-0.3400736802973634,0.7735211093670246,0.4252418839520499,-1.0585059379887969,0.49048894472029914,-0.21205084603495022,-0.1452044291463944,-0.4017638790932899,-0.8436103069525425,-0.5673479837856918,-1.1876253752790953,-0.5673479837856918,-1.1876253752790953,1.1770220743212045,-0.8073057673121985,0.8763010584066283,0.6307477832201087,-1.0657593151050753,1.1304993419445237,-1.0101631585162374,0.1090781500487977,-0.7398039930515657,-0.9325116406516392,-0.9593302037284163,-1.1100243947017039,0.3802365698680948,-0.2786535110802398,-0.9520585625557657,0.8057282755099437,-0.6916237844712382,0.2657540532867125,-0.390187730467353,0.1174489707486249,-0.7957047874334888,-0.9409255607105889,-0.33295019788794616,0.09044638321760107,-0.9312059755361314,0.04367847776263261,-0.5830393533621572,1.0289301873622518,-0.803895879098755,-0.6581468848868605,-1.2742358345890572,0.21743461780721451,-0.8198315896281763,-0.7014295535302834,0.3066305492665937,-0.05498844485569233,-0.16785714593646783,-0.0067487258703311966,-0.7563524244722094,-1.1883186477459695,-0.6147541636964515,-0.50965140656095,-0.7819291394673045,-0.7101569946434766,0.5955627406959202,-1.026116317039055,-0.3577843664842712,-0.2666206804528324,0.37173308751147577,0.11409866094441398,-0.929230496015008,-0.5805896956525362,-0.7453505194662586,-0.5474343856443412,-0.7013728444936687,-0.6998426129959124],[-1.2499370786263906,0.7889254977087327,1.0991385868352528,2.4399630325195076,-0.004350390838021021,1.1281172984415881,-1.0349977255106702,1.8163695867161784,-0.45922788508839046,-0.8138342212011194,-0.6810409187964063,-0.5998677758356685,0.05673363591737181,-0.6359632170175924,0.36011950825411737,-0.35782804031179194,1.8486789455654433,0.8809708282428956,0.23845393651759833,-0.9581541881261971,2.0803967175709106,-0.5243600284966585,0.030063465878745678,-0.5446020279174297,1.6309060365442398,-0.2319595913590223,-0.05004028717372624,1.2327971378976414,-0.19765779660661792,-0.6434365033303976,0.2301864617634223,-0.444889342385406,-1.1413905863020823,-0.5905184989983914,0.752782086906366,-0.024720709841984826,1.8977421324018997,0.07082164831106558,-0.20429118071683583,1.8445165535035988,1.0415548519955087,0.9582898420755573,-0.12305107375073657,0.45984184381369136,0.5198600097722943,0.45984184381369136,0.5198600097722943,0.5605590545138311,-0.41253675977179916,0.6258890200781249,-0.3670650371484969,-0.9234507415924488,0.7150568714156148,-0.06384667474947407,-0.2575232535299498,-0.4133237800896815,-0.38216521363486705,-0.20726876473836203,-0.32975087526845426,-0.9112449781931672,-0.2854122165661897,-0.27085685895254685,1.7993581546176163,-0.5912098044762153,-0.35034789774106767,-0.6552133472103976,-0.2934904116802609,-0.562439500161487,-0.24001599044766003,-0.397893570320298,1.3709888844856808,-0.39158640940934053,-0.39203115856535004,-0.31965035069801384,-0.15648657669082236,-0.012031750317168828,-0.5381360288570771,-0.8394713683284336,-0.3981435399395961,-0.2561047325662189,-0.5784660604939142,0.19403267513746725,0.4666505072215403,-0.36479812704592035,-0.3856614019367326,-0.3789847315781977,-0.7051856213232468,-0.5197771724528158,0.9531839842361743,-0.3510558030977967,0.4121783971306734,-0.6692449218285871,-0.3868816463293476,-0.6265827924956435,0.3818753447280892,0.2585990307135848,-0.3597034986425284,-0.8510013705049211,-0.15838719002457186,-0.35070107752740487,-0.5541823222925852,-0.24836769655235888,-0.6959134824907671],[0.8612229050822908,0.3538074562236667,-0.09453124190500113,0.3779635678865136,1.4996175304924084,-0.8034777157855277,1.5038172589112455,-0.411857612712373,0.35216062157484446,1.8353729225209967,0.15425450005633778,0.1579028273690748,0.7923566350238415,1.8562167376121868,2.105516386961418,2.496107872044431,-0.35770129638606424,0.20044602396058103,1.4322773195573564,2.02265809212735,0.4759052312154307,0.246489867783235,-0.6807821627994873,0.454588152309022,-0.49212186320264384,0.9895443653206808,1.7216741206118322,0.15432582016879215,-0.8276058824698937,-0.9104139678655216,2.050610615535464,1.7092175779593848,0.8586780025218538,-0.8125612884451836,1.0889278270590301,0.9077955995033573,0.47685861095609444,1.773459942639333,0.5463178003399156,0.8646967219429361,0.08745500428903158,1.4845365001563153,0.47644943329418177,2.4761953501004657,2.4075060546711198,2.4761953501004657,2.4075060546711198,-0.5790417337935659,0.7220824178690848,0.678265062197839,-0.6927449156438608,1.7008654556929708,0.39162953622570246,1.8433049296727877,-0.5877611694035079,-0.3478395035019957,2.286833600598805,0.3719094035109421,0.627626267019653,-0.3921030401185275,-0.8460870252728949,1.6821358012669632,-0.489692050408716,-0.45968970115469887,-0.44973578777287065,-0.040598657169198,-0.4754401589524237,1.226878770586513,1.497293858257336,-0.9536353425074229,-1.0881310130050172,1.6942426587416946,-0.6812987304514313,-0.6130093232725021,-1.2975229257068284,2.311000253400391,0.41268413435900436,0.48406567144074647,-0.6880331552727819,2.0506738193946052,-0.42071319384929956,-0.4042877157327104,-0.52078092087258,-0.7604441807521578,-0.6236206023369949,-0.1198500139196782,0.2807540265557163,-0.5479081279754203,0.3820359060347672,-0.07317434003333206,0.4710519064597143,0.060800079779662064,0.8620741740891257,-0.3724136181428807,-0.03036180145479817,-0.1943020311226286,-0.5752639544090341,-0.3548729705483387,1.4462052984916234,0.5277817865622959,-0.3061976832020821,1.6143887972739113,-0.6504099266060402],[0.8652540177243672,-0.045903094750389534,-0.3264760714674146,-1.1698774582885136,-1.7812537298625843,-1.3724702398351334,0.4364882093103133,-0.022948596906680795,-1.3998608522228515,0.14361005209398225,2.865545125398042,-0.426467606096295,0.38734444294020864,0.0612490858029262,-1.5924012518325685,-0.9966362622738437,-0.3452991341442507,0.06640758747160018,-1.22623048456655,-0.2963965040310005,-0.7640354955786313,1.2030889912339577,2.95135247420769,0.7052246970926307,-0.09656344908323405,0.6498714745010795,-0.7463402800124909,-0.28693506356757265,3.742355049216415,-0.39079833881189036,-0.9216086269494863,0.10774994606363594,0.6808136527426109,-0.5448572605047667,-0.17507716159409042,0.7019504059805798,-0.10229935003908272,-0.7139675788807182,0.9082820232072717,-0.8294220182418307,-1.2656907119404335,-0.09726740130734327,-0.9507152385165668,-0.41411119020807313,-0.8909936814937442,-0.41411119020807313,-0.8909936814937442,-0.2872398082430403,-0.226897609671541,-0.3944728034244467,3.5396545337768637,-0.01630458656468319,0.07655266139972637,-0.8946591408639151,3.4758118675965233,-0.8283531002561955,-0.8795630425903006,-1.3095589758721984,-1.191896468578547,0.291035955373276,-0.15551374592780018,-0.7855400738010242,0.21824777720839256,-0.5663887870577935,3.022179571211015,4.12154731506091,0.2074687759684268,-0.700606677161587,-0.5723260802912367,-0.9426921874673823,-1.2468372953432578,-0.5991918521800599,3.872021724634795,-0.8088547822586957,0.03136678192980733,-0.9298207529357481,-0.7122463895893276,-1.3448737632907186,3.4997398901843475,-0.7230384593835897,-0.5903060664013282,2.6867210925000395,2.670438675601566,3.189793024658084,3.2600490446623644,-0.93514351579658,-1.048822543272634,-0.6893547804844474,-0.8589094710781563,-0.9553416815940131,-1.627141936367287,-0.2765050803369107,-1.1855671928494864,-0.24139990857358326,-1.6708046788932285,-0.9047715587516776,-0.14297911601729005,-1.3920451648335126,-0.959328714988072,-0.6735638018095758,-0.7792313233506676,-0.9963360639938611,-0.9723720816244806],[-1.752293405491536,-0.14902308635661551,-0.2552809971381844,0.2526327888030118,-0.8015743842435175,2.525875030652393,-1.4346181323722285,-1.3658810863452633,-0.9814905238253046,0.16353162224495843,0.7210096660300903,-1.8969435882853067,-0.7061918056421078,-0.9882543880683426,-0.4627259732795109,-0.6412643159950271,-0.08305185254284178,2.2978729183169833,-0.9827817545220467,0.21008850999680803,1.9408834688890697,-1.5383083642414364,-0.23216099327126466,-0.7825209073374059,-1.113972253328595,0.3939104521110068,-1.0712584611001097,2.9014122150982797,-0.18451914569758396,0.29484765484397063,2.0275754573944167,-1.6385644134648798,-1.6003159350165794,-0.08326111889993047,2.4851295583136332,0.6360179143067635,2.3284215940865383,-0.7941579981560797,-1.050776549708285,-1.0599492693591113,1.8195563924197347,2.304922572274841,-0.7344820819629713,1.617665444987267,0.8363652758898686,1.617665444987267,0.8363652758898686,-0.9256512956904915,-1.6967979262937647,-1.093083243785931,-0.8874809714701044,1.2105668365995186,0.1265253396101983,-0.6608184659928327,-0.40148068807447396,-0.6998138888997937,-0.5682135449485827,-1.8504808641864188,-1.1328350380338807,-1.7200572638548053,-0.5554045131481996,-0.6858700098146843,-1.3288359859816536,-0.7234567906536309,-0.9007058856133687,-0.45420989845400994,-0.13380333346824383,-1.3760680686990139,-1.222770860618737,-0.4390487449982497,0.2828790673644994,-0.8759779597615711,-0.43754134124911664,-0.7100637781750534,-1.0737256334170506,-0.7169727771778719,-1.6204995936987994,-0.43915675411835053,-0.7393050975427455,-0.6484511882975063,-0.6211864824086996,-0.4947107833084407,1.147155600671791,-0.40374369695592216,-0.659610129995983,-0.755022960997386,-0.6993229559748334,-0.6899992603439864,-1.400125223745304,-0.735094432185181,-0.9419440473207829,-1.275615133163807,-0.9345252169674954,-0.8989442024167301,0.25142686018305743,-1.196457515478476,-0.32418043808442354,-1.0198180746568855,-0.8114994497466842,-0.7831238835831078,-1.0508056253720552,-0.8517981166964493,-0.8458580363506252],[0.20561591332024093,1.854044537766451,1.7031821986197975,-0.4295329579446723,-1.237898496023395,-0.33813689312986034,0.2321849413381001,0.0773405579318511,-1.3913008501744677,0.24565526875992613,-1.0040350162870402,-0.6591788314413439,1.7002615320621282,-0.2739166787625252,-1.2483849301335914,-0.47516200586250174,1.2023981793026997,-0.00522911472871553,-0.7156472224483181,-0.10935286075169605,-0.2447804314044424,0.3773088158042073,-1.7527749166971023,2.3733779784987097,0.3698272220927008,2.0456700637730476,-0.6240954884042554,-0.11221381645507066,-0.20865630616188396,-1.1807385756365896,-0.16855240368082322,0.7958903630300513,-0.25791148151299853,-1.211119556550845,-0.0016058942431197664,2.1604948204096455,0.3815872596498818,-0.40221281203752407,1.8519006152447608,-0.6318358094795616,-0.817223225341592,0.30973135711344013,-1.4284499348563924,-0.3696875777893922,-0.7346315955284549,-0.3696875777893922,-0.7346315955284549,0.12067544718875832,-1.0223113552761829,1.5537390025201554,0.4703111855328679,-0.14757083014447203,1.664429714050228,-0.6145664253262085,-0.1646320572212724,-0.8218247224004871,-0.6434916587380527,-1.248357319556847,-1.1168832199565304,0.9145630917989257,-1.1822802083145383,-0.7581089711791006,0.3682151062066598,-0.8397487815974338,0.8064291495766318,-0.5180902990881173,-0.3071851600092835,-0.6365732795568853,-0.5959870059622319,-1.447628323637686,-0.9378107596613233,-0.6318872147432958,-0.4057304914249124,-0.8106347051587443,-0.5993895687341622,-0.7653578988173734,-0.4362798685490129,-1.1426995090906502,-0.306126935421024,-0.6543262940659105,-0.7079828908945826,0.3944627628733133,-0.529212127512567,-0.6725716792197098,-0.30021378067536675,-0.9648695230879835,-1.0151892868134789,-0.8182229537567124,-0.4247211117984229,-1.014040743506042,-1.521820474447956,1.0111013106475797,-1.2821003992881268,-0.6139992643324932,-1.4949815714209407,-0.4598614956909305,-0.5599246715157878,-1.265010053441752,-0.9125303619578699,-1.1321301773646604,-1.0692019551214267,-1.0094960755172004,-1.0457023653465787],[0.09736947409908028,1.632874252512643,1.181562721341352,0.25521409168283005,-0.6151750436160338,-0.3413513974819931,0.4403171541383898,-0.04758985227126315,-0.9734436943084726,0.5279327590318444,-0.252182747916169,-0.7226147102857324,1.3894939010985343,-0.248041998947955,-0.7723413853107183,0.1441498793954312,0.9685666149576895,0.36156756493636627,0.06109230582274913,0.2851911339486932,0.30248564119207483,0.11051484062229887,-1.623364315126203,1.7172116524436876,0.04140492580016088,1.7706789190588552,-0.03450138347614288,0.25647122852205556,-0.53776165955892,-1.1558932604531549,0.2811648767616494,0.8924221307076023,-0.3270501186092072,-1.2459349119431697,0.5820316854862317,1.741309581279078,0.8684345745677393,0.1936387922220686,1.533030038410471,-0.531764993464189,-0.3258333113790492,1.0730212749338304,-1.2186306601902621,0.1456974608658554,0.022461864589380653,0.1456974608658554,0.022461864589380653,-0.41210564311712594,-0.891185641424774,1.1161246186534837,-0.17523735465998191,1.1660514114639826,1.1357841472321861,-0.14099789679548302,-0.5301514508237176,-0.6459473516603101,-0.22908453744831986,-0.7559833971406748,-0.638015847537135,0.9093000299900252,-1.289950887412739,-0.429524551234168,0.25490448370366225,-0.7373500142603641,0.14618087099041407,-0.5200015393193352,-0.42867212696233425,-0.16734318089156633,-0.48682337108402585,-1.4944689247376182,-1.1215454337145274,-0.1964362707932032,-0.696727864088616,-0.7608331768163772,-1.1124041536471068,-0.5029852744577059,0.11325845827002812,-0.8530599425626102,-0.5549624875021679,-0.3634692435617573,-0.6146629592930096,-0.2552682634035316,-0.6565701933922731,-0.9954005478426404,-0.5501107042476487,-0.7687941332464803,-0.6436078609838728,-0.7218684948774888,-0.3863902795265334,-0.8297172463280453,-1.3776397996931304,0.24958643406640976,-0.8871276438990022,-0.8735861024831539,-1.174870464821267,-0.7338369630637893,-0.6581363087016712,-1.1865004697799975,-0.829346331720507,-0.9825737953961999,-1.0525063081887456,-0.7630998347472597,-0.998686951958837],[-0.26195154284451994,0.2548520409346588,-0.24640319481678688,0.1738183073886134,-0.11928897796407957,-0.4414522601905721,0.27373725972410645,-0.21600584148796262,-0.6613663565398268,0.7296397534749715,0.5031753604393148,-0.8279445271568265,-0.11528503019380087,0.06922832635335609,-0.519501256982442,0.34497783437229285,-0.06432188127629353,0.05703653974131501,0.2021726090443398,0.5849117595302001,-0.0032724241018059126,-0.4193728321918958,-1.4512054904692615,0.026354045659640297,-0.2663731414662558,0.32269878896512255,-0.04679345127621815,-0.021356398930998458,-0.7262821694052018,-0.7902730868723309,-0.0007540039527680438,-0.05825822833144958,-0.5160281920444794,-0.8676450383217272,0.22990117331495116,0.2550477706009254,0.22095511978924676,0.3091029625693183,-0.0893624350997267,-0.4696962818464279,0.040086128674429615,0.4737712522498945,-1.1687633465001046,-0.33223035606502005,-0.4022274125058882,-0.33223035606502005,-0.4022274125058882,-0.736552766309037,-0.9263341683861018,-0.16560072346152094,-0.7341852631479558,1.7145515287944322,-0.5486168280702589,0.12926898043263485,-0.8026671475883952,-0.5127089510914017,0.01788903639825862,-0.5440817833211202,-0.40681971677627515,-0.26828030408817105,-1.2527533348433504,-0.04754655944179378,-0.051168800738484274,-0.660870720232154,-0.7229595583468482,-0.3353838951322941,-0.4636564719603415,-0.35271919346327485,-0.5117713679629433,-1.1661249564421363,-1.14047179587535,-0.08701707803109625,-0.7800493424719541,-0.7187108731647673,-1.077066579728485,-0.26677455838806285,-0.31592048663946476,-0.41759617473238214,-0.9041670956329863,-0.16499140921455935,-0.5381227954058189,-1.0221919038104204,-0.8715990802457464,-1.0108610741417343,-0.8124562545348721,-0.4684403684792389,-0.04369047917103765,-0.6459936354463468,-0.33940637077067376,-0.5248018044055889,-1.040693820744893,-0.7529672821880399,-0.3221482475379991,-0.7701164051414275,-1.066803656123729,-0.9498203947242574,-0.6747636869884561,-0.8596320921379137,-0.6800705254963816,-0.9179528630730572,-1.0648550884141934,-0.6617654426169988,-0.9624841583926041]],\"type\":\"heatmap\"}],                        {\"height\":800,\"template\":{\"data\":{\"barpolar\":[{\"marker\":{\"line\":{\"color\":\"#E5ECF6\",\"width\":0.5},\"pattern\":{\"fillmode\":\"overlay\",\"size\":10,\"solidity\":0.2}},\"type\":\"barpolar\"}],\"bar\":[{\"error_x\":{\"color\":\"#2a3f5f\"},\"error_y\":{\"color\":\"#2a3f5f\"},\"marker\":{\"line\":{\"color\":\"#E5ECF6\",\"width\":0.5},\"pattern\":{\"fillmode\":\"overlay\",\"size\":10,\"solidity\":0.2}},\"type\":\"bar\"}],\"carpet\":[{\"aaxis\":{\"endlinecolor\":\"#2a3f5f\",\"gridcolor\":\"white\",\"linecolor\":\"white\",\"minorgridcolor\":\"white\",\"startlinecolor\":\"#2a3f5f\"},\"baxis\":{\"endlinecolor\":\"#2a3f5f\",\"gridcolor\":\"white\",\"linecolor\":\"white\",\"minorgridcolor\":\"white\",\"startlinecolor\":\"#2a3f5f\"},\"type\":\"carpet\"}],\"choropleth\":[{\"colorbar\":{\"outlinewidth\":0,\"ticks\":\"\"},\"type\":\"choropleth\"}],\"contourcarpet\":[{\"colorbar\":{\"outlinewidth\":0,\"ticks\":\"\"},\"type\":\"contourcarpet\"}],\"contour\":[{\"colorbar\":{\"outlinewidth\":0,\"ticks\":\"\"},\"colorscale\":[[0.0,\"#0d0887\"],[0.1111111111111111,\"#46039f\"],[0.2222222222222222,\"#7201a8\"],[0.3333333333333333,\"#9c179e\"],[0.4444444444444444,\"#bd3786\"],[0.5555555555555556,\"#d8576b\"],[0.6666666666666666,\"#ed7953\"],[0.7777777777777778,\"#fb9f3a\"],[0.8888888888888888,\"#fdca26\"],[1.0,\"#f0f921\"]],\"type\":\"contour\"}],\"heatmapgl\":[{\"colorbar\":{\"outlinewidth\":0,\"ticks\":\"\"},\"colorscale\":[[0.0,\"#0d0887\"],[0.1111111111111111,\"#46039f\"],[0.2222222222222222,\"#7201a8\"],[0.3333333333333333,\"#9c179e\"],[0.4444444444444444,\"#bd3786\"],[0.5555555555555556,\"#d8576b\"],[0.6666666666666666,\"#ed7953\"],[0.7777777777777778,\"#fb9f3a\"],[0.8888888888888888,\"#fdca26\"],[1.0,\"#f0f921\"]],\"type\":\"heatmapgl\"}],\"heatmap\":[{\"colorbar\":{\"outlinewidth\":0,\"ticks\":\"\"},\"colorscale\":[[0.0,\"#0d0887\"],[0.1111111111111111,\"#46039f\"],[0.2222222222222222,\"#7201a8\"],[0.3333333333333333,\"#9c179e\"],[0.4444444444444444,\"#bd3786\"],[0.5555555555555556,\"#d8576b\"],[0.6666666666666666,\"#ed7953\"],[0.7777777777777778,\"#fb9f3a\"],[0.8888888888888888,\"#fdca26\"],[1.0,\"#f0f921\"]],\"type\":\"heatmap\"}],\"histogram2dcontour\":[{\"colorbar\":{\"outlinewidth\":0,\"ticks\":\"\"},\"colorscale\":[[0.0,\"#0d0887\"],[0.1111111111111111,\"#46039f\"],[0.2222222222222222,\"#7201a8\"],[0.3333333333333333,\"#9c179e\"],[0.4444444444444444,\"#bd3786\"],[0.5555555555555556,\"#d8576b\"],[0.6666666666666666,\"#ed7953\"],[0.7777777777777778,\"#fb9f3a\"],[0.8888888888888888,\"#fdca26\"],[1.0,\"#f0f921\"]],\"type\":\"histogram2dcontour\"}],\"histogram2d\":[{\"colorbar\":{\"outlinewidth\":0,\"ticks\":\"\"},\"colorscale\":[[0.0,\"#0d0887\"],[0.1111111111111111,\"#46039f\"],[0.2222222222222222,\"#7201a8\"],[0.3333333333333333,\"#9c179e\"],[0.4444444444444444,\"#bd3786\"],[0.5555555555555556,\"#d8576b\"],[0.6666666666666666,\"#ed7953\"],[0.7777777777777778,\"#fb9f3a\"],[0.8888888888888888,\"#fdca26\"],[1.0,\"#f0f921\"]],\"type\":\"histogram2d\"}],\"histogram\":[{\"marker\":{\"pattern\":{\"fillmode\":\"overlay\",\"size\":10,\"solidity\":0.2}},\"type\":\"histogram\"}],\"mesh3d\":[{\"colorbar\":{\"outlinewidth\":0,\"ticks\":\"\"},\"type\":\"mesh3d\"}],\"parcoords\":[{\"line\":{\"colorbar\":{\"outlinewidth\":0,\"ticks\":\"\"}},\"type\":\"parcoords\"}],\"pie\":[{\"automargin\":true,\"type\":\"pie\"}],\"scatter3d\":[{\"line\":{\"colorbar\":{\"outlinewidth\":0,\"ticks\":\"\"}},\"marker\":{\"colorbar\":{\"outlinewidth\":0,\"ticks\":\"\"}},\"type\":\"scatter3d\"}],\"scattercarpet\":[{\"marker\":{\"colorbar\":{\"outlinewidth\":0,\"ticks\":\"\"}},\"type\":\"scattercarpet\"}],\"scattergeo\":[{\"marker\":{\"colorbar\":{\"outlinewidth\":0,\"ticks\":\"\"}},\"type\":\"scattergeo\"}],\"scattergl\":[{\"marker\":{\"colorbar\":{\"outlinewidth\":0,\"ticks\":\"\"}},\"type\":\"scattergl\"}],\"scattermapbox\":[{\"marker\":{\"colorbar\":{\"outlinewidth\":0,\"ticks\":\"\"}},\"type\":\"scattermapbox\"}],\"scatterpolargl\":[{\"marker\":{\"colorbar\":{\"outlinewidth\":0,\"ticks\":\"\"}},\"type\":\"scatterpolargl\"}],\"scatterpolar\":[{\"marker\":{\"colorbar\":{\"outlinewidth\":0,\"ticks\":\"\"}},\"type\":\"scatterpolar\"}],\"scatter\":[{\"marker\":{\"colorbar\":{\"outlinewidth\":0,\"ticks\":\"\"}},\"type\":\"scatter\"}],\"scatterternary\":[{\"marker\":{\"colorbar\":{\"outlinewidth\":0,\"ticks\":\"\"}},\"type\":\"scatterternary\"}],\"surface\":[{\"colorbar\":{\"outlinewidth\":0,\"ticks\":\"\"},\"colorscale\":[[0.0,\"#0d0887\"],[0.1111111111111111,\"#46039f\"],[0.2222222222222222,\"#7201a8\"],[0.3333333333333333,\"#9c179e\"],[0.4444444444444444,\"#bd3786\"],[0.5555555555555556,\"#d8576b\"],[0.6666666666666666,\"#ed7953\"],[0.7777777777777778,\"#fb9f3a\"],[0.8888888888888888,\"#fdca26\"],[1.0,\"#f0f921\"]],\"type\":\"surface\"}],\"table\":[{\"cells\":{\"fill\":{\"color\":\"#EBF0F8\"},\"line\":{\"color\":\"white\"}},\"header\":{\"fill\":{\"color\":\"#C8D4E3\"},\"line\":{\"color\":\"white\"}},\"type\":\"table\"}]},\"layout\":{\"annotationdefaults\":{\"arrowcolor\":\"#2a3f5f\",\"arrowhead\":0,\"arrowwidth\":1},\"autotypenumbers\":\"strict\",\"coloraxis\":{\"colorbar\":{\"outlinewidth\":0,\"ticks\":\"\"}},\"colorscale\":{\"diverging\":[[0,\"#8e0152\"],[0.1,\"#c51b7d\"],[0.2,\"#de77ae\"],[0.3,\"#f1b6da\"],[0.4,\"#fde0ef\"],[0.5,\"#f7f7f7\"],[0.6,\"#e6f5d0\"],[0.7,\"#b8e186\"],[0.8,\"#7fbc41\"],[0.9,\"#4d9221\"],[1,\"#276419\"]],\"sequential\":[[0.0,\"#0d0887\"],[0.1111111111111111,\"#46039f\"],[0.2222222222222222,\"#7201a8\"],[0.3333333333333333,\"#9c179e\"],[0.4444444444444444,\"#bd3786\"],[0.5555555555555556,\"#d8576b\"],[0.6666666666666666,\"#ed7953\"],[0.7777777777777778,\"#fb9f3a\"],[0.8888888888888888,\"#fdca26\"],[1.0,\"#f0f921\"]],\"sequentialminus\":[[0.0,\"#0d0887\"],[0.1111111111111111,\"#46039f\"],[0.2222222222222222,\"#7201a8\"],[0.3333333333333333,\"#9c179e\"],[0.4444444444444444,\"#bd3786\"],[0.5555555555555556,\"#d8576b\"],[0.6666666666666666,\"#ed7953\"],[0.7777777777777778,\"#fb9f3a\"],[0.8888888888888888,\"#fdca26\"],[1.0,\"#f0f921\"]]},\"colorway\":[\"#636efa\",\"#EF553B\",\"#00cc96\",\"#ab63fa\",\"#FFA15A\",\"#19d3f3\",\"#FF6692\",\"#B6E880\",\"#FF97FF\",\"#FECB52\"],\"font\":{\"color\":\"#2a3f5f\"},\"geo\":{\"bgcolor\":\"white\",\"lakecolor\":\"white\",\"landcolor\":\"#E5ECF6\",\"showlakes\":true,\"showland\":true,\"subunitcolor\":\"white\"},\"hoverlabel\":{\"align\":\"left\"},\"hovermode\":\"closest\",\"mapbox\":{\"style\":\"light\"},\"paper_bgcolor\":\"white\",\"plot_bgcolor\":\"#E5ECF6\",\"polar\":{\"angularaxis\":{\"gridcolor\":\"white\",\"linecolor\":\"white\",\"ticks\":\"\"},\"bgcolor\":\"#E5ECF6\",\"radialaxis\":{\"gridcolor\":\"white\",\"linecolor\":\"white\",\"ticks\":\"\"}},\"scene\":{\"xaxis\":{\"backgroundcolor\":\"#E5ECF6\",\"gridcolor\":\"white\",\"gridwidth\":2,\"linecolor\":\"white\",\"showbackground\":true,\"ticks\":\"\",\"zerolinecolor\":\"white\"},\"yaxis\":{\"backgroundcolor\":\"#E5ECF6\",\"gridcolor\":\"white\",\"gridwidth\":2,\"linecolor\":\"white\",\"showbackground\":true,\"ticks\":\"\",\"zerolinecolor\":\"white\"},\"zaxis\":{\"backgroundcolor\":\"#E5ECF6\",\"gridcolor\":\"white\",\"gridwidth\":2,\"linecolor\":\"white\",\"showbackground\":true,\"ticks\":\"\",\"zerolinecolor\":\"white\"}},\"shapedefaults\":{\"line\":{\"color\":\"#2a3f5f\"}},\"ternary\":{\"aaxis\":{\"gridcolor\":\"white\",\"linecolor\":\"white\",\"ticks\":\"\"},\"baxis\":{\"gridcolor\":\"white\",\"linecolor\":\"white\",\"ticks\":\"\"},\"bgcolor\":\"#E5ECF6\",\"caxis\":{\"gridcolor\":\"white\",\"linecolor\":\"white\",\"ticks\":\"\"}},\"title\":{\"x\":0.05},\"xaxis\":{\"automargin\":true,\"gridcolor\":\"white\",\"linecolor\":\"white\",\"ticks\":\"\",\"title\":{\"standoff\":15},\"zerolinecolor\":\"white\",\"zerolinewidth\":2},\"yaxis\":{\"automargin\":true,\"gridcolor\":\"white\",\"linecolor\":\"white\",\"ticks\":\"\",\"title\":{\"standoff\":15},\"zerolinecolor\":\"white\",\"zerolinewidth\":2}}},\"width\":1300},                        {\"responsive\": true}                    ).then(function(){\n",
       "                            \n",
       "var gd = document.getElementById('7aaa96d2-dcc3-4169-8c4f-b7b730f7c4b6');\n",
       "var x = new MutationObserver(function (mutations, observer) {{\n",
       "        var display = window.getComputedStyle(gd).display;\n",
       "        if (!display || display === 'none') {{\n",
       "            console.log([gd, 'removed!']);\n",
       "            Plotly.purge(gd);\n",
       "            observer.disconnect();\n",
       "        }}\n",
       "}});\n",
       "\n",
       "// Listen for the removal of the full notebook cells\n",
       "var notebookContainer = gd.closest('#notebook-container');\n",
       "if (notebookContainer) {{\n",
       "    x.observe(notebookContainer, {childList: true});\n",
       "}}\n",
       "\n",
       "// Listen for the clearing of the current output cell\n",
       "var outputEl = gd.closest('.output');\n",
       "if (outputEl) {{\n",
       "    x.observe(outputEl, {childList: true});\n",
       "}}\n",
       "\n",
       "                        })                };                });            </script>        </div>"
      ]
     },
     "metadata": {},
     "output_type": "display_data"
    }
   ],
   "source": [
    "# Build Heatmap figure\n",
    "data=go.Heatmap(z=std_skills_jobs, x=skills_jobs.columns, \n",
    "                y=skills_jobs.index, colorscale='magma', ygap=1)\n",
    "# Plot\n",
    "fig = go.Figure(data=data)\n",
    "fig.update_layout(width=1300, height=800)\n",
    "iplot(fig)"
   ]
  },
  {
   "cell_type": "markdown",
   "id": "martial-duncan",
   "metadata": {},
   "source": [
    "### Insights From The Above Heatmap\n",
    "1. After Normalization, We can see that __Unity3D__, __Unreal Engine__ are very specific skills related to a __Game Developer__.\n",
    "2. We can also notice that __Facebook Workplace__, __WordPress__, __Drupal__ are specific skills to be a __Marketing or sales professional__.\n",
    "3. To be a __Data Scientist__, some of the skills you must have include __Pandas__, __Tensorflow__, __Keras__, __Torch - Pytorch.__\n",
    "4. __Back-End Developer__ has no specific set of skills it shares skills with many other job profiles."
   ]
  },
  {
   "cell_type": "markdown",
   "id": "finished-schema",
   "metadata": {},
   "source": [
    "## Job Profiles"
   ]
  },
  {
   "cell_type": "code",
   "execution_count": 17,
   "id": "tutorial-douglas",
   "metadata": {},
   "outputs": [
    {
     "data": {
      "text/plain": [
       "['Marketing or sales professional',\n",
       " 'Senior executive/VP',\n",
       " 'Engineer, site reliability',\n",
       " 'Scientist',\n",
       " 'Product manager',\n",
       " 'Engineering manager',\n",
       " 'Developer, game or graphics',\n",
       " 'Educator',\n",
       " 'Academic researcher',\n",
       " 'Engineer, data',\n",
       " 'Developer, QA or test',\n",
       " 'Data scientist or machine learning specialist',\n",
       " 'Data or business analyst',\n",
       " 'Developer, embedded applications or devices',\n",
       " 'System administrator',\n",
       " 'Designer',\n",
       " 'Database administrator',\n",
       " 'DevOps specialist',\n",
       " 'Developer, mobile',\n",
       " 'Developer, desktop or enterprise applications',\n",
       " 'Developer, front-end',\n",
       " 'Developer, full-stack',\n",
       " 'Developer, back-end']"
      ]
     },
     "execution_count": 17,
     "metadata": {},
     "output_type": "execute_result"
    }
   ],
   "source": [
    "sorted_roles"
   ]
  },
  {
   "cell_type": "code",
   "execution_count": 18,
   "id": "norwegian-bullet",
   "metadata": {},
   "outputs": [
    {
     "data": {
      "text/plain": [
       "'Data scientist or machine learning specialist'"
      ]
     },
     "execution_count": 18,
     "metadata": {},
     "output_type": "execute_result"
    }
   ],
   "source": [
    "# role = np.random.choice(sorted_roles)  # Random Choice\n",
    "role = 'Data scientist or machine learning specialist'\n",
    "role"
   ]
  },
  {
   "cell_type": "code",
   "execution_count": 19,
   "id": "british-affiliate",
   "metadata": {},
   "outputs": [
    {
     "data": {
      "text/html": [
       "<div>\n",
       "<style scoped>\n",
       "    .dataframe tbody tr th:only-of-type {\n",
       "        vertical-align: middle;\n",
       "    }\n",
       "\n",
       "    .dataframe tbody tr th {\n",
       "        vertical-align: top;\n",
       "    }\n",
       "\n",
       "    .dataframe thead th {\n",
       "        text-align: right;\n",
       "    }\n",
       "</style>\n",
       "<table border=\"1\" class=\"dataframe\">\n",
       "  <thead>\n",
       "    <tr style=\"text-align: right;\">\n",
       "      <th></th>\n",
       "      <th>percentage</th>\n",
       "      <th>specificity</th>\n",
       "    </tr>\n",
       "  </thead>\n",
       "  <tbody>\n",
       "    <tr>\n",
       "      <th>Chef</th>\n",
       "      <td>2.081244</td>\n",
       "      <td>-0.366560</td>\n",
       "    </tr>\n",
       "    <tr>\n",
       "      <th>Couchbase</th>\n",
       "      <td>2.357071</td>\n",
       "      <td>-0.627059</td>\n",
       "    </tr>\n",
       "    <tr>\n",
       "      <th>Puppet</th>\n",
       "      <td>2.432297</td>\n",
       "      <td>-0.425910</td>\n",
       "    </tr>\n",
       "    <tr>\n",
       "      <th>Gatsby</th>\n",
       "      <td>2.683049</td>\n",
       "      <td>-0.732300</td>\n",
       "    </tr>\n",
       "    <tr>\n",
       "      <th>Unreal Engine</th>\n",
       "      <td>2.758275</td>\n",
       "      <td>-0.330042</td>\n",
       "    </tr>\n",
       "    <tr>\n",
       "      <th>...</th>\n",
       "      <td>...</td>\n",
       "      <td>...</td>\n",
       "    </tr>\n",
       "    <tr>\n",
       "      <th>Slack</th>\n",
       "      <td>51.078235</td>\n",
       "      <td>0.167600</td>\n",
       "    </tr>\n",
       "    <tr>\n",
       "      <th>SQL</th>\n",
       "      <td>58.450351</td>\n",
       "      <td>-0.180472</td>\n",
       "    </tr>\n",
       "    <tr>\n",
       "      <th>Linux</th>\n",
       "      <td>63.540622</td>\n",
       "      <td>0.720565</td>\n",
       "    </tr>\n",
       "    <tr>\n",
       "      <th>Github</th>\n",
       "      <td>78.059178</td>\n",
       "      <td>0.967076</td>\n",
       "    </tr>\n",
       "    <tr>\n",
       "      <th>Python</th>\n",
       "      <td>78.335005</td>\n",
       "      <td>2.614848</td>\n",
       "    </tr>\n",
       "  </tbody>\n",
       "</table>\n",
       "<p>103 rows × 2 columns</p>\n",
       "</div>"
      ],
      "text/plain": [
       "               percentage  specificity\n",
       "Chef             2.081244    -0.366560\n",
       "Couchbase        2.357071    -0.627059\n",
       "Puppet           2.432297    -0.425910\n",
       "Gatsby           2.683049    -0.732300\n",
       "Unreal Engine    2.758275    -0.330042\n",
       "...                   ...          ...\n",
       "Slack           51.078235     0.167600\n",
       "SQL             58.450351    -0.180472\n",
       "Linux           63.540622     0.720565\n",
       "Github          78.059178     0.967076\n",
       "Python          78.335005     2.614848\n",
       "\n",
       "[103 rows x 2 columns]"
      ]
     },
     "execution_count": 19,
     "metadata": {},
     "output_type": "execute_result"
    }
   ],
   "source": [
    "# DF for a single job profile and corresponding skills\n",
    "single_role_skills = pd.concat([skills_jobs.loc[role], std_skills_jobs.loc[role]], axis=1)\n",
    "single_role_skills.columns = ['percentage', 'specificity']\n",
    "single_role_skills = single_role_skills.sort_values('percentage')\n",
    "single_role_skills"
   ]
  },
  {
   "cell_type": "markdown",
   "id": "cleared-controversy",
   "metadata": {},
   "source": [
    "#### Note \n",
    "- __Percentage:__ The __number of people__ who knows a specific skill in a job profile.\n",
    "- __Specifity:__ This is an indicator of __how specific__ a certain skill is to a job profile."
   ]
  },
  {
   "cell_type": "code",
   "execution_count": 20,
   "id": "resistant-feeling",
   "metadata": {},
   "outputs": [
    {
     "data": {
      "application/vnd.plotly.v1+json": {
       "config": {
        "linkText": "Export to plot.ly",
        "plotlyServerURL": "https://plot.ly",
        "showLink": false
       },
       "data": [
        {
         "alignmentgroup": "True",
         "hovertemplate": "x=%{x}<br>y=%{y}<br>color=%{marker.color}<extra></extra>",
         "legendgroup": "",
         "marker": {
          "color": [
           -1.8715859833217252,
           -1.6269682972038035,
           -1.8745373300010353,
           -0.10187194742363039,
           -0.9059281444510309,
           -1.7774271856246004,
           2.526671360474744,
           -1.7086628542426907,
           -1.3329222037288517,
           -0.03271864495362059,
           -1.8112016086816658,
           -0.8343733441344373,
           -0.8343733441344373,
           -0.558675202829391,
           0.046066146678692826,
           2.6456186225613307,
           0.19594531496716336,
           -0.2670745046121718,
           -0.2670745046121718,
           -1.743317676770024,
           -0.0061398086810772285,
           -1.7060621514670447,
           -1.2387176093647903,
           2.4576193148447327,
           -0.9171481815706282,
           3.6225337223070273,
           -1.5851909601659178,
           1.0704596390222787,
           -1.8612573503556866,
           -0.37356972918383374,
           -0.19664185451642083,
           0.21532424141910095,
           -1.9464254034912876,
           0.3860820770952778,
           2.894423165550614,
           -0.8588437979865869,
           -0.9006494976610825,
           3.6812767324840125,
           2.8366067922330895,
           -0.2052853102660454,
           0.49730533649320385,
           0.2523435507670409,
           0.27999588425071037,
           -0.6773542237183563,
           -0.08179413152863334,
           3.6109343256038575,
           0.5312367597338895,
           -0.07896065758627525,
           0.22884339796838765,
           -0.36855790879145617,
           0.04125031098237779,
           -0.8526348000741512,
           -1.7606504243877041,
           -2.0553805104496368,
           -0.36172287328974495,
           3.291583827472921,
           0.16760034240237398,
           -0.1804718281210389,
           0.720565437245754,
           0.967076285498978,
           2.6148476507869254
          ],
          "coloraxis": "coloraxis",
          "pattern": {
           "shape": ""
          }
         },
         "name": "",
         "offsetgroup": "",
         "orientation": "h",
         "showlegend": false,
         "textposition": "auto",
         "type": "bar",
         "x": [
          10.75727181544634,
          10.782347041123371,
          11.158475426278837,
          11.885656970912738,
          12.211634904714144,
          12.637913741223672,
          12.963891675025074,
          13.440320962888666,
          13.665997993981946,
          13.716148445336007,
          13.99197592778335,
          14.543630892678033,
          14.543630892678033,
          15.220661985957873,
          15.57171514543631,
          15.697091273821465,
          16.098294884653964,
          16.72517552657974,
          16.72517552657974,
          17.201604814443332,
          17.953861584754264,
          18.004012036108325,
          18.756268806419257,
          19.132397191574725,
          19.408224674022065,
          19.834503510531594,
          21.339017051153462,
          22.216649949849547,
          24.172517552657975,
          24.37311935807422,
          24.82447342026078,
          25.050150451354064,
          25.651955867602812,
          25.827482447342025,
          26.4543630892678,
          26.705115346038117,
          27.256770310932797,
          27.256770310932797,
          27.632898696088265,
          28.58575727181545,
          29.789368104312942,
          32.59779338014042,
          33.45035105315948,
          35.05516549648947,
          36.18355065195587,
          37.938816449348046,
          39.1173520561685,
          39.56870611835506,
          39.96990972918756,
          40.84754262788365,
          43.75626880641926,
          46.26379137412236,
          48.24473420260782,
          48.26980942828485,
          48.72116349047141,
          50.075225677031085,
          51.07823470411233,
          58.45035105315948,
          63.54062186559679,
          78.05917753259779,
          78.33500501504514
         ],
         "xaxis": "x",
         "y": [
          "Angular.js",
          "Express",
          "ASP.NET",
          "Arduino",
          "WordPress",
          "Angular",
          "Hadoop",
          ".NET Core",
          "MariaDB",
          "Kubernetes",
          "TypeScript",
          "Microsoft Azure",
          "Microsoft Azure",
          "Redis",
          "Elasticsearch",
          "Apache Spark",
          "Oracle",
          "Microsoft Azure",
          "Microsoft Azure",
          ".NET",
          "Raspberry Pi",
          "PHP",
          "React.js",
          "Django",
          "Android",
          "Torch/PyTorch",
          "C#",
          "Google Cloud Platform",
          "jQuery",
          "Microsoft Teams",
          "MacOS",
          "C",
          "Node.js",
          "MongoDB",
          "Flask",
          "Trello",
          "Microsoft SQL Server",
          "Keras",
          "R",
          "Confluence",
          "C++",
          "AWS",
          "SQLite",
          "Java",
          "Gitlab",
          "TensorFlow",
          "PostgreSQL",
          "Bash/Shell/PowerShell",
          "Docker",
          "Jira",
          "Google Suite (Docs, Meet, etc)",
          "MySQL",
          "HTML/CSS",
          "JavaScript",
          "Windows",
          "Pandas",
          "Slack",
          "SQL",
          "Linux",
          "Github",
          "Python"
         ],
         "yaxis": "y"
        }
       ],
       "layout": {
        "barmode": "relative",
        "coloraxis": {
         "cmax": 4.578863713652795,
         "cmin": -2.3383533547695063,
         "colorbar": {
          "title": {
           "text": "color"
          }
         },
         "colorscale": [
          [
           0,
           "rgb(255,247,236)"
          ],
          [
           0.125,
           "rgb(254,232,200)"
          ],
          [
           0.25,
           "rgb(253,212,158)"
          ],
          [
           0.375,
           "rgb(253,187,132)"
          ],
          [
           0.5,
           "rgb(252,141,89)"
          ],
          [
           0.625,
           "rgb(239,101,72)"
          ],
          [
           0.75,
           "rgb(215,48,31)"
          ],
          [
           0.875,
           "rgb(179,0,0)"
          ],
          [
           1,
           "rgb(127,0,0)"
          ]
         ]
        },
        "height": 1000,
        "legend": {
         "tracegroupgap": 0
        },
        "margin": {
         "t": 60
        },
        "template": {
         "data": {
          "bar": [
           {
            "error_x": {
             "color": "#2a3f5f"
            },
            "error_y": {
             "color": "#2a3f5f"
            },
            "marker": {
             "line": {
              "color": "#E5ECF6",
              "width": 0.5
             },
             "pattern": {
              "fillmode": "overlay",
              "size": 10,
              "solidity": 0.2
             }
            },
            "type": "bar"
           }
          ],
          "barpolar": [
           {
            "marker": {
             "line": {
              "color": "#E5ECF6",
              "width": 0.5
             },
             "pattern": {
              "fillmode": "overlay",
              "size": 10,
              "solidity": 0.2
             }
            },
            "type": "barpolar"
           }
          ],
          "carpet": [
           {
            "aaxis": {
             "endlinecolor": "#2a3f5f",
             "gridcolor": "white",
             "linecolor": "white",
             "minorgridcolor": "white",
             "startlinecolor": "#2a3f5f"
            },
            "baxis": {
             "endlinecolor": "#2a3f5f",
             "gridcolor": "white",
             "linecolor": "white",
             "minorgridcolor": "white",
             "startlinecolor": "#2a3f5f"
            },
            "type": "carpet"
           }
          ],
          "choropleth": [
           {
            "colorbar": {
             "outlinewidth": 0,
             "ticks": ""
            },
            "type": "choropleth"
           }
          ],
          "contour": [
           {
            "colorbar": {
             "outlinewidth": 0,
             "ticks": ""
            },
            "colorscale": [
             [
              0,
              "#0d0887"
             ],
             [
              0.1111111111111111,
              "#46039f"
             ],
             [
              0.2222222222222222,
              "#7201a8"
             ],
             [
              0.3333333333333333,
              "#9c179e"
             ],
             [
              0.4444444444444444,
              "#bd3786"
             ],
             [
              0.5555555555555556,
              "#d8576b"
             ],
             [
              0.6666666666666666,
              "#ed7953"
             ],
             [
              0.7777777777777778,
              "#fb9f3a"
             ],
             [
              0.8888888888888888,
              "#fdca26"
             ],
             [
              1,
              "#f0f921"
             ]
            ],
            "type": "contour"
           }
          ],
          "contourcarpet": [
           {
            "colorbar": {
             "outlinewidth": 0,
             "ticks": ""
            },
            "type": "contourcarpet"
           }
          ],
          "heatmap": [
           {
            "colorbar": {
             "outlinewidth": 0,
             "ticks": ""
            },
            "colorscale": [
             [
              0,
              "#0d0887"
             ],
             [
              0.1111111111111111,
              "#46039f"
             ],
             [
              0.2222222222222222,
              "#7201a8"
             ],
             [
              0.3333333333333333,
              "#9c179e"
             ],
             [
              0.4444444444444444,
              "#bd3786"
             ],
             [
              0.5555555555555556,
              "#d8576b"
             ],
             [
              0.6666666666666666,
              "#ed7953"
             ],
             [
              0.7777777777777778,
              "#fb9f3a"
             ],
             [
              0.8888888888888888,
              "#fdca26"
             ],
             [
              1,
              "#f0f921"
             ]
            ],
            "type": "heatmap"
           }
          ],
          "heatmapgl": [
           {
            "colorbar": {
             "outlinewidth": 0,
             "ticks": ""
            },
            "colorscale": [
             [
              0,
              "#0d0887"
             ],
             [
              0.1111111111111111,
              "#46039f"
             ],
             [
              0.2222222222222222,
              "#7201a8"
             ],
             [
              0.3333333333333333,
              "#9c179e"
             ],
             [
              0.4444444444444444,
              "#bd3786"
             ],
             [
              0.5555555555555556,
              "#d8576b"
             ],
             [
              0.6666666666666666,
              "#ed7953"
             ],
             [
              0.7777777777777778,
              "#fb9f3a"
             ],
             [
              0.8888888888888888,
              "#fdca26"
             ],
             [
              1,
              "#f0f921"
             ]
            ],
            "type": "heatmapgl"
           }
          ],
          "histogram": [
           {
            "marker": {
             "pattern": {
              "fillmode": "overlay",
              "size": 10,
              "solidity": 0.2
             }
            },
            "type": "histogram"
           }
          ],
          "histogram2d": [
           {
            "colorbar": {
             "outlinewidth": 0,
             "ticks": ""
            },
            "colorscale": [
             [
              0,
              "#0d0887"
             ],
             [
              0.1111111111111111,
              "#46039f"
             ],
             [
              0.2222222222222222,
              "#7201a8"
             ],
             [
              0.3333333333333333,
              "#9c179e"
             ],
             [
              0.4444444444444444,
              "#bd3786"
             ],
             [
              0.5555555555555556,
              "#d8576b"
             ],
             [
              0.6666666666666666,
              "#ed7953"
             ],
             [
              0.7777777777777778,
              "#fb9f3a"
             ],
             [
              0.8888888888888888,
              "#fdca26"
             ],
             [
              1,
              "#f0f921"
             ]
            ],
            "type": "histogram2d"
           }
          ],
          "histogram2dcontour": [
           {
            "colorbar": {
             "outlinewidth": 0,
             "ticks": ""
            },
            "colorscale": [
             [
              0,
              "#0d0887"
             ],
             [
              0.1111111111111111,
              "#46039f"
             ],
             [
              0.2222222222222222,
              "#7201a8"
             ],
             [
              0.3333333333333333,
              "#9c179e"
             ],
             [
              0.4444444444444444,
              "#bd3786"
             ],
             [
              0.5555555555555556,
              "#d8576b"
             ],
             [
              0.6666666666666666,
              "#ed7953"
             ],
             [
              0.7777777777777778,
              "#fb9f3a"
             ],
             [
              0.8888888888888888,
              "#fdca26"
             ],
             [
              1,
              "#f0f921"
             ]
            ],
            "type": "histogram2dcontour"
           }
          ],
          "mesh3d": [
           {
            "colorbar": {
             "outlinewidth": 0,
             "ticks": ""
            },
            "type": "mesh3d"
           }
          ],
          "parcoords": [
           {
            "line": {
             "colorbar": {
              "outlinewidth": 0,
              "ticks": ""
             }
            },
            "type": "parcoords"
           }
          ],
          "pie": [
           {
            "automargin": true,
            "type": "pie"
           }
          ],
          "scatter": [
           {
            "marker": {
             "colorbar": {
              "outlinewidth": 0,
              "ticks": ""
             }
            },
            "type": "scatter"
           }
          ],
          "scatter3d": [
           {
            "line": {
             "colorbar": {
              "outlinewidth": 0,
              "ticks": ""
             }
            },
            "marker": {
             "colorbar": {
              "outlinewidth": 0,
              "ticks": ""
             }
            },
            "type": "scatter3d"
           }
          ],
          "scattercarpet": [
           {
            "marker": {
             "colorbar": {
              "outlinewidth": 0,
              "ticks": ""
             }
            },
            "type": "scattercarpet"
           }
          ],
          "scattergeo": [
           {
            "marker": {
             "colorbar": {
              "outlinewidth": 0,
              "ticks": ""
             }
            },
            "type": "scattergeo"
           }
          ],
          "scattergl": [
           {
            "marker": {
             "colorbar": {
              "outlinewidth": 0,
              "ticks": ""
             }
            },
            "type": "scattergl"
           }
          ],
          "scattermapbox": [
           {
            "marker": {
             "colorbar": {
              "outlinewidth": 0,
              "ticks": ""
             }
            },
            "type": "scattermapbox"
           }
          ],
          "scatterpolar": [
           {
            "marker": {
             "colorbar": {
              "outlinewidth": 0,
              "ticks": ""
             }
            },
            "type": "scatterpolar"
           }
          ],
          "scatterpolargl": [
           {
            "marker": {
             "colorbar": {
              "outlinewidth": 0,
              "ticks": ""
             }
            },
            "type": "scatterpolargl"
           }
          ],
          "scatterternary": [
           {
            "marker": {
             "colorbar": {
              "outlinewidth": 0,
              "ticks": ""
             }
            },
            "type": "scatterternary"
           }
          ],
          "surface": [
           {
            "colorbar": {
             "outlinewidth": 0,
             "ticks": ""
            },
            "colorscale": [
             [
              0,
              "#0d0887"
             ],
             [
              0.1111111111111111,
              "#46039f"
             ],
             [
              0.2222222222222222,
              "#7201a8"
             ],
             [
              0.3333333333333333,
              "#9c179e"
             ],
             [
              0.4444444444444444,
              "#bd3786"
             ],
             [
              0.5555555555555556,
              "#d8576b"
             ],
             [
              0.6666666666666666,
              "#ed7953"
             ],
             [
              0.7777777777777778,
              "#fb9f3a"
             ],
             [
              0.8888888888888888,
              "#fdca26"
             ],
             [
              1,
              "#f0f921"
             ]
            ],
            "type": "surface"
           }
          ],
          "table": [
           {
            "cells": {
             "fill": {
              "color": "#EBF0F8"
             },
             "line": {
              "color": "white"
             }
            },
            "header": {
             "fill": {
              "color": "#C8D4E3"
             },
             "line": {
              "color": "white"
             }
            },
            "type": "table"
           }
          ]
         },
         "layout": {
          "annotationdefaults": {
           "arrowcolor": "#2a3f5f",
           "arrowhead": 0,
           "arrowwidth": 1
          },
          "autotypenumbers": "strict",
          "coloraxis": {
           "colorbar": {
            "outlinewidth": 0,
            "ticks": ""
           }
          },
          "colorscale": {
           "diverging": [
            [
             0,
             "#8e0152"
            ],
            [
             0.1,
             "#c51b7d"
            ],
            [
             0.2,
             "#de77ae"
            ],
            [
             0.3,
             "#f1b6da"
            ],
            [
             0.4,
             "#fde0ef"
            ],
            [
             0.5,
             "#f7f7f7"
            ],
            [
             0.6,
             "#e6f5d0"
            ],
            [
             0.7,
             "#b8e186"
            ],
            [
             0.8,
             "#7fbc41"
            ],
            [
             0.9,
             "#4d9221"
            ],
            [
             1,
             "#276419"
            ]
           ],
           "sequential": [
            [
             0,
             "#0d0887"
            ],
            [
             0.1111111111111111,
             "#46039f"
            ],
            [
             0.2222222222222222,
             "#7201a8"
            ],
            [
             0.3333333333333333,
             "#9c179e"
            ],
            [
             0.4444444444444444,
             "#bd3786"
            ],
            [
             0.5555555555555556,
             "#d8576b"
            ],
            [
             0.6666666666666666,
             "#ed7953"
            ],
            [
             0.7777777777777778,
             "#fb9f3a"
            ],
            [
             0.8888888888888888,
             "#fdca26"
            ],
            [
             1,
             "#f0f921"
            ]
           ],
           "sequentialminus": [
            [
             0,
             "#0d0887"
            ],
            [
             0.1111111111111111,
             "#46039f"
            ],
            [
             0.2222222222222222,
             "#7201a8"
            ],
            [
             0.3333333333333333,
             "#9c179e"
            ],
            [
             0.4444444444444444,
             "#bd3786"
            ],
            [
             0.5555555555555556,
             "#d8576b"
            ],
            [
             0.6666666666666666,
             "#ed7953"
            ],
            [
             0.7777777777777778,
             "#fb9f3a"
            ],
            [
             0.8888888888888888,
             "#fdca26"
            ],
            [
             1,
             "#f0f921"
            ]
           ]
          },
          "colorway": [
           "#636efa",
           "#EF553B",
           "#00cc96",
           "#ab63fa",
           "#FFA15A",
           "#19d3f3",
           "#FF6692",
           "#B6E880",
           "#FF97FF",
           "#FECB52"
          ],
          "font": {
           "color": "#2a3f5f"
          },
          "geo": {
           "bgcolor": "white",
           "lakecolor": "white",
           "landcolor": "#E5ECF6",
           "showlakes": true,
           "showland": true,
           "subunitcolor": "white"
          },
          "hoverlabel": {
           "align": "left"
          },
          "hovermode": "closest",
          "mapbox": {
           "style": "light"
          },
          "paper_bgcolor": "white",
          "plot_bgcolor": "#E5ECF6",
          "polar": {
           "angularaxis": {
            "gridcolor": "white",
            "linecolor": "white",
            "ticks": ""
           },
           "bgcolor": "#E5ECF6",
           "radialaxis": {
            "gridcolor": "white",
            "linecolor": "white",
            "ticks": ""
           }
          },
          "scene": {
           "xaxis": {
            "backgroundcolor": "#E5ECF6",
            "gridcolor": "white",
            "gridwidth": 2,
            "linecolor": "white",
            "showbackground": true,
            "ticks": "",
            "zerolinecolor": "white"
           },
           "yaxis": {
            "backgroundcolor": "#E5ECF6",
            "gridcolor": "white",
            "gridwidth": 2,
            "linecolor": "white",
            "showbackground": true,
            "ticks": "",
            "zerolinecolor": "white"
           },
           "zaxis": {
            "backgroundcolor": "#E5ECF6",
            "gridcolor": "white",
            "gridwidth": 2,
            "linecolor": "white",
            "showbackground": true,
            "ticks": "",
            "zerolinecolor": "white"
           }
          },
          "shapedefaults": {
           "line": {
            "color": "#2a3f5f"
           }
          },
          "ternary": {
           "aaxis": {
            "gridcolor": "white",
            "linecolor": "white",
            "ticks": ""
           },
           "baxis": {
            "gridcolor": "white",
            "linecolor": "white",
            "ticks": ""
           },
           "bgcolor": "#E5ECF6",
           "caxis": {
            "gridcolor": "white",
            "linecolor": "white",
            "ticks": ""
           }
          },
          "title": {
           "x": 0.05
          },
          "xaxis": {
           "automargin": true,
           "gridcolor": "white",
           "linecolor": "white",
           "ticks": "",
           "title": {
            "standoff": 15
           },
           "zerolinecolor": "white",
           "zerolinewidth": 2
          },
          "yaxis": {
           "automargin": true,
           "gridcolor": "white",
           "linecolor": "white",
           "ticks": "",
           "title": {
            "standoff": 15
           },
           "zerolinecolor": "white",
           "zerolinewidth": 2
          }
         }
        },
        "title": {
         "text": "Data scientist or machine learning specialist"
        },
        "width": 1000,
        "xaxis": {
         "anchor": "y",
         "domain": [
          0,
          1
         ],
         "title": {
          "text": "x"
         }
        },
        "yaxis": {
         "anchor": "x",
         "domain": [
          0,
          1
         ],
         "title": {
          "text": "y"
         }
        }
       }
      },
      "text/html": [
       "<div>                            <div id=\"c51f6d97-7c6d-436d-9829-0dcff8a924be\" class=\"plotly-graph-div\" style=\"height:1000px; width:1000px;\"></div>            <script type=\"text/javascript\">                require([\"plotly\"], function(Plotly) {                    window.PLOTLYENV=window.PLOTLYENV || {};                                    if (document.getElementById(\"c51f6d97-7c6d-436d-9829-0dcff8a924be\")) {                    Plotly.newPlot(                        \"c51f6d97-7c6d-436d-9829-0dcff8a924be\",                        [{\"alignmentgroup\":\"True\",\"hovertemplate\":\"x=%{x}<br>y=%{y}<br>color=%{marker.color}<extra></extra>\",\"legendgroup\":\"\",\"marker\":{\"color\":[-1.8715859833217252,-1.6269682972038035,-1.8745373300010353,-0.10187194742363039,-0.9059281444510309,-1.7774271856246004,2.526671360474744,-1.7086628542426907,-1.3329222037288517,-0.03271864495362059,-1.8112016086816658,-0.8343733441344373,-0.8343733441344373,-0.558675202829391,0.046066146678692826,2.6456186225613307,0.19594531496716336,-0.2670745046121718,-0.2670745046121718,-1.743317676770024,-0.0061398086810772285,-1.7060621514670447,-1.2387176093647903,2.4576193148447327,-0.9171481815706282,3.6225337223070273,-1.5851909601659178,1.0704596390222787,-1.8612573503556866,-0.37356972918383374,-0.19664185451642083,0.21532424141910095,-1.9464254034912876,0.3860820770952778,2.894423165550614,-0.8588437979865869,-0.9006494976610825,3.6812767324840125,2.8366067922330895,-0.2052853102660454,0.49730533649320385,0.2523435507670409,0.27999588425071037,-0.6773542237183563,-0.08179413152863334,3.6109343256038575,0.5312367597338895,-0.07896065758627525,0.22884339796838765,-0.36855790879145617,0.04125031098237779,-0.8526348000741512,-1.7606504243877041,-2.0553805104496368,-0.36172287328974495,3.291583827472921,0.16760034240237398,-0.1804718281210389,0.720565437245754,0.967076285498978,2.6148476507869254],\"coloraxis\":\"coloraxis\",\"pattern\":{\"shape\":\"\"}},\"name\":\"\",\"offsetgroup\":\"\",\"orientation\":\"h\",\"showlegend\":false,\"textposition\":\"auto\",\"x\":[10.75727181544634,10.782347041123371,11.158475426278837,11.885656970912738,12.211634904714144,12.637913741223672,12.963891675025074,13.440320962888666,13.665997993981946,13.716148445336007,13.99197592778335,14.543630892678033,14.543630892678033,15.220661985957873,15.57171514543631,15.697091273821465,16.098294884653964,16.72517552657974,16.72517552657974,17.201604814443332,17.953861584754264,18.004012036108325,18.756268806419257,19.132397191574725,19.408224674022065,19.834503510531594,21.339017051153462,22.216649949849547,24.172517552657975,24.37311935807422,24.82447342026078,25.050150451354064,25.651955867602812,25.827482447342025,26.4543630892678,26.705115346038117,27.256770310932797,27.256770310932797,27.632898696088265,28.58575727181545,29.789368104312942,32.59779338014042,33.45035105315948,35.05516549648947,36.18355065195587,37.938816449348046,39.1173520561685,39.56870611835506,39.96990972918756,40.84754262788365,43.75626880641926,46.26379137412236,48.24473420260782,48.26980942828485,48.72116349047141,50.075225677031085,51.07823470411233,58.45035105315948,63.54062186559679,78.05917753259779,78.33500501504514],\"xaxis\":\"x\",\"y\":[\"Angular.js\",\"Express\",\"ASP.NET\",\"Arduino\",\"WordPress\",\"Angular\",\"Hadoop\",\".NET Core\",\"MariaDB\",\"Kubernetes\",\"TypeScript\",\"Microsoft Azure\",\"Microsoft Azure\",\"Redis\",\"Elasticsearch\",\"Apache Spark\",\"Oracle\",\"Microsoft Azure\",\"Microsoft Azure\",\".NET\",\"Raspberry Pi\",\"PHP\",\"React.js\",\"Django\",\"Android\",\"Torch/PyTorch\",\"C#\",\"Google Cloud Platform\",\"jQuery\",\"Microsoft Teams\",\"MacOS\",\"C\",\"Node.js\",\"MongoDB\",\"Flask\",\"Trello\",\"Microsoft SQL Server\",\"Keras\",\"R\",\"Confluence\",\"C++\",\"AWS\",\"SQLite\",\"Java\",\"Gitlab\",\"TensorFlow\",\"PostgreSQL\",\"Bash/Shell/PowerShell\",\"Docker\",\"Jira\",\"Google Suite (Docs, Meet, etc)\",\"MySQL\",\"HTML/CSS\",\"JavaScript\",\"Windows\",\"Pandas\",\"Slack\",\"SQL\",\"Linux\",\"Github\",\"Python\"],\"yaxis\":\"y\",\"type\":\"bar\"}],                        {\"barmode\":\"relative\",\"coloraxis\":{\"cmax\":4.578863713652795,\"cmin\":-2.3383533547695063,\"colorbar\":{\"title\":{\"text\":\"color\"}},\"colorscale\":[[0.0,\"rgb(255,247,236)\"],[0.125,\"rgb(254,232,200)\"],[0.25,\"rgb(253,212,158)\"],[0.375,\"rgb(253,187,132)\"],[0.5,\"rgb(252,141,89)\"],[0.625,\"rgb(239,101,72)\"],[0.75,\"rgb(215,48,31)\"],[0.875,\"rgb(179,0,0)\"],[1.0,\"rgb(127,0,0)\"]]},\"height\":1000,\"legend\":{\"tracegroupgap\":0},\"margin\":{\"t\":60},\"template\":{\"data\":{\"barpolar\":[{\"marker\":{\"line\":{\"color\":\"#E5ECF6\",\"width\":0.5},\"pattern\":{\"fillmode\":\"overlay\",\"size\":10,\"solidity\":0.2}},\"type\":\"barpolar\"}],\"bar\":[{\"error_x\":{\"color\":\"#2a3f5f\"},\"error_y\":{\"color\":\"#2a3f5f\"},\"marker\":{\"line\":{\"color\":\"#E5ECF6\",\"width\":0.5},\"pattern\":{\"fillmode\":\"overlay\",\"size\":10,\"solidity\":0.2}},\"type\":\"bar\"}],\"carpet\":[{\"aaxis\":{\"endlinecolor\":\"#2a3f5f\",\"gridcolor\":\"white\",\"linecolor\":\"white\",\"minorgridcolor\":\"white\",\"startlinecolor\":\"#2a3f5f\"},\"baxis\":{\"endlinecolor\":\"#2a3f5f\",\"gridcolor\":\"white\",\"linecolor\":\"white\",\"minorgridcolor\":\"white\",\"startlinecolor\":\"#2a3f5f\"},\"type\":\"carpet\"}],\"choropleth\":[{\"colorbar\":{\"outlinewidth\":0,\"ticks\":\"\"},\"type\":\"choropleth\"}],\"contourcarpet\":[{\"colorbar\":{\"outlinewidth\":0,\"ticks\":\"\"},\"type\":\"contourcarpet\"}],\"contour\":[{\"colorbar\":{\"outlinewidth\":0,\"ticks\":\"\"},\"colorscale\":[[0.0,\"#0d0887\"],[0.1111111111111111,\"#46039f\"],[0.2222222222222222,\"#7201a8\"],[0.3333333333333333,\"#9c179e\"],[0.4444444444444444,\"#bd3786\"],[0.5555555555555556,\"#d8576b\"],[0.6666666666666666,\"#ed7953\"],[0.7777777777777778,\"#fb9f3a\"],[0.8888888888888888,\"#fdca26\"],[1.0,\"#f0f921\"]],\"type\":\"contour\"}],\"heatmapgl\":[{\"colorbar\":{\"outlinewidth\":0,\"ticks\":\"\"},\"colorscale\":[[0.0,\"#0d0887\"],[0.1111111111111111,\"#46039f\"],[0.2222222222222222,\"#7201a8\"],[0.3333333333333333,\"#9c179e\"],[0.4444444444444444,\"#bd3786\"],[0.5555555555555556,\"#d8576b\"],[0.6666666666666666,\"#ed7953\"],[0.7777777777777778,\"#fb9f3a\"],[0.8888888888888888,\"#fdca26\"],[1.0,\"#f0f921\"]],\"type\":\"heatmapgl\"}],\"heatmap\":[{\"colorbar\":{\"outlinewidth\":0,\"ticks\":\"\"},\"colorscale\":[[0.0,\"#0d0887\"],[0.1111111111111111,\"#46039f\"],[0.2222222222222222,\"#7201a8\"],[0.3333333333333333,\"#9c179e\"],[0.4444444444444444,\"#bd3786\"],[0.5555555555555556,\"#d8576b\"],[0.6666666666666666,\"#ed7953\"],[0.7777777777777778,\"#fb9f3a\"],[0.8888888888888888,\"#fdca26\"],[1.0,\"#f0f921\"]],\"type\":\"heatmap\"}],\"histogram2dcontour\":[{\"colorbar\":{\"outlinewidth\":0,\"ticks\":\"\"},\"colorscale\":[[0.0,\"#0d0887\"],[0.1111111111111111,\"#46039f\"],[0.2222222222222222,\"#7201a8\"],[0.3333333333333333,\"#9c179e\"],[0.4444444444444444,\"#bd3786\"],[0.5555555555555556,\"#d8576b\"],[0.6666666666666666,\"#ed7953\"],[0.7777777777777778,\"#fb9f3a\"],[0.8888888888888888,\"#fdca26\"],[1.0,\"#f0f921\"]],\"type\":\"histogram2dcontour\"}],\"histogram2d\":[{\"colorbar\":{\"outlinewidth\":0,\"ticks\":\"\"},\"colorscale\":[[0.0,\"#0d0887\"],[0.1111111111111111,\"#46039f\"],[0.2222222222222222,\"#7201a8\"],[0.3333333333333333,\"#9c179e\"],[0.4444444444444444,\"#bd3786\"],[0.5555555555555556,\"#d8576b\"],[0.6666666666666666,\"#ed7953\"],[0.7777777777777778,\"#fb9f3a\"],[0.8888888888888888,\"#fdca26\"],[1.0,\"#f0f921\"]],\"type\":\"histogram2d\"}],\"histogram\":[{\"marker\":{\"pattern\":{\"fillmode\":\"overlay\",\"size\":10,\"solidity\":0.2}},\"type\":\"histogram\"}],\"mesh3d\":[{\"colorbar\":{\"outlinewidth\":0,\"ticks\":\"\"},\"type\":\"mesh3d\"}],\"parcoords\":[{\"line\":{\"colorbar\":{\"outlinewidth\":0,\"ticks\":\"\"}},\"type\":\"parcoords\"}],\"pie\":[{\"automargin\":true,\"type\":\"pie\"}],\"scatter3d\":[{\"line\":{\"colorbar\":{\"outlinewidth\":0,\"ticks\":\"\"}},\"marker\":{\"colorbar\":{\"outlinewidth\":0,\"ticks\":\"\"}},\"type\":\"scatter3d\"}],\"scattercarpet\":[{\"marker\":{\"colorbar\":{\"outlinewidth\":0,\"ticks\":\"\"}},\"type\":\"scattercarpet\"}],\"scattergeo\":[{\"marker\":{\"colorbar\":{\"outlinewidth\":0,\"ticks\":\"\"}},\"type\":\"scattergeo\"}],\"scattergl\":[{\"marker\":{\"colorbar\":{\"outlinewidth\":0,\"ticks\":\"\"}},\"type\":\"scattergl\"}],\"scattermapbox\":[{\"marker\":{\"colorbar\":{\"outlinewidth\":0,\"ticks\":\"\"}},\"type\":\"scattermapbox\"}],\"scatterpolargl\":[{\"marker\":{\"colorbar\":{\"outlinewidth\":0,\"ticks\":\"\"}},\"type\":\"scatterpolargl\"}],\"scatterpolar\":[{\"marker\":{\"colorbar\":{\"outlinewidth\":0,\"ticks\":\"\"}},\"type\":\"scatterpolar\"}],\"scatter\":[{\"marker\":{\"colorbar\":{\"outlinewidth\":0,\"ticks\":\"\"}},\"type\":\"scatter\"}],\"scatterternary\":[{\"marker\":{\"colorbar\":{\"outlinewidth\":0,\"ticks\":\"\"}},\"type\":\"scatterternary\"}],\"surface\":[{\"colorbar\":{\"outlinewidth\":0,\"ticks\":\"\"},\"colorscale\":[[0.0,\"#0d0887\"],[0.1111111111111111,\"#46039f\"],[0.2222222222222222,\"#7201a8\"],[0.3333333333333333,\"#9c179e\"],[0.4444444444444444,\"#bd3786\"],[0.5555555555555556,\"#d8576b\"],[0.6666666666666666,\"#ed7953\"],[0.7777777777777778,\"#fb9f3a\"],[0.8888888888888888,\"#fdca26\"],[1.0,\"#f0f921\"]],\"type\":\"surface\"}],\"table\":[{\"cells\":{\"fill\":{\"color\":\"#EBF0F8\"},\"line\":{\"color\":\"white\"}},\"header\":{\"fill\":{\"color\":\"#C8D4E3\"},\"line\":{\"color\":\"white\"}},\"type\":\"table\"}]},\"layout\":{\"annotationdefaults\":{\"arrowcolor\":\"#2a3f5f\",\"arrowhead\":0,\"arrowwidth\":1},\"autotypenumbers\":\"strict\",\"coloraxis\":{\"colorbar\":{\"outlinewidth\":0,\"ticks\":\"\"}},\"colorscale\":{\"diverging\":[[0,\"#8e0152\"],[0.1,\"#c51b7d\"],[0.2,\"#de77ae\"],[0.3,\"#f1b6da\"],[0.4,\"#fde0ef\"],[0.5,\"#f7f7f7\"],[0.6,\"#e6f5d0\"],[0.7,\"#b8e186\"],[0.8,\"#7fbc41\"],[0.9,\"#4d9221\"],[1,\"#276419\"]],\"sequential\":[[0.0,\"#0d0887\"],[0.1111111111111111,\"#46039f\"],[0.2222222222222222,\"#7201a8\"],[0.3333333333333333,\"#9c179e\"],[0.4444444444444444,\"#bd3786\"],[0.5555555555555556,\"#d8576b\"],[0.6666666666666666,\"#ed7953\"],[0.7777777777777778,\"#fb9f3a\"],[0.8888888888888888,\"#fdca26\"],[1.0,\"#f0f921\"]],\"sequentialminus\":[[0.0,\"#0d0887\"],[0.1111111111111111,\"#46039f\"],[0.2222222222222222,\"#7201a8\"],[0.3333333333333333,\"#9c179e\"],[0.4444444444444444,\"#bd3786\"],[0.5555555555555556,\"#d8576b\"],[0.6666666666666666,\"#ed7953\"],[0.7777777777777778,\"#fb9f3a\"],[0.8888888888888888,\"#fdca26\"],[1.0,\"#f0f921\"]]},\"colorway\":[\"#636efa\",\"#EF553B\",\"#00cc96\",\"#ab63fa\",\"#FFA15A\",\"#19d3f3\",\"#FF6692\",\"#B6E880\",\"#FF97FF\",\"#FECB52\"],\"font\":{\"color\":\"#2a3f5f\"},\"geo\":{\"bgcolor\":\"white\",\"lakecolor\":\"white\",\"landcolor\":\"#E5ECF6\",\"showlakes\":true,\"showland\":true,\"subunitcolor\":\"white\"},\"hoverlabel\":{\"align\":\"left\"},\"hovermode\":\"closest\",\"mapbox\":{\"style\":\"light\"},\"paper_bgcolor\":\"white\",\"plot_bgcolor\":\"#E5ECF6\",\"polar\":{\"angularaxis\":{\"gridcolor\":\"white\",\"linecolor\":\"white\",\"ticks\":\"\"},\"bgcolor\":\"#E5ECF6\",\"radialaxis\":{\"gridcolor\":\"white\",\"linecolor\":\"white\",\"ticks\":\"\"}},\"scene\":{\"xaxis\":{\"backgroundcolor\":\"#E5ECF6\",\"gridcolor\":\"white\",\"gridwidth\":2,\"linecolor\":\"white\",\"showbackground\":true,\"ticks\":\"\",\"zerolinecolor\":\"white\"},\"yaxis\":{\"backgroundcolor\":\"#E5ECF6\",\"gridcolor\":\"white\",\"gridwidth\":2,\"linecolor\":\"white\",\"showbackground\":true,\"ticks\":\"\",\"zerolinecolor\":\"white\"},\"zaxis\":{\"backgroundcolor\":\"#E5ECF6\",\"gridcolor\":\"white\",\"gridwidth\":2,\"linecolor\":\"white\",\"showbackground\":true,\"ticks\":\"\",\"zerolinecolor\":\"white\"}},\"shapedefaults\":{\"line\":{\"color\":\"#2a3f5f\"}},\"ternary\":{\"aaxis\":{\"gridcolor\":\"white\",\"linecolor\":\"white\",\"ticks\":\"\"},\"baxis\":{\"gridcolor\":\"white\",\"linecolor\":\"white\",\"ticks\":\"\"},\"bgcolor\":\"#E5ECF6\",\"caxis\":{\"gridcolor\":\"white\",\"linecolor\":\"white\",\"ticks\":\"\"}},\"title\":{\"x\":0.05},\"xaxis\":{\"automargin\":true,\"gridcolor\":\"white\",\"linecolor\":\"white\",\"ticks\":\"\",\"title\":{\"standoff\":15},\"zerolinecolor\":\"white\",\"zerolinewidth\":2},\"yaxis\":{\"automargin\":true,\"gridcolor\":\"white\",\"linecolor\":\"white\",\"ticks\":\"\",\"title\":{\"standoff\":15},\"zerolinecolor\":\"white\",\"zerolinewidth\":2}}},\"title\":{\"text\":\"Data scientist or machine learning specialist\"},\"width\":1000,\"xaxis\":{\"anchor\":\"y\",\"domain\":[0.0,1.0],\"title\":{\"text\":\"x\"}},\"yaxis\":{\"anchor\":\"x\",\"domain\":[0.0,1.0],\"title\":{\"text\":\"y\"}}},                        {\"responsive\": true}                    ).then(function(){\n",
       "                            \n",
       "var gd = document.getElementById('c51f6d97-7c6d-436d-9829-0dcff8a924be');\n",
       "var x = new MutationObserver(function (mutations, observer) {{\n",
       "        var display = window.getComputedStyle(gd).display;\n",
       "        if (!display || display === 'none') {{\n",
       "            console.log([gd, 'removed!']);\n",
       "            Plotly.purge(gd);\n",
       "            observer.disconnect();\n",
       "        }}\n",
       "}});\n",
       "\n",
       "// Listen for the removal of the full notebook cells\n",
       "var notebookContainer = gd.closest('#notebook-container');\n",
       "if (notebookContainer) {{\n",
       "    x.observe(notebookContainer, {childList: true});\n",
       "}}\n",
       "\n",
       "// Listen for the clearing of the current output cell\n",
       "var outputEl = gd.closest('.output');\n",
       "if (outputEl) {{\n",
       "    x.observe(outputEl, {childList: true});\n",
       "}}\n",
       "\n",
       "                        })                };                });            </script>        </div>"
      ]
     },
     "metadata": {},
     "output_type": "display_data"
    }
   ],
   "source": [
    "# Set percentage Threshold\n",
    "threshold = 10\n",
    "\n",
    "single_role_skills = single_role_skills[single_role_skills['percentage'] > threshold]\n",
    "\n",
    "fig = px.bar(df, \n",
    "             y=single_role_skills.index, \n",
    "             x=single_role_skills['percentage'], \n",
    "             color=single_role_skills['specificity'], \n",
    "             color_continuous_scale='orrd',\n",
    "             range_color=[std_skills_jobs.values.min(),std_skills_jobs.values.max()],\n",
    "             orientation='h')\n",
    "\n",
    "fig.update_layout(width=1000, height=1000, title=role)\n",
    "iplot(fig)"
   ]
  },
  {
   "cell_type": "markdown",
   "id": "lasting-settle",
   "metadata": {},
   "source": [
    "### Insights From The Above Barplot\n",
    "- Python is a well known language by a large number of data scientists __(78%)__ but the specifity of Python __(2.61)__ is not greater than Pandas' specifity to be a data scientist __(3.29)__.\n",
    "- This is reasonable because not all data scientists uses pandas in their work, there exist some people using R, Pandas is used by __50%__ of data scientists.\n",
    "- There could be many more useful insight based on the chosen Role."
   ]
  }
 ],
 "metadata": {
  "kernelspec": {
   "display_name": "Python 3",
   "language": "python",
   "name": "python3"
  },
  "language_info": {
   "codemirror_mode": {
    "name": "ipython",
    "version": 3
   },
   "file_extension": ".py",
   "mimetype": "text/x-python",
   "name": "python",
   "nbconvert_exporter": "python",
   "pygments_lexer": "ipython3",
   "version": "3.8.5"
  }
 },
 "nbformat": 4,
 "nbformat_minor": 5
}
