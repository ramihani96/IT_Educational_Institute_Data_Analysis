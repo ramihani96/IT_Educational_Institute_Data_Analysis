{
 "cells": [
  {
   "cell_type": "markdown",
   "id": "aboriginal-flush",
   "metadata": {},
   "source": [
    "<html>\n",
    "    <div style=\"color:#363945; background-color:#E1F6FF; display: block\">\n",
    "        <h1> Preprocessing Data - Notebook Summary </h1>\n",
    "            <ol>\n",
    "                <li> Split answers separated by semicolons in different columns to a list of single answers.</li>\n",
    "                <li> Replace string values in Numeric columns.</li>\n",
    "            </ol><br>\n",
    "    </div>\n",
    "</html>"
   ]
  },
  {
   "cell_type": "code",
   "execution_count": 1,
   "id": "third-exhibition",
   "metadata": {},
   "outputs": [],
   "source": [
    "# Constants\n",
    "DATA_PATH = \"../data/raw/survey_results_public.csv\"\n",
    "EXPORT_PATH = \"../data/processed/01_preprocessed.pkl\"\n",
    "\n",
    "# Replacement Dictionary to replace string values in numeric columns\n",
    "REPLACEMENT_DICT = {\n",
    " 'Age1stCode' : {'Younger than 5 years': 4, 'Older than 85' : 86},  \n",
    " 'YearsCode' :  {'Less than 1 year' : 0, 'More than 50 years' : 51},\n",
    " 'YearsCodePro': {'Less than 1 year' : 0, 'More than 50 years' : 51}\n",
    "}"
   ]
  },
  {
   "cell_type": "code",
   "execution_count": 2,
   "id": "christian-flooring",
   "metadata": {},
   "outputs": [],
   "source": [
    "import numpy as np\n",
    "import pandas as pd\n",
    "import pickle"
   ]
  },
  {
   "cell_type": "markdown",
   "id": "prime-display",
   "metadata": {},
   "source": [
    "## Functions"
   ]
  },
  {
   "cell_type": "code",
   "execution_count": 3,
   "id": "moderate-module",
   "metadata": {},
   "outputs": [],
   "source": [
    "def split_answers(data_series, delimiter = ';'):\n",
    "    \"\"\"\n",
    "    Function to split answers in a single string into a list of single strings each representing an answer.\n",
    "    Input:\n",
    "    data_series: A pandas data series that contains the answers in a single string.\n",
    "    delimiter: A string that represents the delimiter that separates multiple answers inside a string. \n",
    "               Defaults to \";\"\n",
    "    Returns: \n",
    "    A modified pandas data series. (If Column contains)\n",
    "    \"\"\"\n",
    "    \n",
    "    def is_splittable(pd_series, delimiter):\n",
    "        \"\"\" Return a Boolean series to check wether the string contains multiple answers or just a single answer.\n",
    "            True: Contains multiple answers.\n",
    "            False: Contains a Single answer.\n",
    "        \"\"\"\n",
    "        return pd_series.str.contains(delimiter)\n",
    "    \n",
    "    def split_answer(pd_series, delimiter):\n",
    "        \"\"\"Function that splits a single answer\"\"\"\n",
    "        return pd_series.str.split(delimiter)\n",
    "    \n",
    "    #-------------------------------------------------\n",
    "    \n",
    "    # Check if the answer has multiple answers. If not Returns: Original\n",
    "    splittable_values = is_splittable(data_series, delimiter)\n",
    "    if not splittable_values.any(): \n",
    "        return data_series   # all series have no multiple answers.\n",
    "    \n",
    "    # Else: Split each answer to a list and return modified series\n",
    "    else:\n",
    "        modified_series = split_answer(data_series, delimiter)\n",
    "        \n",
    "    # Replace NAs with empty lists\n",
    "    mask_null = modified_series.isnull()\n",
    "    modified_series.loc[mask_null] = modified_series.loc[mask_null].apply(lambda x: [])\n",
    "    \n",
    "    # Return Modified series\n",
    "    return modified_series"
   ]
  },
  {
   "cell_type": "markdown",
   "id": "selective-fleet",
   "metadata": {},
   "source": [
    "## Preprocessing"
   ]
  },
  {
   "cell_type": "code",
   "execution_count": 4,
   "id": "weighted-heaven",
   "metadata": {},
   "outputs": [],
   "source": [
    "# Read data and make a copy of it\n",
    "raw_data = pd.read_csv(DATA_PATH)\n",
    "df = raw_data.copy()"
   ]
  },
  {
   "cell_type": "markdown",
   "id": "verbal-marsh",
   "metadata": {},
   "source": [
    "### 1. Split answers "
   ]
  },
  {
   "cell_type": "code",
   "execution_count": 5,
   "id": "nervous-institute",
   "metadata": {},
   "outputs": [],
   "source": [
    "# Get 'object' type column names \n",
    "object_cols = df.select_dtypes(include= \"object\").columns.tolist()\n",
    "type(object_cols)\n",
    "for col in object_cols:\n",
    "    df[col] = split_answers(df[col])"
   ]
  },
  {
   "cell_type": "markdown",
   "id": "incorporated-postcard",
   "metadata": {},
   "source": [
    "### 2. Replace string values with numbers"
   ]
  },
  {
   "cell_type": "code",
   "execution_count": 6,
   "id": "outer-offset",
   "metadata": {},
   "outputs": [],
   "source": [
    "for col, replacement in REPLACEMENT_DICT.items():\n",
    "    df[col] = df[col].replace(replacement).astype(np.float32)"
   ]
  },
  {
   "cell_type": "code",
   "execution_count": 7,
   "id": "informative-facing",
   "metadata": {},
   "outputs": [
    {
     "data": {
      "text/html": [
       "<div>\n",
       "<style scoped>\n",
       "    .dataframe tbody tr th:only-of-type {\n",
       "        vertical-align: middle;\n",
       "    }\n",
       "\n",
       "    .dataframe tbody tr th {\n",
       "        vertical-align: top;\n",
       "    }\n",
       "\n",
       "    .dataframe thead th {\n",
       "        text-align: right;\n",
       "    }\n",
       "</style>\n",
       "<table border=\"1\" class=\"dataframe\">\n",
       "  <thead>\n",
       "    <tr style=\"text-align: right;\">\n",
       "      <th></th>\n",
       "      <th>Age1stCode</th>\n",
       "      <th>YearsCode</th>\n",
       "      <th>YearsCodePro</th>\n",
       "      <th>DevType</th>\n",
       "      <th>LanguageWorkedWith</th>\n",
       "      <th>DatabaseWorkedWith</th>\n",
       "      <th>WebframeWorkedWith</th>\n",
       "      <th>MiscTechWorkedWith</th>\n",
       "      <th>LanguageDesireNextYear</th>\n",
       "      <th>DatabaseDesireNextYear</th>\n",
       "      <th>WebframeDesireNextYear</th>\n",
       "      <th>MiscTechDesireNextYear</th>\n",
       "    </tr>\n",
       "  </thead>\n",
       "  <tbody>\n",
       "    <tr>\n",
       "      <th>0</th>\n",
       "      <td>13.0</td>\n",
       "      <td>36.0</td>\n",
       "      <td>27.0</td>\n",
       "      <td>[Developer, desktop or enterprise applications...</td>\n",
       "      <td>[C#, HTML/CSS, JavaScript]</td>\n",
       "      <td>[Elasticsearch, Microsoft SQL Server, Oracle]</td>\n",
       "      <td>[ASP.NET, ASP.NET Core]</td>\n",
       "      <td>[.NET, .NET Core]</td>\n",
       "      <td>[C#, HTML/CSS, JavaScript]</td>\n",
       "      <td>[Microsoft SQL Server]</td>\n",
       "      <td>[ASP.NET Core]</td>\n",
       "      <td>[.NET Core, Xamarin]</td>\n",
       "    </tr>\n",
       "    <tr>\n",
       "      <th>1</th>\n",
       "      <td>19.0</td>\n",
       "      <td>7.0</td>\n",
       "      <td>4.0</td>\n",
       "      <td>[Developer, full-stack, Developer, mobile]</td>\n",
       "      <td>[JavaScript, Swift]</td>\n",
       "      <td>[]</td>\n",
       "      <td>[]</td>\n",
       "      <td>[React Native]</td>\n",
       "      <td>[Python, Swift]</td>\n",
       "      <td>[]</td>\n",
       "      <td>[]</td>\n",
       "      <td>[React Native, TensorFlow, Unity 3D]</td>\n",
       "    </tr>\n",
       "    <tr>\n",
       "      <th>2</th>\n",
       "      <td>15.0</td>\n",
       "      <td>4.0</td>\n",
       "      <td>NaN</td>\n",
       "      <td>[]</td>\n",
       "      <td>[Objective-C, Python, Swift]</td>\n",
       "      <td>[]</td>\n",
       "      <td>[]</td>\n",
       "      <td>[]</td>\n",
       "      <td>[Objective-C, Python, Swift]</td>\n",
       "      <td>[]</td>\n",
       "      <td>[]</td>\n",
       "      <td>[]</td>\n",
       "    </tr>\n",
       "    <tr>\n",
       "      <th>3</th>\n",
       "      <td>18.0</td>\n",
       "      <td>7.0</td>\n",
       "      <td>4.0</td>\n",
       "      <td>[]</td>\n",
       "      <td>[]</td>\n",
       "      <td>[]</td>\n",
       "      <td>[]</td>\n",
       "      <td>[]</td>\n",
       "      <td>[]</td>\n",
       "      <td>[]</td>\n",
       "      <td>[]</td>\n",
       "      <td>[]</td>\n",
       "    </tr>\n",
       "    <tr>\n",
       "      <th>4</th>\n",
       "      <td>16.0</td>\n",
       "      <td>15.0</td>\n",
       "      <td>8.0</td>\n",
       "      <td>[]</td>\n",
       "      <td>[HTML/CSS, Ruby, SQL]</td>\n",
       "      <td>[MySQL, PostgreSQL, Redis, SQLite]</td>\n",
       "      <td>[Ruby on Rails]</td>\n",
       "      <td>[Ansible]</td>\n",
       "      <td>[Java, Ruby, Scala]</td>\n",
       "      <td>[MySQL, PostgreSQL]</td>\n",
       "      <td>[Django, Ruby on Rails]</td>\n",
       "      <td>[Ansible, Chef]</td>\n",
       "    </tr>\n",
       "  </tbody>\n",
       "</table>\n",
       "</div>"
      ],
      "text/plain": [
       "   Age1stCode  YearsCode  YearsCodePro  \\\n",
       "0        13.0       36.0          27.0   \n",
       "1        19.0        7.0           4.0   \n",
       "2        15.0        4.0           NaN   \n",
       "3        18.0        7.0           4.0   \n",
       "4        16.0       15.0           8.0   \n",
       "\n",
       "                                             DevType  \\\n",
       "0  [Developer, desktop or enterprise applications...   \n",
       "1         [Developer, full-stack, Developer, mobile]   \n",
       "2                                                 []   \n",
       "3                                                 []   \n",
       "4                                                 []   \n",
       "\n",
       "             LanguageWorkedWith  \\\n",
       "0    [C#, HTML/CSS, JavaScript]   \n",
       "1           [JavaScript, Swift]   \n",
       "2  [Objective-C, Python, Swift]   \n",
       "3                            []   \n",
       "4         [HTML/CSS, Ruby, SQL]   \n",
       "\n",
       "                              DatabaseWorkedWith       WebframeWorkedWith  \\\n",
       "0  [Elasticsearch, Microsoft SQL Server, Oracle]  [ASP.NET, ASP.NET Core]   \n",
       "1                                             []                       []   \n",
       "2                                             []                       []   \n",
       "3                                             []                       []   \n",
       "4             [MySQL, PostgreSQL, Redis, SQLite]          [Ruby on Rails]   \n",
       "\n",
       "  MiscTechWorkedWith        LanguageDesireNextYear  DatabaseDesireNextYear  \\\n",
       "0  [.NET, .NET Core]    [C#, HTML/CSS, JavaScript]  [Microsoft SQL Server]   \n",
       "1     [React Native]               [Python, Swift]                      []   \n",
       "2                 []  [Objective-C, Python, Swift]                      []   \n",
       "3                 []                            []                      []   \n",
       "4          [Ansible]           [Java, Ruby, Scala]     [MySQL, PostgreSQL]   \n",
       "\n",
       "    WebframeDesireNextYear                MiscTechDesireNextYear  \n",
       "0           [ASP.NET Core]                  [.NET Core, Xamarin]  \n",
       "1                       []  [React Native, TensorFlow, Unity 3D]  \n",
       "2                       []                                    []  \n",
       "3                       []                                    []  \n",
       "4  [Django, Ruby on Rails]                       [Ansible, Chef]  "
      ]
     },
     "execution_count": 7,
     "metadata": {},
     "output_type": "execute_result"
    }
   ],
   "source": [
    "# Showing the output of affected columns \n",
    "df[['Age1stCode','YearsCode','YearsCodePro', 'DevType', \n",
    "    'LanguageWorkedWith',    'DatabaseWorkedWith',    'WebframeWorkedWith',    'MiscTechWorkedWith',\n",
    "   'LanguageDesireNextYear','DatabaseDesireNextYear','WebframeDesireNextYear','MiscTechDesireNextYear']].head()"
   ]
  },
  {
   "cell_type": "markdown",
   "id": "advanced-hospital",
   "metadata": {},
   "source": [
    "## Export to pickle file"
   ]
  },
  {
   "cell_type": "code",
   "execution_count": 8,
   "id": "organic-metallic",
   "metadata": {},
   "outputs": [],
   "source": [
    "df.to_pickle(EXPORT_PATH)"
   ]
  }
 ],
 "metadata": {
  "kernelspec": {
   "display_name": "Python 3",
   "language": "python",
   "name": "python3"
  },
  "language_info": {
   "codemirror_mode": {
    "name": "ipython",
    "version": 3
   },
   "file_extension": ".py",
   "mimetype": "text/x-python",
   "name": "python",
   "nbconvert_exporter": "python",
   "pygments_lexer": "ipython3",
   "version": "3.8.5"
  }
 },
 "nbformat": 4,
 "nbformat_minor": 5
}
