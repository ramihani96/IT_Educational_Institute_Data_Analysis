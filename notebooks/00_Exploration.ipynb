{
 "cells": [
  {
   "cell_type": "markdown",
   "id": "armed-worcester",
   "metadata": {},
   "source": [
    "<html>\n",
    "    <div style=\"color:#363945; background-color:#E1F6FF; display: block\">\n",
    "        <h1> Data Exploration - Notebook Summary </h1>\n",
    "            <ol>\n",
    "                <li> Read raw data collected from <strong>2020</strong> StackOverflow Survey. [ <a href = \"https://insights.stackoverflow.com/survey\" >StackOverflow Surveys</a> ]</li>\n",
    "                <li> Discovering the <strong>shape</strong> of the data (number of answers in the survey).</li>\n",
    "                <li> Displaying a <strong>random answer</strong> to explore it's different attributes.</li>\n",
    "                <li> Exploring the <strong>format</strong> of different attributes.</li>\n",
    "                <li> Exploring some <strong>simple stats</strong> in the dataset.</li>\n",
    "            </ol><br>\n",
    "    </div>\n",
    "</html>"
   ]
  },
  {
   "cell_type": "markdown",
   "id": "constitutional-papua",
   "metadata": {},
   "source": [
    "### Loading Data"
   ]
  },
  {
   "cell_type": "code",
   "execution_count": 1,
   "id": "random-elder",
   "metadata": {},
   "outputs": [],
   "source": [
    "DATA_PATH = \"../data/raw/survey_results_public.csv\""
   ]
  },
  {
   "cell_type": "code",
   "execution_count": 2,
   "id": "behavioral-extension",
   "metadata": {},
   "outputs": [],
   "source": [
    "# Import libraries\n",
    "import numpy as np\n",
    "import pandas as pd\n",
    "pd.options.display.max_rows = 1000 "
   ]
  },
  {
   "cell_type": "code",
   "execution_count": 3,
   "id": "disabled-church",
   "metadata": {},
   "outputs": [
    {
     "data": {
      "text/plain": [
       "(64461, 61)"
      ]
     },
     "execution_count": 3,
     "metadata": {},
     "output_type": "execute_result"
    }
   ],
   "source": [
    "# Loading data and printing shape\n",
    "raw_df = pd.read_csv(DATA_PATH)\n",
    "raw_df.shape"
   ]
  },
  {
   "cell_type": "code",
   "execution_count": 4,
   "id": "positive-cycling",
   "metadata": {},
   "outputs": [
    {
     "data": {
      "text/plain": [
       "Respondent                                                                  26721\n",
       "MainBranch                                 I am a student who is learning to code\n",
       "Hobbyist                                                                      Yes\n",
       "Age                                                                          17.0\n",
       "Age1stCode                                                                      8\n",
       "CompFreq                                                                      NaN\n",
       "CompTotal                                                                     NaN\n",
       "ConvertedComp                                                                 NaN\n",
       "Country                                                             United States\n",
       "CurrencyDesc                                                                  NaN\n",
       "CurrencySymbol                                                                NaN\n",
       "DatabaseDesireNextYear                                                        NaN\n",
       "DatabaseWorkedWith                                                            NaN\n",
       "DevType                                                                       NaN\n",
       "EdLevel                         Secondary school (e.g. American high school, G...\n",
       "Employment                                                                Student\n",
       "Ethnicity                                            White or of European descent\n",
       "Gender                                                                        Man\n",
       "JobFactors                      Languages, frameworks, and other technologies ...\n",
       "JobSat                                                                        NaN\n",
       "JobSeek                         I’m not actively looking, but I am open to new...\n",
       "LanguageDesireNextYear                  Bash/Shell/PowerShell;C#;Java;Python;Rust\n",
       "LanguageWorkedWith              Assembly;Bash/Shell/PowerShell;C#;HTML/CSS;Jav...\n",
       "MiscTechDesireNextYear                                                        NaN\n",
       "MiscTechWorkedWith                                        .NET;.NET Core;Unity 3D\n",
       "NEWCollabToolsDesireNextYear                Github;Google Suite (Docs, Meet, etc)\n",
       "NEWCollabToolsWorkedWith                    Github;Google Suite (Docs, Meet, etc)\n",
       "NEWDevOps                                                                     NaN\n",
       "NEWDevOpsImpt                                                                 NaN\n",
       "NEWEdImpt                                                                     NaN\n",
       "NEWJobHunt                                                                    NaN\n",
       "NEWJobHuntResearch                                                            NaN\n",
       "NEWLearn                                                              Once a year\n",
       "NEWOffTopic                                                                   Yes\n",
       "NEWOnboardGood                                                                NaN\n",
       "NEWOtherComms                                                                 Yes\n",
       "NEWOvertime                                                                   NaN\n",
       "NEWPurchaseResearch                                                           NaN\n",
       "NEWPurpleLink                                                             Annoyed\n",
       "NEWSOSites                      Stack Overflow (public Q&A for anyone who code...\n",
       "NEWStuck                        Call a coworker or friend;Visit Stack Overflow...\n",
       "OpSys                                                                 Linux-based\n",
       "OrgSize                                                                       NaN\n",
       "PlatformDesireNextYear                                         Linux;Raspberry Pi\n",
       "PlatformWorkedWith                             Arduino;Linux;Raspberry Pi;Windows\n",
       "PurchaseWhat                                                                  NaN\n",
       "Sexuality                                                                     NaN\n",
       "SOAccount                                                                     Yes\n",
       "SOComm                                                             No, not at all\n",
       "SOPartFreq                                    Less than once per month or monthly\n",
       "SOVisitFreq                                       A few times per month or weekly\n",
       "SurveyEase                                             Neither easy nor difficult\n",
       "SurveyLength                                                Appropriate in length\n",
       "Trans                                                                          No\n",
       "UndergradMajor                                                                NaN\n",
       "WebframeDesireNextYear                                                        NaN\n",
       "WebframeWorkedWith                                                         jQuery\n",
       "WelcomeChange                             Just as welcome now as I felt last year\n",
       "WorkWeekHrs                                                                   NaN\n",
       "YearsCode                                                                       9\n",
       "YearsCodePro                                                                  NaN\n",
       "Name: 26622, dtype: object"
      ]
     },
     "execution_count": 4,
     "metadata": {},
     "output_type": "execute_result"
    }
   ],
   "source": [
    "# Display random answer \n",
    "# Observations: Multiple answers need to be splitted \n",
    "# Reference to the schema needed to understand \n",
    "raw_df.sample(1).iloc[0]"
   ]
  },
  {
   "cell_type": "code",
   "execution_count": 5,
   "id": "challenging-edgar",
   "metadata": {},
   "outputs": [
    {
     "name": "stdout",
     "output_type": "stream",
     "text": [
      "<class 'pandas.core.frame.DataFrame'>\n",
      "RangeIndex: 64461 entries, 0 to 64460\n",
      "Data columns (total 61 columns):\n",
      " #   Column                        Non-Null Count  Dtype  \n",
      "---  ------                        --------------  -----  \n",
      " 0   Respondent                    64461 non-null  int64  \n",
      " 1   MainBranch                    64162 non-null  object \n",
      " 2   Hobbyist                      64416 non-null  object \n",
      " 3   Age                           45446 non-null  float64\n",
      " 4   Age1stCode                    57900 non-null  object \n",
      " 5   CompFreq                      40069 non-null  object \n",
      " 6   CompTotal                     34826 non-null  float64\n",
      " 7   ConvertedComp                 34756 non-null  float64\n",
      " 8   Country                       64072 non-null  object \n",
      " 9   CurrencyDesc                  45472 non-null  object \n",
      " 10  CurrencySymbol                45472 non-null  object \n",
      " 11  DatabaseDesireNextYear        44070 non-null  object \n",
      " 12  DatabaseWorkedWith            49537 non-null  object \n",
      " 13  DevType                       49370 non-null  object \n",
      " 14  EdLevel                       57431 non-null  object \n",
      " 15  Employment                    63854 non-null  object \n",
      " 16  Ethnicity                     45948 non-null  object \n",
      " 17  Gender                        50557 non-null  object \n",
      " 18  JobFactors                    49349 non-null  object \n",
      " 19  JobSat                        45194 non-null  object \n",
      " 20  JobSeek                       51727 non-null  object \n",
      " 21  LanguageDesireNextYear        54113 non-null  object \n",
      " 22  LanguageWorkedWith            57378 non-null  object \n",
      " 23  MiscTechDesireNextYear        42379 non-null  object \n",
      " 24  MiscTechWorkedWith            40314 non-null  object \n",
      " 25  NEWCollabToolsDesireNextYear  47287 non-null  object \n",
      " 26  NEWCollabToolsWorkedWith      52883 non-null  object \n",
      " 27  NEWDevOps                     42686 non-null  object \n",
      " 28  NEWDevOpsImpt                 41732 non-null  object \n",
      " 29  NEWEdImpt                     48465 non-null  object \n",
      " 30  NEWJobHunt                    42286 non-null  object \n",
      " 31  NEWJobHuntResearch            41022 non-null  object \n",
      " 32  NEWLearn                      56156 non-null  object \n",
      " 33  NEWOffTopic                   50804 non-null  object \n",
      " 34  NEWOnboardGood                42623 non-null  object \n",
      " 35  NEWOtherComms                 57205 non-null  object \n",
      " 36  NEWOvertime                   43231 non-null  object \n",
      " 37  NEWPurchaseResearch           37321 non-null  object \n",
      " 38  NEWPurpleLink                 54803 non-null  object \n",
      " 39  NEWSOSites                    58275 non-null  object \n",
      " 40  NEWStuck                      54983 non-null  object \n",
      " 41  OpSys                         56228 non-null  object \n",
      " 42  OrgSize                       44334 non-null  object \n",
      " 43  PlatformDesireNextYear        50605 non-null  object \n",
      " 44  PlatformWorkedWith            53843 non-null  object \n",
      " 45  PurchaseWhat                  39364 non-null  object \n",
      " 46  Sexuality                     43992 non-null  object \n",
      " 47  SOAccount                     56805 non-null  object \n",
      " 48  SOComm                        56476 non-null  object \n",
      " 49  SOPartFreq                    46792 non-null  object \n",
      " 50  SOVisitFreq                   56970 non-null  object \n",
      " 51  SurveyEase                    51802 non-null  object \n",
      " 52  SurveyLength                  51701 non-null  object \n",
      " 53  Trans                         49345 non-null  object \n",
      " 54  UndergradMajor                50995 non-null  object \n",
      " 55  WebframeDesireNextYear        40024 non-null  object \n",
      " 56  WebframeWorkedWith            42279 non-null  object \n",
      " 57  WelcomeChange                 52683 non-null  object \n",
      " 58  WorkWeekHrs                   41151 non-null  float64\n",
      " 59  YearsCode                     57684 non-null  object \n",
      " 60  YearsCodePro                  46349 non-null  object \n",
      "dtypes: float64(4), int64(1), object(56)\n",
      "memory usage: 30.0+ MB\n"
     ]
    }
   ],
   "source": [
    "# Print Data general information\n",
    "raw_df.info()"
   ]
  },
  {
   "cell_type": "code",
   "execution_count": 6,
   "id": "referenced-exposure",
   "metadata": {},
   "outputs": [
    {
     "data": {
      "text/html": [
       "<div>\n",
       "<style scoped>\n",
       "    .dataframe tbody tr th:only-of-type {\n",
       "        vertical-align: middle;\n",
       "    }\n",
       "\n",
       "    .dataframe tbody tr th {\n",
       "        vertical-align: top;\n",
       "    }\n",
       "\n",
       "    .dataframe thead th {\n",
       "        text-align: right;\n",
       "    }\n",
       "</style>\n",
       "<table border=\"1\" class=\"dataframe\">\n",
       "  <thead>\n",
       "    <tr style=\"text-align: right;\">\n",
       "      <th></th>\n",
       "      <th>Respondent</th>\n",
       "      <th>Age</th>\n",
       "      <th>CompTotal</th>\n",
       "      <th>ConvertedComp</th>\n",
       "      <th>WorkWeekHrs</th>\n",
       "    </tr>\n",
       "  </thead>\n",
       "  <tbody>\n",
       "    <tr>\n",
       "      <th>count</th>\n",
       "      <td>64461.000000</td>\n",
       "      <td>45446.000000</td>\n",
       "      <td>3.482600e+04</td>\n",
       "      <td>3.475600e+04</td>\n",
       "      <td>41151.000000</td>\n",
       "    </tr>\n",
       "    <tr>\n",
       "      <th>mean</th>\n",
       "      <td>32554.079738</td>\n",
       "      <td>30.834111</td>\n",
       "      <td>3.190464e+242</td>\n",
       "      <td>1.037561e+05</td>\n",
       "      <td>40.782174</td>\n",
       "    </tr>\n",
       "    <tr>\n",
       "      <th>std</th>\n",
       "      <td>18967.442360</td>\n",
       "      <td>9.585392</td>\n",
       "      <td>inf</td>\n",
       "      <td>2.268853e+05</td>\n",
       "      <td>17.816383</td>\n",
       "    </tr>\n",
       "    <tr>\n",
       "      <th>min</th>\n",
       "      <td>1.000000</td>\n",
       "      <td>1.000000</td>\n",
       "      <td>0.000000e+00</td>\n",
       "      <td>0.000000e+00</td>\n",
       "      <td>1.000000</td>\n",
       "    </tr>\n",
       "    <tr>\n",
       "      <th>25%</th>\n",
       "      <td>16116.000000</td>\n",
       "      <td>24.000000</td>\n",
       "      <td>2.000000e+04</td>\n",
       "      <td>2.464800e+04</td>\n",
       "      <td>40.000000</td>\n",
       "    </tr>\n",
       "    <tr>\n",
       "      <th>50%</th>\n",
       "      <td>32231.000000</td>\n",
       "      <td>29.000000</td>\n",
       "      <td>6.300000e+04</td>\n",
       "      <td>5.404900e+04</td>\n",
       "      <td>40.000000</td>\n",
       "    </tr>\n",
       "    <tr>\n",
       "      <th>75%</th>\n",
       "      <td>49142.000000</td>\n",
       "      <td>35.000000</td>\n",
       "      <td>1.250000e+05</td>\n",
       "      <td>9.500000e+04</td>\n",
       "      <td>44.000000</td>\n",
       "    </tr>\n",
       "    <tr>\n",
       "      <th>max</th>\n",
       "      <td>65639.000000</td>\n",
       "      <td>279.000000</td>\n",
       "      <td>1.111111e+247</td>\n",
       "      <td>2.000000e+06</td>\n",
       "      <td>475.000000</td>\n",
       "    </tr>\n",
       "  </tbody>\n",
       "</table>\n",
       "</div>"
      ],
      "text/plain": [
       "         Respondent           Age      CompTotal  ConvertedComp   WorkWeekHrs\n",
       "count  64461.000000  45446.000000   3.482600e+04   3.475600e+04  41151.000000\n",
       "mean   32554.079738     30.834111  3.190464e+242   1.037561e+05     40.782174\n",
       "std    18967.442360      9.585392            inf   2.268853e+05     17.816383\n",
       "min        1.000000      1.000000   0.000000e+00   0.000000e+00      1.000000\n",
       "25%    16116.000000     24.000000   2.000000e+04   2.464800e+04     40.000000\n",
       "50%    32231.000000     29.000000   6.300000e+04   5.404900e+04     40.000000\n",
       "75%    49142.000000     35.000000   1.250000e+05   9.500000e+04     44.000000\n",
       "max    65639.000000    279.000000  1.111111e+247   2.000000e+06    475.000000"
      ]
     },
     "execution_count": 6,
     "metadata": {},
     "output_type": "execute_result"
    }
   ],
   "source": [
    "# Get stats for the numerical column\n",
    "raw_df.describe()"
   ]
  },
  {
   "cell_type": "code",
   "execution_count": 7,
   "id": "interested-sunday",
   "metadata": {},
   "outputs": [
    {
     "name": "stdout",
     "output_type": "stream",
     "text": [
      "Age1stCode\n",
      "['13', '19', '15', '18', '16', '14', '12', '20', '42', '8', '25', '22', '30', '17', '21', '10', '46', '9', '7', '11', '6', nan, '31', '29', '5', 'Younger than 5 years', '28', '38', '23', '27', '41', '24', '53', '26', '35', '32', '40', '33', '36', '54', '48', '56', '45', '44', '34', 'Older than 85', '39', '51', '68', '50', '37', '47', '43', '52', '85', '64', '55', '58', '49', '76', '72', '73', '83', '63']\n",
      "--------------------------\n",
      "\n",
      "YearsCode\n",
      "['36', '7', '4', '15', '6', '17', '8', '10', '35', '5', '37', '19', '9', '22', '30', '23', '20', '2', 'Less than 1 year', '3', '13', '25', '16', '43', '11', '38', '33', nan, '24', '21', '12', '40', '27', '50', '46', '14', '18', '28', '32', '44', '26', '42', '31', '34', '29', '1', '39', '41', '45', 'More than 50 years', '47', '49', '48']\n",
      "--------------------------\n",
      "\n",
      "YearsCodePro\n",
      "['27', '4', nan, '8', '13', '2', '7', '20', '1', '23', '3', '12', '17', '18', '10', '14', '29', '6', '28', '9', '15', '11', '16', '25', 'Less than 1 year', '5', '21', '19', '35', '24', '32', '22', '30', '38', '26', '40', '33', '31', 'More than 50 years', '34', '36', '39', '37', '41', '45', '47', '42', '46', '50', '43', '44', '48', '49']\n",
      "--------------------------\n",
      "\n"
     ]
    }
   ],
   "source": [
    "# There exists 3 columns that have an 'object' data type Despite of being 'integers'\n",
    "# Investigate the questionable objects columns\n",
    "questionable_cols = ['Age1stCode', 'YearsCode', 'YearsCodePro']\n",
    "\n",
    "for col in questionable_cols:\n",
    "    print(col)\n",
    "    print(raw_df[col].unique().tolist())\n",
    "    print(\"--------------------------\\n\")"
   ]
  },
  {
   "cell_type": "markdown",
   "id": "correct-catalyst",
   "metadata": {},
   "source": [
    "# Some Simple Stats in the data"
   ]
  },
  {
   "cell_type": "markdown",
   "id": "illegal-tobago",
   "metadata": {},
   "source": [
    "### What is the total number of respondents ?"
   ]
  },
  {
   "cell_type": "code",
   "execution_count": 8,
   "id": "hungry-resource",
   "metadata": {},
   "outputs": [
    {
     "name": "stdout",
     "output_type": "stream",
     "text": [
      "There are \u001b[1m64461\u001b[0m Respondents in this survey\n"
     ]
    }
   ],
   "source": [
    "print(\"There are \\033[1m{}\\033[0m Respondents in this survey\".format(raw_df.shape[0]))"
   ]
  },
  {
   "cell_type": "markdown",
   "id": "dated-extreme",
   "metadata": {},
   "source": [
    "### What are the top 10 countries involved in the survey ?"
   ]
  },
  {
   "cell_type": "code",
   "execution_count": 9,
   "id": "dedicated-quest",
   "metadata": {},
   "outputs": [
    {
     "data": {
      "text/plain": [
       "United States     12469\n",
       "India              8403\n",
       "United Kingdom     3896\n",
       "Germany            3890\n",
       "Canada             2191\n",
       "France             1898\n",
       "Brazil             1818\n",
       "Netherlands        1343\n",
       "Poland             1278\n",
       "Australia          1208\n",
       "Name: Country, dtype: int64"
      ]
     },
     "execution_count": 9,
     "metadata": {},
     "output_type": "execute_result"
    }
   ],
   "source": [
    "raw_df['Country'].value_counts().head(10)"
   ]
  },
  {
   "cell_type": "markdown",
   "id": "pleasant-first",
   "metadata": {},
   "source": [
    "### From which Origin are the respondents ? "
   ]
  },
  {
   "cell_type": "code",
   "execution_count": 10,
   "id": "elegant-replication",
   "metadata": {},
   "outputs": [
    {
     "data": {
      "text/plain": [
       "White or of European descent                           29318\n",
       "South Asian                                             4467\n",
       "Hispanic or Latino/a/x                                  2256\n",
       "Black or of African descent                             1690\n",
       "Southeast Asian                                         1686\n",
       "East Asian                                              1681\n",
       "Middle Eastern                                          1622\n",
       "Hispanic or Latino/a/x;White or of European descent      763\n",
       "Middle Eastern;White or of European descent              378\n",
       "Multiracial                                              292\n",
       "Name: Ethnicity, dtype: int64"
      ]
     },
     "execution_count": 10,
     "metadata": {},
     "output_type": "execute_result"
    }
   ],
   "source": [
    "raw_df['Ethnicity'].value_counts().head(10)"
   ]
  },
  {
   "cell_type": "markdown",
   "id": "transsexual-speed",
   "metadata": {},
   "source": [
    "### What is the mean age of programmers?"
   ]
  },
  {
   "cell_type": "code",
   "execution_count": 11,
   "id": "thick-appointment",
   "metadata": {},
   "outputs": [
    {
     "name": "stdout",
     "output_type": "stream",
     "text": [
      "Average Programmers involved in the survey are \u001b[1m30.8\u001b[0m Years old.\n"
     ]
    }
   ],
   "source": [
    "print(\"Average Programmers involved in the survey are \\033[1m{:.1f}\\033[0m Years old.\".format(raw_df['Age'].mean(axis = 0)))"
   ]
  }
 ],
 "metadata": {
  "kernelspec": {
   "display_name": "Python 3",
   "language": "python",
   "name": "python3"
  },
  "language_info": {
   "codemirror_mode": {
    "name": "ipython",
    "version": 3
   },
   "file_extension": ".py",
   "mimetype": "text/x-python",
   "name": "python",
   "nbconvert_exporter": "python",
   "pygments_lexer": "ipython3",
   "version": "3.8.5"
  }
 },
 "nbformat": 4,
 "nbformat_minor": 5
}
